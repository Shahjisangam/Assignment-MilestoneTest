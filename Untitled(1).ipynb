{
 "cells": [
  {
   "cell_type": "markdown",
   "id": "3b96679f-fe53-4e0c-91e4-4c9970746920",
   "metadata": {},
   "source": [
    "# Questions 1.1: Write the answer to these question.\n",
    "Note Give at least one example of these question."
   ]
  },
  {
   "cell_type": "markdown",
   "id": "25bdedb9-270c-4e2f-9916-ee1a35e3ab09",
   "metadata": {},
   "source": [
    "# 1. what is the differences between static and dynamic varriable in python."
   ]
  },
  {
   "cell_type": "markdown",
   "id": "90f2d45d-db97-4039-9fb2-59c446d5b9f2",
   "metadata": {},
   "source": [
    "In Python, the concepts of \"static\" and \"dynamic\" variables can be understood in the context of their scope, lifetime, and type binding. Here’s a detailed explanation of the differences:\n",
    "Static Variables\n",
    "\n",
    "    Scope and Lifetime: Static variables are usually class variables in Python, meaning they are shared across all instances of the class. Their lifetime is the same as that of the program's execution.\n",
    "    Definition: They are defined within a class but outside any instance methods or constructors.\n",
    "    Example:"
   ]
  },
  {
   "cell_type": "code",
   "execution_count": 3,
   "id": "f9ea06b5-e8ce-4c1b-83a6-62de0d36ca7b",
   "metadata": {},
   "outputs": [
    {
     "name": "stdout",
     "output_type": "stream",
     "text": [
      "2\n"
     ]
    }
   ],
   "source": [
    "class MyClass:\n",
    "    static_variable = 0  # Static variable\n",
    "    \n",
    "    def __init__(self):\n",
    "        MyClass.static_variable += 1\n",
    "\n",
    "obj1 = MyClass()\n",
    "obj2 = MyClass()\n",
    "print(MyClass.static_variable)  # Output: 2\n"
   ]
  },
  {
   "cell_type": "markdown",
   "id": "87f74b2f-6545-4922-9e37-74d7ccfb619e",
   "metadata": {},
   "source": [
    "Dynamic Variables\n",
    "\n",
    "    Scope and Lifetime: Dynamic variables are instance variables. Each instance of a class has its own copy of these variables. Their lifetime is tied to the lifetime of the instance they belong to.\n",
    "    Definition: They are usually defined within methods (especially the __init__ method) and are prefixed with self.\n",
    "    Example:"
   ]
  },
  {
   "cell_type": "code",
   "execution_count": null,
   "id": "00d68743-4e71-4ec5-88a4-55d8e5c816aa",
   "metadata": {},
   "outputs": [],
   "source": [
    "class MyClass:\n",
    "    def __init__(self, value):\n",
    "        self.dynamic_variable = value  # Dynamic variable\n",
    "\n",
    "obj1 = MyClass(1)\n",
    "obj2 = MyClass(2)\n",
    "print(obj1.dynamic_variable)  # Output: 1\n",
    "print(obj2.dynamic_variable)  # Output: 2\n"
   ]
  },
  {
   "cell_type": "markdown",
   "id": "6d96d2ea-c4ca-463d-b997-ee1869647352",
   "metadata": {},
   "source": [
    "Type Binding\n",
    "\n",
    "    Static Typing: Python is a dynamically typed language, so it doesn't have static typing like languages such as Java or C++. However, with type hints (introduced in PEP 484), you can specify the expected types of variables, but these hints are not enforced at runtime."
   ]
  },
  {
   "cell_type": "code",
   "execution_count": 7,
   "id": "d752ea40-f068-44f0-892f-67317b563e1b",
   "metadata": {},
   "outputs": [],
   "source": [
    "def my_function(x: int) -> int:\n",
    "    return x * 2\n"
   ]
  },
  {
   "cell_type": "markdown",
   "id": "66728ecb-d399-4bb7-a7b2-becd9efc0b49",
   "metadata": {},
   "source": [
    "Dynamic Typing: Python variables are dynamically typed, meaning the type is determined at runtime, and variables can change types."
   ]
  },
  {
   "cell_type": "code",
   "execution_count": 9,
   "id": "a45fc44e-0acd-46e1-9072-8b778948d0a2",
   "metadata": {},
   "outputs": [],
   "source": [
    "x = 10\n",
    "x = \"Hello\"  # No error, 'x' is now of type 'str'\n"
   ]
  },
  {
   "cell_type": "markdown",
   "id": "dbdda398-5732-43a2-8d6d-c854fafe93cc",
   "metadata": {},
   "source": [
    "Summary\n",
    "\n",
    "    Static Variables: Class-level variables, shared among all instances, defined outside instance methods.\n",
    "    Dynamic Variables: Instance-level variables, unique to each instance, defined within instance methods.\n",
    "\n",
    "Understanding these differences helps in managing the state and behavior of objects in Python more effectively."
   ]
  },
  {
   "cell_type": "markdown",
   "id": "0a1d2f51-364f-4ee2-af38-d964a7197ecd",
   "metadata": {},
   "source": [
    "# 2. Explain the purpose of \"POP\",\"popitem\",\"clear()\" in a dictionary with suitable example.??"
   ]
  },
  {
   "cell_type": "markdown",
   "id": "99b902c0-01e7-4f2d-a2df-b32b6935d77e",
   "metadata": {},
   "source": [
    "In Python, dictionaries are mutable, and they provide several methods to manipulate their content. Here are explanations and examples for the pop, popitem, and clear methods in a dictionary:\n",
    "pop()\n",
    "\n",
    "    Purpose: The pop method removes a specified key from the dictionary and returns the corresponding value. If the key is not found and a default value is provided, it returns the default value. Otherwise, it raises a KeyError.\n",
    "    Syntax: dict.pop(key[, default])\n",
    "    Example:"
   ]
  },
  {
   "cell_type": "code",
   "execution_count": 12,
   "id": "d24cc149-f597-4213-a656-8ae46f8980eb",
   "metadata": {},
   "outputs": [
    {
     "name": "stdout",
     "output_type": "stream",
     "text": [
      "2\n",
      "{'a': 1, 'c': 3}\n",
      "Not Found\n"
     ]
    }
   ],
   "source": [
    "my_dict = {'a': 1, 'b': 2, 'c': 3}\n",
    "\n",
    "value = my_dict.pop('b')\n",
    "print(value)  # Output: 2\n",
    "print(my_dict)  # Output: {'a': 1, 'c': 3}\n",
    "\n",
    "# Using default value\n",
    "value = my_dict.pop('d', 'Not Found')\n",
    "print(value)  # Output: Not Found\n"
   ]
  },
  {
   "cell_type": "markdown",
   "id": "44daa691-5584-4bd9-9810-f758ff387d4e",
   "metadata": {},
   "source": [
    "popitem()\n",
    "\n",
    "    Purpose: The popitem method removes and returns the last inserted key-value pair from the dictionary as a tuple. If the dictionary is empty, it raises a KeyError.\n",
    "    Syntax: dict.popitem()\n",
    "    Example:"
   ]
  },
  {
   "cell_type": "code",
   "execution_count": 13,
   "id": "bd5c8f9f-734e-4dc6-bc26-14f93da14649",
   "metadata": {},
   "outputs": [
    {
     "name": "stdout",
     "output_type": "stream",
     "text": [
      "('c', 3)\n",
      "{'a': 1, 'b': 2}\n",
      "('b', 2)\n",
      "{'a': 1}\n"
     ]
    }
   ],
   "source": [
    "my_dict = {'a': 1, 'b': 2, 'c': 3}\n",
    "\n",
    "item = my_dict.popitem()\n",
    "print(item)  # Output: ('c', 3)\n",
    "print(my_dict)  # Output: {'a': 1, 'b': 2}\n",
    "\n",
    "# Another popitem\n",
    "item = my_dict.popitem()\n",
    "print(item)  # Output: ('b', 2)\n",
    "print(my_dict)  # Output: {'a': 1}\n"
   ]
  },
  {
   "cell_type": "markdown",
   "id": "173d3f08-a901-477d-b905-da133b8ee1e5",
   "metadata": {},
   "source": [
    "clear()\n",
    "\n",
    "    Purpose: The clear method removes all items from the dictionary, resulting in an empty dictionary.\n",
    "    Syntax: dict.clear()\n",
    "    Example:"
   ]
  },
  {
   "cell_type": "code",
   "execution_count": 14,
   "id": "1e6414cd-a73f-4773-a3ac-24c9a2d4846e",
   "metadata": {},
   "outputs": [
    {
     "name": "stdout",
     "output_type": "stream",
     "text": [
      "{}\n"
     ]
    }
   ],
   "source": [
    "my_dict = {'a': 1, 'b': 2, 'c': 3}\n",
    "\n",
    "my_dict.clear()\n",
    "print(my_dict)  # Output: {}\n"
   ]
  },
  {
   "cell_type": "markdown",
   "id": "f43e491e-e86b-43cd-9ae2-7b026e2df23b",
   "metadata": {},
   "source": [
    "Summary\n",
    "\n",
    "    pop(key[, default]): Removes the specified key and returns its value. If the key is not found, returns the default value if provided, else raises a KeyError.\n",
    "    popitem(): Removes and returns the last inserted key-value pair as a tuple. Raises a KeyError if the dictionary is empty.\n",
    "    clear(): Removes all items from the dictionary, making it empty.\n",
    "\n",
    "These methods are useful for different scenarios, such as removing specific items, removing items in a LIFO order, or clearing the entire dictionary."
   ]
  },
  {
   "cell_type": "markdown",
   "id": "951138de-5fa7-492d-837b-28e13251d572",
   "metadata": {},
   "source": [
    "# 3. What do you mean by FrozenSet? Explain it with suitable example."
   ]
  },
  {
   "cell_type": "markdown",
   "id": "20af5009-936a-4566-985b-a8ab45b07165",
   "metadata": {},
   "source": [
    "A frozenset in Python is an immutable version of a set. This means that once a frozenset is created, you cannot change its contents. Frozensets can be useful when you need a collection of unique elements that should not change, for example, as keys in a dictionary or elements in a set.\n",
    "Key Characteristics of frozenset:\n",
    "\n",
    "    Immutable: Unlike a regular set, you cannot add, remove, or modify elements after the frozenset is created.\n",
    "    Hashable: Since frozensets are immutable, they can be used as keys in dictionaries or elements of other sets.\n",
    "    Unique Elements: Like sets, frozensets only store unique elements.\n",
    "\n",
    "Creating a frozenset:\n",
    "\n",
    "You can create a frozenset using the frozenset() function, which can take any iterable as input (like a list, set, tuple, etc.).\n",
    "Example:"
   ]
  },
  {
   "cell_type": "code",
   "execution_count": 23,
   "id": "db5568cf-2b36-44ea-8fe2-90f897f800c9",
   "metadata": {},
   "outputs": [
    {
     "name": "stdout",
     "output_type": "stream",
     "text": [
      "frozenset({1, 2, 3, 4})\n",
      "'frozenset' object has no attribute 'add'\n",
      "{frozenset({1, 2, 3}): 'value1', frozenset({4, 5, 6}): 'value2'}\n",
      "frozenset({'o', 'l', 'e', 'h'})\n"
     ]
    }
   ],
   "source": [
    "# Creating a frozenset from a list\n",
    "my_frozenset = frozenset([1, 2, 3, 4, 2, 3])\n",
    "\n",
    "print(my_frozenset)  # Output: frozenset({1, 2, 3, 4})\n",
    "\n",
    "# Trying to add an element (will raise an AttributeError)\n",
    "try:\n",
    "    my_frozenset.add(5)\n",
    "except AttributeError as e:\n",
    "    print(e)  # Output: 'frozenset' object has no attribute 'add'\n",
    "\n",
    "# Using frozenset as a dictionary key\n",
    "my_dict = {frozenset([1, 2, 3]): \"value1\", frozenset([4, 5, 6]): \"value2\"}\n",
    "\n",
    "print(my_dict)  # Output: {frozenset({1, 2, 3}): 'value1', frozenset({4, 5, 6}): 'value2'}\n",
    "\n",
    "# Creating a frozenset from a string\n",
    "my_frozenset = frozenset(\"hello\")\n",
    "print(my_frozenset)  # Output: frozenset({'o', 'e', 'h', 'l'})\n"
   ]
  },
  {
   "cell_type": "markdown",
   "id": "78683ba8-ec6b-4a0e-97c4-cef2f30d5439",
   "metadata": {},
   "source": [
    "Summary:\n",
    "\n",
    "    A frozenset is an immutable and hashable version of a set.\n",
    "    Once created, the contents of a frozenset cannot be modified.\n",
    "    Frozensets are useful when you need a set of unique elements that should not change, especially for use as dictionary keys or set elements."
   ]
  },
  {
   "cell_type": "markdown",
   "id": "0bfaf80d-9511-4981-a47f-3b979378e60c",
   "metadata": {},
   "source": [
    "# 4. Diffrentiate between mutable and immutable data type in python and give examples of mutable and immutable data types."
   ]
  },
  {
   "cell_type": "markdown",
   "id": "0b18621b-17c5-4b33-8d40-e9e9703de40f",
   "metadata": {},
   "source": [
    "In Python, data types can be classified as either mutable or immutable based on whether their state (i.e., their contents) can be changed after they are created.\n",
    "Mutable Data Types\n",
    "\n",
    "Mutable data types can be changed after their creation. This means you can modify, add, or remove elements without creating a new object. Here are some examples:\n",
    "\n",
    "   1. Lists:"
   ]
  },
  {
   "cell_type": "code",
   "execution_count": 16,
   "id": "ed76cf55-88e8-4a3c-a0a8-c06e6526ff36",
   "metadata": {},
   "outputs": [
    {
     "name": "stdout",
     "output_type": "stream",
     "text": [
      "[1, 2, 3, 4]\n"
     ]
    }
   ],
   "source": [
    "my_list = [1, 2, 3]\n",
    "my_list.append(4)\n",
    "print(my_list)  # Output: [1, 2, 3, 4]\n"
   ]
  },
  {
   "cell_type": "markdown",
   "id": "5d367359-bddc-4db5-8741-a3f7c097e772",
   "metadata": {},
   "source": [
    "2. Dictionaries:"
   ]
  },
  {
   "cell_type": "code",
   "execution_count": 17,
   "id": "40dbc416-32f1-47a8-860b-e16844f3d869",
   "metadata": {},
   "outputs": [
    {
     "name": "stdout",
     "output_type": "stream",
     "text": [
      "{'a': 1, 'b': 2, 'c': 3}\n"
     ]
    }
   ],
   "source": [
    "my_dict = {'a': 1, 'b': 2}\n",
    "my_dict['c'] = 3\n",
    "print(my_dict)  # Output: {'a': 1, 'b': 2, 'c': 3}\n"
   ]
  },
  {
   "cell_type": "markdown",
   "id": "5928afc3-2119-48ef-a4db-b62311e2e305",
   "metadata": {},
   "source": [
    "3. Sets:"
   ]
  },
  {
   "cell_type": "code",
   "execution_count": 18,
   "id": "02ca027a-0a2c-4eaf-a35d-77d59d715f30",
   "metadata": {},
   "outputs": [
    {
     "name": "stdout",
     "output_type": "stream",
     "text": [
      "{1, 2, 3, 4}\n"
     ]
    }
   ],
   "source": [
    "my_set = {1, 2, 3}\n",
    "my_set.add(4)\n",
    "print(my_set)  # Output: {1, 2, 3, 4}\n"
   ]
  },
  {
   "cell_type": "markdown",
   "id": "3a495e45-a72b-48fd-bc93-28186b4d058d",
   "metadata": {},
   "source": [
    "Immutable Data Types\n",
    "\n",
    "Immutable data types cannot be changed after their creation. Any operation that modifies the data will create a new object. Here are some examples:\n",
    "\n",
    "   1. Tuples:"
   ]
  },
  {
   "cell_type": "code",
   "execution_count": 19,
   "id": "25c07f68-892f-4cdc-ab42-185097d678c6",
   "metadata": {},
   "outputs": [
    {
     "name": "stdout",
     "output_type": "stream",
     "text": [
      "(1, 2, 3, 4)\n"
     ]
    }
   ],
   "source": [
    "my_tuple = (1, 2, 3)\n",
    "# my_tuple[0] = 0  # This will raise a TypeError\n",
    "new_tuple = my_tuple + (4,)\n",
    "print(new_tuple)  # Output: (1, 2, 3, 4)\n"
   ]
  },
  {
   "cell_type": "markdown",
   "id": "90ff8fba-76a5-4b0e-9a2f-68c454f11456",
   "metadata": {},
   "source": [
    "2. Strings:"
   ]
  },
  {
   "cell_type": "code",
   "execution_count": 20,
   "id": "004f4270-6459-4f05-92f7-c14df3b2f851",
   "metadata": {},
   "outputs": [
    {
     "name": "stdout",
     "output_type": "stream",
     "text": [
      "hello world\n"
     ]
    }
   ],
   "source": [
    "my_string = \"hello\"\n",
    "# my_string[0] = 'H'  # This will raise a TypeError\n",
    "new_string = my_string + \" world\"\n",
    "print(new_string)  # Output: \"hello world\"\n"
   ]
  },
  {
   "cell_type": "markdown",
   "id": "76f749db-4443-456c-98d1-72934c470bb0",
   "metadata": {},
   "source": [
    "3. Frozen Sets:"
   ]
  },
  {
   "cell_type": "code",
   "execution_count": 22,
   "id": "8b2be0eb-b7dd-4c96-84af-2fb3e7c80fbd",
   "metadata": {},
   "outputs": [
    {
     "name": "stdout",
     "output_type": "stream",
     "text": [
      "frozenset({1, 2, 3, 4})\n"
     ]
    }
   ],
   "source": [
    "my_frozenset = frozenset([1, 2, 3])\n",
    "# my_frozenset.add(4)  # This will raise an AttributeError\n",
    "new_frozenset = my_frozenset.union([4])\n",
    "print(new_frozenset)  # Output: frozenset({1, 2, 3, 4})\n"
   ]
  },
  {
   "cell_type": "markdown",
   "id": "8c45fda3-5ca2-4671-92d2-8d5eabfff646",
   "metadata": {},
   "source": [
    "Key Differences\n",
    "\n",
    "    Modification:\n",
    "        Mutable: Can be modified in place.\n",
    "        Immutable: Cannot be modified in place; any change results in a new object.\n",
    "\n",
    "    Examples:\n",
    "        Mutable: Lists, dictionaries, sets, byte arrays.\n",
    "        Immutable: Tuples, strings, frozensets, integers, floats, complex numbers.\n",
    "\n",
    "    Memory and Performance:\n",
    "        Mutable: Can be more memory-efficient when modifications are frequent since they don't require the creation of new objects.\n",
    "        Immutable: Can be more performance-efficient for read-only operations and safer to use as keys in dictionaries or elements in sets.\n",
    "\n",
    "    Use Cases:\n",
    "        Mutable: When you need a collection of items that will change, such as a list of items in a shopping cart.\n",
    "        Immutable: When you need a fixed set of values, such as a coordinate point (x, y) represented by a tuple.\n",
    "\n",
    "Understanding the distinction between mutable and immutable data types is crucial for effective memory management and ensuring the integrity of data in Python programs.\n"
   ]
  },
  {
   "cell_type": "markdown",
   "id": "772d49f7-ba88-4bd8-ba82-ca862dce5c4b",
   "metadata": {},
   "source": [
    "# 5. What is __init__? Explain with an example?"
   ]
  },
  {
   "cell_type": "markdown",
   "id": "0901ce07-e1f2-4e3f-9297-66f9a725ff5b",
   "metadata": {},
   "source": [
    "The __init__ method in Python is a special method that is automatically called when a new instance of a class is created. It is known as the initializer or constructor method. The primary purpose of __init__ is to initialize the attributes of the class.\n",
    "Key Characteristics of __init__:\n",
    "\n",
    "    Initialization: It sets up the initial state of an object by assigning values to the instance variables.\n",
    "    Automatic Call: It is automatically invoked when an instance of the class is created.\n",
    "    Self Parameter: The first parameter of __init__ is always self, which refers to the instance being created.\n",
    "\n",
    "Example:\n",
    "\n",
    "Let's create a simple Person class to demonstrate the use of __init__.\n",
    "\n"
   ]
  },
  {
   "cell_type": "code",
   "execution_count": 24,
   "id": "47e07496-67ed-444d-ab92-5f7d78d69743",
   "metadata": {},
   "outputs": [
    {
     "name": "stdout",
     "output_type": "stream",
     "text": [
      "Alice\n",
      "30\n",
      "Hello, my name is Alice and I am 30 years old.\n"
     ]
    }
   ],
   "source": [
    "class Person:\n",
    "    def __init__(self, name, age):\n",
    "        self.name = name  # Initialize the 'name' attribute\n",
    "        self.age = age    # Initialize the 'age' attribute\n",
    "\n",
    "    def greet(self):\n",
    "        return f\"Hello, my name is {self.name} and I am {self.age} years old.\"\n",
    "\n",
    "# Creating an instance of the Person class\n",
    "person1 = Person(\"Alice\", 30)\n",
    "\n",
    "# Accessing the attributes\n",
    "print(person1.name)  # Output: Alice\n",
    "print(person1.age)   # Output: 30\n",
    "\n",
    "# Calling the greet method\n",
    "print(person1.greet())  # Output: Hello, my name is Alice and I am 30 years old.\n"
   ]
  },
  {
   "cell_type": "markdown",
   "id": "9682a7e3-70ba-40f1-9a11-02ece3adb6cb",
   "metadata": {},
   "source": [
    "Explanation:\n",
    "\n",
    "    Defining the Class:"
   ]
  },
  {
   "cell_type": "code",
   "execution_count": 27,
   "id": "19339cdd-5b21-4d7e-97be-61547ee891c1",
   "metadata": {},
   "outputs": [
    {
     "ename": "SyntaxError",
     "evalue": "incomplete input (224325118.py, line 1)",
     "output_type": "error",
     "traceback": [
      "\u001b[0;36m  Cell \u001b[0;32mIn[27], line 1\u001b[0;36m\u001b[0m\n\u001b[0;31m    class Person:\u001b[0m\n\u001b[0m                 ^\u001b[0m\n\u001b[0;31mSyntaxError\u001b[0m\u001b[0;31m:\u001b[0m incomplete input\n"
     ]
    }
   ],
   "source": [
    "class Person:\n"
   ]
  },
  {
   "cell_type": "markdown",
   "id": "70916452-1e18-4f71-b8fc-0bf5828d81d8",
   "metadata": {},
   "source": [
    "We define a class named Person.\n",
    "\n",
    "Defining __init__ Method:"
   ]
  },
  {
   "cell_type": "code",
   "execution_count": 28,
   "id": "3839225e-b4d4-440a-b29e-13b5628b4dd2",
   "metadata": {},
   "outputs": [],
   "source": [
    "def __init__(self, name, age):\n",
    "    self.name = name\n",
    "    self.age = age\n"
   ]
  },
  {
   "cell_type": "markdown",
   "id": "8a745130-ae23-46f4-b0e8-8d58c8934149",
   "metadata": {},
   "source": [
    "The __init__ method takes three parameters: self, name, and age. The self parameter refers to the instance being created. The name and age parameters are used to initialize the instance variables self.name and self.age.\n",
    "\n",
    "Creating an Instance:"
   ]
  },
  {
   "cell_type": "code",
   "execution_count": 29,
   "id": "d138f923-3ba6-4f1b-b9f2-c2d4e534f34c",
   "metadata": {},
   "outputs": [],
   "source": [
    "person1 = Person(\"Alice\", 30)\n"
   ]
  },
  {
   "cell_type": "markdown",
   "id": "ad43aa3c-318c-4cfb-82e9-f9a996660e0f",
   "metadata": {},
   "source": [
    "When we create an instance of the Person class, the __init__ method is automatically called with \"Alice\" and 30 as arguments, initializing the name and age attributes of the instance.\n",
    "\n",
    "Accessing Attributes and Methods:"
   ]
  },
  {
   "cell_type": "code",
   "execution_count": 30,
   "id": "3335378e-7297-4fdc-a66a-a70408953f19",
   "metadata": {},
   "outputs": [
    {
     "name": "stdout",
     "output_type": "stream",
     "text": [
      "Alice\n",
      "30\n",
      "Hello, my name is Alice and I am 30 years old.\n"
     ]
    }
   ],
   "source": [
    "print(person1.name)  # Output: Alice\n",
    "print(person1.age)   # Output: 30\n",
    "print(person1.greet())  # Output: Hello, my name is Alice and I am 30 years old.\n"
   ]
  },
  {
   "cell_type": "markdown",
   "id": "25974131-5bed-40ce-b267-485987945fa1",
   "metadata": {},
   "source": [
    "    We access the attributes name and age of person1 and call the greet method, which returns a greeting message using the initialized values.\n",
    "\n",
    "Summary:\n",
    "\n",
    "The __init__ method is essential for initializing the attributes of a class when an object is created. It ensures that the new object has a valid state from the moment it is instantiated."
   ]
  },
  {
   "cell_type": "markdown",
   "id": "e27a96bd-c498-4bae-a6ce-249aaf2df4ce",
   "metadata": {},
   "source": [
    "# 6. What is docstring in python?Explain with an Example."
   ]
  },
  {
   "cell_type": "markdown",
   "id": "2842ccd3-3fb8-4039-9783-985117e7a8e5",
   "metadata": {},
   "source": [
    "A docstring in Python is a special type of comment that is used to describe the purpose, usage, and details of a module, class, method, or function. Docstrings are written using triple quotes (\"\"\" or ''') and can span multiple lines. They provide a convenient way of associating documentation with code, which can be accessed programmatically using the __doc__ attribute.\n",
    "Key Characteristics of Docstrings:\n",
    "\n",
    "    Placement: Docstrings are placed immediately after the definition of a module, class, method, or function.\n",
    "    Access: Docstrings can be accessed using the __doc__ attribute of the object (e.g., function, class).\n",
    "    Conventions: PEP 257 provides conventions for writing docstrings, encouraging consistency and clarity.\n",
    "\n",
    "Example:\n",
    "Function Docstring:"
   ]
  },
  {
   "cell_type": "code",
   "execution_count": 32,
   "id": "7473a093-92da-4063-bd0d-d04e890e735b",
   "metadata": {},
   "outputs": [
    {
     "name": "stdout",
     "output_type": "stream",
     "text": [
      "\n",
      "    Add two numbers and return the result.\n",
      "    \n",
      "    Parameters:\n",
      "    a (int or float): The first number to add.\n",
      "    b (int or float): The second number to add.\n",
      "    \n",
      "    Returns:\n",
      "    int or float: The sum of the two numbers.\n",
      "    \n"
     ]
    }
   ],
   "source": [
    "def add(a, b):\n",
    "    \"\"\"\n",
    "    Add two numbers and return the result.\n",
    "    \n",
    "    Parameters:\n",
    "    a (int or float): The first number to add.\n",
    "    b (int or float): The second number to add.\n",
    "    \n",
    "    Returns:\n",
    "    int or float: The sum of the two numbers.\n",
    "    \"\"\"\n",
    "    return a + b\n",
    "\n",
    "# Accessing the docstring\n",
    "print(add.__doc__)\n"
   ]
  },
  {
   "cell_type": "markdown",
   "id": "db2c5778-7e5c-41f8-821b-14e19acd57f2",
   "metadata": {},
   "source": [
    "Class Docstring:"
   ]
  },
  {
   "cell_type": "code",
   "execution_count": 34,
   "id": "39ac2803-87ac-4495-8e68-793d38cdaca1",
   "metadata": {},
   "outputs": [
    {
     "name": "stdout",
     "output_type": "stream",
     "text": [
      "\n",
      "    A class to represent a person.\n",
      "    \n",
      "    Attributes:\n",
      "    name (str): The name of the person.\n",
      "    age (int): The age of the person.\n",
      "    \n",
      "    Methods:\n",
      "    greet(): Returns a greeting string.\n",
      "    \n",
      "\n",
      "        Constructs all the necessary attributes for the person object.\n",
      "        \n",
      "        Parameters:\n",
      "        name (str): The name of the person.\n",
      "        age (int): The age of the person.\n",
      "        \n",
      "\n",
      "        Return a greeting string.\n",
      "        \n",
      "        Returns:\n",
      "        str: A greeting message.\n",
      "        \n"
     ]
    }
   ],
   "source": [
    "class Person:\n",
    "    \"\"\"\n",
    "    A class to represent a person.\n",
    "    \n",
    "    Attributes:\n",
    "    name (str): The name of the person.\n",
    "    age (int): The age of the person.\n",
    "    \n",
    "    Methods:\n",
    "    greet(): Returns a greeting string.\n",
    "    \"\"\"\n",
    "    \n",
    "    def __init__(self, name, age):\n",
    "        \"\"\"\n",
    "        Constructs all the necessary attributes for the person object.\n",
    "        \n",
    "        Parameters:\n",
    "        name (str): The name of the person.\n",
    "        age (int): The age of the person.\n",
    "        \"\"\"\n",
    "        self.name = name\n",
    "        self.age = age\n",
    "    \n",
    "    def greet(self):\n",
    "        \"\"\"\n",
    "        Return a greeting string.\n",
    "        \n",
    "        Returns:\n",
    "        str: A greeting message.\n",
    "        \"\"\"\n",
    "        return f\"Hello, my name is {self.name} and I am {self.age} years old.\"\n",
    "\n",
    "# Accessing the docstrings\n",
    "print(Person.__doc__)\n",
    "print(Person.__init__.__doc__)\n",
    "print(Person.greet.__doc__)\n"
   ]
  },
  {
   "cell_type": "markdown",
   "id": "603214e7-22df-4f3d-81ae-2f61cc8d6e7b",
   "metadata": {},
   "source": [
    "ummary:\n",
    "\n",
    "    Docstrings: Special comments enclosed in triple quotes used to document modules, classes, methods, and functions.\n",
    "    Placement: Immediately following the definition of the module, class, method, or function.\n",
    "    Access: Via the __doc__ attribute.\n",
    "    Purpose: To provide clear, structured documentation for code, making it easier to understand and use."
   ]
  },
  {
   "cell_type": "markdown",
   "id": "a311156b-0f6b-4a65-9cbc-e0cc36f0c604",
   "metadata": {},
   "source": [
    "# 7. What are unit test in python?"
   ]
  },
  {
   "cell_type": "markdown",
   "id": "e3459ee1-7a0b-41b0-a3a4-86720138cb92",
   "metadata": {},
   "source": [
    "Unit tests in Python are a way to test individual units of source code to determine whether they work correctly. A unit is the smallest testable part of an application, such as a function, method, or class. Unit tests are essential for ensuring code quality and preventing bugs. They help verify that each unit of the codebase functions as expected in isolation.\n",
    "Key Characteristics of Unit Tests:\n",
    "\n",
    "    Isolation: Unit tests should test individual components in isolation from the rest of the application.\n",
    "    Automated: Unit tests are typically automated, allowing them to be run frequently and consistently.\n",
    "    Repeatable: Unit tests should produce the same results each time they are run, given the same inputs.\n",
    "\n",
    "Writing Unit Tests in Python:\n",
    "\n",
    "Python provides a built-in module called unittest for writing and running unit tests. Here's a basic example to illustrate how to use it.\n",
    "\n",
    "Example:\n",
    "Code to be Tested:"
   ]
  },
  {
   "cell_type": "code",
   "execution_count": 37,
   "id": "84d0d8c3-c33e-4fb5-88fd-c058698387d3",
   "metadata": {},
   "outputs": [],
   "source": [
    "def add(a, b):\n",
    "    return a + b\n",
    "\n",
    "def subtract(a, b):\n",
    "    return a - b\n"
   ]
  },
  {
   "cell_type": "markdown",
   "id": "75158c8b-4a18-409e-97b1-e917ad834d2b",
   "metadata": {},
   "source": [
    "Writing Unit Tests:"
   ]
  },
  {
   "cell_type": "code",
   "execution_count": 38,
   "id": "adf3dd63-8af1-4fa0-bff0-015e8a408fe0",
   "metadata": {},
   "outputs": [
    {
     "name": "stderr",
     "output_type": "stream",
     "text": [
      "E\n",
      "======================================================================\n",
      "ERROR: /home/jovyan/ (unittest.loader._FailedTest)\n",
      "----------------------------------------------------------------------\n",
      "AttributeError: module '__main__' has no attribute '/home/jovyan/'\n",
      "\n",
      "----------------------------------------------------------------------\n",
      "Ran 1 test in 0.001s\n",
      "\n",
      "FAILED (errors=1)\n"
     ]
    },
    {
     "ename": "SystemExit",
     "evalue": "True",
     "output_type": "error",
     "traceback": [
      "An exception has occurred, use %tb to see the full traceback.\n",
      "\u001b[0;31mSystemExit\u001b[0m\u001b[0;31m:\u001b[0m True\n"
     ]
    },
    {
     "name": "stderr",
     "output_type": "stream",
     "text": [
      "/opt/conda/lib/python3.10/site-packages/IPython/core/interactiveshell.py:3441: UserWarning: To exit: use 'exit', 'quit', or Ctrl-D.\n",
      "  warn(\"To exit: use 'exit', 'quit', or Ctrl-D.\", stacklevel=1)\n"
     ]
    }
   ],
   "source": [
    "import unittest\n",
    "\n",
    "class TestMathOperations(unittest.TestCase):\n",
    "\n",
    "    def test_add(self):\n",
    "        self.assertEqual(add(1, 2), 3)\n",
    "        self.assertEqual(add(-1, 1), 0)\n",
    "        self.assertEqual(add(-1, -1), -2)\n",
    "\n",
    "    def test_subtract(self):\n",
    "        self.assertEqual(subtract(2, 1), 1)\n",
    "        self.assertEqual(subtract(-1, 1), -2)\n",
    "        self.assertEqual(subtract(-1, -1), 0)\n",
    "\n",
    "if __name__ == '__main__':\n",
    "    unittest.main()\n"
   ]
  },
  {
   "cell_type": "markdown",
   "id": "0bde0b89-8335-48b1-96fd-056dca730b10",
   "metadata": {},
   "source": [
    "1. Explanation:\n",
    "\n",
    "    Import unittest:"
   ]
  },
  {
   "cell_type": "code",
   "execution_count": 39,
   "id": "a200d918-b7b2-41c6-99ee-d6a5a924a744",
   "metadata": {},
   "outputs": [],
   "source": [
    "import unittest\n"
   ]
  },
  {
   "cell_type": "markdown",
   "id": "44d3da9e-8ad0-4873-b2e3-099639d83d24",
   "metadata": {},
   "source": [
    "2. Define Test Class:"
   ]
  },
  {
   "cell_type": "code",
   "execution_count": 41,
   "id": "e4508df0-f87c-47f8-9d42-74af6a39d09d",
   "metadata": {},
   "outputs": [
    {
     "ename": "SyntaxError",
     "evalue": "incomplete input (462128069.py, line 1)",
     "output_type": "error",
     "traceback": [
      "\u001b[0;36m  Cell \u001b[0;32mIn[41], line 1\u001b[0;36m\u001b[0m\n\u001b[0;31m    class TestMathOperations(unittest.TestCase):\u001b[0m\n\u001b[0m                                                ^\u001b[0m\n\u001b[0;31mSyntaxError\u001b[0m\u001b[0;31m:\u001b[0m incomplete input\n"
     ]
    }
   ],
   "source": [
    "class TestMathOperations(unittest.TestCase):\n"
   ]
  },
  {
   "cell_type": "markdown",
   "id": "0d77379a-2241-4156-8b12-cad6db4a20a2",
   "metadata": {},
   "source": [
    "he test class inherits from unittest.TestCase, which provides various assertion methods to check for expected outcomes."
   ]
  },
  {
   "cell_type": "markdown",
   "id": "4a97175e-4140-4a42-ac1a-4fbd33420026",
   "metadata": {},
   "source": [
    "3. Write Test Methods:"
   ]
  },
  {
   "cell_type": "code",
   "execution_count": 45,
   "id": "25bc50fd-f3e8-4004-80fb-e17b0ccbadda",
   "metadata": {},
   "outputs": [],
   "source": [
    "def test_add(self):\n",
    "    self.assertEqual(add(1, 2), 3)\n",
    "    self.assertEqual(add(-1, 1), 0)\n",
    "    self.assertEqual(add(-1, -1), -2)\n",
    "\n",
    "    "
   ]
  },
  {
   "cell_type": "markdown",
   "id": "6fbae7ef-86f4-492c-8530-fe1f8971aef6",
   "metadata": {},
   "source": [
    "Each test method should start with test_ to be recognized by the test runner. The self.assertEqual method checks if the actual output matches the expected output.\n",
    "\n",
    "4. Run the Tests:"
   ]
  },
  {
   "cell_type": "code",
   "execution_count": 46,
   "id": "7c0dabd2-5db0-4e45-af55-04476545215d",
   "metadata": {},
   "outputs": [
    {
     "name": "stderr",
     "output_type": "stream",
     "text": [
      "E\n",
      "======================================================================\n",
      "ERROR: /home/jovyan/ (unittest.loader._FailedTest)\n",
      "----------------------------------------------------------------------\n",
      "AttributeError: module '__main__' has no attribute '/home/jovyan/'\n",
      "\n",
      "----------------------------------------------------------------------\n",
      "Ran 1 test in 0.001s\n",
      "\n",
      "FAILED (errors=1)\n"
     ]
    },
    {
     "ename": "SystemExit",
     "evalue": "True",
     "output_type": "error",
     "traceback": [
      "An exception has occurred, use %tb to see the full traceback.\n",
      "\u001b[0;31mSystemExit\u001b[0m\u001b[0;31m:\u001b[0m True\n"
     ]
    },
    {
     "name": "stderr",
     "output_type": "stream",
     "text": [
      "/opt/conda/lib/python3.10/site-packages/IPython/core/interactiveshell.py:3441: UserWarning: To exit: use 'exit', 'quit', or Ctrl-D.\n",
      "  warn(\"To exit: use 'exit', 'quit', or Ctrl-D.\", stacklevel=1)\n"
     ]
    }
   ],
   "source": [
    "if __name__ == '__main__':\n",
    "    unittest.main()\n"
   ]
  },
  {
   "cell_type": "markdown",
   "id": "8e66b451-2040-45a4-93c6-9f37dae00431",
   "metadata": {},
   "source": [
    "    This ensures the tests are run when the script is executed.\n",
    "\n",
    "Running the Tests:\n",
    "\n",
    "To run the tests, save the test script to a file (e.g., test_math_operations.py) and run it using the Python interpreter:\n",
    "\n",
    "bash\n",
    "\n",
    "python test_math_operations.py\n",
    "\n",
    "Benefits of Unit Testing:\n",
    "\n",
    "    Early Bug Detection: Identify issues early in the development process.\n",
    "    Refactoring Safety: Ensure that changes to the codebase do not introduce new bugs.\n",
    "    Documentation: Serve as documentation for the expected behavior of the code.\n",
    "    Confidence: Provide confidence that the code works as intended.\n",
    "\n",
    "Unit testing is a crucial practice in software development that helps maintain code quality and reliability.\n"
   ]
  },
  {
   "cell_type": "markdown",
   "id": "9ce2c9fb-5890-4e4b-8d22-616e0bd62534",
   "metadata": {},
   "source": [
    "# 8. What is break,continue and pass in python?"
   ]
  },
  {
   "cell_type": "markdown",
   "id": "b5111ea9-ff30-4056-96dc-7b7d8229d8c6",
   "metadata": {},
   "source": [
    "In Python, break, continue, and pass are control flow statements used to alter the execution of loops or as placeholders in the code. Here's an explanation of each with suitable examples:\n",
    "break\n",
    "\n",
    "The break statement is used to terminate the loop immediately. When break is encountered inside a loop, the loop stops executing, and the control is transferred to the statement immediately following the loop.\n",
    "\n",
    "Example:"
   ]
  },
  {
   "cell_type": "code",
   "execution_count": 47,
   "id": "f4a22b52-8e15-4b83-a182-74becda90f21",
   "metadata": {},
   "outputs": [
    {
     "name": "stdout",
     "output_type": "stream",
     "text": [
      "1\n",
      "2\n"
     ]
    }
   ],
   "source": [
    "for i in range(1, 6):\n",
    "    if i == 3:\n",
    "        break\n",
    "    print(i)\n",
    "# Output: \n",
    "# 1\n",
    "# 2\n"
   ]
  },
  {
   "cell_type": "markdown",
   "id": "da2716ef-b657-421a-adbd-18f03566b71b",
   "metadata": {},
   "source": [
    "In this example, the loop stops when i is equal to 3, so the numbers 1 and 2 are printed.\n",
    "continue\n",
    "\n",
    "The continue statement skips the rest of the code inside the loop for the current iteration and moves the control back to the beginning of the loop for the next iteration.\n",
    "\n",
    "Example:"
   ]
  },
  {
   "cell_type": "code",
   "execution_count": 48,
   "id": "95b32bf4-2c3b-47de-b13b-6bb362ade5d6",
   "metadata": {},
   "outputs": [
    {
     "name": "stdout",
     "output_type": "stream",
     "text": [
      "1\n",
      "2\n",
      "4\n",
      "5\n"
     ]
    }
   ],
   "source": [
    "for i in range(1, 6):\n",
    "    if i == 3:\n",
    "        continue\n",
    "    print(i)\n",
    "# Output:\n",
    "# 1\n",
    "# 2\n",
    "# 4\n",
    "# 5\n"
   ]
  },
  {
   "cell_type": "markdown",
   "id": "7865c3d9-c595-41f2-b713-357c98b2a2f3",
   "metadata": {},
   "source": [
    "In this example, when i is equal to 3, the continue statement is executed, skipping the print statement for that iteration.\n",
    "pass\n",
    "\n",
    "The pass statement does nothing and is used as a placeholder. It allows you to write code that syntactically requires a statement but where no action is needed.\n",
    "\n",
    "Example:"
   ]
  },
  {
   "cell_type": "code",
   "execution_count": 49,
   "id": "beb2ad23-74af-499c-a997-7f445081ebde",
   "metadata": {},
   "outputs": [
    {
     "name": "stdout",
     "output_type": "stream",
     "text": [
      "1\n",
      "2\n",
      "3\n",
      "4\n",
      "5\n"
     ]
    }
   ],
   "source": [
    "for i in range(1, 6):\n",
    "    if i == 3:\n",
    "        pass  # Placeholder, does nothing\n",
    "    print(i)\n",
    "# Output:\n",
    "# 1\n",
    "# 2\n",
    "# 3\n",
    "# 4\n",
    "# 5\n"
   ]
  },
  {
   "cell_type": "markdown",
   "id": "be0872c4-30dc-4539-9c8a-7f94363c28b8",
   "metadata": {},
   "source": [
    "In this example, pass is used where you might want to handle the case of i being equal to 3 in the future, but for now, it does nothing.\n",
    "Summary:\n",
    "\n",
    "    break: Exits the loop entirely.\n",
    "    continue: Skips the rest of the code inside the loop for the current iteration and jumps to the next iteration.\n",
    "    pass: Does nothing, used as a placeholder for future code.\n",
    "\n",
    "These control flow statements help manage the execution flow of loops and provide flexibility in handling different conditions within the loop."
   ]
  },
  {
   "cell_type": "markdown",
   "id": "8b47af8a-f414-4052-a011-786a3bdd114e",
   "metadata": {},
   "source": [
    "# 9. What is the use of self in pyhton?"
   ]
  },
  {
   "cell_type": "markdown",
   "id": "1ab1ce06-d7e0-432e-84ed-5c247b3ee88b",
   "metadata": {},
   "source": [
    "n Python, self is a conventional name used to refer to the instance of the class within the class definition. It is used in instance methods to access variables and methods that belong to the object. The self parameter is always the first parameter of any instance method in a class, and it allows each instance of the class to reference its own attributes and methods.\n",
    "Key Uses of self:\n",
    "\n",
    "    Accessing Instance Variables: self is used to access instance variables within the class. These are variables that are unique to each instance of the class.\n",
    "    Calling Other Instance Methods: self is used to call other methods within the same class.\n",
    "    Distinguishing Instance Variables from Local Variables: Using self helps to differentiate instance variables from local variables.\n",
    "\n",
    "Example:\n",
    "Defining a Class with self:"
   ]
  },
  {
   "cell_type": "code",
   "execution_count": 5,
   "id": "9d74a2c1-8edd-4e49-9000-72b2fa2d8dec",
   "metadata": {},
   "outputs": [
    {
     "name": "stdout",
     "output_type": "stream",
     "text": [
      "Hello, my name is Alice and I am 30 years old.\n",
      "Happy birthday Alice! You are now 31 years old.\n",
      "Hello, my name is Alice and I am 31 years old.\n"
     ]
    }
   ],
   "source": [
    "class Person:\n",
    "    def __init__(self, name, age):\n",
    "        self.name = name  # Assign instance variable 'name'\n",
    "        self.age = age    # Assign instance variable 'age'\n",
    "\n",
    "    def greet(self):\n",
    "        return f\"Hello, my name is {self.name} and I am {self.age} years old.\"\n",
    "\n",
    "    def have_birthday(self):\n",
    "        self.age += 1\n",
    "        return f\"Happy birthday {self.name}! You are now {self.age} years old.\"\n",
    "\n",
    "# Creating an instance of the Person class\n",
    "person1 = Person(\"Alice\", 30)\n",
    "\n",
    "# Accessing instance methods and variables\n",
    "print(person1.greet())  # Output: Hello, my name is Alice and I am 30 years old.\n",
    "print(person1.have_birthday())  # Output: Happy birthday Alice! You are now 31 years old.\n",
    "print(person1.greet())  # Output: Hello, my name is Alice and I am 31 years old.\n"
   ]
  },
  {
   "cell_type": "markdown",
   "id": "1f852017-ff85-4c57-b732-3778f469ef0e",
   "metadata": {},
   "source": [
    "1. Explanation:\n",
    "\n",
    "    __init__ Method:"
   ]
  },
  {
   "cell_type": "code",
   "execution_count": 3,
   "id": "f1da47bc-afd1-44b7-ae01-7517a6cb2e0c",
   "metadata": {},
   "outputs": [],
   "source": [
    "def __init__(self, name, age):\n",
    "    self.name = name\n",
    "    self.age = age\n"
   ]
  },
  {
   "cell_type": "markdown",
   "id": "79a4f782-3dbc-433d-bc77-2096e50fc3fc",
   "metadata": {},
   "source": [
    "The __init__ method is the constructor method that initializes the instance variables name and age with the values provided when an instance of the class is created.\n",
    "\n",
    "2. Instance Methods:\n",
    "\n",
    "    greet:"
   ]
  },
  {
   "cell_type": "code",
   "execution_count": 6,
   "id": "d0bf4458-ca5c-4c28-bc0d-88db6a6b8eed",
   "metadata": {},
   "outputs": [],
   "source": [
    "def greet(self):\n",
    "    return f\"Hello, my name is {self.name} and I am {self.age} years old.\"\n"
   ]
  },
  {
   "cell_type": "markdown",
   "id": "da62f9b9-499c-4773-8886-69d8188077ec",
   "metadata": {},
   "source": [
    "his method uses self to access the instance variables name and age and return a greeting string.\n",
    "\n",
    "\n",
    "have_birthday:"
   ]
  },
  {
   "cell_type": "code",
   "execution_count": 7,
   "id": "b19074f9-8f8f-43d9-b22f-6eefce3bf196",
   "metadata": {},
   "outputs": [],
   "source": [
    "def have_birthday(self):\n",
    "    self.age += 1\n",
    "    return f\"Happy birthday {self.name}! You are now {self.age} years old.\"\n"
   ]
  },
  {
   "cell_type": "markdown",
   "id": "becd42a1-5287-469d-92af-c35cfdd321aa",
   "metadata": {},
   "source": [
    "    This method increments the instance variable age by 1 and returns a birthday message.\n",
    "\n",
    "3. Creating an Instance:"
   ]
  },
  {
   "cell_type": "code",
   "execution_count": 8,
   "id": "361fed75-f1bc-411a-9fd4-c426c5b399d6",
   "metadata": {},
   "outputs": [],
   "source": [
    "person1 = Person(\"Alice\", 30)\n"
   ]
  },
  {
   "cell_type": "markdown",
   "id": "884eec0a-02a8-45e5-952a-6075ce536a63",
   "metadata": {},
   "source": [
    "When an instance person1 is created, the __init__ method is called, initializing person1.name to \"Alice\" and person1.age to 30.\n",
    "\n",
    "4. Accessing Methods:"
   ]
  },
  {
   "cell_type": "code",
   "execution_count": 9,
   "id": "c4053d5d-9fb2-4c31-8921-2365b0102a6a",
   "metadata": {},
   "outputs": [
    {
     "name": "stdout",
     "output_type": "stream",
     "text": [
      "Hello, my name is Alice and I am 30 years old.\n",
      "Happy birthday Alice! You are now 31 years old.\n"
     ]
    }
   ],
   "source": [
    "print(person1.greet())  # Output: Hello, my name is Alice and I am 30 years old.\n",
    "print(person1.have_birthday())  # Output: Happy birthday Alice! You are now 31 years old.\n"
   ]
  },
  {
   "cell_type": "markdown",
   "id": "26385a91-f1d2-4fab-8a9a-2261b9e5d1ca",
   "metadata": {},
   "source": [
    "    The greet and have_birthday methods are called on the person1 instance, demonstrating how self is used to access and modify instance variables.\n",
    "\n",
    "Summary:\n",
    "\n",
    "    self: Refers to the instance of the class within class methods.\n",
    "    Purpose: To access instance variables and other methods within the class, and to differentiate between instance variables and local variables.\n",
    "    Convention: While self is not a reserved keyword in Python, it is a strong convention that helps make the code more readable and understandable."
   ]
  },
  {
   "cell_type": "markdown",
   "id": "6872364c-5ef5-4db9-bc8c-536d3b4e47e3",
   "metadata": {},
   "source": [
    "# 10. What are global, protected and private attributes in python?"
   ]
  },
  {
   "cell_type": "markdown",
   "id": "54984942-5717-4ee9-beea-852f5b18c9db",
   "metadata": {},
   "source": [
    "n Python, attributes (variables) can be categorized based on their access levels and intended visibility: global, protected, and private. These categories help in controlling access to variables and maintaining encapsulation in object-oriented programming.\n",
    "Global Attributes\n",
    "\n",
    "Global attributes are variables defined at the module level, outside of any class or function. They can be accessed from anywhere within the same module and even from other modules if imported.\n",
    "\n",
    "Example:"
   ]
  },
  {
   "cell_type": "code",
   "execution_count": 10,
   "id": "039c0279-986c-4294-95d2-83a4f8a4f124",
   "metadata": {},
   "outputs": [
    {
     "name": "stdout",
     "output_type": "stream",
     "text": [
      "I am a global variable\n"
     ]
    }
   ],
   "source": [
    "# Global variable\n",
    "global_var = \"I am a global variable\"\n",
    "\n",
    "def print_global():\n",
    "    print(global_var)\n",
    "\n",
    "print_global()  # Output: I am a global variable\n"
   ]
  },
  {
   "cell_type": "markdown",
   "id": "3ccd217a-48eb-48c2-a628-6b2b4708a3f6",
   "metadata": {},
   "source": [
    "Protected Attributes\n",
    "\n",
    "Protected attributes are intended to be accessed only within the class and its subclasses. In Python, protected attributes are indicated by a single underscore prefix (_). This is a convention and not enforced by the Python interpreter, meaning they can still be accessed outside the class, but it is generally discouraged.\n",
    "\n",
    "Example:"
   ]
  },
  {
   "cell_type": "code",
   "execution_count": 11,
   "id": "e6300c34-a528-4783-b0ed-13b30cc04df0",
   "metadata": {},
   "outputs": [
    {
     "name": "stdout",
     "output_type": "stream",
     "text": [
      "I am a protected variable\n",
      "I am a protected variable\n"
     ]
    }
   ],
   "source": [
    "class Parent:\n",
    "    def __init__(self):\n",
    "        self._protected_var = \"I am a protected variable\"\n",
    "\n",
    "class Child(Parent):\n",
    "    def access_protected(self):\n",
    "        return self._protected_var\n",
    "\n",
    "parent = Parent()\n",
    "child = Child()\n",
    "print(child.access_protected())  # Output: I am a protected variable\n",
    "\n",
    "# Accessing directly (discouraged)\n",
    "print(parent._protected_var)  # Output: I am a protected variable\n"
   ]
  },
  {
   "cell_type": "markdown",
   "id": "36d11389-5ebf-423b-940c-efa9c082e485",
   "metadata": {},
   "source": [
    "Private Attributes\n",
    "\n",
    "Private attributes are intended to be accessed only within the class that defines them. In Python, private attributes are indicated by a double underscore prefix (__). This triggers name mangling, which changes the attribute name to include the class name, making it harder (but not impossible) to access from outside the class.\n",
    "\n",
    "Example:"
   ]
  },
  {
   "cell_type": "code",
   "execution_count": 13,
   "id": "e67af199-1f28-469b-9cbf-fb24e134bb2a",
   "metadata": {},
   "outputs": [
    {
     "name": "stdout",
     "output_type": "stream",
     "text": [
      "I am a private variable\n",
      "I am a private variable\n"
     ]
    }
   ],
   "source": [
    "class MyClass:\n",
    "    def __init__(self):\n",
    "        self.__private_var = \"I am a private variable\"\n",
    "\n",
    "    def get_private_var(self):\n",
    "        return self.__private_var\n",
    "\n",
    "obj = MyClass()\n",
    "print(obj.get_private_var())  # Output: I am a private variable\n",
    "\n",
    "# Trying to access directly (raises AttributeError)\n",
    "# print(obj.__private_var)  # This will raise an AttributeError\n",
    "\n",
    "# Accessing using name mangling (not recommended)\n",
    "print(obj._MyClass__private_var)  # Output: I am a private variable\n"
   ]
  },
  {
   "cell_type": "markdown",
   "id": "e1d45e9b-c2be-4a5d-889d-6fb30cd9e7ee",
   "metadata": {},
   "source": [
    "Summary\n",
    "\n",
    "    Global Attributes: Defined at the module level and accessible from anywhere in the module or from other modules.\n",
    "    Protected Attributes: Indicated by a single underscore prefix (_). Intended for use within the class and its subclasses, but not enforced by Python.\n",
    "    Private Attributes: Indicated by a double underscore prefix (__). Intended for use only within the defining class. Enforced through name mangling to prevent accidental access.\n",
    "\n",
    "By using these different levels of attribute visibility, you can better control access to the data within your classes and modules, promoting encapsulation and reducing the likelihood of unintended side effects."
   ]
  },
  {
   "cell_type": "markdown",
   "id": "dd9d55d9-e9d1-43fd-87c1-a4b875358a5d",
   "metadata": {},
   "source": [
    "# 11. What are modules and packages in python?"
   ]
  },
  {
   "cell_type": "markdown",
   "id": "761c2482-3d75-4fe9-a8ab-93d16b5e81b1",
   "metadata": {},
   "source": [
    "In Python, modules and packages are fundamental concepts for organizing and structuring code. They help in managing the complexity of large codebases by providing a way to organize related code into separate files and directories.\n",
    "Modules\n",
    "\n",
    "A module is a single file containing Python code. It can define functions, classes, and variables, and it can also include runnable code. Modules help to divide and organize code into manageable parts and can be reused across different programs.\n",
    "Creating and Using a Module\n",
    "\n",
    " 1.   Creating a Module: Save the following code in a file named mymodule.py."
   ]
  },
  {
   "cell_type": "code",
   "execution_count": 14,
   "id": "7463efe1-c4ac-41e0-bee2-724b080d5bea",
   "metadata": {},
   "outputs": [],
   "source": [
    "# mymodule.py\n",
    "def greet(name):\n",
    "    return f\"Hello, {name}!\"\n",
    "\n",
    "pi = 3.14159\n"
   ]
  },
  {
   "cell_type": "markdown",
   "id": "e2972516-4da2-4357-b7c3-127372915aa6",
   "metadata": {},
   "source": [
    "2. Using a Module: You can import and use the module in another Python script"
   ]
  },
  {
   "cell_type": "code",
   "execution_count": 15,
   "id": "a96662e9-b294-4a17-ad99-7195355f4de0",
   "metadata": {},
   "outputs": [
    {
     "ename": "ModuleNotFoundError",
     "evalue": "No module named 'mymodule'",
     "output_type": "error",
     "traceback": [
      "\u001b[0;31m---------------------------------------------------------------------------\u001b[0m",
      "\u001b[0;31mModuleNotFoundError\u001b[0m                       Traceback (most recent call last)",
      "Cell \u001b[0;32mIn[15], line 2\u001b[0m\n\u001b[1;32m      1\u001b[0m \u001b[38;5;66;03m# main.py\u001b[39;00m\n\u001b[0;32m----> 2\u001b[0m \u001b[38;5;28;01mimport\u001b[39;00m \u001b[38;5;21;01mmymodule\u001b[39;00m\n\u001b[1;32m      4\u001b[0m \u001b[38;5;28mprint\u001b[39m(mymodule\u001b[38;5;241m.\u001b[39mgreet(\u001b[38;5;124m\"\u001b[39m\u001b[38;5;124mAlice\u001b[39m\u001b[38;5;124m\"\u001b[39m))  \u001b[38;5;66;03m# Output: Hello, Alice!\u001b[39;00m\n\u001b[1;32m      5\u001b[0m \u001b[38;5;28mprint\u001b[39m(mymodule\u001b[38;5;241m.\u001b[39mpi)              \u001b[38;5;66;03m# Output: 3.14159\u001b[39;00m\n",
      "\u001b[0;31mModuleNotFoundError\u001b[0m: No module named 'mymodule'"
     ]
    }
   ],
   "source": [
    "# main.py\n",
    "import mymodule\n",
    "\n",
    "print(mymodule.greet(\"Alice\"))  # Output: Hello, Alice!\n",
    "print(mymodule.pi)              # Output: 3.14159\n"
   ]
  },
  {
   "cell_type": "markdown",
   "id": "3ad2ee99-8a2f-4fa4-9713-6404c2f6a465",
   "metadata": {},
   "source": [
    "Packages\n",
    "\n",
    "A package is a collection of related modules organized in a directory hierarchy. A package must contain a special __init__.py file, which can be empty or can include initialization code for the package. Packages allow for a more hierarchical organization of the module namespace.\n",
    "Creating and Using a Package\n",
    "\n",
    "    Creating a Package: Suppose you have the following directory structure:"
   ]
  },
  {
   "cell_type": "code",
   "execution_count": 17,
   "id": "6ddf0989-7248-48ac-ac69-33b7f59ef689",
   "metadata": {},
   "outputs": [
    {
     "ename": "SyntaxError",
     "evalue": "invalid character '├' (U+251C) (1381973575.py, line 2)",
     "output_type": "error",
     "traceback": [
      "\u001b[0;36m  Cell \u001b[0;32mIn[17], line 2\u001b[0;36m\u001b[0m\n\u001b[0;31m    ├── __init__.py\u001b[0m\n\u001b[0m    ^\u001b[0m\n\u001b[0;31mSyntaxError\u001b[0m\u001b[0;31m:\u001b[0m invalid character '├' (U+251C)\n"
     ]
    }
   ],
   "source": [
    "mypackage/\n",
    "├── __init__.py\n",
    "├── module1.py\n",
    "└── module2.py\n"
   ]
  },
  {
   "cell_type": "markdown",
   "id": "ea12ce37-7c0d-4880-8af3-a73ec4b12d32",
   "metadata": {},
   "source": [
    "__init__.py: This file makes mypackage a package. It can be empty or include package initialization code.\n",
    "module1.py:"
   ]
  },
  {
   "cell_type": "code",
   "execution_count": 18,
   "id": "eb9a62c1-b622-495f-a010-eedd40ad2612",
   "metadata": {},
   "outputs": [],
   "source": [
    "# module1.py\n",
    "def func1():\n",
    "    return \"Function 1\"\n"
   ]
  },
  {
   "cell_type": "markdown",
   "id": "5e18645e-20db-4938-b445-03ac8cdcf040",
   "metadata": {},
   "source": [
    "module2.py:"
   ]
  },
  {
   "cell_type": "code",
   "execution_count": 19,
   "id": "12c17a77-f460-4a8f-8b03-789954b7fa45",
   "metadata": {},
   "outputs": [],
   "source": [
    "# module2.py\n",
    "def func2():\n",
    "    return \"Function 2\"\n"
   ]
  },
  {
   "cell_type": "markdown",
   "id": "fb3049f0-aa5f-40f1-8da7-a35a490138ce",
   "metadata": {},
   "source": [
    "2. Using a Package: You can import and use the package and its modules in another Python script."
   ]
  },
  {
   "cell_type": "code",
   "execution_count": 20,
   "id": "89605982-4be4-4246-9a8d-23ae47a8a287",
   "metadata": {},
   "outputs": [
    {
     "ename": "ModuleNotFoundError",
     "evalue": "No module named 'mypackage'",
     "output_type": "error",
     "traceback": [
      "\u001b[0;31m---------------------------------------------------------------------------\u001b[0m",
      "\u001b[0;31mModuleNotFoundError\u001b[0m                       Traceback (most recent call last)",
      "Cell \u001b[0;32mIn[20], line 2\u001b[0m\n\u001b[1;32m      1\u001b[0m \u001b[38;5;66;03m# main.py\u001b[39;00m\n\u001b[0;32m----> 2\u001b[0m \u001b[38;5;28;01mfrom\u001b[39;00m \u001b[38;5;21;01mmypackage\u001b[39;00m \u001b[38;5;28;01mimport\u001b[39;00m module1, module2\n\u001b[1;32m      4\u001b[0m \u001b[38;5;28mprint\u001b[39m(module1\u001b[38;5;241m.\u001b[39mfunc1())  \u001b[38;5;66;03m# Output: Function 1\u001b[39;00m\n\u001b[1;32m      5\u001b[0m \u001b[38;5;28mprint\u001b[39m(module2\u001b[38;5;241m.\u001b[39mfunc2())  \u001b[38;5;66;03m# Output: Function 2\u001b[39;00m\n",
      "\u001b[0;31mModuleNotFoundError\u001b[0m: No module named 'mypackage'"
     ]
    }
   ],
   "source": [
    "# main.py\n",
    "from mypackage import module1, module2\n",
    "\n",
    "print(module1.func1())  # Output: Function 1\n",
    "print(module2.func2())  # Output: Function 2\n"
   ]
  },
  {
   "cell_type": "markdown",
   "id": "40fa7f73-bdc9-46af-96cc-b705b4b1d543",
   "metadata": {},
   "source": [
    "Summary\n",
    "\n",
    "    Modules:\n",
    "        A module is a single Python file that can contain functions, classes, and variables.\n",
    "        Modules are used to organize and reuse code across different programs.\n",
    "        They are imported using the import statement.\n",
    "\n",
    "    Packages:\n",
    "        A package is a collection of related modules organized in a directory.\n",
    "        A package must contain an __init__.py file to be recognized as a package.\n",
    "        Packages allow for a hierarchical organization of the module namespace.\n",
    "        They are imported using the import statement with a dot notation.\n",
    "\n",
    "By using modules and packages, Python provides a powerful way to structure and manage code, making it easier to maintain, understand, and reuse.\n"
   ]
  },
  {
   "cell_type": "markdown",
   "id": "d5996907-4f5e-47b2-9b7b-28537c0af696",
   "metadata": {},
   "source": [
    "# 12. What are list and tupple? What is the key diffrence of the two?"
   ]
  },
  {
   "cell_type": "markdown",
   "id": "1411a837-b941-4f2a-bf19-2a2806495da4",
   "metadata": {},
   "source": [
    "In Python, lists and tuples are both sequence data types that can store collections of items. They have some similarities but also key differences in their properties and usage.\n",
    "Lists\n",
    "\n",
    "A list is a mutable sequence, which means that the elements inside a list can be changed (modified, added, or removed) after the list has been created. Lists are defined using square brackets [].\n",
    "Example:"
   ]
  },
  {
   "cell_type": "code",
   "execution_count": 22,
   "id": "11f0f74b-4ca1-4bc1-9aea-efe27edecba1",
   "metadata": {},
   "outputs": [
    {
     "name": "stdout",
     "output_type": "stream",
     "text": [
      "[1, 2, 10, 4, 5]\n",
      "[1, 2, 10, 4, 5, 6]\n",
      "[1, 2, 4, 5, 6]\n"
     ]
    }
   ],
   "source": [
    "# Creating a list\n",
    "my_list = [1, 2, 3, 4, 5]\n",
    "\n",
    "# Modifying an element\n",
    "my_list[2] = 10\n",
    "print(my_list)  # Output: [1, 2, 10, 4, 5]\n",
    "\n",
    "# Adding an element\n",
    "my_list.append(6)\n",
    "print(my_list)  # Output: [1, 2, 10, 4, 5, 6]\n",
    "\n",
    "# Removing an element\n",
    "my_list.remove(10)\n",
    "print(my_list)  # Output: [1, 2, 4, 5, 6]\n"
   ]
  },
  {
   "cell_type": "markdown",
   "id": "41dc4e4d-e1c1-4a51-ba5c-f1ec60672f85",
   "metadata": {},
   "source": [
    "tuples\n",
    "\n",
    "A tuple is an immutable sequence, which means that once a tuple is created, its elements cannot be changed, added, or removed. Tuples are defined using parentheses ().\n",
    "Example:"
   ]
  },
  {
   "cell_type": "code",
   "execution_count": 23,
   "id": "9689b176-c3d7-45e9-9b20-2c421b270d83",
   "metadata": {},
   "outputs": [
    {
     "name": "stdout",
     "output_type": "stream",
     "text": [
      "3\n"
     ]
    }
   ],
   "source": [
    "# Creating a tuple\n",
    "my_tuple = (1, 2, 3, 4, 5)\n",
    "\n",
    "# Trying to modify an element (will raise an error)\n",
    "# my_tuple[2] = 10  # This will raise a TypeError\n",
    "\n",
    "# Accessing elements\n",
    "print(my_tuple[2])  # Output: 3\n"
   ]
  },
  {
   "cell_type": "markdown",
   "id": "2f562ba4-4d2b-442d-a082-cec9b75eaacb",
   "metadata": {},
   "source": [
    "Key Differences\n",
    "\n",
    "    Mutability:\n",
    "        Lists: Mutable. Elements can be changed, added, or removed.\n",
    "        Tuples: Immutable. Elements cannot be changed, added, or removed after creation.\n",
    "\n",
    "    Syntax:\n",
    "        Lists: Defined using square brackets [].\n",
    "        Tuples: Defined using parentheses ().\n",
    "\n",
    "    Use Cases:\n",
    "        Lists: Used when you need a collection of items that may need to change during the lifetime of the program.\n",
    "        Tuples: Used when you need a collection of items that should remain constant and not be modified.\n",
    "\n",
    "    Performance:\n",
    "        Lists: Slower than tuples due to the overhead of mutability.\n",
    "        Tuples: Faster than lists because they are immutable and have a smaller memory footprint.\n",
    "\n",
    "    Methods:\n",
    "        Lists: Provide many built-in methods for modification such as append(), remove(), pop(), sort(), etc.\n",
    "        Tuples: Provide fewer built-in methods due to their immutability, mainly count() and index().\n",
    "\n",
    "Example Usage\n",
    "\n",
    "List Example:"
   ]
  },
  {
   "cell_type": "code",
   "execution_count": 24,
   "id": "304ab4cf-4109-4924-b4e1-56876ce89b3b",
   "metadata": {},
   "outputs": [
    {
     "name": "stdout",
     "output_type": "stream",
     "text": [
      "['apple', 'banana', 'cherry', 'date']\n",
      "['apple', 'blueberry', 'cherry', 'date']\n"
     ]
    }
   ],
   "source": [
    "# List example\n",
    "fruits = [\"apple\", \"banana\", \"cherry\"]\n",
    "fruits.append(\"date\")\n",
    "print(fruits)  # Output: ['apple', 'banana', 'cherry', 'date']\n",
    "\n",
    "fruits[1] = \"blueberry\"\n",
    "print(fruits)  # Output: ['apple', 'blueberry', 'cherry', 'date']\n"
   ]
  },
  {
   "cell_type": "markdown",
   "id": "db250770-4c8c-439a-b35f-12b521484446",
   "metadata": {},
   "source": [
    "Tuple Example:"
   ]
  },
  {
   "cell_type": "code",
   "execution_count": 26,
   "id": "836ab374-e938-4b36-b4e2-48c1a76db914",
   "metadata": {},
   "outputs": [
    {
     "name": "stdout",
     "output_type": "stream",
     "text": [
      "('red', 'green', 'blue')\n"
     ]
    }
   ],
   "source": [
    "# Tuple example\n",
    "colors = (\"red\", \"green\", \"blue\")\n",
    "print(colors)  # Output: ('red', 'green', 'blue')\n",
    "\n",
    "# Tuples cannot be modified, so the following line would raise an error\n",
    "# colors[1] = \"yellow\"  # This will raise a TypeError\n"
   ]
  },
  {
   "cell_type": "markdown",
   "id": "8d88d49a-b6d3-4683-81e7-1d34e2fb3453",
   "metadata": {},
   "source": [
    "Summary\n",
    "\n",
    "    Lists: Mutable sequences defined by [] that allow modifications.\n",
    "    Tuples: Immutable sequences defined by () that do not allow modifications.\n",
    "    Use Cases: Lists for collections that need to change, tuples for fixed collections.\n",
    "    Performance: Tuples are generally faster and have a smaller memory footprint due to immutability.\n",
    "\n",
    "Understanding the differences between lists and tuples helps in choosing the appropriate data structure for your specific use case.\n"
   ]
  },
  {
   "cell_type": "markdown",
   "id": "78bd4eba-fa7f-4c42-8e52-87b398c2e1f8",
   "metadata": {},
   "source": [
    "# 13. What is an interpreted language and dynamically type language? Write five diffreneces between them?"
   ]
  },
  {
   "cell_type": "markdown",
   "id": "35fcfcdc-ac25-48c5-a7e7-e173e40c6336",
   "metadata": {},
   "source": [
    "Interpreted Language vs. Dynamically Typed Language\n",
    "\n",
    "Interpreted Language:\n",
    "An interpreted language is a type of programming language for which most of its implementations execute instructions directly, without the need to compile the code into machine-language instructions. In other words, interpreted languages are executed by an interpreter at runtime.\n",
    "\n",
    "Dynamically Typed Language:\n",
    "A dynamically typed language is a type of programming language in which variable types are determined at runtime, rather than at compile-time. This means that you do not need to specify the type of a variable when you declare it.\n",
    "Differences Between Interpreted Languages and Dynamically Typed Languages\n",
    "\n",
    "    Definition and Scope:\n",
    "        Interpreted Language: Refers to how the language is executed (by an interpreter).\n",
    "        Dynamically Typed Language: Refers to how variable types are handled and determined.\n",
    "\n",
    "    Execution:\n",
    "        Interpreted Language: Code is executed line by line by an interpreter at runtime. Example languages include Python, Ruby, and JavaScript.\n",
    "        Dynamically Typed Language: Variable types are checked at runtime rather than at compile-time. Example languages include Python, JavaScript, and Ruby.\n",
    "\n",
    "    Performance:\n",
    "        Interpreted Language: Generally slower execution compared to compiled languages due to the overhead of interpreting code on the fly.\n",
    "        Dynamically Typed Language: Performance is not inherently tied to dynamic typing, but dynamic type checking can add overhead compared to statically typed languages.\n",
    "\n",
    "    Type Checking:\n",
    "        Interpreted Language: Does not imply any specific type checking; it can be statically or dynamically typed.\n",
    "        Dynamically Typed Language: Always performs type checking at runtime, allowing more flexibility but potentially more runtime errors.\n",
    "\n",
    "    Error Detection:\n",
    "        Interpreted Language: Syntax and some types of errors can be detected only when the code is run. Example: Running a Python script will detect syntax errors at runtime.\n",
    "        Dynamically Typed Language: Type-related errors are detected at runtime rather than at compile time. Example: Assigning a string to an integer variable will only raise an error when the code is executed.\n",
    "\n",
    "Examples of Interpreted and Dynamically Typed Languages\n",
    "\n",
    "    Interpreted Languages: Python, Ruby, JavaScript, PHP\n",
    "    Dynamically Typed Languages: Python, JavaScript, Ruby, PHP\n",
    "\n",
    "Summary\n",
    "\n",
    "Interpreted Language:\n",
    "\n",
    "    Execution model: Code executed by an interpreter at runtime.\n",
    "    Example: Python, Ruby, JavaScript.\n",
    "    Focus: How code is executed.\n",
    "\n",
    "Dynamically Typed Language:\n",
    "\n",
    "    Type system: Variable types are determined at runtime.\n",
    "    Example: Python, JavaScript, Ruby.\n",
    "    Focus: How variable types are handled.\n",
    "\n",
    "Python: An Example of Both\n",
    "\n",
    "Python is both an interpreted and a dynamically typed language. Here’s a quick demonstration:\n",
    "\n",
    "\n",
    "Interpreted Nature:"
   ]
  },
  {
   "cell_type": "code",
   "execution_count": 27,
   "id": "6cfa392b-de1a-481d-96d4-dc2266092b08",
   "metadata": {},
   "outputs": [
    {
     "name": "stdout",
     "output_type": "stream",
     "text": [
      "Hello, World!\n"
     ]
    }
   ],
   "source": [
    "# Python code can be executed line by line\n",
    "print(\"Hello, World!\")\n"
   ]
  },
  {
   "cell_type": "markdown",
   "id": "d874fcf9-2bf9-480d-b761-155f1f7d20f1",
   "metadata": {},
   "source": [
    "Dynamically Typed Nature:"
   ]
  },
  {
   "cell_type": "code",
   "execution_count": 28,
   "id": "b259d312-4501-4552-9b27-eee92e2f1e2d",
   "metadata": {},
   "outputs": [
    {
     "name": "stdout",
     "output_type": "stream",
     "text": [
      "10\n",
      "Hello\n"
     ]
    }
   ],
   "source": [
    "# Variable types are determined at runtime\n",
    "a = 10       # 'a' is an integer\n",
    "print(a)     # Output: 10\n",
    "\n",
    "a = \"Hello\"  # 'a' is now a string\n",
    "print(a)     # Output: Hello\n"
   ]
  },
  {
   "cell_type": "markdown",
   "id": "52ccb8d3-11c9-48b2-a134-719c5487c9c6",
   "metadata": {},
   "source": [
    "In summary, the terms \"interpreted language\" and \"dynamically typed language\" address different aspects of a programming language: execution model and type system, respectively. They are not mutually exclusive and often overlap, as seen with languages like Python.\n"
   ]
  },
  {
   "cell_type": "markdown",
   "id": "8a0654b3-b4e0-4131-9eda-18e94b4bd6ed",
   "metadata": {},
   "source": [
    "# 14. What are list and dict comperihensions?"
   ]
  },
  {
   "cell_type": "markdown",
   "id": "688a7e7c-50a8-484c-a2a2-029ef2029287",
   "metadata": {},
   "source": [
    "List comprehensions and dictionary comprehensions are concise ways to create lists and dictionaries in Python. They provide a syntactic sugar to generate lists and dictionaries from iterables, offering a more readable and expressive way to create these collections compared to traditional loops.\n",
    "List Comprehensions\n",
    "\n",
    "List comprehensions provide a concise way to create lists. The basic syntax of a list comprehension is:"
   ]
  },
  {
   "cell_type": "code",
   "execution_count": 29,
   "id": "c4b2cc91-69b9-4202-92cd-fa9b8e879ebc",
   "metadata": {},
   "outputs": [
    {
     "ename": "NameError",
     "evalue": "name 'iterable' is not defined",
     "output_type": "error",
     "traceback": [
      "\u001b[0;31m---------------------------------------------------------------------------\u001b[0m",
      "\u001b[0;31mNameError\u001b[0m                                 Traceback (most recent call last)",
      "Cell \u001b[0;32mIn[29], line 1\u001b[0m\n\u001b[0;32m----> 1\u001b[0m [expression \u001b[38;5;28;01mfor\u001b[39;00m item \u001b[38;5;129;01min\u001b[39;00m \u001b[43miterable\u001b[49m \u001b[38;5;28;01mif\u001b[39;00m condition]\n",
      "\u001b[0;31mNameError\u001b[0m: name 'iterable' is not defined"
     ]
    }
   ],
   "source": [
    "[expression for item in iterable if condition]\n",
    "\n"
   ]
  },
  {
   "cell_type": "markdown",
   "id": "1135ee37-594d-429b-9ba1-3c1b7e92aab2",
   "metadata": {},
   "source": [
    "    expression: The expression that is evaluated and added to the list.\n",
    "    item: The variable representing each item in the iterable.\n",
    "    iterable: The collection to iterate over.\n",
    "    condition (optional): A filter that determines whether the expression should be included in the list.\n",
    "\n",
    "Example:\n",
    "\n",
    "Create a list of squares for numbers from 0 to 9:"
   ]
  },
  {
   "cell_type": "code",
   "execution_count": 32,
   "id": "76f75921-7e8e-420d-a16e-111cd9d56ca9",
   "metadata": {},
   "outputs": [
    {
     "name": "stdout",
     "output_type": "stream",
     "text": [
      "[0, 1, 4, 9, 16, 25, 36, 49, 64, 81]\n"
     ]
    }
   ],
   "source": [
    "squares = [x**2 for x in range(10)]\n",
    "print(squares)  # Output: [0, 1, 4, 9, 16, 25, 36, 49, 64, 81]\n"
   ]
  },
  {
   "cell_type": "markdown",
   "id": "a253bb2f-c64a-4cd7-98ed-1ab3a7b54f33",
   "metadata": {},
   "source": [
    "With a condition:"
   ]
  },
  {
   "cell_type": "code",
   "execution_count": 31,
   "id": "8955b414-9a83-4b64-9822-48e6401c63e0",
   "metadata": {},
   "outputs": [
    {
     "name": "stdout",
     "output_type": "stream",
     "text": [
      "[0, 4, 16, 36, 64]\n"
     ]
    }
   ],
   "source": [
    "even_squares = [x**2 for x in range(10) if x % 2 == 0]\n",
    "print(even_squares)  # Output: [0, 4, 16, 36, 64]\n"
   ]
  },
  {
   "cell_type": "markdown",
   "id": "d55e33f6-4f9b-440b-ada7-e68f369bea28",
   "metadata": {},
   "source": [
    "Dictionary Comprehensions\n",
    "\n",
    "Dictionary comprehensions provide a similar concise way to create dictionaries. The basic syntax of a dictionary comprehension is:"
   ]
  },
  {
   "cell_type": "markdown",
   "id": "81c697ef-dd75-4158-8c18-a948762af489",
   "metadata": {},
   "source": [
    "{key_expression: value_expression for item in iterable if condition}\n"
   ]
  },
  {
   "cell_type": "markdown",
   "id": "a010c508-ea39-44e5-891e-a5ef01afd708",
   "metadata": {},
   "source": [
    "    key_expression: The expression that represents the key.\n",
    "    value_expression: The expression that represents the value.\n",
    "    item: The variable representing each item in the iterable.\n",
    "    iterable: The collection to iterate over.\n",
    "    condition (optional): A filter that determines whether the key-value pair should be included in the dictionary.\n",
    "\n",
    "Example:\n",
    "\n",
    "Create a dictionary where keys are numbers from 0 to 9 and values are their squares:"
   ]
  },
  {
   "cell_type": "code",
   "execution_count": 34,
   "id": "33a65d4b-81da-4d56-91bd-c57fd6bb14fc",
   "metadata": {},
   "outputs": [
    {
     "name": "stdout",
     "output_type": "stream",
     "text": [
      "{0: 0, 1: 1, 2: 4, 3: 9, 4: 16, 5: 25, 6: 36, 7: 49, 8: 64, 9: 81}\n"
     ]
    }
   ],
   "source": [
    "squares_dict = {x: x**2 for x in range(10)}\n",
    "print(squares_dict)  # Output: {0: 0, 1: 1, 2: 4, 3: 9, 4: 16, 5: 25, 6: 36, 7: 49, 8: 64, 9: 81}\n"
   ]
  },
  {
   "cell_type": "markdown",
   "id": "c82c980f-bb69-445b-83d6-7326ce92e6b5",
   "metadata": {},
   "source": [
    "With a condition:"
   ]
  },
  {
   "cell_type": "code",
   "execution_count": 35,
   "id": "e1eb8f61-6ec8-4fc0-badb-d3ccfae81dcf",
   "metadata": {},
   "outputs": [
    {
     "name": "stdout",
     "output_type": "stream",
     "text": [
      "{0: 0, 2: 4, 4: 16, 6: 36, 8: 64}\n"
     ]
    }
   ],
   "source": [
    "even_squares_dict = {x: x**2 for x in range(10) if x % 2 == 0}\n",
    "print(even_squares_dict)  # Output: {0: 0, 2: 4, 4: 16, 6: 36, 8: 64}\n"
   ]
  },
  {
   "cell_type": "markdown",
   "id": "7c63df2e-e65f-414f-8c5b-687bfa1a0e8c",
   "metadata": {},
   "source": [
    "Comparison with Traditional Loops\n",
    "\n",
    "Using a traditional loop to create a list:"
   ]
  },
  {
   "cell_type": "code",
   "execution_count": 36,
   "id": "182169d1-2c08-4f04-a597-f406735f5124",
   "metadata": {},
   "outputs": [
    {
     "name": "stdout",
     "output_type": "stream",
     "text": [
      "[0, 1, 4, 9, 16, 25, 36, 49, 64, 81]\n"
     ]
    }
   ],
   "source": [
    "squares = []\n",
    "for x in range(10):\n",
    "    squares.append(x**2)\n",
    "print(squares)  # Output: [0, 1, 4, 9, 16, 25, 36, 49, 64, 81]\n"
   ]
  },
  {
   "cell_type": "markdown",
   "id": "e9591400-df02-4df6-be95-6fccd02d2b6c",
   "metadata": {},
   "source": [
    "Using a traditional loop to create a dictionary:"
   ]
  },
  {
   "cell_type": "code",
   "execution_count": 37,
   "id": "27e9bd1f-3845-4f2e-aa24-174be0d8e6b6",
   "metadata": {},
   "outputs": [
    {
     "name": "stdout",
     "output_type": "stream",
     "text": [
      "{0: 0, 1: 1, 2: 4, 3: 9, 4: 16, 5: 25, 6: 36, 7: 49, 8: 64, 9: 81}\n"
     ]
    }
   ],
   "source": [
    "squares_dict = {}\n",
    "for x in range(10):\n",
    "    squares_dict[x] = x**2\n",
    "print(squares_dict)  # Output: {0: 0, 1: 1, 2: 4, 3: 9, 4: 16, 5: 25, 6: 36, 7: 49, 8: 64, 9: 81}\n"
   ]
  },
  {
   "cell_type": "markdown",
   "id": "d9fb3b40-1fd3-4139-8c00-da1a81c36321",
   "metadata": {},
   "source": [
    "Summary\n",
    "\n",
    "    List Comprehensions: Provide a concise way to create lists using a single line of code.\n",
    "    Dictionary Comprehensions: Provide a concise way to create dictionaries using a single line of code.\n",
    "    Syntax: [expression for item in iterable if condition] for lists and {key_expression: value_expression for item in iterable if condition} for dictionaries.\n",
    "    Benefits: More readable, concise, and often faster than traditional loops for creating lists and dictionaries."
   ]
  },
  {
   "cell_type": "markdown",
   "id": "2d3f8a11-ad04-492c-9ae1-6c8b836f01cf",
   "metadata": {},
   "source": [
    "# 15. What are decorators in python? Explain it with an examples.write downs its use cases."
   ]
  },
  {
   "cell_type": "markdown",
   "id": "fa1eac60-14ce-4a69-a945-ea6266d4db6d",
   "metadata": {},
   "source": [
    "In Python, decorators are a powerful and flexible way to modify or extend the behavior of functions or methods without changing their actual code. Decorators are functions that take another function (or method) as an argument and return a new function that enhances or modifies the original one.\n",
    "How Decorators Work\n",
    "\n",
    "A decorator is applied to a function using the @decorator_name syntax just above the function definition. This is syntactic sugar for passing the function to the decorator function.\n",
    "Basic Decorator Example\n",
    "\n",
    "Here's a simple example of a decorator that prints a message before and after the execution of a function:"
   ]
  },
  {
   "cell_type": "code",
   "execution_count": 38,
   "id": "3dd46bd8-9108-4e8a-89e4-17df66ffad8c",
   "metadata": {},
   "outputs": [
    {
     "name": "stdout",
     "output_type": "stream",
     "text": [
      "Something is happening before the function is called.\n",
      "Hello!\n",
      "Something is happening after the function is called.\n"
     ]
    }
   ],
   "source": [
    "def my_decorator(func):\n",
    "    def wrapper():\n",
    "        print(\"Something is happening before the function is called.\")\n",
    "        func()\n",
    "        print(\"Something is happening after the function is called.\")\n",
    "    return wrapper\n",
    "\n",
    "@my_decorator\n",
    "def say_hello():\n",
    "    print(\"Hello!\")\n",
    "\n",
    "say_hello()\n"
   ]
  },
  {
   "cell_type": "markdown",
   "id": "7550f4c4-fcfe-4f4d-b260-8e12ed46de4e",
   "metadata": {},
   "source": [
    "In this example:\n",
    "\n",
    "    my_decorator is the decorator function.\n",
    "    wrapper is the new function that enhances the behavior of say_hello.\n",
    "    The @my_decorator syntax is equivalent to say_hello = my_decorator(say_hello).\n",
    "\n",
    "Use Cases for Decorators\n",
    "\n",
    "   1. Logging:\n",
    "   \n",
    "    Decorators can be used to log function calls, arguments, and return values."
   ]
  },
  {
   "cell_type": "code",
   "execution_count": 40,
   "id": "40d233da-6ad9-4151-b45c-d7a1a45ed9af",
   "metadata": {},
   "outputs": [
    {
     "name": "stdout",
     "output_type": "stream",
     "text": [
      "Calling add with (2, 3) and {}\n",
      "add returned 5\n"
     ]
    },
    {
     "data": {
      "text/plain": [
       "5"
      ]
     },
     "execution_count": 40,
     "metadata": {},
     "output_type": "execute_result"
    }
   ],
   "source": [
    "def log_decorator(func):\n",
    "    def wrapper(*args, **kwargs):\n",
    "        print(f\"Calling {func.__name__} with {args} and {kwargs}\")\n",
    "        result = func(*args, **kwargs)\n",
    "        print(f\"{func.__name__} returned {result}\")\n",
    "        return result\n",
    "    return wrapper\n",
    "\n",
    "@log_decorator\n",
    "def add(a, b):\n",
    "    return a + b\n",
    "\n",
    "add(2, 3)\n"
   ]
  },
  {
   "cell_type": "markdown",
   "id": "f51be503-11cb-441c-a402-fc0a7d81bce6",
   "metadata": {},
   "source": [
    "2. Access Control / Authentication:\n",
    "Decorators can be used to restrict access to certain functions based on user roles or permissions."
   ]
  },
  {
   "cell_type": "code",
   "execution_count": 42,
   "id": "4a4e4a80-36c2-44ee-856c-ce065e06a8cb",
   "metadata": {},
   "outputs": [
    {
     "name": "stdout",
     "output_type": "stream",
     "text": [
      "User 123 deleted by admin\n",
      "Permission denied\n"
     ]
    }
   ],
   "source": [
    "def requires_permission(permission):\n",
    "    def decorator(func):\n",
    "        def wrapper(user, *args, **kwargs):\n",
    "            if user.has_permission(permission):\n",
    "                return func(user, *args, **kwargs)\n",
    "            else:\n",
    "                print(\"Permission denied\")\n",
    "        return wrapper\n",
    "    return decorator\n",
    "\n",
    "class User:\n",
    "    def __init__(self, name, permissions):\n",
    "        self.name = name\n",
    "        self.permissions = permissions\n",
    "\n",
    "    def has_permission(self, permission):\n",
    "        return permission in self.permissions\n",
    "\n",
    "@requires_permission(\"admin\")\n",
    "def delete_user(user, user_id):\n",
    "    print(f\"User {user_id} deleted by {user.name}\")\n",
    "\n",
    "admin_user = User(\"admin\", [\"admin\"])\n",
    "regular_user = User(\"user\", [])\n",
    "\n",
    "delete_user(admin_user, 123)   # Output: User 123 deleted by admin\n",
    "delete_user(regular_user, 123) # Output: Permission denied\n"
   ]
  },
  {
   "cell_type": "markdown",
   "id": "338f78e7-81fd-4fcd-8199-015c10c4f250",
   "metadata": {},
   "source": [
    "3. Caching / Memoization:\n",
    "Decorators can be used to cache the results of expensive function calls and return the cached result when the same inputs occur again."
   ]
  },
  {
   "cell_type": "code",
   "execution_count": 43,
   "id": "134f3f01-84a1-446e-8eda-ed19c8a53c51",
   "metadata": {},
   "outputs": [
    {
     "name": "stdout",
     "output_type": "stream",
     "text": [
      "55\n"
     ]
    }
   ],
   "source": [
    "def memoize(func):\n",
    "    cache = {}\n",
    "    def wrapper(*args):\n",
    "        if args in cache:\n",
    "            return cache[args]\n",
    "        result = func(*args)\n",
    "        cache[args] = result\n",
    "        return result\n",
    "    return wrapper\n",
    "\n",
    "@memoize\n",
    "def fibonacci(n):\n",
    "    if n in [0, 1]:\n",
    "        return n\n",
    "    return fibonacci(n - 1) + fibonacci(n - 2)\n",
    "\n",
    "print(fibonacci(10))  # Output: 55\n"
   ]
  },
  {
   "cell_type": "markdown",
   "id": "ea2f87f2-06a4-4ce0-942b-b3ab57cd9b7a",
   "metadata": {},
   "source": [
    "4. Timing:\n",
    "Decorators can be used to measure the time taken by a function to execute."
   ]
  },
  {
   "cell_type": "code",
   "execution_count": 46,
   "id": "30006317-7d81-466c-9e28-09d4af0f0353",
   "metadata": {},
   "outputs": [
    {
     "name": "stdout",
     "output_type": "stream",
     "text": [
      "slow_function took 2.0006606578826904 seconds to execute\n"
     ]
    },
    {
     "data": {
      "text/plain": [
       "'Finished'"
      ]
     },
     "execution_count": 46,
     "metadata": {},
     "output_type": "execute_result"
    }
   ],
   "source": [
    "import time\n",
    "\n",
    "def timing_decorator(func):\n",
    "    def wrapper(*args, **kwargs):\n",
    "        start_time = time.time()\n",
    "        result = func(*args, **kwargs)\n",
    "        end_time = time.time()\n",
    "        print(f\"{func.__name__} took {end_time - start_time} seconds to execute\")\n",
    "        return result\n",
    "    return wrapper\n",
    "\n",
    "@timing_decorator\n",
    "def slow_function():\n",
    "    time.sleep(2)\n",
    "    return \"Finished\"\n",
    "\n",
    "slow_function()  # Output: slow_function took 2.002345561981201 seconds to execute\n"
   ]
  },
  {
   "cell_type": "markdown",
   "id": "6e3a1500-647d-464b-8bf3-ab560a95a835",
   "metadata": {},
   "source": [
    "5. Validation:\n",
    "Decorators can be used to validate inputs to a function before processing them."
   ]
  },
  {
   "cell_type": "code",
   "execution_count": 47,
   "id": "05a0882b-e905-4c4e-b094-45cdb29f8b11",
   "metadata": {},
   "outputs": [
    {
     "name": "stdout",
     "output_type": "stream",
     "text": [
      "8\n"
     ]
    },
    {
     "ename": "ValueError",
     "evalue": "Negative values are not allowed",
     "output_type": "error",
     "traceback": [
      "\u001b[0;31m---------------------------------------------------------------------------\u001b[0m",
      "\u001b[0;31mValueError\u001b[0m                                Traceback (most recent call last)",
      "Cell \u001b[0;32mIn[47], line 13\u001b[0m\n\u001b[1;32m     10\u001b[0m     \u001b[38;5;28;01mreturn\u001b[39;00m a \u001b[38;5;241m+\u001b[39m b\n\u001b[1;32m     12\u001b[0m \u001b[38;5;28mprint\u001b[39m(sum_positive_numbers(\u001b[38;5;241m5\u001b[39m, \u001b[38;5;241m3\u001b[39m))  \u001b[38;5;66;03m# Output: 8\u001b[39;00m\n\u001b[0;32m---> 13\u001b[0m \u001b[38;5;28mprint\u001b[39m(\u001b[43msum_positive_numbers\u001b[49m\u001b[43m(\u001b[49m\u001b[38;5;241;43m-\u001b[39;49m\u001b[38;5;241;43m5\u001b[39;49m\u001b[43m,\u001b[49m\u001b[43m \u001b[49m\u001b[38;5;241;43m3\u001b[39;49m\u001b[43m)\u001b[49m) \u001b[38;5;66;03m# Raises ValueError: Negative values are not allowed\u001b[39;00m\n",
      "Cell \u001b[0;32mIn[47], line 4\u001b[0m, in \u001b[0;36mvalidate_non_negative.<locals>.wrapper\u001b[0;34m(*args, **kwargs)\u001b[0m\n\u001b[1;32m      2\u001b[0m \u001b[38;5;28;01mdef\u001b[39;00m \u001b[38;5;21mwrapper\u001b[39m(\u001b[38;5;241m*\u001b[39margs, \u001b[38;5;241m*\u001b[39m\u001b[38;5;241m*\u001b[39mkwargs):\n\u001b[1;32m      3\u001b[0m     \u001b[38;5;28;01mif\u001b[39;00m \u001b[38;5;28many\u001b[39m(arg \u001b[38;5;241m<\u001b[39m \u001b[38;5;241m0\u001b[39m \u001b[38;5;28;01mfor\u001b[39;00m arg \u001b[38;5;129;01min\u001b[39;00m args \u001b[38;5;28;01mif\u001b[39;00m \u001b[38;5;28misinstance\u001b[39m(arg, (\u001b[38;5;28mint\u001b[39m, \u001b[38;5;28mfloat\u001b[39m))):\n\u001b[0;32m----> 4\u001b[0m         \u001b[38;5;28;01mraise\u001b[39;00m \u001b[38;5;167;01mValueError\u001b[39;00m(\u001b[38;5;124m\"\u001b[39m\u001b[38;5;124mNegative values are not allowed\u001b[39m\u001b[38;5;124m\"\u001b[39m)\n\u001b[1;32m      5\u001b[0m     \u001b[38;5;28;01mreturn\u001b[39;00m func(\u001b[38;5;241m*\u001b[39margs, \u001b[38;5;241m*\u001b[39m\u001b[38;5;241m*\u001b[39mkwargs)\n",
      "\u001b[0;31mValueError\u001b[0m: Negative values are not allowed"
     ]
    }
   ],
   "source": [
    "def validate_non_negative(func):\n",
    "    def wrapper(*args, **kwargs):\n",
    "        if any(arg < 0 for arg in args if isinstance(arg, (int, float))):\n",
    "            raise ValueError(\"Negative values are not allowed\")\n",
    "        return func(*args, **kwargs)\n",
    "    return wrapper\n",
    "\n",
    "@validate_non_negative\n",
    "def sum_positive_numbers(a, b):\n",
    "    return a + b\n",
    "\n",
    "print(sum_positive_numbers(5, 3))  # Output: 8\n",
    "print(sum_positive_numbers(-5, 3)) # Raises ValueError: Negative values are not allowed\n"
   ]
  },
  {
   "cell_type": "markdown",
   "id": "a07198db-d18d-4e93-8abf-e76355c87c46",
   "metadata": {},
   "source": [
    "Summary\n",
    "\n",
    "    Decorators are functions that modify the behavior of other functions or methods.\n",
    "    They are applied using the @decorator_name syntax.\n",
    "    Common use cases include logging, access control, caching, timing, and validation.\n",
    "    Decorators enhance code readability and reusability by separating concerns.\n",
    "\n",
    "Understanding and using decorators can significantly improve the organization and functionality of your code."
   ]
  },
  {
   "cell_type": "markdown",
   "id": "8f53a226-0ff8-4f50-ad0f-8493ab867035",
   "metadata": {},
   "source": [
    "# 16. How is memory managed in python?"
   ]
  },
  {
   "cell_type": "markdown",
   "id": "f4debba8-0a9a-4ca1-8178-ba02b7c227c8",
   "metadata": {},
   "source": [
    "Memory management in Python involves a combination of techniques to efficiently allocate, use, and reclaim memory. Python abstracts most of the memory management complexities from the user, but it's still essential to understand how it works under the hood. Here are the key components and techniques involved in Python's memory management:\n",
    "1. Object Allocation\n",
    "\n",
    "In Python, memory allocation for objects is handled by the Python memory manager. This process includes:\n",
    "\n",
    "    Heap Memory: Python objects and data structures are stored in a private heap space managed by the Python memory manager.\n",
    "    Object-Specific Allocators: Python has object-specific allocators for managing the memory of certain types of objects, such as integers, strings, and dictionaries.\n",
    "\n",
    "2. Reference Counting\n",
    "\n",
    "Python primarily uses reference counting to keep track of objects in memory. Each object has a reference count that tracks the number of references pointing to it.\n",
    "\n",
    "    When a new reference is created to an object, the reference count is incremented.\n",
    "    When a reference is deleted, the reference count is decremented.\n",
    "    When the reference count drops to zero, the memory occupied by the object is deallocated.\n",
    "\n",
    "Example:"
   ]
  },
  {
   "cell_type": "code",
   "execution_count": 1,
   "id": "0d91c358-ed6e-4869-9b91-c01b597ec07a",
   "metadata": {},
   "outputs": [],
   "source": [
    "a = [1, 2, 3]  # Reference count of the list object is 1\n",
    "b = a          # Reference count of the list object is 2\n",
    "del a          # Reference count of the list object is 1\n",
    "del b          # Reference count of the list object is 0, memory is deallocated\n"
   ]
  },
  {
   "cell_type": "markdown",
   "id": "4f218a02-9b5e-495a-a517-83eabbb45b56",
   "metadata": {},
   "source": [
    "3. Garbage Collection\n",
    "\n",
    "In addition to reference counting, Python has a cyclic garbage collector to handle cyclic references (objects referencing each other).\n",
    "\n",
    "    The garbage collector periodically searches for and collects cycles of objects that are no longer reachable.\n",
    "    It uses a technique called \"generational garbage collection\" which categorizes objects into generations based on their lifespan.\n",
    "\n",
    "4. Generational Garbage Collection\n",
    "\n",
    "Python's garbage collector divides objects into three generations (0, 1, and 2). Younger generations are collected more frequently than older generations. This technique improves efficiency by focusing on objects that are most likely to become unreachable quickly.\n",
    "\n",
    "    Generation 0: Newly created objects.\n",
    "    Generation 1: Objects that have survived one collection.\n",
    "    Generation 2: Objects that have survived multiple collections.\n",
    "\n",
    "The garbage collector triggers collection for a generation when the number of allocations minus the number of deallocations exceeds a certain threshold.\n",
    "5. Memory Pools and Arenas\n",
    "\n",
    "Python uses a system of memory pools and arenas to manage memory allocation for small objects (less than 512 bytes).\n",
    "\n",
    "    Pools: Memory pools are blocks of memory that are pre-allocated for objects of a specific size. Each pool can serve multiple objects of the same size class.\n",
    "    Arenas: Pools are allocated within larger memory blocks called arenas. An arena is a contiguous block of memory that is divided into pools.\n",
    "\n",
    "6. Memory Optimization Techniques\n",
    "\n",
    "Python employs various memory optimization techniques to reduce memory usage and improve performance:\n",
    "\n",
    "    Interning: Small integers and strings are interned (cached), meaning that multiple references to the same value point to the same memory location.\n",
    "    Object Reuse: Frequently used objects, such as small integers and empty containers, are reused to save memory and improve speed.\n",
    "\n",
    "7. Manual Memory Management\n",
    "\n",
    "While Python abstracts most memory management tasks, developers can still manually manage memory to some extent:\n",
    "\n",
    "    Explicit Deallocation: Using the del statement to delete objects and reduce reference counts.\n",
    "    Weak References: Using the weakref module to create weak references that do not increase the reference count of an object, helping avoid reference cycles.\n",
    "\n",
    "Example of Cyclic Garbage Collection:"
   ]
  },
  {
   "cell_type": "code",
   "execution_count": 2,
   "id": "91996d0d-4476-4fc2-8fc5-bffb9ad6ec35",
   "metadata": {},
   "outputs": [
    {
     "data": {
      "text/plain": [
       "39"
      ]
     },
     "execution_count": 2,
     "metadata": {},
     "output_type": "execute_result"
    }
   ],
   "source": [
    "import gc\n",
    "\n",
    "class Node:\n",
    "    def __init__(self, value):\n",
    "        self.value = value\n",
    "        self.next = None\n",
    "\n",
    "# Creating a cycle\n",
    "a = Node(1)\n",
    "b = Node(2)\n",
    "a.next = b\n",
    "b.next = a\n",
    "\n",
    "# Breaking the reference\n",
    "a = None\n",
    "b = None\n",
    "\n",
    "# Forcing garbage collection\n",
    "gc.collect()\n"
   ]
  },
  {
   "cell_type": "markdown",
   "id": "e96b816d-2d9a-4c0a-be52-22a54beaae48",
   "metadata": {},
   "source": [
    "Summary\n",
    "\n",
    "Python's memory management involves a combination of:\n",
    "\n",
    "    Reference Counting: Automatically tracking and deallocating objects when they are no longer needed.\n",
    "    Garbage Collection: Handling cyclic references through generational garbage collection.\n",
    "    Memory Pools and Arenas: Efficiently managing memory allocation for small objects.\n",
    "    Optimization Techniques: Reducing memory usage through interning and object reuse.\n",
    "\n",
    "Understanding these mechanisms helps developers write more efficient and memory-friendly Python code."
   ]
  },
  {
   "cell_type": "markdown",
   "id": "1ea09067-74d4-4b62-b745-733fd258b735",
   "metadata": {},
   "source": [
    "# 17. What is lambda in python? Why is it used?\n"
   ]
  },
  {
   "cell_type": "markdown",
   "id": "0d524c53-3577-44ce-9611-0cfb80e9f651",
   "metadata": {},
   "source": [
    "In Python, a lambda function is a small, anonymous function defined with the lambda keyword. It can have any number of arguments but can only contain a single expression. The expression is evaluated and returned. Lambda functions are often used for short, throwaway functions that are not needed beyond a single use or for functions that are passed as arguments to higher-order functions.\n",
    "Syntax of Lambda Functions\n",
    "\n",
    "The syntax of a lambda function is:"
   ]
  },
  {
   "cell_type": "code",
   "execution_count": 3,
   "id": "75c91d0f-ba13-4250-b961-2dcacd5403c2",
   "metadata": {},
   "outputs": [
    {
     "data": {
      "text/plain": [
       "<function __main__.<lambda>(arguments)>"
      ]
     },
     "execution_count": 3,
     "metadata": {},
     "output_type": "execute_result"
    }
   ],
   "source": [
    "lambda arguments: expression\n"
   ]
  },
  {
   "cell_type": "markdown",
   "id": "114f132e-a28c-4009-9376-01d9bb9b5317",
   "metadata": {},
   "source": [
    "    lambda: The keyword used to define a lambda function.\n",
    "    arguments: A comma-separated list of arguments.\n",
    "    expression: A single expression that is evaluated and returned.\n",
    "\n",
    "Example of Lambda Function\n",
    "\n",
    "Here's a simple example of a lambda function that adds two numbers:"
   ]
  },
  {
   "cell_type": "code",
   "execution_count": 6,
   "id": "d9bd631c-0b83-4629-a8c2-77d47ec52e6d",
   "metadata": {},
   "outputs": [
    {
     "name": "stdout",
     "output_type": "stream",
     "text": [
      "8\n"
     ]
    }
   ],
   "source": [
    "add = lambda x, y: x + y\n",
    "print(add(3, 5))  # Output: 8\n"
   ]
  },
  {
   "cell_type": "markdown",
   "id": "2bc9e714-303d-45ad-b6af-3288cb64d5ee",
   "metadata": {},
   "source": [
    "Why Lambda Functions Are Used\n",
    "\n",
    "    Conciseness: Lambda functions provide a way to write quick, simple functions without the need to formally define a function using the def keyword.\n",
    "    Functional Programming: They are often used in functional programming constructs like map(), filter(), and reduce().\n",
    "    Inline Usage: Lambdas are useful for creating small, throwaway functions that are used only once or for a short duration.\n",
    "    Higher-Order Functions: They are convenient for passing small functions as arguments to higher-order functions, which are functions that take other functions as arguments.\n",
    "\n",
    "1. Use Cases of Lambda Functions\n",
    "\n",
    "    Using Lambda with map():\n",
    "    The map() function applies a given function to all items in an iterable and returns a map object (an iterator)."
   ]
  },
  {
   "cell_type": "code",
   "execution_count": 5,
   "id": "a0b1b4a4-2705-4ad4-aade-d39b676a28bd",
   "metadata": {},
   "outputs": [
    {
     "name": "stdout",
     "output_type": "stream",
     "text": [
      "[1, 4, 9, 16, 25]\n"
     ]
    }
   ],
   "source": [
    "numbers = [1, 2, 3, 4, 5]\n",
    "squares = map(lambda x: x**2, numbers)\n",
    "print(list(squares))  # Output: [1, 4, 9, 16, 25]\n"
   ]
  },
  {
   "cell_type": "markdown",
   "id": "630c2eec-72f3-4715-96da-c3a3143e6381",
   "metadata": {},
   "source": [
    "2.Using Lambda with filter():\n",
    "The filter() function constructs an iterator from elements of an iterable for which a function returns true."
   ]
  },
  {
   "cell_type": "code",
   "execution_count": 7,
   "id": "c29efc19-ff16-4329-9bde-5380cd68c1fa",
   "metadata": {},
   "outputs": [
    {
     "name": "stdout",
     "output_type": "stream",
     "text": [
      "[2, 4, 6]\n"
     ]
    }
   ],
   "source": [
    "numbers = [1, 2, 3, 4, 5, 6]\n",
    "even_numbers = filter(lambda x: x % 2 == 0, numbers)\n",
    "print(list(even_numbers))  # Output: [2, 4, 6]\n"
   ]
  },
  {
   "cell_type": "markdown",
   "id": "b3b98786-4048-4fd7-87dd-b23a1ebab141",
   "metadata": {},
   "source": [
    "3. Using Lambda with sorted():\n",
    "The sorted() function returns a new sorted list from the items in an iterable. Lambdas are often used to provide the key function."
   ]
  },
  {
   "cell_type": "code",
   "execution_count": 9,
   "id": "f561df5b-f487-410d-b617-c55a6a186bbb",
   "metadata": {},
   "outputs": [
    {
     "name": "stdout",
     "output_type": "stream",
     "text": [
      "[(4, 1), (1, 2), (2, 3)]\n"
     ]
    }
   ],
   "source": [
    "points = [(2, 3), (1, 2), (4, 1)]\n",
    "sorted_points = sorted(points, key=lambda x: x[1])\n",
    "print(sorted_points)  # Output: [(4, 1), (1, 2), (2, 3)]\n"
   ]
  },
  {
   "cell_type": "markdown",
   "id": "f7cb6438-b536-4834-b5cf-fe7d5e3ec6ee",
   "metadata": {},
   "source": [
    "Using Lambda with reduce():\n",
    "The reduce() function from the functools module applies a rolling computation to sequential pairs of values in a list."
   ]
  },
  {
   "cell_type": "code",
   "execution_count": 10,
   "id": "22fdabdc-1fe1-4863-972c-42698979583a",
   "metadata": {},
   "outputs": [
    {
     "name": "stdout",
     "output_type": "stream",
     "text": [
      "120\n"
     ]
    }
   ],
   "source": [
    "from functools import reduce\n",
    "\n",
    "numbers = [1, 2, 3, 4, 5]\n",
    "product = reduce(lambda x, y: x * y, numbers)\n",
    "print(product)  # Output: 120\n"
   ]
  },
  {
   "cell_type": "markdown",
   "id": "39fff99b-688c-4d64-a392-2db4b24df31d",
   "metadata": {},
   "source": [
    "Using Lambda for Event Handling:\n",
    "Lambdas are often used in GUI applications to handle events in a concise manner."
   ]
  },
  {
   "cell_type": "code",
   "execution_count": 11,
   "id": "b1773d14-79f7-46e0-82ed-bc7ec60c36b7",
   "metadata": {},
   "outputs": [
    {
     "ename": "TclError",
     "evalue": "no display name and no $DISPLAY environment variable",
     "output_type": "error",
     "traceback": [
      "\u001b[0;31m---------------------------------------------------------------------------\u001b[0m",
      "\u001b[0;31mTclError\u001b[0m                                  Traceback (most recent call last)",
      "Cell \u001b[0;32mIn[11], line 3\u001b[0m\n\u001b[1;32m      1\u001b[0m \u001b[38;5;28;01mimport\u001b[39;00m \u001b[38;5;21;01mtkinter\u001b[39;00m \u001b[38;5;28;01mas\u001b[39;00m \u001b[38;5;21;01mtk\u001b[39;00m\n\u001b[0;32m----> 3\u001b[0m root \u001b[38;5;241m=\u001b[39m \u001b[43mtk\u001b[49m\u001b[38;5;241;43m.\u001b[39;49m\u001b[43mTk\u001b[49m\u001b[43m(\u001b[49m\u001b[43m)\u001b[49m\n\u001b[1;32m      4\u001b[0m button \u001b[38;5;241m=\u001b[39m tk\u001b[38;5;241m.\u001b[39mButton(root, text\u001b[38;5;241m=\u001b[39m\u001b[38;5;124m\"\u001b[39m\u001b[38;5;124mClick Me\u001b[39m\u001b[38;5;124m\"\u001b[39m, command\u001b[38;5;241m=\u001b[39m\u001b[38;5;28;01mlambda\u001b[39;00m: \u001b[38;5;28mprint\u001b[39m(\u001b[38;5;124m\"\u001b[39m\u001b[38;5;124mButton Clicked\u001b[39m\u001b[38;5;124m\"\u001b[39m))\n\u001b[1;32m      5\u001b[0m button\u001b[38;5;241m.\u001b[39mpack()\n",
      "File \u001b[0;32m/opt/conda/lib/python3.10/tkinter/__init__.py:2299\u001b[0m, in \u001b[0;36mTk.__init__\u001b[0;34m(self, screenName, baseName, className, useTk, sync, use)\u001b[0m\n\u001b[1;32m   2297\u001b[0m         baseName \u001b[38;5;241m=\u001b[39m baseName \u001b[38;5;241m+\u001b[39m ext\n\u001b[1;32m   2298\u001b[0m interactive \u001b[38;5;241m=\u001b[39m \u001b[38;5;28;01mFalse\u001b[39;00m\n\u001b[0;32m-> 2299\u001b[0m \u001b[38;5;28mself\u001b[39m\u001b[38;5;241m.\u001b[39mtk \u001b[38;5;241m=\u001b[39m \u001b[43m_tkinter\u001b[49m\u001b[38;5;241;43m.\u001b[39;49m\u001b[43mcreate\u001b[49m\u001b[43m(\u001b[49m\u001b[43mscreenName\u001b[49m\u001b[43m,\u001b[49m\u001b[43m \u001b[49m\u001b[43mbaseName\u001b[49m\u001b[43m,\u001b[49m\u001b[43m \u001b[49m\u001b[43mclassName\u001b[49m\u001b[43m,\u001b[49m\u001b[43m \u001b[49m\u001b[43minteractive\u001b[49m\u001b[43m,\u001b[49m\u001b[43m \u001b[49m\u001b[43mwantobjects\u001b[49m\u001b[43m,\u001b[49m\u001b[43m \u001b[49m\u001b[43museTk\u001b[49m\u001b[43m,\u001b[49m\u001b[43m \u001b[49m\u001b[43msync\u001b[49m\u001b[43m,\u001b[49m\u001b[43m \u001b[49m\u001b[43muse\u001b[49m\u001b[43m)\u001b[49m\n\u001b[1;32m   2300\u001b[0m \u001b[38;5;28;01mif\u001b[39;00m useTk:\n\u001b[1;32m   2301\u001b[0m     \u001b[38;5;28mself\u001b[39m\u001b[38;5;241m.\u001b[39m_loadtk()\n",
      "\u001b[0;31mTclError\u001b[0m: no display name and no $DISPLAY environment variable"
     ]
    }
   ],
   "source": [
    "import tkinter as tk\n",
    "\n",
    "root = tk.Tk()\n",
    "button = tk.Button(root, text=\"Click Me\", command=lambda: print(\"Button Clicked\"))\n",
    "button.pack()\n",
    "root.mainloop()\n"
   ]
  },
  {
   "cell_type": "markdown",
   "id": "e98e10bc-557b-47e7-b52c-ff83947e2486",
   "metadata": {},
   "source": [
    "Summary\n",
    "\n",
    "    Lambda functions are small, anonymous functions defined using the lambda keyword.\n",
    "    Conciseness: They provide a concise way to define simple functions.\n",
    "    Functional Programming: Useful in functional programming constructs like map(), filter(), and reduce().\n",
    "    Inline Usage: Ideal for creating small, throwaway functions used only once.\n",
    "    Higher-Order Functions: Convenient for passing as arguments to higher-order functions."
   ]
  },
  {
   "cell_type": "markdown",
   "id": "34393d58-3375-4e1f-953d-ba475d79befa",
   "metadata": {},
   "source": [
    "# 18. Explain split() and join() function in python."
   ]
  },
  {
   "cell_type": "markdown",
   "id": "ab39cecd-fe3c-4bd3-b4e3-a28fc3c4c275",
   "metadata": {},
   "source": [
    "The split() and join() functions in Python are used to manipulate strings. These functions are commonly used for breaking down strings into lists and combining lists into strings, respectively.\n",
    "split() Function\n",
    "\n",
    "The split() function is used to split a string into a list of substrings based on a specified delimiter. If no delimiter is specified, it defaults to whitespace (spaces, tabs, newlines).\n",
    "Syntax"
   ]
  },
  {
   "cell_type": "code",
   "execution_count": 12,
   "id": "4ab2047f-4f99-4330-92f3-834c22bdb781",
   "metadata": {},
   "outputs": [
    {
     "ename": "TypeError",
     "evalue": "unbound method str.split() needs an argument",
     "output_type": "error",
     "traceback": [
      "\u001b[0;31m---------------------------------------------------------------------------\u001b[0m",
      "\u001b[0;31mTypeError\u001b[0m                                 Traceback (most recent call last)",
      "Cell \u001b[0;32mIn[12], line 1\u001b[0m\n\u001b[0;32m----> 1\u001b[0m \u001b[38;5;28;43mstr\u001b[39;49m\u001b[38;5;241;43m.\u001b[39;49m\u001b[43msplit\u001b[49m\u001b[43m(\u001b[49m\u001b[43mseparator\u001b[49m\u001b[38;5;241;43m=\u001b[39;49m\u001b[38;5;28;43;01mNone\u001b[39;49;00m\u001b[43m,\u001b[49m\u001b[43m \u001b[49m\u001b[43mmaxsplit\u001b[49m\u001b[38;5;241;43m=\u001b[39;49m\u001b[38;5;241;43m-\u001b[39;49m\u001b[38;5;241;43m1\u001b[39;49m\u001b[43m)\u001b[49m\n",
      "\u001b[0;31mTypeError\u001b[0m: unbound method str.split() needs an argument"
     ]
    }
   ],
   "source": [
    "str.split(separator=None, maxsplit=-1)\n"
   ]
  },
  {
   "cell_type": "markdown",
   "id": "7530ae14-0f99-4736-a131-738bb1e9aec2",
   "metadata": {},
   "source": [
    "separator: The delimiter on which to split the string. If not provided, any whitespace string is a separator.\n",
    "maxsplit: The maximum number of splits to do. The default value of -1 means no limit."
   ]
  },
  {
   "cell_type": "markdown",
   "id": "65652b12-ef66-498b-9093-2d23951b98eb",
   "metadata": {},
   "source": [
    "Examples\n",
    "\n",
    "   1. Basic Usage:\n",
    "\n",
    "    "
   ]
  },
  {
   "cell_type": "code",
   "execution_count": 14,
   "id": "2f4945bc-923a-43c4-a63a-ea6df99d0dd6",
   "metadata": {},
   "outputs": [
    {
     "name": "stdout",
     "output_type": "stream",
     "text": [
      "['Hello,', 'how', 'are', 'you?']\n"
     ]
    }
   ],
   "source": [
    "text = \"Hello, how are you?\"\n",
    "words = text.split()\n",
    "print(words)  # Output: ['Hello,', 'how', 'are', 'you?']\n"
   ]
  },
  {
   "cell_type": "code",
   "execution_count": 15,
   "id": "2a7294f7-2ac5-4b6a-ae0f-deac7a46825c",
   "metadata": {},
   "outputs": [
    {
     "ename": "SyntaxError",
     "evalue": "invalid syntax (3118665780.py, line 1)",
     "output_type": "error",
     "traceback": [
      "\u001b[0;36m  Cell \u001b[0;32mIn[15], line 1\u001b[0;36m\u001b[0m\n\u001b[0;31m    2. Using a Specific Delimiter:\u001b[0m\n\u001b[0m       ^\u001b[0m\n\u001b[0;31mSyntaxError\u001b[0m\u001b[0;31m:\u001b[0m invalid syntax\n"
     ]
    }
   ],
   "source": [
    "2. Using a Specific Delimiter:"
   ]
  },
  {
   "cell_type": "code",
   "execution_count": 16,
   "id": "c203a996-96a7-4487-a47b-7e29050815f7",
   "metadata": {},
   "outputs": [
    {
     "name": "stdout",
     "output_type": "stream",
     "text": [
      "['apple', 'banana', 'cherry']\n"
     ]
    }
   ],
   "source": [
    "text = \"apple,banana,cherry\"\n",
    "fruits = text.split(',')\n",
    "print(fruits)  # Output: ['apple', 'banana', 'cherry']\n"
   ]
  },
  {
   "cell_type": "code",
   "execution_count": 17,
   "id": "0a624c7b-cb3e-405f-afbb-542f68f87353",
   "metadata": {},
   "outputs": [
    {
     "ename": "SyntaxError",
     "evalue": "invalid syntax (2488642321.py, line 1)",
     "output_type": "error",
     "traceback": [
      "\u001b[0;36m  Cell \u001b[0;32mIn[17], line 1\u001b[0;36m\u001b[0m\n\u001b[0;31m    3. Limiting the Number of Splits:\u001b[0m\n\u001b[0m       ^\u001b[0m\n\u001b[0;31mSyntaxError\u001b[0m\u001b[0;31m:\u001b[0m invalid syntax\n"
     ]
    }
   ],
   "source": [
    "3. Limiting the Number of Splits:"
   ]
  },
  {
   "cell_type": "code",
   "execution_count": 18,
   "id": "b09f743c-4c20-4490-b552-a1f1ce24a279",
   "metadata": {},
   "outputs": [
    {
     "name": "stdout",
     "output_type": "stream",
     "text": [
      "['one', ' two', ' three, four']\n"
     ]
    }
   ],
   "source": [
    "text = \"one, two, three, four\"\n",
    "parts = text.split(',', 2)\n",
    "print(parts)  # Output: ['one', ' two', ' three, four']\n"
   ]
  },
  {
   "cell_type": "markdown",
   "id": "55b05a53-b74e-4704-a9b4-c2a4eac9fa8d",
   "metadata": {},
   "source": [
    "join() Function\n",
    "\n",
    "The join() function is used to join the elements of a list (or any iterable) into a single string, with a specified separator between each element.\n",
    "Syntax"
   ]
  },
  {
   "cell_type": "code",
   "execution_count": 19,
   "id": "1d853549-2c2d-43ad-9ed2-efc53a1af29f",
   "metadata": {},
   "outputs": [
    {
     "ename": "NameError",
     "evalue": "name 'separator' is not defined",
     "output_type": "error",
     "traceback": [
      "\u001b[0;31m---------------------------------------------------------------------------\u001b[0m",
      "\u001b[0;31mNameError\u001b[0m                                 Traceback (most recent call last)",
      "Cell \u001b[0;32mIn[19], line 1\u001b[0m\n\u001b[0;32m----> 1\u001b[0m \u001b[43mseparator\u001b[49m\u001b[38;5;241m.\u001b[39mjoin(iterable)\n",
      "\u001b[0;31mNameError\u001b[0m: name 'separator' is not defined"
     ]
    }
   ],
   "source": [
    "separator.join(iterable)\n"
   ]
  },
  {
   "cell_type": "markdown",
   "id": "947ae25f-674c-406a-abf2-be773d834d25",
   "metadata": {},
   "source": [
    "    separator: The string to insert between each element of the iterable.\n",
    "    iterable: An iterable (e.g., list, tuple) containing strings to join.\n",
    "\n",
    "Examples\n",
    "\n",
    "    1. Basic Usage:"
   ]
  },
  {
   "cell_type": "code",
   "execution_count": 20,
   "id": "687c4f88-0fea-408a-967f-eb1a3f86bacf",
   "metadata": {},
   "outputs": [
    {
     "name": "stdout",
     "output_type": "stream",
     "text": [
      "Hello world\n"
     ]
    }
   ],
   "source": [
    "words = ['Hello', 'world']\n",
    "sentence = ' '.join(words)\n",
    "print(sentence)  # Output: \"Hello world\"\n"
   ]
  },
  {
   "cell_type": "markdown",
   "id": "d34c96e2-0b25-4a9e-8c40-9323f9920a4b",
   "metadata": {},
   "source": [
    "2. Using a Different Separator:"
   ]
  },
  {
   "cell_type": "code",
   "execution_count": 21,
   "id": "d408469a-8be0-444e-9470-6b2eb44bc8ad",
   "metadata": {},
   "outputs": [
    {
     "name": "stdout",
     "output_type": "stream",
     "text": [
      "apple, banana, cherry\n"
     ]
    }
   ],
   "source": [
    "fruits = ['apple', 'banana', 'cherry']\n",
    "text = ', '.join(fruits)\n",
    "print(text)  # Output: \"apple, banana, cherry\"\n"
   ]
  },
  {
   "cell_type": "markdown",
   "id": "bcefb146-d3be-4ed3-8492-8143eecba38e",
   "metadata": {},
   "source": [
    "3. Joining Characters:"
   ]
  },
  {
   "cell_type": "code",
   "execution_count": 23,
   "id": "feb13f48-1b58-4f1c-b5f2-53634dc40970",
   "metadata": {},
   "outputs": [
    {
     "name": "stdout",
     "output_type": "stream",
     "text": [
      "abcd\n"
     ]
    }
   ],
   "source": [
    "chars = ['a', 'b', 'c', 'd']\n",
    "string = ''.join(chars)\n",
    "print(string)  # Output: \"abcd\"\n"
   ]
  },
  {
   "cell_type": "markdown",
   "id": "f7d7a80a-4962-4d75-b82d-d5978e44ef13",
   "metadata": {},
   "source": [
    "Combined Example\n",
    "\n",
    "Using split() and join() together can be very powerful for manipulating strings.\n",
    "Example\n",
    "\n",
    "Suppose you want to replace all spaces in a sentence with underscores:"
   ]
  },
  {
   "cell_type": "code",
   "execution_count": 24,
   "id": "9710b1d5-92b6-4e56-8411-cf1c64426469",
   "metadata": {},
   "outputs": [
    {
     "name": "stdout",
     "output_type": "stream",
     "text": [
      "This_is_an_example_sentence\n"
     ]
    }
   ],
   "source": [
    "sentence = \"This is an example sentence\"\n",
    "words = sentence.split()       # Split into words\n",
    "underscored_sentence = '_'.join(words)  # Join words with underscores\n",
    "print(underscored_sentence)  # Output: \"This_is_an_example_sentence\"\n"
   ]
  },
  {
   "cell_type": "markdown",
   "id": "c1857575-d33e-4b3c-b49e-dce77476473a",
   "metadata": {},
   "source": [
    "Summary\n",
    "\n",
    "    split(): Converts a string into a list of substrings based on a specified delimiter.\n",
    "        Syntax: str.split(separator=None, maxsplit=-1)\n",
    "        Example: \"a,b,c\".split(',') results in ['a', 'b', 'c']\n",
    "\n",
    "    join(): Converts a list (or any iterable) of strings into a single string, with a specified separator between each element.\n",
    "        Syntax: separator.join(iterable)\n",
    "        Example: ','.join(['a', 'b', 'c']) results in \"a,b,c\"\n",
    "\n",
    "These functions are essential tools for string manipulation in Python, making it easier to convert between strings and lists."
   ]
  },
  {
   "cell_type": "markdown",
   "id": "dd458916-b851-453d-8df6-a009b49d6258",
   "metadata": {},
   "source": [
    "# 19. What are itrators,iterable & generators in python?"
   ]
  },
  {
   "cell_type": "markdown",
   "id": "357d782c-4ac0-425f-8f3a-80aa9d10cf26",
   "metadata": {},
   "source": [
    "In Python, iterators, iterables, and generators are fundamental concepts for working with sequences of data. Understanding these concepts helps in writing efficient and clean code for processing collections of items.\n",
    "Iterators\n",
    "\n",
    "An iterator is an object that allows you to traverse through all the elements of a collection, such as a list or tuple, one at a time. It implements two methods:\n",
    "\n",
    "    __iter__(): This method returns the iterator object itself and is implicitly called at the start of loops.\n",
    "    __next__(): This method returns the next element in the sequence. When there are no more elements, it raises a StopIteration exception.\n",
    "\n",
    "Example:"
   ]
  },
  {
   "cell_type": "code",
   "execution_count": 25,
   "id": "e8029ccd-243c-4e0b-a705-b465d3a14ac6",
   "metadata": {},
   "outputs": [
    {
     "name": "stdout",
     "output_type": "stream",
     "text": [
      "1\n",
      "2\n",
      "3\n"
     ]
    }
   ],
   "source": [
    "my_list = [1, 2, 3]\n",
    "iterator = iter(my_list)  # Create an iterator object\n",
    "\n",
    "print(next(iterator))  # Output: 1\n",
    "print(next(iterator))  # Output: 2\n",
    "print(next(iterator))  # Output: 3\n",
    "# print(next(iterator))  # Raises StopIteration\n"
   ]
  },
  {
   "cell_type": "markdown",
   "id": "72b05ad4-582a-4b9d-b5fd-3b4f83da213e",
   "metadata": {},
   "source": [
    "Iterables\n",
    "\n",
    "An iterable is any Python object capable of returning its members one at a time, allowing it to be iterated over in a for-loop. An object is iterable if it implements the __iter__() method, which returns an iterator.\n",
    "Example:"
   ]
  },
  {
   "cell_type": "code",
   "execution_count": 26,
   "id": "01c8fd1d-58dc-4f26-9a14-d93e76663304",
   "metadata": {},
   "outputs": [
    {
     "name": "stdout",
     "output_type": "stream",
     "text": [
      "1\n",
      "2\n",
      "3\n"
     ]
    }
   ],
   "source": [
    "my_list = [1, 2, 3]\n",
    "\n",
    "for element in my_list:  # my_list is an iterable\n",
    "    print(element)\n"
   ]
  },
  {
   "cell_type": "markdown",
   "id": "da470d02-7e3e-473a-ba9e-d0582e94da8f",
   "metadata": {},
   "source": [
    "Generators\n",
    "\n",
    "Generators are a special type of iterator that allow you to iterate through a sequence of values. They are defined using a function and the yield keyword. Each time the yield statement is executed, the generator function produces a new value and maintains its state for the next iteration.\n",
    "Example:"
   ]
  },
  {
   "cell_type": "code",
   "execution_count": 27,
   "id": "6a9208c6-96fc-47a3-acfa-c56b4e372c86",
   "metadata": {},
   "outputs": [
    {
     "name": "stdout",
     "output_type": "stream",
     "text": [
      "1\n",
      "2\n",
      "3\n",
      "4\n",
      "5\n"
     ]
    }
   ],
   "source": [
    "def count_up_to(max):\n",
    "    count = 1\n",
    "    while count <= max:\n",
    "        yield count\n",
    "        count += 1\n",
    "\n",
    "counter = count_up_to(5)\n",
    "\n",
    "for num in counter:\n",
    "    print(num)  # Output: 1 2 3 4 5\n"
   ]
  },
  {
   "cell_type": "markdown",
   "id": "b3755df5-aa47-49e8-b07e-f740004f8396",
   "metadata": {},
   "source": [
    "Differences and Use Cases\n",
    "Iterators:\n",
    "\n",
    "    Used when you want to traverse through all the elements of a collection.\n",
    "    Explicitly created using the iter() function.\n",
    "    Implements __iter__() and __next__() methods.\n",
    "\n",
    "Iterables:\n",
    "\n",
    "    Objects that can return an iterator (i.e., they implement __iter__()).\n",
    "    Include built-in types like lists, tuples, and dictionaries.\n",
    "\n",
    "Generators:\n",
    "\n",
    "    A more concise way to create iterators.\n",
    "    Defined using a function and the yield keyword.\n",
    "    Automatically handle the state of the function between calls.\n",
    "    Can be infinite sequences and save memory by producing items on the fly.\n",
    "\n",
    "Example Comparison\n",
    "\n",
    "    1. Iterator:"
   ]
  },
  {
   "cell_type": "code",
   "execution_count": 28,
   "id": "c5932a14-3a9a-4cce-b736-d45a72c53de1",
   "metadata": {},
   "outputs": [
    {
     "name": "stdout",
     "output_type": "stream",
     "text": [
      "1\n",
      "2\n",
      "3\n"
     ]
    }
   ],
   "source": [
    "class MyIterator:\n",
    "    def __init__(self, start, end):\n",
    "        self.current = start\n",
    "        self.end = end\n",
    "\n",
    "    def __iter__(self):\n",
    "        return self\n",
    "\n",
    "    def __next__(self):\n",
    "        if self.current >= self.end:\n",
    "            raise StopIteration\n",
    "        current = self.current\n",
    "        self.current += 1\n",
    "        return current\n",
    "\n",
    "it = MyIterator(1, 4)\n",
    "for num in it:\n",
    "    print(num)  # Output: 1 2 3\n"
   ]
  },
  {
   "cell_type": "markdown",
   "id": "1b2f27a3-cab9-4044-a5b2-7c5fea2eaefc",
   "metadata": {},
   "source": [
    "2. Iterable:"
   ]
  },
  {
   "cell_type": "code",
   "execution_count": 31,
   "id": "db2eba06-b95d-4b22-b64b-d7644aebb54f",
   "metadata": {},
   "outputs": [
    {
     "name": "stdout",
     "output_type": "stream",
     "text": [
      "1\n",
      "2\n",
      "3\n"
     ]
    }
   ],
   "source": [
    "class MyIterable:\n",
    "    def __init__(self, start, end):\n",
    "        self.start = start\n",
    "        self.end = end\n",
    "\n",
    "    def __iter__(self):\n",
    "        return MyIterator(self.start, self.end)\n",
    "\n",
    "it = MyIterable(1, 4)\n",
    "for num in it:\n",
    "    print(num)  # Output: 1 2 3\n"
   ]
  },
  {
   "cell_type": "markdown",
   "id": "2a3f5c2c-6bb3-463d-a8fe-c3c8f413052d",
   "metadata": {},
   "source": [
    "3. Generator:"
   ]
  },
  {
   "cell_type": "code",
   "execution_count": 32,
   "id": "48da8383-06f5-4751-9652-4f4d367281d1",
   "metadata": {},
   "outputs": [
    {
     "name": "stdout",
     "output_type": "stream",
     "text": [
      "1\n",
      "2\n",
      "3\n"
     ]
    }
   ],
   "source": [
    "def my_generator(start, end):\n",
    "    current = start\n",
    "    while current < end:\n",
    "        yield current\n",
    "        current += 1\n",
    "\n",
    "for num in my_generator(1, 4):\n",
    "    print(num)  # Output: 1 2 3\n"
   ]
  },
  {
   "cell_type": "markdown",
   "id": "d9d6bf57-42b3-49ba-a37e-e48e05bf4824",
   "metadata": {},
   "source": [
    "Summary\n",
    "\n",
    "    Iterators: Objects that provide a way to traverse through a collection, implementing __iter__() and __next__().\n",
    "    Iterables: Objects that can return an iterator, implementing __iter__().\n",
    "    Generators: Special types of iterators defined using functions and the yield keyword, providing a concise way to iterate through sequences of values.\n",
    "\n",
    "These concepts are essential for writing efficient and Pythonic code, especially when dealing with large data sets or streams of data."
   ]
  },
  {
   "cell_type": "markdown",
   "id": "63fdee42-6263-42df-a046-74c96f1cba92",
   "metadata": {},
   "source": [
    "# 20. What is the diffrences between Xrange and range in python?"
   ]
  },
  {
   "cell_type": "markdown",
   "id": "e1467578-52be-4038-8fe5-379ad737c749",
   "metadata": {},
   "source": [
    "In Python, range and xrange are used to generate sequences of numbers. However, there are significant differences between them, especially with regard to memory usage and performance. Note that xrange is specific to Python 2, while range exists in both Python 2 and Python 3 but behaves differently in each version.\n",
    "Differences Between range and xrange\n",
    "Python 2\n",
    "\n",
    "    1. range:\n",
    "        Type: Generates a list.\n",
    "        Memory Usage: Stores all the values in memory.\n",
    "        Performance: Can be slower and more memory-intensive for large ranges since it creates the entire list at once."
   ]
  },
  {
   "cell_type": "code",
   "execution_count": 34,
   "id": "d8dbb9b0-a873-43b8-8035-ac3baf786622",
   "metadata": {},
   "outputs": [
    {
     "name": "stdout",
     "output_type": "stream",
     "text": [
      "range(1, 10)\n"
     ]
    }
   ],
   "source": [
    "numbers = range(1, 10)\n",
    "print(numbers)  # Output: [1, 2, 3, 4, 5, 6, 7, 8, 9]\n"
   ]
  },
  {
   "cell_type": "markdown",
   "id": "ce73f052-f32a-4856-80a0-812930605bd0",
   "metadata": {},
   "source": [
    "2. xrange:\n",
    "\n",
    "    Type: Generates an xrange object, which acts as an iterator.\n",
    "    Memory Usage: Generates numbers on the fly, without storing the entire range in memory.\n",
    "    Performance: More memory-efficient and generally faster for large ranges because it doesn't create the list all at once."
   ]
  },
  {
   "cell_type": "code",
   "execution_count": 35,
   "id": "b9f3323a-c4eb-4607-8424-390cd2d7f36c",
   "metadata": {},
   "outputs": [
    {
     "ename": "NameError",
     "evalue": "name 'xrange' is not defined",
     "output_type": "error",
     "traceback": [
      "\u001b[0;31m---------------------------------------------------------------------------\u001b[0m",
      "\u001b[0;31mNameError\u001b[0m                                 Traceback (most recent call last)",
      "Cell \u001b[0;32mIn[35], line 1\u001b[0m\n\u001b[0;32m----> 1\u001b[0m numbers \u001b[38;5;241m=\u001b[39m \u001b[43mxrange\u001b[49m(\u001b[38;5;241m1\u001b[39m, \u001b[38;5;241m10\u001b[39m)\n\u001b[1;32m      2\u001b[0m \u001b[38;5;28mprint\u001b[39m(numbers)  \u001b[38;5;66;03m# Output: xrange(1, 10)\u001b[39;00m\n",
      "\u001b[0;31mNameError\u001b[0m: name 'xrange' is not defined"
     ]
    }
   ],
   "source": [
    "numbers = xrange(1, 10)\n",
    "print(numbers)  # Output: xrange(1, 10)\n"
   ]
  },
  {
   "cell_type": "markdown",
   "id": "17b22dcf-6de7-495c-a438-84013ada0bf5",
   "metadata": {},
   "source": [
    "Python 3\n",
    "\n",
    "    range: In Python 3, range behaves like xrange did in Python 2.\n",
    "        Type: Generates a range object, which acts as an immutable sequence of numbers.\n",
    "        Memory Usage: Generates numbers on the fly, similar to xrange in Python 2.\n",
    "        Performance: More memory-efficient and generally faster for large ranges."
   ]
  },
  {
   "cell_type": "code",
   "execution_count": 36,
   "id": "8ccf8f74-cae8-4e39-8fb7-d9e04ea17712",
   "metadata": {},
   "outputs": [
    {
     "name": "stdout",
     "output_type": "stream",
     "text": [
      "range(1, 10)\n",
      "[1, 2, 3, 4, 5, 6, 7, 8, 9]\n"
     ]
    }
   ],
   "source": [
    "numbers = range(1, 10)\n",
    "print(numbers)  # Output: range(1, 10)\n",
    "print(list(numbers))  # Output: [1, 2, 3, 4, 5, 6, 7, 8, 9]\n"
   ]
  },
  {
   "cell_type": "markdown",
   "id": "014f2277-a754-4769-8a01-f38b91bc53be",
   "metadata": {},
   "source": [
    "Key Points\n",
    "\n",
    "    Memory Efficiency:\n",
    "        Python 2's range creates a list and thus consumes more memory, especially for large ranges.\n",
    "        Python 2's xrange and Python 3's range generate numbers on the fly and are thus more memory-efficient.\n",
    "\n",
    "    Performance:\n",
    "        For large ranges, Python 2's xrange and Python 3's range are more efficient as they do not create the entire list in memory at once.\n",
    "        Iterating over xrange in Python 2 and range in Python 3 is typically faster due to reduced memory overhead.\n",
    "\n",
    "    Immutability:\n",
    "        Python 2's range returns a mutable list.\n",
    "        Python 2's xrange and Python 3's range return immutable sequence objects.\n",
    "\n",
    "Example Comparison\n",
    "Python 2:"
   ]
  },
  {
   "cell_type": "code",
   "execution_count": 37,
   "id": "9db7b0d6-70ce-4cc9-a463-eb9ddc7bc4a9",
   "metadata": {},
   "outputs": [
    {
     "name": "stdout",
     "output_type": "stream",
     "text": [
      "range(1, 1000000)\n"
     ]
    },
    {
     "ename": "NameError",
     "evalue": "name 'xrange' is not defined",
     "output_type": "error",
     "traceback": [
      "\u001b[0;31m---------------------------------------------------------------------------\u001b[0m",
      "\u001b[0;31mNameError\u001b[0m                                 Traceback (most recent call last)",
      "Cell \u001b[0;32mIn[37], line 6\u001b[0m\n\u001b[1;32m      3\u001b[0m \u001b[38;5;28mprint\u001b[39m(numbers)  \u001b[38;5;66;03m# Output: [1, 2, 3, ..., 999999]\u001b[39;00m\n\u001b[1;32m      5\u001b[0m \u001b[38;5;66;03m# Using xrange\u001b[39;00m\n\u001b[0;32m----> 6\u001b[0m numbers \u001b[38;5;241m=\u001b[39m \u001b[43mxrange\u001b[49m(\u001b[38;5;241m1\u001b[39m, \u001b[38;5;241m1000000\u001b[39m)\n\u001b[1;32m      7\u001b[0m \u001b[38;5;28mprint\u001b[39m(numbers)  \u001b[38;5;66;03m# Output: xrange(1, 1000000)\u001b[39;00m\n",
      "\u001b[0;31mNameError\u001b[0m: name 'xrange' is not defined"
     ]
    }
   ],
   "source": [
    "# Using range\n",
    "numbers = range(1, 1000000)\n",
    "print(numbers)  # Output: [1, 2, 3, ..., 999999]\n",
    "\n",
    "# Using xrange\n",
    "numbers = xrange(1, 1000000)\n",
    "print(numbers)  # Output: xrange(1, 1000000)\n"
   ]
  },
  {
   "cell_type": "markdown",
   "id": "90ada11f-7875-4ff6-960c-7d3288332409",
   "metadata": {},
   "source": [
    "Python 3:"
   ]
  },
  {
   "cell_type": "code",
   "execution_count": 38,
   "id": "f6371721-0ca0-4532-b3d0-3ce472b1a305",
   "metadata": {},
   "outputs": [
    {
     "name": "stderr",
     "output_type": "stream",
     "text": [
      "IOPub data rate exceeded.\n",
      "The Jupyter server will temporarily stop sending output\n",
      "to the client in order to avoid crashing it.\n",
      "To change this limit, set the config variable\n",
      "`--ServerApp.iopub_data_rate_limit`.\n",
      "\n",
      "Current values:\n",
      "ServerApp.iopub_data_rate_limit=1000000.0 (bytes/sec)\n",
      "ServerApp.rate_limit_window=3.0 (secs)\n",
      "\n"
     ]
    }
   ],
   "source": [
    "# Using range\n",
    "numbers = range(1, 1000000)\n",
    "print(numbers)  # Output: range(1, 1000000)\n",
    "print(list(numbers))  # Output: [1, 2, 3, ..., 999999]\n"
   ]
  },
  {
   "cell_type": "markdown",
   "id": "0c293af6-7c8e-48ba-9f71-30dcf7e9b121",
   "metadata": {},
   "source": [
    "Summary\n",
    "\n",
    "    Python 2 range: Creates a list and consumes more memory.\n",
    "    Python 2 xrange: Generates numbers on the fly and is more memory-efficient.\n",
    "    Python 3 range: Behaves like xrange in Python 2, generating numbers on the fly and being more memory-efficient.\n",
    "\n",
    "In Python 3, you only have range, which combines the best features of Python 2's range and xrange."
   ]
  },
  {
   "cell_type": "markdown",
   "id": "3cd80ddc-f489-4b97-ad51-f6a3b685dd16",
   "metadata": {},
   "source": [
    "# 21. Pillars of OOPs."
   ]
  },
  {
   "cell_type": "markdown",
   "id": "dc0a46e4-8187-4e17-bc26-d8035ae1152b",
   "metadata": {},
   "source": [
    "Object-Oriented Programming (OOP) is a programming paradigm that uses objects and classes to structure software programs. The four main pillars of OOP are:\n",
    "\n",
    "    Encapsulation\n",
    "    Abstraction\n",
    "    Inheritance\n",
    "    Polymorphism\n",
    "\n",
    "1. Encapsulation\n",
    "\n",
    "Encapsulation is the concept of wrapping data (variables) and methods (functions) into a single unit called a class. It restricts direct access to some of an object’s components, which can prevent the accidental modification of data. Encapsulation ensures that an object’s internal state is hidden from the outside world and can only be changed through its methods.\n",
    "Example:"
   ]
  },
  {
   "cell_type": "code",
   "execution_count": 39,
   "id": "9138a70b-bb31-4bbf-a44f-d6b034edfff2",
   "metadata": {},
   "outputs": [
    {
     "name": "stdout",
     "output_type": "stream",
     "text": [
      "John\n",
      "35\n"
     ]
    }
   ],
   "source": [
    "class Person:\n",
    "    def __init__(self, name, age):\n",
    "        self.__name = name  # Private variable\n",
    "        self.__age = age    # Private variable\n",
    "\n",
    "    def get_name(self):\n",
    "        return self.__name\n",
    "\n",
    "    def set_name(self, name):\n",
    "        self.__name = name\n",
    "\n",
    "    def get_age(self):\n",
    "        return self.__age\n",
    "\n",
    "    def set_age(self, age):\n",
    "        if age > 0:\n",
    "            self.__age = age\n",
    "\n",
    "person = Person(\"John\", 30)\n",
    "print(person.get_name())  # Output: John\n",
    "person.set_age(35)\n",
    "print(person.get_age())   # Output: 35\n"
   ]
  },
  {
   "cell_type": "markdown",
   "id": "9e6d8680-6b5d-49e3-aae1-be396d6e9caf",
   "metadata": {},
   "source": [
    "2. Abstraction\n",
    "\n",
    "Abstraction is the concept of hiding the complex implementation details and showing only the essential features of the object. It reduces complexity by allowing the user to interact with the object at a high level without needing to understand all the details of how it works.\n",
    "Example:"
   ]
  },
  {
   "cell_type": "code",
   "execution_count": 40,
   "id": "d3f87f03-c9cb-4340-a92c-faa447294d27",
   "metadata": {},
   "outputs": [
    {
     "name": "stdout",
     "output_type": "stream",
     "text": [
      "Bark\n",
      "Meow\n"
     ]
    }
   ],
   "source": [
    "from abc import ABC, abstractmethod\n",
    "\n",
    "class Animal(ABC):\n",
    "    @abstractmethod\n",
    "    def make_sound(self):\n",
    "        pass\n",
    "\n",
    "class Dog(Animal):\n",
    "    def make_sound(self):\n",
    "        return \"Bark\"\n",
    "\n",
    "class Cat(Animal):\n",
    "    def make_sound(self):\n",
    "        return \"Meow\"\n",
    "\n",
    "dog = Dog()\n",
    "print(dog.make_sound())  # Output: Bark\n",
    "\n",
    "cat = Cat()\n",
    "print(cat.make_sound())  # Output: Meow\n"
   ]
  },
  {
   "cell_type": "markdown",
   "id": "9c0dd632-c3bd-4174-8ec9-b2873fa29d35",
   "metadata": {},
   "source": [
    "3. Inheritance\n",
    "\n",
    "Inheritance is the mechanism by which one class (child or derived class) inherits the attributes and methods from another class (parent or base class). It allows for code reuse and the creation of a hierarchical relationship between classes.\n",
    "Example:"
   ]
  },
  {
   "cell_type": "code",
   "execution_count": 41,
   "id": "3bd450bd-f756-44f3-a74b-7b1eec11f355",
   "metadata": {},
   "outputs": [
    {
     "name": "stdout",
     "output_type": "stream",
     "text": [
      "Buddy says Woof!\n",
      "Whiskers says Meow!\n"
     ]
    }
   ],
   "source": [
    "class Animal:\n",
    "    def __init__(self, name):\n",
    "        self.name = name\n",
    "\n",
    "    def speak(self):\n",
    "        raise NotImplementedError(\"Subclass must implement abstract method\")\n",
    "\n",
    "class Dog(Animal):\n",
    "    def speak(self):\n",
    "        return f\"{self.name} says Woof!\"\n",
    "\n",
    "class Cat(Animal):\n",
    "    def speak(self):\n",
    "        return f\"{self.name} says Meow!\"\n",
    "\n",
    "dog = Dog(\"Buddy\")\n",
    "print(dog.speak())  # Output: Buddy says Woof!\n",
    "\n",
    "cat = Cat(\"Whiskers\")\n",
    "print(cat.speak())  # Output: Whiskers says Meow!\n"
   ]
  },
  {
   "cell_type": "markdown",
   "id": "53dd699e-92ac-41f5-8c0b-37ea8f9dc1c7",
   "metadata": {},
   "source": [
    "4. Polymorphism\n",
    "\n",
    "Polymorphism allows objects of different classes to be treated as objects of a common super class. It is the ability to redefine methods in derived classes. It allows for methods to be used interchangeably, even if they belong to different classes, as long as they follow the same interface.\n",
    "Example:"
   ]
  },
  {
   "cell_type": "code",
   "execution_count": 42,
   "id": "f2fba16f-f553-496d-a4ce-d7ff1649815a",
   "metadata": {},
   "outputs": [
    {
     "name": "stdout",
     "output_type": "stream",
     "text": [
      "Buddy says Woof!\n",
      "Whiskers says Meow!\n"
     ]
    }
   ],
   "source": [
    "class Animal:\n",
    "    def __init__(self, name):\n",
    "        self.name = name\n",
    "\n",
    "    def speak(self):\n",
    "        pass\n",
    "\n",
    "class Dog(Animal):\n",
    "    def speak(self):\n",
    "        return f\"{self.name} says Woof!\"\n",
    "\n",
    "class Cat(Animal):\n",
    "    def speak(self):\n",
    "        return f\"{self.name} says Meow!\"\n",
    "\n",
    "def make_animal_speak(animal):\n",
    "    print(animal.speak())\n",
    "\n",
    "dog = Dog(\"Buddy\")\n",
    "cat = Cat(\"Whiskers\")\n",
    "\n",
    "make_animal_speak(dog)  # Output: Buddy says Woof!\n",
    "make_animal_speak(cat)  # Output: Whiskers says Meow!\n"
   ]
  },
  {
   "cell_type": "markdown",
   "id": "2798b1a9-296b-4505-8ebd-38f7cf142b74",
   "metadata": {},
   "source": [
    "Summary\n",
    "\n",
    "    Encapsulation: Bundling data and methods, restricting direct access to some of the object's components.\n",
    "    Abstraction: Hiding complex implementation details, showing only the necessary features.\n",
    "    Inheritance: Deriving new classes from existing ones, promoting code reuse.\n",
    "    Polymorphism: Allowing methods to be used interchangeably across different classes, provided they follow the same interface.\n",
    "\n",
    "These pillars help in building well-structured, reusable, and maintainable code in object-oriented programming."
   ]
  },
  {
   "cell_type": "markdown",
   "id": "50aafd16-b5b8-4706-837b-0364839683e6",
   "metadata": {},
   "source": [
    "# 22. How will you check if a class is a child of another class?\n"
   ]
  },
  {
   "cell_type": "markdown",
   "id": "1851caea-eacc-42c2-af6b-909a5260e703",
   "metadata": {},
   "source": [
    "In Python, you can check if a class is a child (subclass) of another class using the built-in issubclass() function or the isinstance() function. Here’s how you can use both methods:\n",
    "Using issubclass()\n",
    "\n",
    "The issubclass() function checks if a class is a derived class of another class. It returns True if the first argument is a subclass of the second argument, and False otherwise.\n",
    "Syntax:"
   ]
  },
  {
   "cell_type": "code",
   "execution_count": 43,
   "id": "dd8cab34-f4d5-40a3-bd29-df385aa136b0",
   "metadata": {},
   "outputs": [
    {
     "ename": "SyntaxError",
     "evalue": "invalid syntax (843444755.py, line 1)",
     "output_type": "error",
     "traceback": [
      "\u001b[0;36m  Cell \u001b[0;32mIn[43], line 1\u001b[0;36m\u001b[0m\n\u001b[0;31m    issubclass(class, classinfo)\u001b[0m\n\u001b[0m               ^\u001b[0m\n\u001b[0;31mSyntaxError\u001b[0m\u001b[0;31m:\u001b[0m invalid syntax\n"
     ]
    }
   ],
   "source": [
    "issubclass(class, classinfo)\n"
   ]
  },
  {
   "cell_type": "markdown",
   "id": "d2e9e1c1-246d-4988-997e-16320e05ce9a",
   "metadata": {},
   "source": [
    "    class: The class to check.\n",
    "    classinfo: The class (or a tuple of classes) against which to check.\n",
    "\n",
    "Example:"
   ]
  },
  {
   "cell_type": "code",
   "execution_count": 44,
   "id": "748483f4-6711-49eb-bf3a-a8625db535d6",
   "metadata": {},
   "outputs": [
    {
     "name": "stdout",
     "output_type": "stream",
     "text": [
      "True\n",
      "True\n",
      "False\n"
     ]
    }
   ],
   "source": [
    "class Animal:\n",
    "    pass\n",
    "\n",
    "class Dog(Animal):\n",
    "    pass\n",
    "\n",
    "print(issubclass(Dog, Animal))  # Output: True\n",
    "print(issubclass(Dog, object))  # Output: True (since all classes are subclasses of object)\n",
    "print(issubclass(Animal, Dog))  # Output: False\n"
   ]
  },
  {
   "cell_type": "markdown",
   "id": "0ca0e16c-04bb-4be3-b546-9a18c4646627",
   "metadata": {},
   "source": [
    "Using isinstance()\n",
    "\n",
    "The isinstance() function checks if an object is an instance of a class or a subclass thereof. It returns True if the object is an instance or subclass instance of the classinfo argument, and False otherwise.\n",
    "Syntax:"
   ]
  },
  {
   "cell_type": "code",
   "execution_count": 46,
   "id": "046ba796-f7d8-46c0-be98-ce8a04fc39ae",
   "metadata": {},
   "outputs": [
    {
     "ename": "NameError",
     "evalue": "name 'classinfo' is not defined",
     "output_type": "error",
     "traceback": [
      "\u001b[0;31m---------------------------------------------------------------------------\u001b[0m",
      "\u001b[0;31mNameError\u001b[0m                                 Traceback (most recent call last)",
      "Cell \u001b[0;32mIn[46], line 1\u001b[0m\n\u001b[0;32m----> 1\u001b[0m \u001b[38;5;28misinstance\u001b[39m(\u001b[38;5;28mobject\u001b[39m, \u001b[43mclassinfo\u001b[49m)\n",
      "\u001b[0;31mNameError\u001b[0m: name 'classinfo' is not defined"
     ]
    }
   ],
   "source": [
    "isinstance(object, classinfo)\n"
   ]
  },
  {
   "cell_type": "markdown",
   "id": "21689e10-1015-419c-8edb-eb16e7807f90",
   "metadata": {},
   "source": [
    "    object: The object to check.\n",
    "    classinfo: The class (or a tuple of classes) against which to check.\n",
    "\n",
    "Example:"
   ]
  },
  {
   "cell_type": "code",
   "execution_count": 47,
   "id": "44b25be3-484d-4cf0-b925-62102876a726",
   "metadata": {},
   "outputs": [
    {
     "name": "stdout",
     "output_type": "stream",
     "text": [
      "True\n",
      "True\n",
      "True\n"
     ]
    }
   ],
   "source": [
    "class Animal:\n",
    "    pass\n",
    "\n",
    "class Dog(Animal):\n",
    "    pass\n",
    "\n",
    "dog_instance = Dog()\n",
    "\n",
    "print(isinstance(dog_instance, Dog))     # Output: True\n",
    "print(isinstance(dog_instance, Animal))  # Output: True\n",
    "print(isinstance(dog_instance, object))  # Output: True (since all objects are instances of object)\n"
   ]
  },
  {
   "cell_type": "markdown",
   "id": "ef0c699c-a3da-4611-87ef-48ea51b60032",
   "metadata": {},
   "source": [
    "Summary\n",
    "\n",
    "    issubclass(class, classinfo): Checks if class is a subclass of classinfo.\n",
    "    isinstance(object, classinfo): Checks if object is an instance or subclass instance of classinfo.\n",
    "\n",
    "Both methods are useful in different contexts: use issubclass() when dealing with class relationships and isinstance() when dealing with object instances."
   ]
  },
  {
   "cell_type": "markdown",
   "id": "38d62d31-b022-4c4c-93cc-3ad86dbdfae8",
   "metadata": {},
   "source": [
    "# 23. How does inheritance work in python? Explain all types of inharitance with an example.\n"
   ]
  },
  {
   "cell_type": "markdown",
   "id": "255b6823-ea6f-49d3-815d-ec48650fa550",
   "metadata": {},
   "source": [
    "Inheritance in Python allows a class (known as the child or derived class) to inherit attributes and methods from another class (known as the parent or base class). This mechanism promotes code reuse and establishes a relationship between the classes, allowing for hierarchical classification.\n",
    "Types of Inheritance\n",
    "\n",
    "    Single Inheritance\n",
    "    Multiple Inheritance\n",
    "    Multilevel Inheritance\n",
    "    Hierarchical Inheritance\n",
    "    Hybrid Inheritance\n",
    "\n",
    "1. Single Inheritance\n",
    "\n",
    "Single inheritance allows a derived class to inherit from a single base class.\n",
    "Example:"
   ]
  },
  {
   "cell_type": "code",
   "execution_count": 1,
   "id": "da940914-9c39-43b9-80e7-74b351f03edc",
   "metadata": {},
   "outputs": [
    {
     "name": "stdout",
     "output_type": "stream",
     "text": [
      "Animal speaks\n",
      "Dog barks\n"
     ]
    }
   ],
   "source": [
    "class Animal:\n",
    "    def speak(self):\n",
    "        return \"Animal speaks\"\n",
    "\n",
    "class Dog(Animal):\n",
    "    def bark(self):\n",
    "        return \"Dog barks\"\n",
    "\n",
    "dog = Dog()\n",
    "print(dog.speak())  # Output: Animal speaks\n",
    "print(dog.bark())   # Output: Dog barks\n"
   ]
  },
  {
   "cell_type": "markdown",
   "id": "2b64eba7-78f4-4e1f-a09e-91bed057d8cc",
   "metadata": {},
   "source": [
    "2. Multiple Inheritance\n",
    "\n",
    "Multiple inheritance allows a derived class to inherit from more than one base class.\n",
    "Example:"
   ]
  },
  {
   "cell_type": "code",
   "execution_count": 2,
   "id": "c9cf0056-45e4-443c-b3d9-ec034da1a612",
   "metadata": {},
   "outputs": [
    {
     "name": "stdout",
     "output_type": "stream",
     "text": [
      "Animal speaks\n",
      "Bird flies\n"
     ]
    }
   ],
   "source": [
    "class Animal:\n",
    "    def speak(self):\n",
    "        return \"Animal speaks\"\n",
    "\n",
    "class Bird:\n",
    "    def fly(self):\n",
    "        return \"Bird flies\"\n",
    "\n",
    "class Duck(Animal, Bird):\n",
    "    pass\n",
    "\n",
    "duck = Duck()\n",
    "print(duck.speak())  # Output: Animal speaks\n",
    "print(duck.fly())    # Output: Bird flies\n"
   ]
  },
  {
   "cell_type": "markdown",
   "id": "b309d5ca-c59e-4a89-9bad-e8b71e99e403",
   "metadata": {},
   "source": [
    "3. Multilevel Inheritance\n",
    "\n",
    "Multilevel inheritance allows a derived class to inherit from another derived class, forming a chain.\n",
    "Example:"
   ]
  },
  {
   "cell_type": "code",
   "execution_count": 4,
   "id": "778f6d02-c624-4cdb-b2a4-9215931ba5bd",
   "metadata": {},
   "outputs": [
    {
     "name": "stdout",
     "output_type": "stream",
     "text": [
      "Animal speaks\n",
      "Mammal walks\n",
      "Dog barks\n"
     ]
    }
   ],
   "source": [
    "class Animal:\n",
    "    def speak(self):\n",
    "        return \"Animal speaks\"\n",
    "\n",
    "class Mammal(Animal):\n",
    "    def walk(self):\n",
    "        return \"Mammal walks\"\n",
    "\n",
    "class Dog(Mammal):\n",
    "    def bark(self):\n",
    "        return \"Dog barks\"\n",
    "\n",
    "dog = Dog()\n",
    "print(dog.speak())  # Output: Animal speaks\n",
    "print(dog.walk())   # Output: Mammal walks\n",
    "print(dog.bark())   # Output: Dog barks\n"
   ]
  },
  {
   "cell_type": "markdown",
   "id": "05ac2f93-5141-4153-b019-1aa2cce8088e",
   "metadata": {},
   "source": [
    "4. Hierarchical Inheritance\n",
    "\n",
    "Hierarchical inheritance allows multiple derived classes to inherit from a single base class.\n",
    "Example:"
   ]
  },
  {
   "cell_type": "code",
   "execution_count": null,
   "id": "c75b3503-55f5-427e-b6b7-1228053b9373",
   "metadata": {},
   "outputs": [],
   "source": [
    "class Animal:\n",
    "    def speak(self):\n",
    "        return \"Animal speaks\"\n",
    "\n",
    "class Dog(Animal):\n",
    "    def bark(self):\n",
    "        return \"Dog barks\"\n",
    "\n",
    "class Cat(Animal):\n",
    "    def meow(self):\n",
    "        return \"Cat meows\"\n",
    "\n",
    "dog = Dog()\n",
    "cat = Cat()\n",
    "print(dog.speak())  # Output: Animal speaks\n",
    "print(dog.bark())   # Output: Dog barks\n",
    "print(cat.speak())  # Output: Animal speaks\n",
    "print(cat.meow())   # Output: Cat meows\n"
   ]
  },
  {
   "cell_type": "markdown",
   "id": "2cf6149d-741d-4831-b144-66077999ac4b",
   "metadata": {},
   "source": [
    "5. Hybrid Inheritance\n",
    "\n",
    "Hybrid inheritance is a combination of two or more types of inheritance. It can involve multiple base and derived classes.\n",
    "Example:"
   ]
  },
  {
   "cell_type": "code",
   "execution_count": 6,
   "id": "0b8fac26-660e-4daf-b3bb-505705a21425",
   "metadata": {},
   "outputs": [
    {
     "name": "stdout",
     "output_type": "stream",
     "text": [
      "Animal speaks\n",
      "Mammal walks\n",
      "Bird flies\n",
      "Bat is nocturnal\n"
     ]
    }
   ],
   "source": [
    "class Animal:\n",
    "    def speak(self):\n",
    "        return \"Animal speaks\"\n",
    "\n",
    "class Mammal(Animal):\n",
    "    def walk(self):\n",
    "        return \"Mammal walks\"\n",
    "\n",
    "class Bird(Animal):\n",
    "    def fly(self):\n",
    "        return \"Bird flies\"\n",
    "\n",
    "class Bat(Mammal, Bird):\n",
    "    def nocturnal(self):\n",
    "        return \"Bat is nocturnal\"\n",
    "\n",
    "bat = Bat()\n",
    "print(bat.speak())     # Output: Animal speaks\n",
    "print(bat.walk())      # Output: Mammal walks\n",
    "print(bat.fly())       # Output: Bird flies\n",
    "print(bat.nocturnal()) # Output: Bat is nocturnal\n"
   ]
  },
  {
   "cell_type": "markdown",
   "id": "4fac3f7b-f363-4f61-8850-cb845f1e4fba",
   "metadata": {},
   "source": [
    "Summary\n",
    "\n",
    "    Single Inheritance: One child class inherits from one parent class.\n",
    "    Multiple Inheritance: One child class inherits from multiple parent classes.\n",
    "    Multilevel Inheritance: A chain of inheritance where a derived class inherits from another derived class.\n",
    "    Hierarchical Inheritance: Multiple child classes inherit from a single parent class.\n",
    "    Hybrid Inheritance: A combination of two or more types of inheritance.\n",
    "\n",
    "Inheritance in Python helps promote code reuse, reduce redundancy, and establish clear relationships between classes, making the code more organized and maintainable."
   ]
  },
  {
   "cell_type": "markdown",
   "id": "34641af2-23b0-4825-8e0e-ad163ef7d2f7",
   "metadata": {},
   "source": [
    "# 24. What is encapsulation?Explain it with an example."
   ]
  },
  {
   "cell_type": "markdown",
   "id": "7712e08f-4ca8-4e93-86a7-ff4672263b77",
   "metadata": {},
   "source": [
    "Encapsulation in Python\n",
    "\n",
    "Encapsulation is one of the fundamental principles of Object-Oriented Programming (OOP). It refers to the bundling of data (attributes) and methods (functions) that operate on the data into a single unit, called a class. Encapsulation also restricts direct access to some of an object's components, which can prevent the accidental modification of data. This is typically achieved by making some of the object's attributes private and providing public methods to access and modify those attributes.\n",
    "Key Concepts:\n",
    "\n",
    "    Private Attributes/Methods: These are not accessible directly from outside the class. They are defined by prefixing the attribute or method name with a double underscore (__).\n",
    "    Public Methods: These methods provide a controlled interface for accessing and modifying the private attributes.\n",
    "\n",
    "Example of Encapsulation\n",
    "\n",
    "Let's create a simple example of encapsulation using a Person class. This class will have private attributes __name and __age, and public methods to get and set these attributes.\n",
    "Example:"
   ]
  },
  {
   "cell_type": "code",
   "execution_count": 7,
   "id": "be173274-5159-44ad-b13c-efab12994b62",
   "metadata": {},
   "outputs": [
    {
     "name": "stdout",
     "output_type": "stream",
     "text": [
      "John\n",
      "30\n",
      "Jane\n",
      "25\n"
     ]
    }
   ],
   "source": [
    "class Person:\n",
    "    def __init__(self, name, age):\n",
    "        self.__name = name  # Private attribute\n",
    "        self.__age = age    # Private attribute\n",
    "\n",
    "    # Public method to get the name\n",
    "    def get_name(self):\n",
    "        return self.__name\n",
    "\n",
    "    # Public method to set the name\n",
    "    def set_name(self, name):\n",
    "        self.__name = name\n",
    "\n",
    "    # Public method to get the age\n",
    "    def get_age(self):\n",
    "        return self.__age\n",
    "\n",
    "    # Public method to set the age with a validation check\n",
    "    def set_age(self, age):\n",
    "        if age > 0:\n",
    "            self.__age = age\n",
    "        else:\n",
    "            raise ValueError(\"Age must be positive\")\n",
    "\n",
    "# Create an instance of the Person class\n",
    "person = Person(\"John\", 30)\n",
    "\n",
    "# Accessing and modifying the attributes using public methods\n",
    "print(person.get_name())  # Output: John\n",
    "print(person.get_age())   # Output: 30\n",
    "\n",
    "person.set_name(\"Jane\")\n",
    "person.set_age(25)\n",
    "\n",
    "print(person.get_name())  # Output: Jane\n",
    "print(person.get_age())   # Output: 25\n",
    "\n",
    "# Attempting to access private attributes directly will result in an error\n",
    "# print(person.__name)  # AttributeError: 'Person' object has no attribute '__name'\n",
    "# print(person.__age)   # AttributeError: 'Person' object has no attribute '__age'\n"
   ]
  },
  {
   "cell_type": "markdown",
   "id": "6dcd4864-dfe2-47dd-8293-f3e1e07a01d3",
   "metadata": {},
   "source": [
    "Explanation:\n",
    "\n",
    "    Private Attributes: __name and __age are private attributes, meaning they cannot be accessed directly from outside the class.\n",
    "    Public Methods: get_name, set_name, get_age, and set_age are public methods that provide a way to access and modify the private attributes.\n",
    "    Validation: The set_age method includes a validation check to ensure that the age is positive, demonstrating how encapsulation can be used to enforce rules and constraints on the data.\n",
    "\n",
    "Encapsulation helps in:\n",
    "\n",
    "    Data Hiding: By restricting direct access to some of the object's attributes, encapsulation ensures that the internal representation of the object is hidden from the outside.\n",
    "    Modularity: Encapsulation helps in modularizing code, making it easier to understand, maintain, and modify.\n",
    "    Controlled Access: Encapsulation provides controlled access to the attributes through public methods, allowing validation and error checking."
   ]
  },
  {
   "cell_type": "markdown",
   "id": "df7173e3-bcb3-4264-956e-14cee0de74e2",
   "metadata": {},
   "source": [
    "# 25. What is polymorphism? Explain it with an example."
   ]
  },
  {
   "cell_type": "markdown",
   "id": "9e04de81-1294-4fef-9db3-37be7452fe99",
   "metadata": {},
   "source": [
    "Polymorphism in Python\n",
    "\n",
    "Polymorphism is one of the fundamental concepts in Object-Oriented Programming (OOP). It allows objects of different classes to be treated as objects of a common super class. Polymorphism enables methods to be used interchangeably across different classes, as long as they follow the same interface. In simpler terms, polymorphism allows the same operation to be performed in different ways depending on the object.\n",
    "Key Concepts:\n",
    "\n",
    "    Method Overriding: When a derived class has a method with the same name as a method in its base class, the derived class's method overrides the base class's method.\n",
    "    Method Overloading: Although Python does not support traditional method overloading (multiple methods with the same name but different parameters), you can achieve similar behavior using default parameters or variable-length arguments.\n",
    "\n",
    "Example of Polymorphism\n",
    "\n",
    "Let's create an example using a common interface (method name) in different classes. We'll define a speak method in multiple classes and demonstrate how polymorphism works.\n",
    "Example:"
   ]
  },
  {
   "cell_type": "code",
   "execution_count": 8,
   "id": "82c1f464-27fc-4794-8326-23730600f7b5",
   "metadata": {},
   "outputs": [
    {
     "name": "stdout",
     "output_type": "stream",
     "text": [
      "Woof!\n",
      "Meow!\n",
      "Moo!\n"
     ]
    }
   ],
   "source": [
    "class Animal:\n",
    "    def speak(self):\n",
    "        raise NotImplementedError(\"Subclass must implement abstract method\")\n",
    "\n",
    "class Dog(Animal):\n",
    "    def speak(self):\n",
    "        return \"Woof!\"\n",
    "\n",
    "class Cat(Animal):\n",
    "    def speak(self):\n",
    "        return \"Meow!\"\n",
    "\n",
    "class Cow(Animal):\n",
    "    def speak(self):\n",
    "        return \"Moo!\"\n",
    "\n",
    "# Function that takes an animal object and calls its speak method\n",
    "def make_animal_speak(animal):\n",
    "    print(animal.speak())\n",
    "\n",
    "# Creating instances of different animal classes\n",
    "dog = Dog()\n",
    "cat = Cat()\n",
    "cow = Cow()\n",
    "\n",
    "# Calling the function with different animal objects\n",
    "make_animal_speak(dog)  # Output: Woof!\n",
    "make_animal_speak(cat)  # Output: Meow!\n",
    "make_animal_speak(cow)  # Output: Moo!\n"
   ]
  },
  {
   "cell_type": "markdown",
   "id": "f4b55527-5cf7-4842-a035-4016839df4a7",
   "metadata": {},
   "source": [
    "Explanation:\n",
    "\n",
    "    Animal Class: This is the base class with an abstract speak method. The method is not implemented in the Animal class itself but is intended to be overridden in derived classes.\n",
    "    Dog, Cat, and Cow Classes: These are derived classes that override the speak method to provide specific implementations for each type of animal.\n",
    "    make_animal_speak Function: This function takes an object of the Animal type (or any subclass of Animal) and calls its speak method. Thanks to polymorphism, it doesn't matter which specific subclass instance is passed to the function; it will call the correct speak method for that particular instance.\n",
    "\n",
    "Benefits of Polymorphism:\n",
    "\n",
    "    Code Reusability: Polymorphism allows you to write more generic and reusable code. Functions and methods can operate on objects of different classes, as long as they follow the same interface.\n",
    "    Flexibility and Maintainability: Polymorphism makes it easier to add new classes and methods without changing existing code. This enhances flexibility and makes the code easier to maintain.\n",
    "    Simplifies Code: It reduces the need for conditional statements and type checks, leading to cleaner and more readable code.\n",
    "\n",
    "Summary\n",
    "\n",
    "Polymorphism in Python allows methods to be used interchangeably across different classes, enabling the same operation to behave differently based on the object. This is typically achieved through method overriding, where derived classes provide specific implementations of methods defined in a base class. Polymorphism enhances code reusability, flexibility, and simplicity, making it a powerful feature of Object-Oriented Programming.\n"
   ]
  },
  {
   "cell_type": "markdown",
   "id": "de57abb2-311a-45b9-8881-db97fa09680a",
   "metadata": {},
   "source": [
    "# Question 1.2 Which of the following identifier names are invalid and why?\n",
    "# a)serial_no.\n",
    "# b) 1st_Room\n",
    "# c) Hundred$\n",
    "# d)Total_Marks\n",
    "# e)total-Marks\n",
    "# f)Total Marks\n",
    "# g) True\n",
    "# h) _Percentag"
   ]
  },
  {
   "cell_type": "markdown",
   "id": "65124b3e-5a42-4279-9951-657d61a82c55",
   "metadata": {},
   "source": [
    "In Python, identifiers (variable names, function names, class names, etc.) must follow certain rules:\n",
    "\n",
    "    Identifiers can only contain letters (a-z, A-Z), digits (0-9), and underscores (_).\n",
    "    Identifiers must start with a letter or an underscore (_). They cannot start with a digit.\n",
    "    Identifiers cannot be a reserved word (keyword) in Python.\n",
    "    Identifiers are case-sensitive.\n",
    "\n",
    "Given these rules, let's evaluate each identifier from the provided image:\n",
    "\n",
    "a) Serial_no: Valid. It contains letters and an underscore and starts with a letter.\n",
    "\n",
    "b) 1st_Room: Invalid. Identifiers cannot start with a digit.\n",
    "\n",
    "c) Hundred$: Invalid. The dollar sign ($) is not allowed in identifiers.\n",
    "\n",
    "d) Total_Marks: Valid. It contains letters and an underscore and starts with a letter.\n",
    "\n",
    "e) total-Marks: Invalid. The hyphen (-) is not allowed in identifiers.\n",
    "\n",
    "f) Total Marks: Invalid. Spaces are not allowed in identifiers.\n",
    "\n",
    "g) True: Invalid. \"True\" is a reserved keyword in Python.\n",
    "\n",
    "h) _Percentag: Valid. It contains letters and an underscore and starts with an underscore.\n",
    "Summary of Validity:\n",
    "\n",
    "    a) Serial_no: Valid\n",
    "    b) 1st_Room: Invalid (starts with a digit)\n",
    "    c) Hundred$: Invalid (contains a dollar sign)\n",
    "    d) Total_Marks: Valid\n",
    "    e) total-Marks: Invalid (contains a hyphen)\n",
    "    f) Total Marks: Invalid (contains a space)\n",
    "    g) True: Invalid (reserved keyword)\n",
    "    h) _Percentag: Valid\n",
    "\n",
    "So, the invalid identifiers are:\n",
    "\n",
    "    1st_Room\n",
    "    Hundred$\n",
    "    total-Marks\n",
    "    Total Marks\n",
    "    True\n",
    "\n"
   ]
  },
  {
   "cell_type": "markdown",
   "id": "8b1cda8b-adf5-4c50-a5c5-c9f4e809ee46",
   "metadata": {},
   "source": [
    "Question 1.3\n",
    "\n",
    "name = [\"Mohan\", \"dash\", \"karam\", \"chandra\", \"gandhi\", \"Bapu\"]\n",
    "\n",
    "do the following operations in this list:\n",
    "\n",
    "a) add an element 'freedom_fighter' in this list at the 0th index.\n",
    "\n",
    "b) find the output of the following, and explain how?"
   ]
  },
  {
   "cell_type": "raw",
   "id": "e9d229f4-7b04-4466-8cb3-351a7ff1222a",
   "metadata": {},
   "source": [
    "name = [\"freedom_fighter\", \"Bapuji\", \"Mohan\", \"dash\", \"karam\", \"chandra\", \"gandhi\"]\n",
    "length1 = len((name[-len(name):1:-1]))\n",
    "length2 = len((name[-len(name)+1:1:-1]))\n",
    "print(length1 + length2)\n"
   ]
  },
  {
   "cell_type": "markdown",
   "id": "2b32439f-3355-479f-b9fd-1e0e21bfeb35",
   "metadata": {},
   "source": [
    "c) add two more elements in the name [\"NetaJi\", \"Bose\"] at the end of the list.\n",
    "\n",
    "d) what will be the value of temp:"
   ]
  },
  {
   "cell_type": "raw",
   "id": "8a541f75-cfec-4305-a9dd-368762d68b56",
   "metadata": {},
   "source": [
    "name = [\"Bapuji\", \"dash\", \"karam\", \"chandra\", \"gandhi\", \"Mohan\"]\n",
    "temp = name[-1]\n",
    "name[-1] = name[0]\n",
    "name[0] = temp\n",
    "print(name)\n"
   ]
  },
  {
   "cell_type": "markdown",
   "id": "c5917d29-fc5b-4e21-a5a5-e27fd70b39cc",
   "metadata": {},
   "source": [
    "Part (a)\n",
    "\n",
    "To add an element 'freedom_fighter' at the 0th index, we use the insert method:\n",
    "\n",
    "python\n",
    "\n",
    "name = [\"Mohan\", \"dash\", \"karam\", \"chandra\", \"gandhi\", \"Bapu\"]\n",
    "name.insert(0, 'freedom_fighter')\n",
    "print(name)\n",
    "\n",
    "Output:\n",
    "\n",
    "python\n",
    "\n",
    "['freedom_fighter', 'Mohan', 'dash', 'karam', 'chandra', 'gandhi', 'Bapu']\n",
    "\n",
    "Part (b)\n",
    "\n",
    "Find the output and explain:\n",
    "\n",
    "Given:\n",
    "\n",
    "python\n",
    "\n",
    "name = [\"freedom_fighter\", \"Bapuji\", \"Mohan\", \"dash\", \"karam\", \"chandra\", \"gandhi\"]\n",
    "length1 = len((name[-len(name):1:-1]))\n",
    "length2 = len((name[-len(name)+1:1:-1]))\n",
    "print(length1 + length2)\n",
    "\n",
    "Let's break it down:\n",
    "\n",
    "    name[-len(name):1:-1]: Starts from the last element to the element just before index 1 in reverse order.\n",
    "        It results in: [\"gandhi\", \"chandra\", \"karam\", \"dash\"]\n",
    "        Length: 4\n",
    "\n",
    "    name[-len(name)+1:1:-1]: Starts from the second last element to the element just before index 1 in reverse order.\n",
    "        It results in: [\"gandhi\", \"chandra\", \"karam\"]\n",
    "        Length: 3\n",
    "\n",
    "Therefore, length1 + length2 = 4 + 3 = 7\n",
    "\n",
    "Output:\n",
    "\n",
    "python\n",
    "\n",
    "7\n",
    "\n",
    "Part (c)\n",
    "\n",
    "Add two more elements [\"NetaJi\", \"Bose\"] at the end of the list:\n",
    "\n",
    "python\n",
    "\n",
    "name = [\"Mohan\", \"dash\", \"karam\", \"chandra\", \"gandhi\", \"Bapu\"]\n",
    "name.extend([\"NetaJi\", \"Bose\"])\n",
    "print(name)\n",
    "\n",
    "Output:\n",
    "\n",
    "python\n",
    "\n",
    "['Mohan', 'dash', 'karam', 'chandra', 'gandhi', 'Bapu', 'NetaJi', 'Bose']\n",
    "\n",
    "Part (d)\n",
    "\n",
    "What will be the value of temp?\n",
    "\n",
    "Given:\n",
    "\n",
    "python\n",
    "\n",
    "name = [\"Bapuji\", \"dash\", \"karam\", \"chandra\", \"gandhi\", \"Mohan\"]\n",
    "temp = name[-1]\n",
    "name[-1] = name[0]\n",
    "name[0] = temp\n",
    "print(name)\n",
    "\n",
    "Step-by-step:\n",
    "\n",
    "    temp = name[-1]: temp becomes \"Mohan\".\n",
    "    name[-1] = name[0]: Last element becomes \"Bapuji\".\n",
    "    name[0] = temp: First element becomes \"Mohan\".\n",
    "\n",
    "So, the modified list is:\n",
    "\n",
    "python\n",
    "\n",
    "['Mohan', 'dash', 'karam', 'chandra', 'gandhi', 'Bapuji']\n",
    "\n",
    "Output:\n",
    "\n",
    "python\n",
    "\n",
    "['Mohan', 'dash', 'karam', 'chandra', 'gandhi', 'Bapuji']"
   ]
  },
  {
   "cell_type": "raw",
   "id": "fb122f5d-6077-4957-b7c6-48ceb33789f8",
   "metadata": {},
   "source": [
    "Question 1.4. Find the output of the following.\n",
    "\n",
    "python\n",
    "\n",
    "animal = ['Human', 'cat', 'mat', 'cat', 'rat', 'Human', 'Lion']\n",
    "print(animal.count('Human'))\n",
    "print(animal.index('rat'))\n",
    "print(len(animal))"
   ]
  },
  {
   "cell_type": "markdown",
   "id": "cbc966ea-a927-4d6e-8984-d1e74a9f04a9",
   "metadata": {},
   "source": [
    "Now let's determine the output for each statement.\n",
    "Given List\n",
    "\n",
    "python\n",
    "\n",
    "animal = ['Human', 'cat', 'mat', 'cat', 'rat', 'Human', 'Lion']\n",
    "\n",
    "Statements and Their Outputs\n",
    "\n",
    "    Count of 'Human'\n",
    "\n",
    "    python\n",
    "\n",
    "print(animal.count('Human'))\n",
    "\n",
    "The count method returns the number of occurrences of the specified element in the list. Here, 'Human' appears twice in the list.\n",
    "\n",
    "Output:\n",
    "\n",
    "python\n",
    "\n",
    "2\n",
    "\n",
    "Index of 'rat'\n",
    "\n",
    "python\n",
    "\n",
    "print(animal.index('rat'))\n",
    "\n",
    "The index method returns the index of the first occurrence of the specified element in the list. Here, 'rat' appears at index 4.\n",
    "\n",
    "Output:\n",
    "\n",
    "python\n",
    "\n",
    "4\n",
    "\n",
    "Length of the list\n",
    "\n",
    "python\n",
    "\n",
    "print(len(animal))\n",
    "\n",
    "The len function returns the number of elements in the list. Here, the list has 7 elements.\n",
    "\n",
    "Output:\n",
    "\n",
    "python\n",
    "\n",
    "    7\n",
    "\n",
    "Summary of Outputs\n",
    "\n",
    "    print(animal.count('Human')) -> 2\n",
    "    print(animal.index('rat')) -> 4\n",
    "    print(len(animal)) -> 7"
   ]
  },
  {
   "cell_type": "markdown",
   "id": "47838477-e9c3-46a9-af01-c7fe0628e9cb",
   "metadata": {},
   "source": [
    "a) Length of the tuple\n",
    "\n",
    "python\n",
    "\n",
    "print(len(tuple1))\n",
    "\n",
    "The len function returns the number of elements in the tuple. Here, the tuple has 9 elements.\n",
    "\n",
    "Output:\n",
    "\n",
    "python\n",
    "\n",
    "9\n",
    "\n",
    "b) Access the value associated with the key \"name\"\n",
    "\n",
    "python\n",
    "\n",
    "print(tuple1[-1][\"name\"])\n",
    "\n",
    "tuple1[-1] accesses the last element of the tuple, which is {\"name\": \"Navneet\"}. The key \"name\" has the value \"Navneet\".\n",
    "\n",
    "Output:\n",
    "\n",
    "python\n",
    "\n",
    "Navneet\n",
    "\n",
    "c) Fetch the value of roll_no from this tuple\n",
    "\n",
    "The element {\"roll_no\": 3} is the second last element in the tuple. To fetch the value:\n",
    "\n",
    "python\n",
    "\n",
    "roll_no_value = tuple1[-2][\"roll_no\"]\n",
    "print(roll_no_value)\n",
    "\n",
    "Output:\n",
    "\n",
    "python\n",
    "\n",
    "3\n",
    "\n",
    "d) Access the second element of the third last item in the tuple\n",
    "\n",
    "python\n",
    "\n",
    "print(tuple1[-3][1])\n",
    "\n",
    "tuple1[-3] accesses the third last element, which is the tuple (\"sita\", \"geeta\", 22). The second element (index 1) is \"geeta\".\n",
    "\n",
    "Output:\n",
    "\n",
    "python\n",
    "\n",
    "geeta\n",
    "\n",
    "e) Fetch the element \"22\" from this tuple\n",
    "\n",
    "The element 22 is the third element in the tuple (\"sita\", \"geeta\", 22), which is the third last element in tuple1.\n",
    "\n",
    "python\n",
    "\n",
    "element_22 = tuple1[-3][2]\n",
    "print(element_22)\n",
    "\n",
    "Output:\n",
    "\n",
    "python\n",
    "\n",
    "22\n",
    "\n",
    "Summary of Outputs\n",
    "\n",
    "    a) print(len(tuple1)) -> 9\n",
    "    b) print(tuple1[-1][\"name\"]) -> Navneet\n",
    "    c) Fetch the value of roll_no -> 3\n",
    "    d) print(tuple1[-3][1]) -> geeta\n",
    "    e) Fetch the element \"22\" -> 22"
   ]
  },
  {
   "cell_type": "raw",
   "id": "f70b10cc-ae20-4278-a06c-89904b26f6d4",
   "metadata": {},
   "source": [
    "Question 1.6. write a programme to display the appropriate message as per the color of signal (RED-stp/yellow-stay/Green-Go) at the road crossing."
   ]
  },
  {
   "cell_type": "markdown",
   "id": "d8253c3c-c919-4072-8541-9cd0c954aca7",
   "metadata": {},
   "source": [
    "Here's a simple Python program that takes a color as input and displays the appropriate message based on the color of the traffic signal:"
   ]
  },
  {
   "cell_type": "code",
   "execution_count": 2,
   "id": "870e4b15-3789-42b1-a908-db89a748da7d",
   "metadata": {},
   "outputs": [
    {
     "name": "stdin",
     "output_type": "stream",
     "text": [
      "Enter the color of the traffic signal (RED/YELLOW/GREEN):  RED\n"
     ]
    },
    {
     "name": "stdout",
     "output_type": "stream",
     "text": [
      "STOP\n"
     ]
    }
   ],
   "source": [
    "# Function to display message based on the signal color\n",
    "def traffic_signal_message(color):\n",
    "    # Convert color to lowercase to make the input case-insensitive\n",
    "    color = color.lower()\n",
    "    \n",
    "    # Check the color and display the appropriate message\n",
    "    if color == 'red':\n",
    "        return \"STOP\"\n",
    "    elif color == 'yellow':\n",
    "        return \"STAY\"\n",
    "    elif color == 'green':\n",
    "        return \"GO\"\n",
    "    else:\n",
    "        return \"Invalid color. Please enter RED, YELLOW, or GREEN.\"\n",
    "\n",
    "# Main function\n",
    "def main():\n",
    "    # Input the color of the traffic signal\n",
    "    color = input(\"Enter the color of the traffic signal (RED/YELLOW/GREEN): \")\n",
    "    \n",
    "    # Get the appropriate message for the given color\n",
    "    message = traffic_signal_message(color)\n",
    "    \n",
    "    # Display the message\n",
    "    print(message)\n",
    "\n",
    "# Run the main function\n",
    "if __name__ == \"__main__\":\n",
    "    main()\n"
   ]
  },
  {
   "cell_type": "markdown",
   "id": "dfd6c5a2-4951-4bb1-8243-b4731243d878",
   "metadata": {},
   "source": [
    "Explanation:\n",
    "\n",
    "    The traffic_signal_message function takes the color as input and returns the appropriate message based on the color.\n",
    "        It converts the input color to lowercase to handle case insensitivity.\n",
    "        It uses conditional statements to check the color and return the corresponding message.\n",
    "\n",
    "    The main function handles the user input and displays the message.\n",
    "        It prompts the user to enter the color of the traffic signal.\n",
    "        It calls the traffic_signal_message function with the user input and prints the returned message.\n",
    "\n",
    "    The program runs the main function if it is executed as the main module.\n",
    "\n",
    "How to Run:\n",
    "\n",
    "    Save the code in a file, for example, traffic_signal.py.\n",
    "    Run the program using a Python interpreter. For example:"
   ]
  },
  {
   "cell_type": "code",
   "execution_count": 3,
   "id": "86adbda2-8782-4742-9c76-b7c4f755ec5a",
   "metadata": {},
   "outputs": [
    {
     "ename": "SyntaxError",
     "evalue": "invalid syntax (2493239386.py, line 1)",
     "output_type": "error",
     "traceback": [
      "\u001b[0;36m  Cell \u001b[0;32mIn[3], line 1\u001b[0;36m\u001b[0m\n\u001b[0;31m    python traffic_signal.py\u001b[0m\n\u001b[0m           ^\u001b[0m\n\u001b[0;31mSyntaxError\u001b[0m\u001b[0;31m:\u001b[0m invalid syntax\n"
     ]
    }
   ],
   "source": [
    "python traffic_signal.py\n"
   ]
  },
  {
   "cell_type": "markdown",
   "id": "48316fed-3b93-4e13-bd76-c8128d63ae6f",
   "metadata": {},
   "source": [
    "    Enter the color of the traffic signal when prompted, and the program will display the appropriate message.\n",
    "\n",
    "This program handles the three main traffic signal colors (RED, YELLOW, GREEN) and displays \"Invalid color\" for any other input."
   ]
  },
  {
   "cell_type": "raw",
   "id": "6b50d29a-fe56-415b-980d-68c146596ffc",
   "metadata": {},
   "source": [
    "Question 1.7. write a program to create a simple calculator performing ony four basic operations(+,-,/,*)."
   ]
  },
  {
   "cell_type": "markdown",
   "id": "e0f9246b-06b0-4577-bb41-afd25f430f2d",
   "metadata": {},
   "source": [
    "Here's a simple calculator program in Python that performs the four basic arithmetic operations: addition, subtraction, multiplication, and division."
   ]
  },
  {
   "cell_type": "code",
   "execution_count": 4,
   "id": "a10b5fc4-2e81-440a-970d-f1dc30daf26f",
   "metadata": {},
   "outputs": [
    {
     "name": "stdout",
     "output_type": "stream",
     "text": [
      "Simple Calculator\n",
      "Select operation:\n",
      "1. Add\n",
      "2. Subtract\n",
      "3. Multiply\n",
      "4. Divide\n"
     ]
    },
    {
     "name": "stdin",
     "output_type": "stream",
     "text": [
      "Enter choice(1/2/3/4):  1\n",
      "Enter first number:  22\n",
      "Enter second number:  22\n"
     ]
    },
    {
     "name": "stdout",
     "output_type": "stream",
     "text": [
      "The result is: 44.0\n"
     ]
    }
   ],
   "source": [
    "# Function to add two numbers\n",
    "def add(x, y):\n",
    "    return x + y\n",
    "\n",
    "# Function to subtract two numbers\n",
    "def subtract(x, y):\n",
    "    return x - y\n",
    "\n",
    "# Function to multiply two numbers\n",
    "def multiply(x, y):\n",
    "    return x * y\n",
    "\n",
    "# Function to divide two numbers\n",
    "def divide(x, y):\n",
    "    if y == 0:\n",
    "        return \"Error! Division by zero.\"\n",
    "    else:\n",
    "        return x / y\n",
    "\n",
    "# Main function\n",
    "def main():\n",
    "    print(\"Simple Calculator\")\n",
    "    print(\"Select operation:\")\n",
    "    print(\"1. Add\")\n",
    "    print(\"2. Subtract\")\n",
    "    print(\"3. Multiply\")\n",
    "    print(\"4. Divide\")\n",
    "    \n",
    "    # Take input from the user\n",
    "    choice = input(\"Enter choice(1/2/3/4): \")\n",
    "\n",
    "    # Check if the choice is one of the four options\n",
    "    if choice in ['1', '2', '3', '4']:\n",
    "        num1 = float(input(\"Enter first number: \"))\n",
    "        num2 = float(input(\"Enter second number: \"))\n",
    "\n",
    "        if choice == '1':\n",
    "            print(f\"The result is: {add(num1, num2)}\")\n",
    "        elif choice == '2':\n",
    "            print(f\"The result is: {subtract(num1, num2)}\")\n",
    "        elif choice == '3':\n",
    "            print(f\"The result is: {multiply(num1, num2)}\")\n",
    "        elif choice == '4':\n",
    "            print(f\"The result is: {divide(num1, num2)}\")\n",
    "    else:\n",
    "        print(\"Invalid input\")\n",
    "\n",
    "# Run the main function\n",
    "if __name__ == \"__main__\":\n",
    "    main()\n"
   ]
  },
  {
   "cell_type": "markdown",
   "id": "c42c9c3e-4baf-4205-8511-47e5ba2afc8f",
   "metadata": {},
   "source": [
    "Explanation:\n",
    "\n",
    "    Functions for Operations:\n",
    "        add(x, y): Returns the sum of x and y.\n",
    "        subtract(x, y): Returns the difference between x and y.\n",
    "        multiply(x, y): Returns the product of x and y.\n",
    "        divide(x, y): Returns the quotient of x divided by y. It includes a check to avoid division by zero.\n",
    "\n",
    "    Main Function:\n",
    "        Displays the menu of operations.\n",
    "        Takes the user's choice of operation.\n",
    "        Prompts the user to input two numbers.\n",
    "        Performs the chosen operation by calling the corresponding function and prints the result.\n",
    "        Handles invalid input for the operation choice.\n",
    "\n",
    "    Running the Program:\n",
    "        The main function is called if the script is run as the main module.\n",
    "\n",
    "How to Run:\n",
    "\n",
    "    Save the code in a file, for example, simple_calculator.py.\n",
    "    Run the program using a Python interpreter. For example:\n",
    "\n",
    "    bash\n",
    "\n",
    "    python simple_calculator.py\n",
    "\n",
    "    Follow the prompts to select an operation and input numbers to get the result.\n",
    "\n"
   ]
  },
  {
   "cell_type": "raw",
   "id": "8e386b84-c0bb-44c9-9694-22f8552ade9f",
   "metadata": {},
   "source": [
    "Question 1.8. write a program to find the larger of the three pre-specified numbers using ternary operators."
   ]
  },
  {
   "cell_type": "markdown",
   "id": "306768f9-2c3e-49a7-9275-b67074d0b3a1",
   "metadata": {},
   "source": [
    "You can find the largest of three pre-specified numbers using ternary operators in Python. Here is a simple program to do that:"
   ]
  },
  {
   "cell_type": "code",
   "execution_count": 5,
   "id": "36efe340-1e99-447f-8fc0-2a37bfb7ece6",
   "metadata": {},
   "outputs": [
    {
     "name": "stdout",
     "output_type": "stream",
     "text": [
      "The largest number among 10, 20, and 15 is 20\n"
     ]
    }
   ],
   "source": [
    "# Pre-specified numbers\n",
    "a = 10\n",
    "b = 20\n",
    "c = 15\n",
    "\n",
    "# Using ternary operators to find the largest number\n",
    "largest = a if (a > b and a > c) else (b if b > c else c)\n",
    "\n",
    "# Output the largest number\n",
    "print(f\"The largest number among {a}, {b}, and {c} is {largest}\")\n"
   ]
  },
  {
   "cell_type": "markdown",
   "id": "87a1c331-955d-49df-8852-973258c0ca71",
   "metadata": {},
   "source": [
    "Explanation:\n",
    "\n",
    "    Ternary Operator: In Python, the ternary operator is a one-liner shorthand for the if-else statement. It is written as x if condition else y.\n",
    "    The expression a if (a > b and a > c) else (b if b > c else c) evaluates as follows:\n",
    "        First, it checks if a is greater than both b and c. If true, it assigns a to largest.\n",
    "        If the first condition is false, it then checks if b is greater than c. If true, it assigns b to largest.\n",
    "        If both previous conditions are false, it assigns c to largest.\n",
    "\n",
    "How to Run:\n",
    "\n",
    "    Save the code in a file, for example, largest_of_three.py.\n",
    "    Run the program using a Python interpreter. For example:\n",
    "\n",
    "    bash\n",
    "\n",
    "    python largest_of_three.py\n",
    "\n",
    "    The program will output the largest of the three pre-specified numbers.\n",
    "\n",
    "You can modify the values of a, b, and c to test with different numbers.\n"
   ]
  },
  {
   "cell_type": "raw",
   "id": "0ef384de-f264-4bc3-ba9c-705296b4e42d",
   "metadata": {},
   "source": [
    "Question 1.10. write a program to find the sum of all the positive numbers entered by the users. As soon as the user enters a negative number , stop taking in any further input from the user and display the sum."
   ]
  },
  {
   "cell_type": "markdown",
   "id": "96e97b6a-78eb-437c-9a99-f4b3ac493fcf",
   "metadata": {},
   "source": [
    "Here's a Python program that continuously takes input from the user and calculates the sum of all positive numbers. The program stops taking input when the user enters a negative number and then displays the total sum."
   ]
  },
  {
   "cell_type": "code",
   "execution_count": 6,
   "id": "c681b104-d53b-45c2-b77c-2e2a4f6788f0",
   "metadata": {},
   "outputs": [
    {
     "name": "stdin",
     "output_type": "stream",
     "text": [
      "Enter a number (negative number to stop):  -9\n"
     ]
    },
    {
     "name": "stdout",
     "output_type": "stream",
     "text": [
      "The sum of all positive numbers entered is: 0\n"
     ]
    }
   ],
   "source": [
    "def main():\n",
    "    total_sum = 0\n",
    "\n",
    "    while True:\n",
    "        try:\n",
    "            num = float(input(\"Enter a number (negative number to stop): \"))\n",
    "            \n",
    "            if num < 0:\n",
    "                break\n",
    "            else:\n",
    "                total_sum += num\n",
    "        except ValueError:\n",
    "            print(\"Invalid input. Please enter a valid number.\")\n",
    "    \n",
    "    print(f\"The sum of all positive numbers entered is: {total_sum}\")\n",
    "\n",
    "if __name__ == \"__main__\":\n",
    "    main()\n"
   ]
  },
  {
   "cell_type": "markdown",
   "id": "b74f25b8-28f2-48d6-b174-6ac9fc41467f",
   "metadata": {},
   "source": [
    "Explanation:\n",
    "\n",
    "    Initialization:\n",
    "        total_sum is initialized to 0 to keep track of the sum of positive numbers.\n",
    "\n",
    "    Infinite Loop:\n",
    "        The while True loop runs indefinitely until a negative number is entered.\n",
    "        Within the loop, the program prompts the user to enter a number and converts it to a float using float(input(...)).\n",
    "\n",
    "    Input Validation:\n",
    "        The program uses a try...except block to handle invalid input (non-numeric values). If the input is invalid, it prints an error message and prompts the user to enter another number.\n",
    "\n",
    "    Check for Negative Number:\n",
    "        If the entered number is negative, the break statement terminates the loop.\n",
    "        If the entered number is positive or zero, it is added to total_sum.\n",
    "\n",
    "    Display the Result:\n",
    "        After exiting the loop, the program prints the sum of all positive numbers entered by the user.\n",
    "\n",
    "How to Run:\n",
    "\n",
    "    Save the code in a file, for example, sum_positive_numbers.py.\n",
    "    Run the program using a Python interpreter. For example:\n",
    "\n",
    "    bash\n",
    "\n",
    "    python sum_positive_numbers.py\n",
    "\n",
    "    Enter positive numbers when prompted, and when you enter a negative number, the program will display the total sum of all previously entered positive numbers.\n",
    "\n"
   ]
  },
  {
   "cell_type": "raw",
   "id": "41b0dd27-9a60-4e5f-8ceb-915849f4e032",
   "metadata": {},
   "source": [
    "Question 1.9. write a program to find the factors of a whole number using a while loop.\n"
   ]
  },
  {
   "cell_type": "markdown",
   "id": "2411e0b7-303b-4cd9-bd95-df2141980831",
   "metadata": {},
   "source": [
    "Here is a Python program that finds the factors of a whole number using a while loop:"
   ]
  },
  {
   "cell_type": "code",
   "execution_count": 7,
   "id": "074cfaa4-2c7b-45c3-ba14-873071b5b4d1",
   "metadata": {},
   "outputs": [
    {
     "name": "stdin",
     "output_type": "stream",
     "text": [
      "Enter a whole number:  0\n"
     ]
    },
    {
     "name": "stdout",
     "output_type": "stream",
     "text": [
      "The factors of 0 are: []\n"
     ]
    }
   ],
   "source": [
    "def find_factors(number):\n",
    "    factors = []\n",
    "    i = 1\n",
    "    while i <= number:\n",
    "        if number % i == 0:\n",
    "            factors.append(i)\n",
    "        i += 1\n",
    "    return factors\n",
    "\n",
    "def main():\n",
    "    try:\n",
    "        number = int(input(\"Enter a whole number: \"))\n",
    "        if number < 0:\n",
    "            print(\"Please enter a non-negative whole number.\")\n",
    "        else:\n",
    "            factors = find_factors(number)\n",
    "            print(f\"The factors of {number} are: {factors}\")\n",
    "    except ValueError:\n",
    "        print(\"Invalid input. Please enter a valid whole number.\")\n",
    "\n",
    "if __name__ == \"__main__\":\n",
    "    main()\n"
   ]
  },
  {
   "cell_type": "markdown",
   "id": "9a3307e8-4319-48bf-9b53-b941b09e07b0",
   "metadata": {},
   "source": [
    "Explanation:\n",
    "\n",
    "    Function find_factors:\n",
    "        Takes an integer number as input.\n",
    "        Initializes an empty list factors to store the factors.\n",
    "        Uses a while loop to iterate from 1 to number.\n",
    "        If number is divisible by i (i.e., number % i == 0), i is a factor and is appended to the factors list.\n",
    "        Increments i by 1 in each iteration.\n",
    "\n",
    "    Main Function:\n",
    "        Prompts the user to input a whole number.\n",
    "        Converts the input to an integer.\n",
    "        Checks if the number is non-negative. If it is negative, it prints an error message.\n",
    "        Calls the find_factors function to get the list of factors and prints the factors.\n",
    "        Handles invalid input (non-numeric values) using a try...except block.\n",
    "\n",
    "    Running the Program:\n",
    "        The main function is called if the script is run as the main module.\n",
    "\n",
    "How to Run:\n",
    "\n",
    "    Save the code in a file, for example, find_factors.py.\n",
    "    Run the program using a Python interpreter. For example:\n",
    "\n",
    "    bash\n",
    "\n",
    "    python find_factors.py\n",
    "\n",
    "    Enter a whole number when prompted, and the program will display its factors.\n",
    "\n"
   ]
  },
  {
   "cell_type": "raw",
   "id": "ab76052c-c2e7-4712-bd1b-e108255d73bb",
   "metadata": {},
   "source": [
    "Question 1.11. write a program to find prime numbers between 2 to 100 using nested for loops."
   ]
  },
  {
   "cell_type": "markdown",
   "id": "0c60f4b0-8328-439d-b072-b7eefac053c8",
   "metadata": {},
   "source": [
    "Here's a Python program that finds prime numbers between 2 and 100 using nested for loops:"
   ]
  },
  {
   "cell_type": "code",
   "execution_count": 8,
   "id": "6608a07d-c8f5-4ebc-899f-222d0378b678",
   "metadata": {},
   "outputs": [
    {
     "name": "stdout",
     "output_type": "stream",
     "text": [
      "Prime numbers between 2 and 100 are: [2, 3, 5, 7, 11, 13, 17, 19, 23, 29, 31, 37, 41, 43, 47, 53, 59, 61, 67, 71, 73, 79, 83, 89, 97]\n"
     ]
    }
   ],
   "source": [
    "def is_prime(num):\n",
    "    if num < 2:\n",
    "        return False\n",
    "    for i in range(2, int(num ** 0.5) + 1):\n",
    "        if num % i == 0:\n",
    "            return False\n",
    "    return True\n",
    "\n",
    "def find_primes(start, end):\n",
    "    primes = []\n",
    "    for num in range(start, end + 1):\n",
    "        if is_prime(num):\n",
    "            primes.append(num)\n",
    "    return primes\n",
    "\n",
    "def main():\n",
    "    start = 2\n",
    "    end = 100\n",
    "    primes = find_primes(start, end)\n",
    "    print(f\"Prime numbers between {start} and {end} are: {primes}\")\n",
    "\n",
    "if __name__ == \"__main__\":\n",
    "    main()\n"
   ]
  },
  {
   "cell_type": "markdown",
   "id": "54db2f4b-d7a3-4748-b19c-a7b78cd0afc5",
   "metadata": {},
   "source": [
    "Explanation:\n",
    "\n",
    "    Function is_prime:\n",
    "        Takes an integer num as input and returns True if num is a prime number and False otherwise.\n",
    "        Checks if num is less than 2, in which case it is not a prime number.\n",
    "        Uses a for loop to check for factors from 2 to the square root of num. If any factor is found, num is not a prime number.\n",
    "\n",
    "    Function find_primes:\n",
    "        Takes two integers start and end as input and returns a list of prime numbers between start and end.\n",
    "        Uses a for loop to iterate through the range from start to end.\n",
    "        Calls is_prime for each number in the range and appends the number to the primes list if it is prime.\n",
    "\n",
    "    Main Function:\n",
    "        Defines the range from 2 to 100.\n",
    "        Calls find_primes to get the list of prime numbers within the specified range and prints the result.\n",
    "\n",
    "    Running the Program:\n",
    "        The main function is called if the script is run as the main module.\n",
    "\n",
    "How to Run:\n",
    "\n",
    "    Save the code in a file, for example, prime_numbers.py.\n",
    "    Run the program using a Python interpreter. For example:\n",
    "\n",
    "    bash\n",
    "\n",
    "    python prime_numbers.py\n",
    "\n",
    "    The program will display the prime numbers between 2 and 100.\n",
    "\n"
   ]
  },
  {
   "cell_type": "raw",
   "id": "d6c06013-9661-4a88-9f35-eba96decdf61",
   "metadata": {},
   "source": [
    "Question 1.12. Write the programs for the following:\n",
    "\n",
    "    Accept the marks of the student in five major subjects and display the same.\n",
    "    Calculate the sum of the marks of all subjects. Divide the total marks by the number of subjects (i.e., 5), calculate percentage = total marks / 5 and display the percentage.\n",
    "    Find the grade of the student as per the following criteria. Hint: Use Match & case for this:\n",
    "\n",
    "Criteria\tGrade\n",
    "percentage > 85\tA\n",
    "percentage < 85 && percentage >= 75\tB\n",
    "percentage < 75 && percentage >= 50\tC\n",
    "percentage > 30 && percentage <= 50\tD\n",
    "percentage < 30\tReappear"
   ]
  },
  {
   "cell_type": "markdown",
   "id": "eb56eb23-ecce-4eee-bd0f-aa8fd85888d9",
   "metadata": {},
   "source": [
    "Here is a Python program that accomplishes the described tasks:"
   ]
  },
  {
   "cell_type": "code",
   "execution_count": null,
   "id": "470604cd-222a-4fe6-9ed2-c9c6c67d3b88",
   "metadata": {},
   "outputs": [
    {
     "name": "stdin",
     "output_type": "stream",
     "text": [
      "Enter marks for subject 1:  2\n",
      "Enter marks for subject 2:  3\n",
      "Enter marks for subject 3:  3\n",
      "Enter marks for subject 4:  2\n",
      "Enter marks for subject 5:  2\n"
     ]
    },
    {
     "name": "stdout",
     "output_type": "stream",
     "text": [
      "\n",
      "Marks entered for the subjects:\n",
      "Subject 1: 2.0\n",
      "Subject 2: 3.0\n",
      "Subject 3: 3.0\n",
      "Subject 4: 2.0\n",
      "Subject 5: 2.0\n",
      "\n",
      "Total Marks: 12.0\n",
      "Percentage: 2.4%\n",
      "Grade: Reappear\n"
     ]
    }
   ],
   "source": [
    "def main():\n",
    "    # Accept marks for five major subjects\n",
    "    marks = []\n",
    "    for i in range(1, 6):\n",
    "        while True:\n",
    "            try:\n",
    "                mark = float(input(f\"Enter marks for subject {i}: \"))\n",
    "                if mark < 0:\n",
    "                    raise ValueError(\"Marks cannot be negative.\")\n",
    "                marks.append(mark)\n",
    "                break\n",
    "            except ValueError as e:\n",
    "                print(e)\n",
    "    \n",
    "    # Display the entered marks\n",
    "    print(\"\\nMarks entered for the subjects:\")\n",
    "    for i, mark in enumerate(marks, 1):\n",
    "        print(f\"Subject {i}: {mark}\")\n",
    "    \n",
    "    # Calculate the sum and percentage of marks\n",
    "    total_marks = sum(marks)\n",
    "    percentage = total_marks / 5\n",
    "    \n",
    "    print(f\"\\nTotal Marks: {total_marks}\")\n",
    "    print(f\"Percentage: {percentage}%\")\n",
    "    \n",
    "    # Determine the grade based on the percentage\n",
    "    def determine_grade(percentage):\n",
    "        match percentage:\n",
    "            case _ if percentage > 85:\n",
    "                return 'A'\n",
    "            case _ if 85 >= percentage >= 75:\n",
    "                return 'B'\n",
    "            case _ if 75 > percentage >= 50:\n",
    "                return 'C'\n",
    "            case _ if 50 > percentage > 30:\n",
    "                return 'D'\n",
    "            case _ if percentage <= 30:\n",
    "                return 'Reappear'\n",
    "\n",
    "    grade = determine_grade(percentage)\n",
    "    print(f\"Grade: {grade}\")\n",
    "\n",
    "if __name__ == \"__main__\":\n",
    "    main()\n"
   ]
  },
  {
   "cell_type": "markdown",
   "id": "74605132-7d01-470b-854e-2e86387e7a4c",
   "metadata": {},
   "source": [
    "Explanation:\n",
    "\n",
    "    Accepting Marks:\n",
    "        The program prompts the user to enter marks for five subjects using a loop. It validates the input to ensure that marks are non-negative numbers.\n",
    "\n",
    "    Displaying Marks:\n",
    "        The program prints the marks entered for each subject.\n",
    "\n",
    "    Calculating Total Marks and Percentage:\n",
    "        It calculates the total marks by summing up the marks of all subjects.\n",
    "        The percentage is calculated by dividing the total marks by 5 (since there are 5 subjects).\n",
    "\n",
    "    Determining the Grade:\n",
    "        The determine_grade function uses pattern matching with the match statement to determine the grade based on the percentage criteria.\n",
    "\n",
    "    Running the Program:\n",
    "        The main function is called if the script is run as the main module."
   ]
  },
  {
   "cell_type": "raw",
   "id": "250b85f4-cc66-41a7-a9a4-7392baa49efe",
   "metadata": {},
   "source": [
    "1.13. Write a program for VIBGYOR Spectrum based on their Wavelength using Wavelength Range:\n",
    "COLOR\tWAVELENGTH (nm)\n",
    "Violet\t400.0 - 440.0\n",
    "Indigo\t440.0 - 460.0\n",
    "Blue\t460.0 - 500.0\n",
    "Green\t500.0 - 570.0\n",
    "Yellow\t570.0 - 590.0\n",
    "Orange\t590.0 - 620.0\n",
    "Red\t620.0 - 720.0"
   ]
  },
  {
   "cell_type": "code",
   "execution_count": null,
   "id": "f743df84-b8cf-452f-8607-81b6cc2347c8",
   "metadata": {},
   "outputs": [],
   "source": [
    "## def get_color(wavelength):\n",
    "    if 400.0 <= wavelength < 440.0:\n",
    "        return \"Violet\"\n",
    "    elif 440.0 <= wavelength < 460.0:\n",
    "        return \"Indigo\"\n",
    "    elif 460.0 <= wavelength < 500.0:\n",
    "        return \"Blue\"\n",
    "    elif 500.0 <= wavelength < 570.0:\n",
    "        return \"Green\"\n",
    "    elif 570.0 <= wavelength < 590.0:\n",
    "        return \"Yellow\"\n",
    "    elif 590.0 <= wavelength < 620.0:\n",
    "        return \"Orange\"\n",
    "    elif 620.0 <= wavelength <= 720.0:\n",
    "        return \"Red\"\n",
    "    else:\n",
    "        return \"Wavelength out of visible spectrum range\"\n",
    "\n",
    "# Example usage\n",
    "wavelength = float(input(\"Enter the wavelength in nm: \"))\n",
    "color = get_color(wavelength)\n",
    "print(f\"The color for wavelength {wavelength} nm is {color}.\")\n"
   ]
  },
  {
   "cell_type": "raw",
   "id": "bee5867b-1c10-486a-aa87-ef4616f81dbf",
   "metadata": {},
   "source": [
    "1.14. Consider the gravitational interactions between the Earth, Moon, and Sun in our solar system.\n",
    "Given:\n",
    "\n",
    "    mass_earth = 5.972e24 # Mass of Earth in kilograms\n",
    "\n",
    "    mass_moon = 7.34767309e22 # Mass of Moon in kilograms\n",
    "\n",
    "    mass_sun = 1.989e30 # Mass of Sun in kilograms\n",
    "\n",
    "    distance_earth_sun = 1.496e11 # Average distance between Earth and Sun in meters\n",
    "\n",
    "    distance_moon_earth = 3.844e8 # Average distance between Moon and Earth in meters\n",
    "\n",
    "Tasks:\n",
    "\n",
    "    Calculate the gravitational force between the Earth and the Sun.\n",
    "    Calculate the gravitational force between the Moon and the Earth.\n",
    "    Compare the calculated forces to determine which gravitational force is stronger.\n",
    "    Explain which celestial body (Earth or Moon) is more attracted to the other based on the comparison."
   ]
  },
  {
   "cell_type": "code",
   "execution_count": 2,
   "id": "7804cc92-9dde-4e4a-820e-672e9e735eb5",
   "metadata": {},
   "outputs": [
    {
     "name": "stdout",
     "output_type": "stream",
     "text": [
      "Gravitational force between Earth and Sun: 3.54e+22 N\n",
      "Gravitational force between Moon and Earth: 1.98e+20 N\n",
      "Earth-Sun gravitational force is stronger.\n",
      "The Earth is more strongly attracted to the Sun.\n"
     ]
    }
   ],
   "source": [
    "# Constants\n",
    "G = 6.67430e-11  # Gravitational constant in m^3 kg^-1 s^-2\n",
    "\n",
    "# Given values\n",
    "mass_earth = 5.972e24  # Mass of Earth in kilograms\n",
    "mass_moon = 7.34767309e22  # Mass of Moon in kilograms\n",
    "mass_sun = 1.989e30  # Mass of Sun in kilograms\n",
    "\n",
    "distance_earth_sun = 1.496e11  # Average distance between Earth and Sun in meters\n",
    "distance_moon_earth = 3.844e8  # Average distance between Moon and Earth in meters\n",
    "\n",
    "# Task 1: Calculate the gravitational force between the Earth and the Sun\n",
    "force_earth_sun = G * (mass_earth * mass_sun) / (distance_earth_sun ** 2)\n",
    "\n",
    "# Task 2: Calculate the gravitational force between the Moon and the Earth\n",
    "force_moon_earth = G * (mass_moon * mass_earth) / (distance_moon_earth ** 2)\n",
    "\n",
    "# Task 3: Compare the calculated forces to determine which gravitational force is stronger\n",
    "if force_earth_sun > force_moon_earth:\n",
    "    stronger_force = \"Earth-Sun gravitational force is stronger.\"\n",
    "else:\n",
    "    stronger_force = \"Moon-Earth gravitational force is stronger.\"\n",
    "\n",
    "# Task 4: Explain which celestial body (Earth or Moon) is more attracted to the other based on the comparison\n",
    "if force_earth_sun > force_moon_earth:\n",
    "    attraction_explanation = \"The Earth is more strongly attracted to the Sun.\"\n",
    "else:\n",
    "    attraction_explanation = \"The Moon is more strongly attracted to the Earth.\"\n",
    "\n",
    "# Print results\n",
    "print(f\"Gravitational force between Earth and Sun: {force_earth_sun:.2e} N\")\n",
    "print(f\"Gravitational force between Moon and Earth: {force_moon_earth:.2e} N\")\n",
    "print(stronger_force)\n",
    "print(attraction_explanation)\n"
   ]
  },
  {
   "cell_type": "code",
   "execution_count": null,
   "id": "927145b3-63e6-4596-bb9c-1f04b3b24410",
   "metadata": {},
   "outputs": [],
   "source": []
  },
  {
   "cell_type": "raw",
   "id": "840a3477-3e74-40ad-943c-085f23726ba2",
   "metadata": {},
   "source": [
    "Question 11. define a python module named constant.py containing constant like pi and the speed of light."
   ]
  },
  {
   "cell_type": "markdown",
   "id": "d6d414b3-874e-44e2-9bdc-aedb58bb173a",
   "metadata": {},
   "source": [
    "Certainly! You can create a Python module named constant.py to store constants such as π (pi) and the speed of light. Here's a basic example of how you might define such a module:"
   ]
  },
  {
   "cell_type": "code",
   "execution_count": 11,
   "id": "647fa2da-0106-41b7-921b-e44a850087b3",
   "metadata": {},
   "outputs": [],
   "source": [
    "# constant.py\n",
    "\n",
    "import math\n",
    "\n",
    "# Mathematical constants\n",
    "PI = math.pi\n",
    "\n",
    "# Physical constants\n",
    "SPEED_OF_LIGHT = 299792458  # in meters per second (m/s)\n",
    "\n",
    "# You can add more constants here as needed\n"
   ]
  },
  {
   "cell_type": "markdown",
   "id": "229ce506-011e-43eb-8213-4133e5bbdb38",
   "metadata": {},
   "source": [
    "In this module:\n",
    "\n",
    "    PI is set to the value of π using math.pi.\n",
    "    SPEED_OF_LIGHT is set to the speed of light in meters per second.\n",
    "\n",
    "You can then import these constants into other Python scripts like so:"
   ]
  },
  {
   "cell_type": "code",
   "execution_count": 12,
   "id": "b3900109-8898-45f5-8625-27a746c21eb1",
   "metadata": {},
   "outputs": [
    {
     "ename": "ModuleNotFoundError",
     "evalue": "No module named 'constant'",
     "output_type": "error",
     "traceback": [
      "\u001b[0;31m---------------------------------------------------------------------------\u001b[0m",
      "\u001b[0;31mModuleNotFoundError\u001b[0m                       Traceback (most recent call last)",
      "Cell \u001b[0;32mIn[12], line 1\u001b[0m\n\u001b[0;32m----> 1\u001b[0m \u001b[38;5;28;01mfrom\u001b[39;00m \u001b[38;5;21;01mconstant\u001b[39;00m \u001b[38;5;28;01mimport\u001b[39;00m PI, SPEED_OF_LIGHT\n\u001b[1;32m      3\u001b[0m \u001b[38;5;28mprint\u001b[39m(\u001b[38;5;124m\"\u001b[39m\u001b[38;5;124mValue of PI:\u001b[39m\u001b[38;5;124m\"\u001b[39m, PI)\n\u001b[1;32m      4\u001b[0m \u001b[38;5;28mprint\u001b[39m(\u001b[38;5;124m\"\u001b[39m\u001b[38;5;124mSpeed of Light:\u001b[39m\u001b[38;5;124m\"\u001b[39m, SPEED_OF_LIGHT, \u001b[38;5;124m\"\u001b[39m\u001b[38;5;124mm/s\u001b[39m\u001b[38;5;124m\"\u001b[39m)\n",
      "\u001b[0;31mModuleNotFoundError\u001b[0m: No module named 'constant'"
     ]
    }
   ],
   "source": [
    "from constant import PI, SPEED_OF_LIGHT\n",
    "\n",
    "print(\"Value of PI:\", PI)\n",
    "print(\"Speed of Light:\", SPEED_OF_LIGHT, \"m/s\")\n"
   ]
  },
  {
   "cell_type": "markdown",
   "id": "e0fc9f07-092f-4c84-9427-5deeb5631799",
   "metadata": {},
   "source": [
    "This way, you keep your constants organized and easily accessible across different parts of your project."
   ]
  },
  {
   "cell_type": "raw",
   "id": "da6aa673-b0ed-430c-b851-ab5f36d08706",
   "metadata": {},
   "source": [
    "Question. 12.  write a pyhton module named calculator.py co0ntaining funtion for addition, substraction, multiplication, division."
   ]
  },
  {
   "cell_type": "markdown",
   "id": "d1414d86-8849-4fd5-921f-b8d6c77de45e",
   "metadata": {},
   "source": [
    "Certainly! Here's a simple Python module named calculator.py that contains functions for addition, subtraction, multiplication, and division:"
   ]
  },
  {
   "cell_type": "code",
   "execution_count": 13,
   "id": "8b4f5d4e-de0a-497c-b30b-847974f264b6",
   "metadata": {},
   "outputs": [],
   "source": [
    "# calculator.py\n",
    "\n",
    "def add(a, b):\n",
    "    \"\"\"Return the sum of a and b.\"\"\"\n",
    "    return a + b\n",
    "\n",
    "def subtract(a, b):\n",
    "    \"\"\"Return the difference of a and b.\"\"\"\n",
    "    return a - b\n",
    "\n",
    "def multiply(a, b):\n",
    "    \"\"\"Return the product of a and b.\"\"\"\n",
    "    return a * b\n",
    "\n",
    "def divide(a, b):\n",
    "    \"\"\"Return the quotient of a and b. Raises an error if dividing by zero.\"\"\"\n",
    "    if b == 0:\n",
    "        raise ValueError(\"Cannot divide by zero\")\n",
    "    return a / b\n"
   ]
  },
  {
   "cell_type": "markdown",
   "id": "b276190a-90e7-44df-82fa-94e4ce17e17c",
   "metadata": {},
   "source": [
    "Usage\n",
    "\n",
    "You can use this module in another Python script like this:"
   ]
  },
  {
   "cell_type": "code",
   "execution_count": 14,
   "id": "7679cc7c-9586-42c9-b81a-21e9146a3489",
   "metadata": {},
   "outputs": [
    {
     "ename": "ModuleNotFoundError",
     "evalue": "No module named 'calculator'",
     "output_type": "error",
     "traceback": [
      "\u001b[0;31m---------------------------------------------------------------------------\u001b[0m",
      "\u001b[0;31mModuleNotFoundError\u001b[0m                       Traceback (most recent call last)",
      "Cell \u001b[0;32mIn[14], line 1\u001b[0m\n\u001b[0;32m----> 1\u001b[0m \u001b[38;5;28;01mfrom\u001b[39;00m \u001b[38;5;21;01mcalculator\u001b[39;00m \u001b[38;5;28;01mimport\u001b[39;00m add, subtract, multiply, divide\n\u001b[1;32m      3\u001b[0m \u001b[38;5;66;03m# Example usage\u001b[39;00m\n\u001b[1;32m      4\u001b[0m \u001b[38;5;28mprint\u001b[39m(\u001b[38;5;124m\"\u001b[39m\u001b[38;5;124mAddition:\u001b[39m\u001b[38;5;124m\"\u001b[39m, add(\u001b[38;5;241m5\u001b[39m, \u001b[38;5;241m3\u001b[39m))\n",
      "\u001b[0;31mModuleNotFoundError\u001b[0m: No module named 'calculator'"
     ]
    }
   ],
   "source": [
    "from calculator import add, subtract, multiply, divide\n",
    "\n",
    "# Example usage\n",
    "print(\"Addition:\", add(5, 3))\n",
    "print(\"Subtraction:\", subtract(10, 4))\n",
    "print(\"Multiplication:\", multiply(7, 6))\n",
    "print(\"Division:\", divide(8, 2))\n"
   ]
  },
  {
   "cell_type": "markdown",
   "id": "fd69d901-3562-4959-91cc-79bc667ac027",
   "metadata": {},
   "source": [
    "This code provides basic arithmetic operations, and it includes error handling for division by zero."
   ]
  },
  {
   "cell_type": "raw",
   "id": "9ceed01f-0901-49f2-975e-8ecd102606d5",
   "metadata": {},
   "source": [
    "Question 13. implement a pyhton package structure for a project named ecommerce, containing modules for product management and order processing."
   ]
  },
  {
   "cell_type": "markdown",
   "id": "fab460fb-c97a-4cd8-8b06-ee6109a2224c",
   "metadata": {},
   "source": [
    "To create a Python package structure for an ecommerce project with modules for product management and order processing, you can follow this structure:"
   ]
  },
  {
   "cell_type": "code",
   "execution_count": 15,
   "id": "802ba432-1aeb-424f-ba6a-c7cf295037dd",
   "metadata": {},
   "outputs": [
    {
     "ename": "SyntaxError",
     "evalue": "invalid character '│' (U+2502) (2459839920.py, line 2)",
     "output_type": "error",
     "traceback": [
      "\u001b[0;36m  Cell \u001b[0;32mIn[15], line 2\u001b[0;36m\u001b[0m\n\u001b[0;31m    │\u001b[0m\n\u001b[0m    ^\u001b[0m\n\u001b[0;31mSyntaxError\u001b[0m\u001b[0;31m:\u001b[0m invalid character '│' (U+2502)\n"
     ]
    }
   ],
   "source": [
    "ecommerce/\n",
    "│\n",
    "├── ecommerce/\n",
    "│   ├── __init__.py\n",
    "│   ├── product_management.py\n",
    "│   └── order_processing.py\n",
    "│\n",
    "├── tests/\n",
    "│   ├── __init__.py\n",
    "│   ├── test_product_management.py\n",
    "│   └── test_order_processing.py\n",
    "│\n",
    "├── setup.py\n",
    "└── README.md\n"
   ]
  },
  {
   "cell_type": "markdown",
   "id": "ad9101ff-3af0-4119-97ac-b00e6338ed34",
   "metadata": {},
   "source": [
    "ecommerce/__init__.py\n",
    "\n",
    "This file can be empty or contain initialization code for your package. It allows Python to recognize this directory as a package."
   ]
  },
  {
   "cell_type": "code",
   "execution_count": 16,
   "id": "ebb9fe25-372e-4916-8e3b-f685207654cf",
   "metadata": {},
   "outputs": [],
   "source": [
    "# ecommerce/__init__.py\n",
    "\n",
    "# Initialize package\n"
   ]
  },
  {
   "cell_type": "markdown",
   "id": "304947a5-22cd-4aa7-b1e6-e825078ce45f",
   "metadata": {},
   "source": [
    "ecommerce/product_management.py\n",
    "\n",
    "This module could contain functions or classes for managing products."
   ]
  },
  {
   "cell_type": "code",
   "execution_count": 17,
   "id": "11325c1b-a8c5-4241-a383-96f95081bf9b",
   "metadata": {},
   "outputs": [],
   "source": [
    "# ecommerce/product_management.py\n",
    "\n",
    "class Product:\n",
    "    def __init__(self, id, name, price):\n",
    "        self.id = id\n",
    "        self.name = name\n",
    "        self.price = price\n",
    "\n",
    "    def __repr__(self):\n",
    "        return f\"Product(id={self.id}, name={self.name}, price={self.price})\"\n",
    "\n",
    "def add_product(products, product):\n",
    "    \"\"\"Add a product to the list of products.\"\"\"\n",
    "    products.append(product)\n",
    "\n",
    "def find_product_by_id(products, id):\n",
    "    \"\"\"Find a product by its ID.\"\"\"\n",
    "    for product in products:\n",
    "        if product.id == id:\n",
    "            return product\n",
    "    return None\n"
   ]
  },
  {
   "cell_type": "markdown",
   "id": "757691e0-fa02-48c0-854c-7fe2fe427c39",
   "metadata": {},
   "source": [
    "ecommerce/order_processing.py\n",
    "\n",
    "This module could contain functions or classes for processing orders."
   ]
  },
  {
   "cell_type": "code",
   "execution_count": 19,
   "id": "25b4b972-5c8b-4194-88db-b958edf3e364",
   "metadata": {},
   "outputs": [],
   "source": [
    "# ecommerce/order_processing.py\n",
    "\n",
    "class Order:\n",
    "    def __init__(self, order_id, product, quantity):\n",
    "        self.order_id = order_id\n",
    "        self.product = product\n",
    "        self.quantity = quantity\n",
    "        self.total = self.calculate_total()\n",
    "\n",
    "    def calculate_total(self):\n",
    "        \"\"\"Calculate the total price of the order.\"\"\"\n",
    "        return self.product.price * self.quantity\n",
    "\n",
    "    def __repr__(self):\n",
    "        return (f\"Order(order_id={self.order_id}, product={self.product}, \"\n",
    "                f\"quantity={self.quantity}, total={self.total})\")\n",
    "\n",
    "def create_order(order_id, product, quantity):\n",
    "    \"\"\"Create an order with the given product and quantity.\"\"\"\n",
    "    return Order(order_id, product, quantity)\n"
   ]
  },
  {
   "cell_type": "markdown",
   "id": "13c0418f-ee37-4c6e-8dc6-d884910129cd",
   "metadata": {},
   "source": [
    "tests/test_product_management.py\n",
    "\n",
    "This module contains tests for the product_management.py module."
   ]
  },
  {
   "cell_type": "code",
   "execution_count": 20,
   "id": "ff6dd7c7-f3c2-4bdf-ba30-188ae8a364d7",
   "metadata": {},
   "outputs": [
    {
     "ename": "ModuleNotFoundError",
     "evalue": "No module named 'ecommerce'",
     "output_type": "error",
     "traceback": [
      "\u001b[0;31m---------------------------------------------------------------------------\u001b[0m",
      "\u001b[0;31mModuleNotFoundError\u001b[0m                       Traceback (most recent call last)",
      "Cell \u001b[0;32mIn[20], line 4\u001b[0m\n\u001b[1;32m      1\u001b[0m \u001b[38;5;66;03m# tests/test_product_management.py\u001b[39;00m\n\u001b[1;32m      3\u001b[0m \u001b[38;5;28;01mimport\u001b[39;00m \u001b[38;5;21;01munittest\u001b[39;00m\n\u001b[0;32m----> 4\u001b[0m \u001b[38;5;28;01mfrom\u001b[39;00m \u001b[38;5;21;01mecommerce\u001b[39;00m\u001b[38;5;21;01m.\u001b[39;00m\u001b[38;5;21;01mproduct_management\u001b[39;00m \u001b[38;5;28;01mimport\u001b[39;00m Product, add_product, find_product_by_id\n\u001b[1;32m      6\u001b[0m \u001b[38;5;28;01mclass\u001b[39;00m \u001b[38;5;21;01mTestProductManagement\u001b[39;00m(unittest\u001b[38;5;241m.\u001b[39mTestCase):\n\u001b[1;32m      7\u001b[0m     \u001b[38;5;28;01mdef\u001b[39;00m \u001b[38;5;21msetUp\u001b[39m(\u001b[38;5;28mself\u001b[39m):\n",
      "\u001b[0;31mModuleNotFoundError\u001b[0m: No module named 'ecommerce'"
     ]
    }
   ],
   "source": [
    "# tests/test_product_management.py\n",
    "\n",
    "import unittest\n",
    "from ecommerce.product_management import Product, add_product, find_product_by_id\n",
    "\n",
    "class TestProductManagement(unittest.TestCase):\n",
    "    def setUp(self):\n",
    "        self.products = []\n",
    "        self.product = Product(id=1, name=\"Test Product\", price=10.0)\n",
    "    \n",
    "    def test_add_product(self):\n",
    "        add_product(self.products, self.product)\n",
    "        self.assertIn(self.product, self.products)\n",
    "    \n",
    "    def test_find_product_by_id(self):\n",
    "        add_product(self.products, self.product)\n",
    "        found_product = find_product_by_id(self.products, 1)\n",
    "        self.assertEqual(found_product, self.product)\n",
    "\n",
    "if __name__ == \"__main__\":\n",
    "    unittest.main()\n"
   ]
  },
  {
   "cell_type": "markdown",
   "id": "a11e8115-1514-4c3f-938b-c99f34c29a16",
   "metadata": {},
   "source": [
    "tests/test_order_processing.py\n",
    "\n",
    "This module contains tests for the order_processing.py module."
   ]
  },
  {
   "cell_type": "code",
   "execution_count": 21,
   "id": "c8875477-3176-47a6-b549-be5290c195f2",
   "metadata": {},
   "outputs": [
    {
     "ename": "ModuleNotFoundError",
     "evalue": "No module named 'ecommerce'",
     "output_type": "error",
     "traceback": [
      "\u001b[0;31m---------------------------------------------------------------------------\u001b[0m",
      "\u001b[0;31mModuleNotFoundError\u001b[0m                       Traceback (most recent call last)",
      "Cell \u001b[0;32mIn[21], line 4\u001b[0m\n\u001b[1;32m      1\u001b[0m \u001b[38;5;66;03m# tests/test_order_processing.py\u001b[39;00m\n\u001b[1;32m      3\u001b[0m \u001b[38;5;28;01mimport\u001b[39;00m \u001b[38;5;21;01munittest\u001b[39;00m\n\u001b[0;32m----> 4\u001b[0m \u001b[38;5;28;01mfrom\u001b[39;00m \u001b[38;5;21;01mecommerce\u001b[39;00m\u001b[38;5;21;01m.\u001b[39;00m\u001b[38;5;21;01mproduct_management\u001b[39;00m \u001b[38;5;28;01mimport\u001b[39;00m Product\n\u001b[1;32m      5\u001b[0m \u001b[38;5;28;01mfrom\u001b[39;00m \u001b[38;5;21;01mecommerce\u001b[39;00m\u001b[38;5;21;01m.\u001b[39;00m\u001b[38;5;21;01morder_processing\u001b[39;00m \u001b[38;5;28;01mimport\u001b[39;00m create_order\n\u001b[1;32m      7\u001b[0m \u001b[38;5;28;01mclass\u001b[39;00m \u001b[38;5;21;01mTestOrderProcessing\u001b[39;00m(unittest\u001b[38;5;241m.\u001b[39mTestCase):\n",
      "\u001b[0;31mModuleNotFoundError\u001b[0m: No module named 'ecommerce'"
     ]
    }
   ],
   "source": [
    "# tests/test_order_processing.py\n",
    "\n",
    "import unittest\n",
    "from ecommerce.product_management import Product\n",
    "from ecommerce.order_processing import create_order\n",
    "\n",
    "class TestOrderProcessing(unittest.TestCase):\n",
    "    def setUp(self):\n",
    "        self.product = Product(id=1, name=\"Test Product\", price=10.0)\n",
    "    \n",
    "    def test_create_order(self):\n",
    "        order = create_order(order_id=1, product=self.product, quantity=2)\n",
    "        self.assertEqual(order.order_id, 1)\n",
    "        self.assertEqual(order.product, self.product)\n",
    "        self.assertEqual(order.quantity, 2)\n",
    "        self.assertEqual(order.total, 20.0)\n",
    "\n",
    "if __name__ == \"__main__\":\n",
    "    unittest.main()\n"
   ]
  },
  {
   "cell_type": "markdown",
   "id": "f6d47420-1a7e-4050-9efc-23a7d405e496",
   "metadata": {},
   "source": [
    "setup.py\n",
    "\n",
    "This file is for packaging your project."
   ]
  },
  {
   "cell_type": "code",
   "execution_count": 22,
   "id": "1ffcc2cb-052b-4acb-8a42-73ae42baf72c",
   "metadata": {},
   "outputs": [
    {
     "ename": "AssertionError",
     "evalue": "",
     "output_type": "error",
     "traceback": [
      "\u001b[0;31m---------------------------------------------------------------------------\u001b[0m",
      "\u001b[0;31mGetoptError\u001b[0m                               Traceback (most recent call last)",
      "File \u001b[0;32m/opt/conda/lib/python3.10/site-packages/setuptools/_distutils/fancy_getopt.py:246\u001b[0m, in \u001b[0;36mFancyGetopt.getopt\u001b[0;34m(self, args, object)\u001b[0m\n\u001b[1;32m    245\u001b[0m \u001b[38;5;28;01mtry\u001b[39;00m:\n\u001b[0;32m--> 246\u001b[0m     opts, args \u001b[38;5;241m=\u001b[39m \u001b[43mgetopt\u001b[49m\u001b[38;5;241;43m.\u001b[39;49m\u001b[43mgetopt\u001b[49m\u001b[43m(\u001b[49m\u001b[43margs\u001b[49m\u001b[43m,\u001b[49m\u001b[43m \u001b[49m\u001b[43mshort_opts\u001b[49m\u001b[43m,\u001b[49m\u001b[43m \u001b[49m\u001b[38;5;28;43mself\u001b[39;49m\u001b[38;5;241;43m.\u001b[39;49m\u001b[43mlong_opts\u001b[49m\u001b[43m)\u001b[49m\n\u001b[1;32m    247\u001b[0m \u001b[38;5;28;01mexcept\u001b[39;00m getopt\u001b[38;5;241m.\u001b[39merror \u001b[38;5;28;01mas\u001b[39;00m msg:\n",
      "File \u001b[0;32m/opt/conda/lib/python3.10/getopt.py:95\u001b[0m, in \u001b[0;36mgetopt\u001b[0;34m(args, shortopts, longopts)\u001b[0m\n\u001b[1;32m     94\u001b[0m     \u001b[38;5;28;01melse\u001b[39;00m:\n\u001b[0;32m---> 95\u001b[0m         opts, args \u001b[38;5;241m=\u001b[39m \u001b[43mdo_shorts\u001b[49m\u001b[43m(\u001b[49m\u001b[43mopts\u001b[49m\u001b[43m,\u001b[49m\u001b[43m \u001b[49m\u001b[43margs\u001b[49m\u001b[43m[\u001b[49m\u001b[38;5;241;43m0\u001b[39;49m\u001b[43m]\u001b[49m\u001b[43m[\u001b[49m\u001b[38;5;241;43m1\u001b[39;49m\u001b[43m:\u001b[49m\u001b[43m]\u001b[49m\u001b[43m,\u001b[49m\u001b[43m \u001b[49m\u001b[43mshortopts\u001b[49m\u001b[43m,\u001b[49m\u001b[43m \u001b[49m\u001b[43margs\u001b[49m\u001b[43m[\u001b[49m\u001b[38;5;241;43m1\u001b[39;49m\u001b[43m:\u001b[49m\u001b[43m]\u001b[49m\u001b[43m)\u001b[49m\n\u001b[1;32m     97\u001b[0m \u001b[38;5;28;01mreturn\u001b[39;00m opts, args\n",
      "File \u001b[0;32m/opt/conda/lib/python3.10/getopt.py:195\u001b[0m, in \u001b[0;36mdo_shorts\u001b[0;34m(opts, optstring, shortopts, args)\u001b[0m\n\u001b[1;32m    194\u001b[0m opt, optstring \u001b[38;5;241m=\u001b[39m optstring[\u001b[38;5;241m0\u001b[39m], optstring[\u001b[38;5;241m1\u001b[39m:]\n\u001b[0;32m--> 195\u001b[0m \u001b[38;5;28;01mif\u001b[39;00m \u001b[43mshort_has_arg\u001b[49m\u001b[43m(\u001b[49m\u001b[43mopt\u001b[49m\u001b[43m,\u001b[49m\u001b[43m \u001b[49m\u001b[43mshortopts\u001b[49m\u001b[43m)\u001b[49m:\n\u001b[1;32m    196\u001b[0m     \u001b[38;5;28;01mif\u001b[39;00m optstring \u001b[38;5;241m==\u001b[39m \u001b[38;5;124m'\u001b[39m\u001b[38;5;124m'\u001b[39m:\n",
      "File \u001b[0;32m/opt/conda/lib/python3.10/getopt.py:211\u001b[0m, in \u001b[0;36mshort_has_arg\u001b[0;34m(opt, shortopts)\u001b[0m\n\u001b[1;32m    210\u001b[0m         \u001b[38;5;28;01mreturn\u001b[39;00m shortopts\u001b[38;5;241m.\u001b[39mstartswith(\u001b[38;5;124m'\u001b[39m\u001b[38;5;124m:\u001b[39m\u001b[38;5;124m'\u001b[39m, i\u001b[38;5;241m+\u001b[39m\u001b[38;5;241m1\u001b[39m)\n\u001b[0;32m--> 211\u001b[0m \u001b[38;5;28;01mraise\u001b[39;00m GetoptError(_(\u001b[38;5;124m'\u001b[39m\u001b[38;5;124moption -\u001b[39m\u001b[38;5;132;01m%s\u001b[39;00m\u001b[38;5;124m not recognized\u001b[39m\u001b[38;5;124m'\u001b[39m) \u001b[38;5;241m%\u001b[39m opt, opt)\n",
      "\u001b[0;31mGetoptError\u001b[0m: option -f not recognized",
      "\nDuring handling of the above exception, another exception occurred:\n",
      "\u001b[0;31mDistutilsArgError\u001b[0m                         Traceback (most recent call last)",
      "File \u001b[0;32m/opt/conda/lib/python3.10/site-packages/setuptools/_distutils/core.py:172\u001b[0m, in \u001b[0;36msetup\u001b[0;34m(**attrs)\u001b[0m\n\u001b[1;32m    171\u001b[0m \u001b[38;5;28;01mtry\u001b[39;00m:\n\u001b[0;32m--> 172\u001b[0m     ok \u001b[38;5;241m=\u001b[39m \u001b[43mdist\u001b[49m\u001b[38;5;241;43m.\u001b[39;49m\u001b[43mparse_command_line\u001b[49m\u001b[43m(\u001b[49m\u001b[43m)\u001b[49m\n\u001b[1;32m    173\u001b[0m \u001b[38;5;28;01mexcept\u001b[39;00m DistutilsArgError \u001b[38;5;28;01mas\u001b[39;00m msg:\n",
      "File \u001b[0;32m/opt/conda/lib/python3.10/site-packages/setuptools/_distutils/dist.py:466\u001b[0m, in \u001b[0;36mDistribution.parse_command_line\u001b[0;34m(self)\u001b[0m\n\u001b[1;32m    465\u001b[0m parser\u001b[38;5;241m.\u001b[39mset_aliases({\u001b[38;5;124m'\u001b[39m\u001b[38;5;124mlicence\u001b[39m\u001b[38;5;124m'\u001b[39m: \u001b[38;5;124m'\u001b[39m\u001b[38;5;124mlicense\u001b[39m\u001b[38;5;124m'\u001b[39m})\n\u001b[0;32m--> 466\u001b[0m args \u001b[38;5;241m=\u001b[39m \u001b[43mparser\u001b[49m\u001b[38;5;241;43m.\u001b[39;49m\u001b[43mgetopt\u001b[49m\u001b[43m(\u001b[49m\u001b[43margs\u001b[49m\u001b[38;5;241;43m=\u001b[39;49m\u001b[38;5;28;43mself\u001b[39;49m\u001b[38;5;241;43m.\u001b[39;49m\u001b[43mscript_args\u001b[49m\u001b[43m,\u001b[49m\u001b[43m \u001b[49m\u001b[38;5;28;43mobject\u001b[39;49m\u001b[38;5;241;43m=\u001b[39;49m\u001b[38;5;28;43mself\u001b[39;49m\u001b[43m)\u001b[49m\n\u001b[1;32m    467\u001b[0m option_order \u001b[38;5;241m=\u001b[39m parser\u001b[38;5;241m.\u001b[39mget_option_order()\n",
      "File \u001b[0;32m/opt/conda/lib/python3.10/site-packages/setuptools/_distutils/fancy_getopt.py:248\u001b[0m, in \u001b[0;36mFancyGetopt.getopt\u001b[0;34m(self, args, object)\u001b[0m\n\u001b[1;32m    247\u001b[0m \u001b[38;5;28;01mexcept\u001b[39;00m getopt\u001b[38;5;241m.\u001b[39merror \u001b[38;5;28;01mas\u001b[39;00m msg:\n\u001b[0;32m--> 248\u001b[0m     \u001b[38;5;28;01mraise\u001b[39;00m DistutilsArgError(msg)\n\u001b[1;32m    250\u001b[0m \u001b[38;5;28;01mfor\u001b[39;00m opt, val \u001b[38;5;129;01min\u001b[39;00m opts:\n",
      "\u001b[0;31mDistutilsArgError\u001b[0m: option -f not recognized",
      "\nDuring handling of the above exception, another exception occurred:\n",
      "\u001b[0;31mSystemExit\u001b[0m                                Traceback (most recent call last)",
      "    \u001b[0;31m[... skipping hidden 1 frame]\u001b[0m\n",
      "Cell \u001b[0;32mIn[22], line 5\u001b[0m\n\u001b[1;32m      3\u001b[0m \u001b[38;5;28;01mfrom\u001b[39;00m \u001b[38;5;21;01msetuptools\u001b[39;00m \u001b[38;5;28;01mimport\u001b[39;00m setup, find_packages\n\u001b[0;32m----> 5\u001b[0m \u001b[43msetup\u001b[49m\u001b[43m(\u001b[49m\n\u001b[1;32m      6\u001b[0m \u001b[43m    \u001b[49m\u001b[43mname\u001b[49m\u001b[38;5;241;43m=\u001b[39;49m\u001b[38;5;124;43m'\u001b[39;49m\u001b[38;5;124;43mecommerce\u001b[39;49m\u001b[38;5;124;43m'\u001b[39;49m\u001b[43m,\u001b[49m\n\u001b[1;32m      7\u001b[0m \u001b[43m    \u001b[49m\u001b[43mversion\u001b[49m\u001b[38;5;241;43m=\u001b[39;49m\u001b[38;5;124;43m'\u001b[39;49m\u001b[38;5;124;43m0.1\u001b[39;49m\u001b[38;5;124;43m'\u001b[39;49m\u001b[43m,\u001b[49m\n\u001b[1;32m      8\u001b[0m \u001b[43m    \u001b[49m\u001b[43mpackages\u001b[49m\u001b[38;5;241;43m=\u001b[39;49m\u001b[43mfind_packages\u001b[49m\u001b[43m(\u001b[49m\u001b[43m)\u001b[49m\u001b[43m,\u001b[49m\n\u001b[1;32m      9\u001b[0m \u001b[43m    \u001b[49m\u001b[43minstall_requires\u001b[49m\u001b[38;5;241;43m=\u001b[39;49m\u001b[43m[\u001b[49m\u001b[43m]\u001b[49m\u001b[43m,\u001b[49m\n\u001b[1;32m     10\u001b[0m \u001b[43m    \u001b[49m\u001b[43mtests_require\u001b[49m\u001b[38;5;241;43m=\u001b[39;49m\u001b[43m[\u001b[49m\u001b[38;5;124;43m'\u001b[39;49m\u001b[38;5;124;43munittest\u001b[39;49m\u001b[38;5;124;43m'\u001b[39;49m\u001b[43m]\u001b[49m\u001b[43m,\u001b[49m\n\u001b[1;32m     11\u001b[0m \u001b[43m    \u001b[49m\u001b[43mtest_suite\u001b[49m\u001b[38;5;241;43m=\u001b[39;49m\u001b[38;5;124;43m'\u001b[39;49m\u001b[38;5;124;43mtests\u001b[39;49m\u001b[38;5;124;43m'\u001b[39;49m\u001b[43m,\u001b[49m\n\u001b[1;32m     12\u001b[0m \u001b[43m)\u001b[49m\n",
      "File \u001b[0;32m/opt/conda/lib/python3.10/site-packages/setuptools/__init__.py:87\u001b[0m, in \u001b[0;36msetup\u001b[0;34m(**attrs)\u001b[0m\n\u001b[1;32m     86\u001b[0m _install_setup_requires(attrs)\n\u001b[0;32m---> 87\u001b[0m \u001b[38;5;28;01mreturn\u001b[39;00m \u001b[43mdistutils\u001b[49m\u001b[38;5;241;43m.\u001b[39;49m\u001b[43mcore\u001b[49m\u001b[38;5;241;43m.\u001b[39;49m\u001b[43msetup\u001b[49m\u001b[43m(\u001b[49m\u001b[38;5;241;43m*\u001b[39;49m\u001b[38;5;241;43m*\u001b[39;49m\u001b[43mattrs\u001b[49m\u001b[43m)\u001b[49m\n",
      "File \u001b[0;32m/opt/conda/lib/python3.10/site-packages/setuptools/_distutils/core.py:174\u001b[0m, in \u001b[0;36msetup\u001b[0;34m(**attrs)\u001b[0m\n\u001b[1;32m    173\u001b[0m \u001b[38;5;28;01mexcept\u001b[39;00m DistutilsArgError \u001b[38;5;28;01mas\u001b[39;00m msg:\n\u001b[0;32m--> 174\u001b[0m     \u001b[38;5;28;01mraise\u001b[39;00m \u001b[38;5;167;01mSystemExit\u001b[39;00m(gen_usage(dist\u001b[38;5;241m.\u001b[39mscript_name) \u001b[38;5;241m+\u001b[39m \u001b[38;5;124m\"\u001b[39m\u001b[38;5;130;01m\\n\u001b[39;00m\u001b[38;5;124merror: \u001b[39m\u001b[38;5;132;01m%s\u001b[39;00m\u001b[38;5;124m\"\u001b[39m \u001b[38;5;241m%\u001b[39m msg)\n\u001b[1;32m    176\u001b[0m \u001b[38;5;28;01mif\u001b[39;00m DEBUG:\n",
      "\u001b[0;31mSystemExit\u001b[0m: usage: ipykernel_launcher.py [global_opts] cmd1 [cmd1_opts] [cmd2 [cmd2_opts] ...]\n   or: ipykernel_launcher.py --help [cmd1 cmd2 ...]\n   or: ipykernel_launcher.py --help-commands\n   or: ipykernel_launcher.py cmd --help\n\nerror: option -f not recognized",
      "\nDuring handling of the above exception, another exception occurred:\n",
      "\u001b[0;31mAssertionError\u001b[0m                            Traceback (most recent call last)",
      "    \u001b[0;31m[... skipping hidden 1 frame]\u001b[0m\n",
      "File \u001b[0;32m/opt/conda/lib/python3.10/site-packages/IPython/core/interactiveshell.py:2042\u001b[0m, in \u001b[0;36mInteractiveShell.showtraceback\u001b[0;34m(self, exc_tuple, filename, tb_offset, exception_only, running_compiled_code)\u001b[0m\n\u001b[1;32m   2039\u001b[0m \u001b[38;5;28;01mif\u001b[39;00m exception_only:\n\u001b[1;32m   2040\u001b[0m     stb \u001b[38;5;241m=\u001b[39m [\u001b[38;5;124m'\u001b[39m\u001b[38;5;124mAn exception has occurred, use \u001b[39m\u001b[38;5;124m%\u001b[39m\u001b[38;5;124mtb to see \u001b[39m\u001b[38;5;124m'\u001b[39m\n\u001b[1;32m   2041\u001b[0m            \u001b[38;5;124m'\u001b[39m\u001b[38;5;124mthe full traceback.\u001b[39m\u001b[38;5;130;01m\\n\u001b[39;00m\u001b[38;5;124m'\u001b[39m]\n\u001b[0;32m-> 2042\u001b[0m     stb\u001b[38;5;241m.\u001b[39mextend(\u001b[38;5;28;43mself\u001b[39;49m\u001b[38;5;241;43m.\u001b[39;49m\u001b[43mInteractiveTB\u001b[49m\u001b[38;5;241;43m.\u001b[39;49m\u001b[43mget_exception_only\u001b[49m\u001b[43m(\u001b[49m\u001b[43metype\u001b[49m\u001b[43m,\u001b[49m\n\u001b[1;32m   2043\u001b[0m \u001b[43m                                                     \u001b[49m\u001b[43mvalue\u001b[49m\u001b[43m)\u001b[49m)\n\u001b[1;32m   2044\u001b[0m \u001b[38;5;28;01melse\u001b[39;00m:\n\u001b[1;32m   2045\u001b[0m     \u001b[38;5;28;01mtry\u001b[39;00m:\n\u001b[1;32m   2046\u001b[0m         \u001b[38;5;66;03m# Exception classes can customise their traceback - we\u001b[39;00m\n\u001b[1;32m   2047\u001b[0m         \u001b[38;5;66;03m# use this in IPython.parallel for exceptions occurring\u001b[39;00m\n\u001b[1;32m   2048\u001b[0m         \u001b[38;5;66;03m# in the engines. This should return a list of strings.\u001b[39;00m\n",
      "File \u001b[0;32m/opt/conda/lib/python3.10/site-packages/IPython/core/ultratb.py:585\u001b[0m, in \u001b[0;36mListTB.get_exception_only\u001b[0;34m(self, etype, value)\u001b[0m\n\u001b[1;32m    577\u001b[0m \u001b[38;5;28;01mdef\u001b[39;00m \u001b[38;5;21mget_exception_only\u001b[39m(\u001b[38;5;28mself\u001b[39m, etype, value):\n\u001b[1;32m    578\u001b[0m     \u001b[38;5;124;03m\"\"\"Only print the exception type and message, without a traceback.\u001b[39;00m\n\u001b[1;32m    579\u001b[0m \n\u001b[1;32m    580\u001b[0m \u001b[38;5;124;03m    Parameters\u001b[39;00m\n\u001b[0;32m   (...)\u001b[0m\n\u001b[1;32m    583\u001b[0m \u001b[38;5;124;03m    value : exception value\u001b[39;00m\n\u001b[1;32m    584\u001b[0m \u001b[38;5;124;03m    \"\"\"\u001b[39;00m\n\u001b[0;32m--> 585\u001b[0m     \u001b[38;5;28;01mreturn\u001b[39;00m \u001b[43mListTB\u001b[49m\u001b[38;5;241;43m.\u001b[39;49m\u001b[43mstructured_traceback\u001b[49m\u001b[43m(\u001b[49m\u001b[38;5;28;43mself\u001b[39;49m\u001b[43m,\u001b[49m\u001b[43m \u001b[49m\u001b[43metype\u001b[49m\u001b[43m,\u001b[49m\u001b[43m \u001b[49m\u001b[43mvalue\u001b[49m\u001b[43m)\u001b[49m\n",
      "File \u001b[0;32m/opt/conda/lib/python3.10/site-packages/IPython/core/ultratb.py:452\u001b[0m, in \u001b[0;36mListTB.structured_traceback\u001b[0;34m(self, etype, evalue, etb, tb_offset, context)\u001b[0m\n\u001b[1;32m    449\u001b[0m     chained_exc_ids\u001b[38;5;241m.\u001b[39madd(\u001b[38;5;28mid\u001b[39m(exception[\u001b[38;5;241m1\u001b[39m]))\n\u001b[1;32m    450\u001b[0m     chained_exceptions_tb_offset \u001b[38;5;241m=\u001b[39m \u001b[38;5;241m0\u001b[39m\n\u001b[1;32m    451\u001b[0m     out_list \u001b[38;5;241m=\u001b[39m (\n\u001b[0;32m--> 452\u001b[0m         \u001b[38;5;28;43mself\u001b[39;49m\u001b[38;5;241;43m.\u001b[39;49m\u001b[43mstructured_traceback\u001b[49m\u001b[43m(\u001b[49m\n\u001b[1;32m    453\u001b[0m \u001b[43m            \u001b[49m\u001b[43metype\u001b[49m\u001b[43m,\u001b[49m\u001b[43m \u001b[49m\u001b[43mevalue\u001b[49m\u001b[43m,\u001b[49m\u001b[43m \u001b[49m\u001b[43m(\u001b[49m\u001b[43metb\u001b[49m\u001b[43m,\u001b[49m\u001b[43m \u001b[49m\u001b[43mchained_exc_ids\u001b[49m\u001b[43m)\u001b[49m\u001b[43m,\u001b[49m\n\u001b[1;32m    454\u001b[0m \u001b[43m            \u001b[49m\u001b[43mchained_exceptions_tb_offset\u001b[49m\u001b[43m,\u001b[49m\u001b[43m \u001b[49m\u001b[43mcontext\u001b[49m\u001b[43m)\u001b[49m\n\u001b[1;32m    455\u001b[0m         \u001b[38;5;241m+\u001b[39m chained_exception_message\n\u001b[1;32m    456\u001b[0m         \u001b[38;5;241m+\u001b[39m out_list)\n\u001b[1;32m    458\u001b[0m \u001b[38;5;28;01mreturn\u001b[39;00m out_list\n",
      "File \u001b[0;32m/opt/conda/lib/python3.10/site-packages/IPython/core/ultratb.py:1118\u001b[0m, in \u001b[0;36mAutoFormattedTB.structured_traceback\u001b[0;34m(self, etype, value, tb, tb_offset, number_of_lines_of_context)\u001b[0m\n\u001b[1;32m   1116\u001b[0m \u001b[38;5;28;01melse\u001b[39;00m:\n\u001b[1;32m   1117\u001b[0m     \u001b[38;5;28mself\u001b[39m\u001b[38;5;241m.\u001b[39mtb \u001b[38;5;241m=\u001b[39m tb\n\u001b[0;32m-> 1118\u001b[0m \u001b[38;5;28;01mreturn\u001b[39;00m \u001b[43mFormattedTB\u001b[49m\u001b[38;5;241;43m.\u001b[39;49m\u001b[43mstructured_traceback\u001b[49m\u001b[43m(\u001b[49m\n\u001b[1;32m   1119\u001b[0m \u001b[43m    \u001b[49m\u001b[38;5;28;43mself\u001b[39;49m\u001b[43m,\u001b[49m\u001b[43m \u001b[49m\u001b[43metype\u001b[49m\u001b[43m,\u001b[49m\u001b[43m \u001b[49m\u001b[43mvalue\u001b[49m\u001b[43m,\u001b[49m\u001b[43m \u001b[49m\u001b[43mtb\u001b[49m\u001b[43m,\u001b[49m\u001b[43m \u001b[49m\u001b[43mtb_offset\u001b[49m\u001b[43m,\u001b[49m\u001b[43m \u001b[49m\u001b[43mnumber_of_lines_of_context\u001b[49m\u001b[43m)\u001b[49m\n",
      "File \u001b[0;32m/opt/conda/lib/python3.10/site-packages/IPython/core/ultratb.py:1012\u001b[0m, in \u001b[0;36mFormattedTB.structured_traceback\u001b[0;34m(self, etype, value, tb, tb_offset, number_of_lines_of_context)\u001b[0m\n\u001b[1;32m   1009\u001b[0m mode \u001b[38;5;241m=\u001b[39m \u001b[38;5;28mself\u001b[39m\u001b[38;5;241m.\u001b[39mmode\n\u001b[1;32m   1010\u001b[0m \u001b[38;5;28;01mif\u001b[39;00m mode \u001b[38;5;129;01min\u001b[39;00m \u001b[38;5;28mself\u001b[39m\u001b[38;5;241m.\u001b[39mverbose_modes:\n\u001b[1;32m   1011\u001b[0m     \u001b[38;5;66;03m# Verbose modes need a full traceback\u001b[39;00m\n\u001b[0;32m-> 1012\u001b[0m     \u001b[38;5;28;01mreturn\u001b[39;00m \u001b[43mVerboseTB\u001b[49m\u001b[38;5;241;43m.\u001b[39;49m\u001b[43mstructured_traceback\u001b[49m\u001b[43m(\u001b[49m\n\u001b[1;32m   1013\u001b[0m \u001b[43m        \u001b[49m\u001b[38;5;28;43mself\u001b[39;49m\u001b[43m,\u001b[49m\u001b[43m \u001b[49m\u001b[43metype\u001b[49m\u001b[43m,\u001b[49m\u001b[43m \u001b[49m\u001b[43mvalue\u001b[49m\u001b[43m,\u001b[49m\u001b[43m \u001b[49m\u001b[43mtb\u001b[49m\u001b[43m,\u001b[49m\u001b[43m \u001b[49m\u001b[43mtb_offset\u001b[49m\u001b[43m,\u001b[49m\u001b[43m \u001b[49m\u001b[43mnumber_of_lines_of_context\u001b[49m\n\u001b[1;32m   1014\u001b[0m \u001b[43m    \u001b[49m\u001b[43m)\u001b[49m\n\u001b[1;32m   1015\u001b[0m \u001b[38;5;28;01melif\u001b[39;00m mode \u001b[38;5;241m==\u001b[39m \u001b[38;5;124m'\u001b[39m\u001b[38;5;124mMinimal\u001b[39m\u001b[38;5;124m'\u001b[39m:\n\u001b[1;32m   1016\u001b[0m     \u001b[38;5;28;01mreturn\u001b[39;00m ListTB\u001b[38;5;241m.\u001b[39mget_exception_only(\u001b[38;5;28mself\u001b[39m, etype, value)\n",
      "File \u001b[0;32m/opt/conda/lib/python3.10/site-packages/IPython/core/ultratb.py:865\u001b[0m, in \u001b[0;36mVerboseTB.structured_traceback\u001b[0;34m(self, etype, evalue, etb, tb_offset, number_of_lines_of_context)\u001b[0m\n\u001b[1;32m    856\u001b[0m \u001b[38;5;28;01mdef\u001b[39;00m \u001b[38;5;21mstructured_traceback\u001b[39m(\n\u001b[1;32m    857\u001b[0m     \u001b[38;5;28mself\u001b[39m,\n\u001b[1;32m    858\u001b[0m     etype: \u001b[38;5;28mtype\u001b[39m,\n\u001b[0;32m   (...)\u001b[0m\n\u001b[1;32m    862\u001b[0m     number_of_lines_of_context: \u001b[38;5;28mint\u001b[39m \u001b[38;5;241m=\u001b[39m \u001b[38;5;241m5\u001b[39m,\n\u001b[1;32m    863\u001b[0m ):\n\u001b[1;32m    864\u001b[0m     \u001b[38;5;124;03m\"\"\"Return a nice text document describing the traceback.\"\"\"\u001b[39;00m\n\u001b[0;32m--> 865\u001b[0m     formatted_exception \u001b[38;5;241m=\u001b[39m \u001b[38;5;28;43mself\u001b[39;49m\u001b[38;5;241;43m.\u001b[39;49m\u001b[43mformat_exception_as_a_whole\u001b[49m\u001b[43m(\u001b[49m\u001b[43metype\u001b[49m\u001b[43m,\u001b[49m\u001b[43m \u001b[49m\u001b[43mevalue\u001b[49m\u001b[43m,\u001b[49m\u001b[43m \u001b[49m\u001b[43metb\u001b[49m\u001b[43m,\u001b[49m\u001b[43m \u001b[49m\u001b[43mnumber_of_lines_of_context\u001b[49m\u001b[43m,\u001b[49m\n\u001b[1;32m    866\u001b[0m \u001b[43m                                                           \u001b[49m\u001b[43mtb_offset\u001b[49m\u001b[43m)\u001b[49m\n\u001b[1;32m    868\u001b[0m     colors \u001b[38;5;241m=\u001b[39m \u001b[38;5;28mself\u001b[39m\u001b[38;5;241m.\u001b[39mColors  \u001b[38;5;66;03m# just a shorthand + quicker name lookup\u001b[39;00m\n\u001b[1;32m    869\u001b[0m     colorsnormal \u001b[38;5;241m=\u001b[39m colors\u001b[38;5;241m.\u001b[39mNormal  \u001b[38;5;66;03m# used a lot\u001b[39;00m\n",
      "File \u001b[0;32m/opt/conda/lib/python3.10/site-packages/IPython/core/ultratb.py:799\u001b[0m, in \u001b[0;36mVerboseTB.format_exception_as_a_whole\u001b[0;34m(self, etype, evalue, etb, number_of_lines_of_context, tb_offset)\u001b[0m\n\u001b[1;32m    796\u001b[0m \u001b[38;5;28;01massert\u001b[39;00m \u001b[38;5;28misinstance\u001b[39m(tb_offset, \u001b[38;5;28mint\u001b[39m)\n\u001b[1;32m    797\u001b[0m head \u001b[38;5;241m=\u001b[39m \u001b[38;5;28mself\u001b[39m\u001b[38;5;241m.\u001b[39mprepare_header(etype, \u001b[38;5;28mself\u001b[39m\u001b[38;5;241m.\u001b[39mlong_header)\n\u001b[1;32m    798\u001b[0m records \u001b[38;5;241m=\u001b[39m (\n\u001b[0;32m--> 799\u001b[0m     \u001b[38;5;28;43mself\u001b[39;49m\u001b[38;5;241;43m.\u001b[39;49m\u001b[43mget_records\u001b[49m\u001b[43m(\u001b[49m\u001b[43metb\u001b[49m\u001b[43m,\u001b[49m\u001b[43m \u001b[49m\u001b[43mnumber_of_lines_of_context\u001b[49m\u001b[43m,\u001b[49m\u001b[43m \u001b[49m\u001b[43mtb_offset\u001b[49m\u001b[43m)\u001b[49m \u001b[38;5;28;01mif\u001b[39;00m etb \u001b[38;5;28;01melse\u001b[39;00m []\n\u001b[1;32m    800\u001b[0m )\n\u001b[1;32m    802\u001b[0m frames \u001b[38;5;241m=\u001b[39m []\n\u001b[1;32m    803\u001b[0m skipped \u001b[38;5;241m=\u001b[39m \u001b[38;5;241m0\u001b[39m\n",
      "File \u001b[0;32m/opt/conda/lib/python3.10/site-packages/IPython/core/ultratb.py:854\u001b[0m, in \u001b[0;36mVerboseTB.get_records\u001b[0;34m(self, etb, number_of_lines_of_context, tb_offset)\u001b[0m\n\u001b[1;32m    848\u001b[0m     formatter \u001b[38;5;241m=\u001b[39m \u001b[38;5;28;01mNone\u001b[39;00m\n\u001b[1;32m    849\u001b[0m options \u001b[38;5;241m=\u001b[39m stack_data\u001b[38;5;241m.\u001b[39mOptions(\n\u001b[1;32m    850\u001b[0m     before\u001b[38;5;241m=\u001b[39mbefore,\n\u001b[1;32m    851\u001b[0m     after\u001b[38;5;241m=\u001b[39mafter,\n\u001b[1;32m    852\u001b[0m     pygments_formatter\u001b[38;5;241m=\u001b[39mformatter,\n\u001b[1;32m    853\u001b[0m )\n\u001b[0;32m--> 854\u001b[0m \u001b[38;5;28;01mreturn\u001b[39;00m \u001b[38;5;28;43mlist\u001b[39;49m\u001b[43m(\u001b[49m\u001b[43mstack_data\u001b[49m\u001b[38;5;241;43m.\u001b[39;49m\u001b[43mFrameInfo\u001b[49m\u001b[38;5;241;43m.\u001b[39;49m\u001b[43mstack_data\u001b[49m\u001b[43m(\u001b[49m\u001b[43metb\u001b[49m\u001b[43m,\u001b[49m\u001b[43m \u001b[49m\u001b[43moptions\u001b[49m\u001b[38;5;241;43m=\u001b[39;49m\u001b[43moptions\u001b[49m\u001b[43m)\u001b[49m\u001b[43m)\u001b[49m[tb_offset:]\n",
      "File \u001b[0;32m/opt/conda/lib/python3.10/site-packages/stack_data/core.py:578\u001b[0m, in \u001b[0;36mFrameInfo.stack_data\u001b[0;34m(cls, frame_or_tb, options, collapse_repeated_frames)\u001b[0m\n\u001b[1;32m    562\u001b[0m \u001b[38;5;129m@classmethod\u001b[39m\n\u001b[1;32m    563\u001b[0m \u001b[38;5;28;01mdef\u001b[39;00m \u001b[38;5;21mstack_data\u001b[39m(\n\u001b[1;32m    564\u001b[0m         \u001b[38;5;28mcls\u001b[39m,\n\u001b[0;32m   (...)\u001b[0m\n\u001b[1;32m    568\u001b[0m         collapse_repeated_frames: \u001b[38;5;28mbool\u001b[39m \u001b[38;5;241m=\u001b[39m \u001b[38;5;28;01mTrue\u001b[39;00m\n\u001b[1;32m    569\u001b[0m ) \u001b[38;5;241m-\u001b[39m\u001b[38;5;241m>\u001b[39m Iterator[Union[\u001b[38;5;124m'\u001b[39m\u001b[38;5;124mFrameInfo\u001b[39m\u001b[38;5;124m'\u001b[39m, RepeatedFrames]]:\n\u001b[1;32m    570\u001b[0m     \u001b[38;5;124;03m\"\"\"\u001b[39;00m\n\u001b[1;32m    571\u001b[0m \u001b[38;5;124;03m    An iterator of FrameInfo and RepeatedFrames objects representing\u001b[39;00m\n\u001b[1;32m    572\u001b[0m \u001b[38;5;124;03m    a full traceback or stack. Similar consecutive frames are collapsed into RepeatedFrames\u001b[39;00m\n\u001b[0;32m   (...)\u001b[0m\n\u001b[1;32m    576\u001b[0m \u001b[38;5;124;03m    and optionally an Options object to configure.\u001b[39;00m\n\u001b[1;32m    577\u001b[0m \u001b[38;5;124;03m    \"\"\"\u001b[39;00m\n\u001b[0;32m--> 578\u001b[0m     stack \u001b[38;5;241m=\u001b[39m \u001b[38;5;28;43mlist\u001b[39;49m\u001b[43m(\u001b[49m\u001b[43miter_stack\u001b[49m\u001b[43m(\u001b[49m\u001b[43mframe_or_tb\u001b[49m\u001b[43m)\u001b[49m\u001b[43m)\u001b[49m\n\u001b[1;32m    580\u001b[0m     \u001b[38;5;66;03m# Reverse the stack from a frame so that it's in the same order\u001b[39;00m\n\u001b[1;32m    581\u001b[0m     \u001b[38;5;66;03m# as the order from a traceback, which is the order of a printed\u001b[39;00m\n\u001b[1;32m    582\u001b[0m     \u001b[38;5;66;03m# traceback when read top to bottom (most recent call last)\u001b[39;00m\n\u001b[1;32m    583\u001b[0m     \u001b[38;5;28;01mif\u001b[39;00m is_frame(frame_or_tb):\n",
      "File \u001b[0;32m/opt/conda/lib/python3.10/site-packages/stack_data/utils.py:97\u001b[0m, in \u001b[0;36miter_stack\u001b[0;34m(frame_or_tb)\u001b[0m\n\u001b[1;32m     95\u001b[0m \u001b[38;5;28;01mwhile\u001b[39;00m frame_or_tb:\n\u001b[1;32m     96\u001b[0m     \u001b[38;5;28;01myield\u001b[39;00m frame_or_tb\n\u001b[0;32m---> 97\u001b[0m     \u001b[38;5;28;01mif\u001b[39;00m \u001b[43mis_frame\u001b[49m\u001b[43m(\u001b[49m\u001b[43mframe_or_tb\u001b[49m\u001b[43m)\u001b[49m:\n\u001b[1;32m     98\u001b[0m         frame_or_tb \u001b[38;5;241m=\u001b[39m frame_or_tb\u001b[38;5;241m.\u001b[39mf_back\n\u001b[1;32m     99\u001b[0m     \u001b[38;5;28;01melse\u001b[39;00m:\n",
      "File \u001b[0;32m/opt/conda/lib/python3.10/site-packages/stack_data/utils.py:90\u001b[0m, in \u001b[0;36mis_frame\u001b[0;34m(frame_or_tb)\u001b[0m\n\u001b[1;32m     89\u001b[0m \u001b[38;5;28;01mdef\u001b[39;00m \u001b[38;5;21mis_frame\u001b[39m(frame_or_tb: Union[FrameType, TracebackType]) \u001b[38;5;241m-\u001b[39m\u001b[38;5;241m>\u001b[39m \u001b[38;5;28mbool\u001b[39m:\n\u001b[0;32m---> 90\u001b[0m     \u001b[43massert_\u001b[49m\u001b[43m(\u001b[49m\u001b[38;5;28;43misinstance\u001b[39;49m\u001b[43m(\u001b[49m\u001b[43mframe_or_tb\u001b[49m\u001b[43m,\u001b[49m\u001b[43m \u001b[49m\u001b[43m(\u001b[49m\u001b[43mtypes\u001b[49m\u001b[38;5;241;43m.\u001b[39;49m\u001b[43mFrameType\u001b[49m\u001b[43m,\u001b[49m\u001b[43m \u001b[49m\u001b[43mtypes\u001b[49m\u001b[38;5;241;43m.\u001b[39;49m\u001b[43mTracebackType\u001b[49m\u001b[43m)\u001b[49m\u001b[43m)\u001b[49m\u001b[43m)\u001b[49m\n\u001b[1;32m     91\u001b[0m     \u001b[38;5;28;01mreturn\u001b[39;00m \u001b[38;5;28misinstance\u001b[39m(frame_or_tb, (types\u001b[38;5;241m.\u001b[39mFrameType,))\n",
      "File \u001b[0;32m/opt/conda/lib/python3.10/site-packages/stack_data/utils.py:176\u001b[0m, in \u001b[0;36massert_\u001b[0;34m(condition, error)\u001b[0m\n\u001b[1;32m    174\u001b[0m \u001b[38;5;28;01mif\u001b[39;00m \u001b[38;5;28misinstance\u001b[39m(error, \u001b[38;5;28mstr\u001b[39m):\n\u001b[1;32m    175\u001b[0m     error \u001b[38;5;241m=\u001b[39m \u001b[38;5;167;01mAssertionError\u001b[39;00m(error)\n\u001b[0;32m--> 176\u001b[0m \u001b[38;5;28;01mraise\u001b[39;00m error\n",
      "\u001b[0;31mAssertionError\u001b[0m: "
     ]
    }
   ],
   "source": [
    "# setup.py\n",
    "\n",
    "from setuptools import setup, find_packages\n",
    "\n",
    "setup(\n",
    "    name='ecommerce',\n",
    "    version='0.1',\n",
    "    packages=find_packages(),\n",
    "    install_requires=[],\n",
    "    tests_require=['unittest'],\n",
    "    test_suite='tests',\n",
    ")\n"
   ]
  },
  {
   "cell_type": "markdown",
   "id": "49f86846-ee17-4783-96ce-ec395b629429",
   "metadata": {},
   "source": [
    "README.md\n",
    "\n",
    "A basic readme file for your project."
   ]
  },
  {
   "cell_type": "code",
   "execution_count": 23,
   "id": "6b8217a2-d78a-466b-9bc5-0635d11b878b",
   "metadata": {},
   "outputs": [
    {
     "ename": "SyntaxError",
     "evalue": "invalid syntax (1512374730.py, line 3)",
     "output_type": "error",
     "traceback": [
      "\u001b[0;36m  Cell \u001b[0;32mIn[23], line 3\u001b[0;36m\u001b[0m\n\u001b[0;31m    A Python package for managing products and processing orders.\u001b[0m\n\u001b[0m      ^\u001b[0m\n\u001b[0;31mSyntaxError\u001b[0m\u001b[0;31m:\u001b[0m invalid syntax\n"
     ]
    }
   ],
   "source": [
    "# Ecommerce Package\n",
    "\n",
    "A Python package for managing products and processing orders.\n",
    "\n",
    "## Installation\n",
    "\n",
    "To install the package, use:\n",
    "\n",
    "```bash\n",
    "pip install .\n"
   ]
  },
  {
   "cell_type": "markdown",
   "id": "2048ac6d-2894-4a44-b032-a6be8ee2aee4",
   "metadata": {},
   "source": [
    "Usage"
   ]
  },
  {
   "cell_type": "code",
   "execution_count": 25,
   "id": "c0a2bf56-e130-448a-9775-467fc67d0d8e",
   "metadata": {},
   "outputs": [
    {
     "ename": "ModuleNotFoundError",
     "evalue": "No module named 'ecommerce'",
     "output_type": "error",
     "traceback": [
      "\u001b[0;31m---------------------------------------------------------------------------\u001b[0m",
      "\u001b[0;31mModuleNotFoundError\u001b[0m                       Traceback (most recent call last)",
      "Cell \u001b[0;32mIn[25], line 1\u001b[0m\n\u001b[0;32m----> 1\u001b[0m \u001b[38;5;28;01mfrom\u001b[39;00m \u001b[38;5;21;01mecommerce\u001b[39;00m\u001b[38;5;21;01m.\u001b[39;00m\u001b[38;5;21;01mproduct_management\u001b[39;00m \u001b[38;5;28;01mimport\u001b[39;00m Product, add_product, find_product_by_id\n\u001b[1;32m      2\u001b[0m \u001b[38;5;28;01mfrom\u001b[39;00m \u001b[38;5;21;01mecommerce\u001b[39;00m\u001b[38;5;21;01m.\u001b[39;00m\u001b[38;5;21;01morder_processing\u001b[39;00m \u001b[38;5;28;01mimport\u001b[39;00m create_order\n\u001b[1;32m      4\u001b[0m \u001b[38;5;66;03m# Example usage here\u001b[39;00m\n",
      "\u001b[0;31mModuleNotFoundError\u001b[0m: No module named 'ecommerce'"
     ]
    }
   ],
   "source": [
    "from ecommerce.product_management import Product, add_product, find_product_by_id\n",
    "from ecommerce.order_processing import create_order\n",
    "\n",
    "# Example usage here\n"
   ]
  },
  {
   "cell_type": "code",
   "execution_count": 26,
   "id": "f8f6bf1c-70bd-4812-bfbf-4ad834249dbd",
   "metadata": {},
   "outputs": [
    {
     "ename": "SyntaxError",
     "evalue": "invalid syntax (3152506992.py, line 1)",
     "output_type": "error",
     "traceback": [
      "\u001b[0;36m  Cell \u001b[0;32mIn[26], line 1\u001b[0;36m\u001b[0m\n\u001b[0;31m    This structure sets up a basic package with functionality for product management and order processing, and includes a test suite for both modules.\u001b[0m\n\u001b[0m         ^\u001b[0m\n\u001b[0;31mSyntaxError\u001b[0m\u001b[0;31m:\u001b[0m invalid syntax\n"
     ]
    }
   ],
   "source": [
    "\n",
    "This structure sets up a basic package with functionality for product management and order processing, and includes a test suite for both modules.\n"
   ]
  },
  {
   "cell_type": "raw",
   "id": "23f0f346-7108-4acf-a4d7-d8d4e2e37cee",
   "metadata": {},
   "source": [
    "Question 15. write a pyhton module named string_utils.py with functions for string manipulation, such as reversing and capitalizing strings."
   ]
  },
  {
   "cell_type": "markdown",
   "id": "4c29af2a-7eb6-423c-adf7-0bbd820b6b28",
   "metadata": {},
   "source": [
    "Sure! Here's a Python module named string_utils.py that includes functions for common string manipulations like reversing and capitalizing strings:"
   ]
  },
  {
   "cell_type": "code",
   "execution_count": 27,
   "id": "e8b2b9b9-8cc5-43c0-88e9-bd62d17f14b3",
   "metadata": {},
   "outputs": [],
   "source": [
    "# string_utils.py\n",
    "\n",
    "def reverse_string(s):\n",
    "    \"\"\"Return the reversed version of the string.\"\"\"\n",
    "    return s[::-1]\n",
    "\n",
    "def capitalize_string(s):\n",
    "    \"\"\"Return the string with the first character capitalized and the rest lowercased.\"\"\"\n",
    "    return s.capitalize()\n",
    "\n",
    "def upper_case_string(s):\n",
    "    \"\"\"Return the string converted to uppercase.\"\"\"\n",
    "    return s.upper()\n",
    "\n",
    "def lower_case_string(s):\n",
    "    \"\"\"Return the string converted to lowercase.\"\"\"\n",
    "    return s.lower()\n",
    "\n",
    "def title_case_string(s):\n",
    "    \"\"\"Return the string with each word capitalized.\"\"\"\n",
    "    return s.title()\n",
    "\n",
    "def is_palindrome(s):\n",
    "    \"\"\"Check if the string is a palindrome (reads the same forwards and backwards).\"\"\"\n",
    "    cleaned_string = ''.join(c.lower() for c in s if c.isalnum())\n",
    "    return cleaned_string == cleaned_string[::-1]\n"
   ]
  },
  {
   "cell_type": "markdown",
   "id": "006cc3e6-1f44-415d-8c6f-e3758cb2cd34",
   "metadata": {},
   "source": [
    "Functions Explained\n",
    "\n",
    "    reverse_string(s): Returns the reversed version of the input string.\n",
    "    capitalize_string(s): Capitalizes the first letter of the string and makes the rest lowercase.\n",
    "    upper_case_string(s): Converts all characters in the string to uppercase.\n",
    "    lower_case_string(s): Converts all characters in the string to lowercase.\n",
    "    title_case_string(s): Capitalizes the first letter of each word in the string.\n",
    "    is_palindrome(s): Checks if the string is a palindrome. It cleans the string of non-alphanumeric characters and compares it to its reverse.\n",
    "\n",
    "Usage\n",
    "\n",
    "You can use this module in another Python script as follows:"
   ]
  },
  {
   "cell_type": "code",
   "execution_count": 28,
   "id": "39e35642-c378-40e7-a459-5418de762a43",
   "metadata": {},
   "outputs": [
    {
     "ename": "ModuleNotFoundError",
     "evalue": "No module named 'string_utils'",
     "output_type": "error",
     "traceback": [
      "\u001b[0;31m---------------------------------------------------------------------------\u001b[0m",
      "\u001b[0;31mModuleNotFoundError\u001b[0m                       Traceback (most recent call last)",
      "Cell \u001b[0;32mIn[28], line 1\u001b[0m\n\u001b[0;32m----> 1\u001b[0m \u001b[38;5;28;01mfrom\u001b[39;00m \u001b[38;5;21;01mstring_utils\u001b[39;00m \u001b[38;5;28;01mimport\u001b[39;00m reverse_string, capitalize_string, upper_case_string, lower_case_string, title_case_string, is_palindrome\n\u001b[1;32m      3\u001b[0m \u001b[38;5;66;03m# Example usage\u001b[39;00m\n\u001b[1;32m      4\u001b[0m \u001b[38;5;28mprint\u001b[39m(reverse_string(\u001b[38;5;124m\"\u001b[39m\u001b[38;5;124mhello\u001b[39m\u001b[38;5;124m\"\u001b[39m))  \u001b[38;5;66;03m# Output: \"olleh\"\u001b[39;00m\n",
      "\u001b[0;31mModuleNotFoundError\u001b[0m: No module named 'string_utils'"
     ]
    }
   ],
   "source": [
    "from string_utils import reverse_string, capitalize_string, upper_case_string, lower_case_string, title_case_string, is_palindrome\n",
    "\n",
    "# Example usage\n",
    "print(reverse_string(\"hello\"))  # Output: \"olleh\"\n",
    "print(capitalize_string(\"hello world\"))  # Output: \"Hello world\"\n",
    "print(upper_case_string(\"hello\"))  # Output: \"HELLO\"\n",
    "print(lower_case_string(\"HELLO\"))  # Output: \"hello\"\n",
    "print(title_case_string(\"hello world\"))  # Output: \"Hello World\"\n",
    "print(is_palindrome(\"A man, a plan, a canal, Panama\"))  # Output: True\n"
   ]
  },
  {
   "cell_type": "markdown",
   "id": "7c5949fe-4dbe-4d55-83e2-7003098fecb7",
   "metadata": {},
   "source": [
    "Feel free to add more string manipulation functions as needed!"
   ]
  },
  {
   "cell_type": "raw",
   "id": "cfcf1e66-a2fd-40a1-9efd-e4329893d809",
   "metadata": {},
   "source": [
    "Question 16. write a python program to create a text file named \"employees.txt\"and write the details of emloyees, including their name, age and salary, into the file."
   ]
  },
  {
   "cell_type": "markdown",
   "id": "3188c12e-5abc-4263-9997-2cd9dd867929",
   "metadata": {},
   "source": [
    "Certainly! You can create a Python program to write employee details into a text file named employees.txt using the following approach:\n",
    "\n",
    "    Create the file and write employee details.\n",
    "    Ensure proper formatting for readability.\n",
    "\n",
    "Here’s a Python program that accomplishes this:"
   ]
  },
  {
   "cell_type": "code",
   "execution_count": 30,
   "id": "d61047b4-1836-4b5e-bf3e-49e8f0f036a9",
   "metadata": {},
   "outputs": [
    {
     "name": "stdout",
     "output_type": "stream",
     "text": [
      "Employee details have been written to employees.txt\n"
     ]
    }
   ],
   "source": [
    "# create_employees_file.py\n",
    "\n",
    "def write_employee_details(filename, employee_list):\n",
    "    \"\"\"Write employee details to a text file.\"\"\"\n",
    "    with open(filename, 'w') as file:\n",
    "        for employee in employee_list:\n",
    "            name, age, salary = employee\n",
    "            file.write(f\"Name: {name}, Age: {age}, Salary: ${salary:.2f}\\n\")\n",
    "\n",
    "def main():\n",
    "    # List of employees where each tuple contains (name, age, salary)\n",
    "    employees = [\n",
    "        (\"Alice Smith\", 30, 70000),\n",
    "        (\"Bob Johnson\", 45, 85000),\n",
    "        (\"Charlie Brown\", 28, 60000),\n",
    "        (\"David Wilson\", 35, 90000)\n",
    "    ]\n",
    "    \n",
    "    # Filename\n",
    "    filename = \"employees.txt\"\n",
    "    \n",
    "    # Write employee details to the file\n",
    "    write_employee_details(filename, employees)\n",
    "    print(f\"Employee details have been written to {filename}\")\n",
    "\n",
    "if __name__ == \"__main__\":\n",
    "    main()\n"
   ]
  },
  {
   "cell_type": "markdown",
   "id": "1e16b6ec-1fc9-4da5-99bd-a39292d8eb78",
   "metadata": {},
   "source": [
    "Explanation\n",
    "\n",
    "    write_employee_details(filename, employee_list): This function takes a filename and a list of employee details. It opens the file in write mode ('w') and writes each employee's details formatted as Name: <name>, Age: <age>, Salary: $<salary> to the file.\n",
    "\n",
    "    main(): Defines a list of employees with their names, ages, and salaries. It then calls write_employee_details to write these details to employees.txt.\n",
    "\n",
    "    if __name__ == \"__main__\":: Ensures that main() is called only when the script is run directly, not when imported as a module.\n",
    "\n",
    "Running the Program\n",
    "\n",
    "To execute the program, save it as create_employees_file.py and run it with:"
   ]
  },
  {
   "cell_type": "code",
   "execution_count": 31,
   "id": "ea64a646-831d-460c-8c48-6d5d85f4cdeb",
   "metadata": {},
   "outputs": [
    {
     "ename": "SyntaxError",
     "evalue": "invalid syntax (1342701034.py, line 1)",
     "output_type": "error",
     "traceback": [
      "\u001b[0;36m  Cell \u001b[0;32mIn[31], line 1\u001b[0;36m\u001b[0m\n\u001b[0;31m    python create_employees_file.py\u001b[0m\n\u001b[0m           ^\u001b[0m\n\u001b[0;31mSyntaxError\u001b[0m\u001b[0;31m:\u001b[0m invalid syntax\n"
     ]
    }
   ],
   "source": [
    "python create_employees_file.py\n"
   ]
  },
  {
   "cell_type": "markdown",
   "id": "46bbe2d8-2c7e-4066-8964-3aa0a333f694",
   "metadata": {},
   "source": [
    "This will create the employees.txt file with the provided employee details."
   ]
  },
  {
   "cell_type": "raw",
   "id": "9b932341-3b20-4814-b8ae-aeab8dab0ae2",
   "metadata": {},
   "source": [
    "Question 17. Develop a python script that opens an existing text file named \"inventory.txt\"in read mode and displays the contents of the file line by line."
   ]
  },
  {
   "cell_type": "markdown",
   "id": "51f058a6-0ba6-40e8-997f-0d5c02b4c741",
   "metadata": {},
   "source": [
    "Certainly! Here’s a Python script that opens an existing text file named inventory.txt in read mode and displays its contents line by line:"
   ]
  },
  {
   "cell_type": "code",
   "execution_count": 32,
   "id": "dd587764-b519-4443-837e-d58c3d07f06a",
   "metadata": {},
   "outputs": [
    {
     "name": "stdout",
     "output_type": "stream",
     "text": [
      "The file inventory.txt does not exist.\n"
     ]
    }
   ],
   "source": [
    "# read_inventory_file.py\n",
    "\n",
    "def read_file_line_by_line(filename):\n",
    "    \"\"\"Open a file and print its contents line by line.\"\"\"\n",
    "    try:\n",
    "        with open(filename, 'r') as file:\n",
    "            for line in file:\n",
    "                print(line.strip())\n",
    "    except FileNotFoundError:\n",
    "        print(f\"The file {filename} does not exist.\")\n",
    "    except IOError:\n",
    "        print(f\"An error occurred while reading the file {filename}.\")\n",
    "\n",
    "def main():\n",
    "    filename = \"inventory.txt\"\n",
    "    read_file_line_by_line(filename)\n",
    "\n",
    "if __name__ == \"__main__\":\n",
    "    main()\n"
   ]
  },
  {
   "cell_type": "markdown",
   "id": "5cfefbef-4be5-4505-9160-e0509595d044",
   "metadata": {},
   "source": [
    "Explanation\n",
    "\n",
    "    read_file_line_by_line(filename): This function opens the specified file in read mode ('r'). It iterates over each line in the file and prints it after stripping any leading and trailing whitespace (including the newline character).\n",
    "        try...except blocks: Handle potential errors:\n",
    "            FileNotFoundError is caught if the file does not exist.\n",
    "            IOError is caught for other input/output related issues.\n",
    "\n",
    "    main(): Defines the filename and calls read_file_line_by_line to read and display the file contents.\n",
    "\n",
    "    if __name__ == \"__main__\":: Ensures that main() is called only when the script is run directly.\n",
    "\n",
    "Running the Script\n",
    "\n",
    "Save the script as read_inventory_file.py and run it with:"
   ]
  },
  {
   "cell_type": "code",
   "execution_count": 33,
   "id": "04ebd6b4-90b0-4242-8401-7e86cd4ace86",
   "metadata": {},
   "outputs": [
    {
     "ename": "SyntaxError",
     "evalue": "invalid syntax (1774189338.py, line 1)",
     "output_type": "error",
     "traceback": [
      "\u001b[0;36m  Cell \u001b[0;32mIn[33], line 1\u001b[0;36m\u001b[0m\n\u001b[0;31m    python read_inventory_file.py\u001b[0m\n\u001b[0m           ^\u001b[0m\n\u001b[0;31mSyntaxError\u001b[0m\u001b[0;31m:\u001b[0m invalid syntax\n"
     ]
    }
   ],
   "source": [
    "python read_inventory_file.py\n"
   ]
  },
  {
   "cell_type": "markdown",
   "id": "d7655ee5-20a5-4fb1-a707-977f24e9f292",
   "metadata": {},
   "source": [
    "Ensure that inventory.txt exists in the same directory as the script or provide the correct path to the file. The script will print the contents of inventory.txt line by line."
   ]
  },
  {
   "cell_type": "raw",
   "id": "d4b398d2-0a81-4e4d-888a-0af42d988b7b",
   "metadata": {},
   "source": [
    "Question.18. Create a python script that reads a text file named \"expenses.txt\"and calculates the total amount spent on various expenses listed in the file."
   ]
  },
  {
   "cell_type": "markdown",
   "id": "9d2264bb-c0b6-4448-8306-7ab704f93b61",
   "metadata": {},
   "source": [
    "o create a Python script that reads a text file named expenses.txt and calculates the total amount spent on various expenses listed in the file, you can follow this approach:\n",
    "\n",
    "    Read the file.\n",
    "    Extract and sum up the expense amounts.\n",
    "\n",
    "Here's a Python script that performs these tasks:"
   ]
  },
  {
   "cell_type": "markdown",
   "id": "cafec7e3-60a9-4be9-9ca9-f5a71b79f899",
   "metadata": {},
   "source": [
    "# calculate_expenses.py\n",
    "\n",
    "def calculate_total_expenses(filename):\n",
    "    \"\"\"Read the expenses from the file and calculate the total amount spent.\"\"\"\n",
    "    total_amount = 0.0\n",
    "\n",
    "    try:\n",
    "        with open(filename, 'r') as file:\n",
    "            for line in file:\n",
    "                # Assuming each line contains an expense in the format: \"Expense Description: Amount\"\n",
    "                parts = line.split(':')\n",
    "                if len(parts) == 2:\n",
    "                    try:\n",
    "                        amount = float(parts[1].strip())\n",
    "                        total_amount += amount\n",
    "                    except ValueError:\n",
    "                        print(f\"Warning: Could not convert '{parts[1].strip()}' to a float.\")\n",
    "                else:\n",
    "                    print(f\"Warning: Line format is incorrect: '{line.strip()}'\")\n",
    "\n",
    "    except FileNotFoundError:\n",
    "        print(f\"The file {filename} does not exist.\")\n",
    "    except IOError:\n",
    "        print(f\"An error occurred while reading the file {filename}.\")\n",
    "\n",
    "    return total_amount\n",
    "\n",
    "def main():\n",
    "    filename = \"expenses.txt\"\n",
    "    total = calculate_total_expenses(filename)\n",
    "    print(f\"Total amount spent: ${total:.2f}\")\n",
    "\n",
    "if __name__ == \"__main__\":\n",
    "    main()\n"
   ]
  },
  {
   "cell_type": "markdown",
   "id": "093ed884-68f9-4a9a-a168-13aedcc8ae74",
   "metadata": {},
   "source": [
    "Explanation\n",
    "\n",
    "    calculate_total_expenses(filename):\n",
    "        Opens the file in read mode ('r').\n",
    "        Iterates over each line in the file, expecting each line to be in the format Expense Description: Amount.\n",
    "        Splits each line at the colon (:) to separate the description from the amount.\n",
    "        Converts the amount to a float and adds it to total_amount.\n",
    "        Handles errors for non-numeric values and incorrect line formats.\n",
    "        Catches FileNotFoundError if the file does not exist and IOError for other input/output errors.\n",
    "\n",
    "    main():\n",
    "        Defines the filename and calls calculate_total_expenses to compute the total expenses.\n",
    "        Prints the total amount spent.\n",
    "\n",
    "    if __name__ == \"__main__\"::\n",
    "        Ensures that main() is called only when the script is executed directly.\n",
    "\n",
    "Sample expenses.txt Format\n",
    "\n",
    "To match the script's expectations, the expenses.txt file should look like this:"
   ]
  },
  {
   "cell_type": "code",
   "execution_count": 36,
   "id": "e8f80b31-fc09-4e08-a1f3-f5ac84c99e30",
   "metadata": {},
   "outputs": [],
   "source": [
    "Groceries: 50.25\n",
    "Utilities: 120.75\n",
    "Rent: 1000.00\n",
    "Entertainment: 30.00\n"
   ]
  },
  {
   "cell_type": "markdown",
   "id": "06c39fe4-7a22-4e2c-8720-be1ba59030c0",
   "metadata": {},
   "source": [
    "Running the Script\n",
    "\n",
    "Save the script as calculate_expenses.py and run it with:"
   ]
  },
  {
   "cell_type": "code",
   "execution_count": 37,
   "id": "28ea073a-b205-4a44-98de-dee31723430a",
   "metadata": {},
   "outputs": [
    {
     "ename": "SyntaxError",
     "evalue": "invalid syntax (144382497.py, line 1)",
     "output_type": "error",
     "traceback": [
      "\u001b[0;36m  Cell \u001b[0;32mIn[37], line 1\u001b[0;36m\u001b[0m\n\u001b[0;31m    python calculate_expenses.py\u001b[0m\n\u001b[0m           ^\u001b[0m\n\u001b[0;31mSyntaxError\u001b[0m\u001b[0;31m:\u001b[0m invalid syntax\n"
     ]
    }
   ],
   "source": [
    "python calculate_expenses.py\n"
   ]
  },
  {
   "cell_type": "markdown",
   "id": "6c114649-bccb-49e1-9299-a6928cbd0f7e",
   "metadata": {},
   "source": [
    "Ensure that expenses.txt exists in the same directory as the script or provide the correct path to the file. The script will calculate and print the total amount spent."
   ]
  },
  {
   "cell_type": "raw",
   "id": "9dc5d6ad-4351-4311-a6b7-57b5b35164e9",
   "metadata": {},
   "source": [
    "Question.19. Create a python program that reads a text file named \"paragraph.txt\" and counts the occurrences of each word in the paragraph, displaying the results in alphabetical order"
   ]
  },
  {
   "cell_type": "markdown",
   "id": "c7f0f055-1e9c-41c1-be2f-631cbdee7ce5",
   "metadata": {},
   "source": [
    "Certainly! Here's a Python program that reads a text file named paragraph.txt, counts the occurrences of each word in the paragraph, and displays the results in alphabetical order:"
   ]
  },
  {
   "cell_type": "code",
   "execution_count": 38,
   "id": "0dd6b5f0-a5b5-40c9-8992-59d797917d0e",
   "metadata": {},
   "outputs": [
    {
     "name": "stdout",
     "output_type": "stream",
     "text": [
      "The file paragraph.txt does not exist.\n"
     ]
    }
   ],
   "source": [
    "# word_count.py\n",
    "\n",
    "from collections import Counter\n",
    "import string\n",
    "\n",
    "def count_words(filename):\n",
    "    \"\"\"Read the file and count the occurrences of each word.\"\"\"\n",
    "    word_count = Counter()\n",
    "\n",
    "    try:\n",
    "        with open(filename, 'r') as file:\n",
    "            # Read the entire file content\n",
    "            text = file.read()\n",
    "            \n",
    "            # Remove punctuation and convert text to lowercase\n",
    "            text = text.translate(str.maketrans('', '', string.punctuation)).lower()\n",
    "            \n",
    "            # Split the text into words\n",
    "            words = text.split()\n",
    "            \n",
    "            # Count the occurrences of each word\n",
    "            word_count.update(words)\n",
    "    \n",
    "    except FileNotFoundError:\n",
    "        print(f\"The file {filename} does not exist.\")\n",
    "    except IOError:\n",
    "        print(f\"An error occurred while reading the file {filename}.\")\n",
    "\n",
    "    return word_count\n",
    "\n",
    "def main():\n",
    "    filename = \"paragraph.txt\"\n",
    "    word_counts = count_words(filename)\n",
    "    \n",
    "    # Display the word counts in alphabetical order\n",
    "    for word in sorted(word_counts):\n",
    "        print(f\"{word}: {word_counts[word]}\")\n",
    "\n",
    "if __name__ == \"__main__\":\n",
    "    main()\n"
   ]
  },
  {
   "cell_type": "markdown",
   "id": "52eb7df3-8e80-4c86-a881-cbc4b1e6af86",
   "metadata": {},
   "source": [
    "Explanation\n",
    "\n",
    "    count_words(filename):\n",
    "        Opens the file in read mode ('r').\n",
    "        Reads the entire content of the file.\n",
    "        Removes punctuation and converts the text to lowercase to ensure consistent word counting.\n",
    "        Splits the cleaned text into words.\n",
    "        Uses Counter from the collections module to count occurrences of each word.\n",
    "\n",
    "    main():\n",
    "        Defines the filename and calls count_words to get the word counts.\n",
    "        Displays the word counts sorted alphabetically by word.\n",
    "\n",
    "    if __name__ == \"__main__\"::\n",
    "        Ensures that main() is called only when the script is executed directly.\n",
    "\n",
    "Running the Script\n",
    "\n",
    "Save the script as word_count.py and run it with:"
   ]
  },
  {
   "cell_type": "code",
   "execution_count": 39,
   "id": "5662f79f-51a8-46f3-99bd-00f1f366c35d",
   "metadata": {},
   "outputs": [
    {
     "ename": "SyntaxError",
     "evalue": "invalid syntax (3389312338.py, line 1)",
     "output_type": "error",
     "traceback": [
      "\u001b[0;36m  Cell \u001b[0;32mIn[39], line 1\u001b[0;36m\u001b[0m\n\u001b[0;31m    python word_count.py\u001b[0m\n\u001b[0m           ^\u001b[0m\n\u001b[0;31mSyntaxError\u001b[0m\u001b[0;31m:\u001b[0m invalid syntax\n"
     ]
    }
   ],
   "source": [
    "python word_count.py\n"
   ]
  },
  {
   "cell_type": "markdown",
   "id": "d22f0641-2b7d-4721-8a53-85eac12cb8ec",
   "metadata": {},
   "source": [
    "Ensure that paragraph.txt exists in the same directory as the script or provide the correct path to the file. The script will read the file, count the occurrences of each word, and print the results in alphabetical order."
   ]
  },
  {
   "cell_type": "raw",
   "id": "423d4727-9668-4782-ada6-21fe1608fb0d",
   "metadata": {},
   "source": [
    "Question.20. What do you mean by Measure of central Tendency and Measures of Dispersion. How it can be calculated."
   ]
  },
  {
   "cell_type": "markdown",
   "id": "c50401c8-0f07-4144-b885-1b4711952fbe",
   "metadata": {},
   "source": [
    "Measures of Central Tendency and Measures of Dispersion are fundamental concepts in statistics that help describe and summarize datasets."
   ]
  },
  {
   "cell_type": "markdown",
   "id": "4abdfaab-f20a-4450-8957-fa7eedaaf5e5",
   "metadata": {},
   "source": [
    "Measures of Central Tendency\n",
    "\n",
    "Measures of central tendency describe the center or typical value of a dataset. They provide a central value around which other data points tend to cluster. The most common measures of central tendency are:\n",
    "\n",
    "    Mean (Arithmetic Average)\n",
    "        Definition: The mean is the sum of all data points divided by the number of data points.\n",
    "        Calculation:\n",
    "        Mean=∑i=1nxin\n",
    "        Mean=n∑i=1n​xi​​\n",
    "        where xixi​ represents each data point and nn is the number of data points.\n",
    "\n",
    "    Median\n",
    "        Definition: The median is the middle value in a dataset when it is ordered from smallest to largest. If the dataset has an even number of observations, the median is the average of the two middle values.\n",
    "        Calculation:\n",
    "            For an odd number of observations: The median is the middle number.\n",
    "            For an even number of observations: The median is the average of the two middle numbers.\n",
    "\n",
    "    Mode\n",
    "        Definition: The mode is the value that occurs most frequently in the dataset. A dataset may have one mode, more than one mode, or no mode if all values occur with equal frequency.\n",
    "        Calculation: Identify the value(s) with the highest frequency.\n",
    "\n",
    "Measures of Dispersion\n",
    "\n",
    "Measures of dispersion describe the spread or variability of a dataset. They show how much the data points differ from the central value. Common measures of dispersion include:\n",
    "\n",
    "    Range\n",
    "        Definition: The range is the difference between the maximum and minimum values in the dataset.\n",
    "        Calculation:\n",
    "        Range=Maximum−Minimum\n",
    "        Range=Maximum−Minimum\n",
    "\n",
    "    Variance\n",
    "        Definition: Variance measures the average squared deviation of each data point from the mean. It provides an indication of how spread out the values are.\n",
    "        Calculation:\n",
    "        Variance=∑i=1n(xi−xˉ)2n\n",
    "        Variance=n∑i=1n​(xi​−xˉ)2​\n",
    "        where xˉxˉ is the mean of the data points.\n",
    "\n",
    "    Standard Deviation\n",
    "        Definition: The standard deviation is the square root of the variance. It measures the average distance of each data point from the mean and is in the same unit as the data.\n",
    "        Calculation:\n",
    "        Standard Deviation=Variance\n",
    "        Standard Deviation=Variance\n",
    "\n",
    "        ​\n",
    "\n",
    "    Interquartile Range (IQR)\n",
    "        Definition: The IQR measures the range within which the middle 50% of the data points fall. It is the difference between the third quartile (Q3) and the first quartile (Q1).\n",
    "        Calculation:\n",
    "        IQR=Q3−Q1\n",
    "        IQR=Q3−Q1\n",
    "        where Q1Q1 is the 25th percentile and Q3Q3 is the 75th percentile.\n",
    "\n",
    "Example Calculations\n",
    "\n",
    "Here's how you might calculate these measures with a sample dataset using Python:"
   ]
  },
  {
   "cell_type": "code",
   "execution_count": 40,
   "id": "74546e31-669a-4bb5-898f-6cc24503448d",
   "metadata": {},
   "outputs": [
    {
     "name": "stdout",
     "output_type": "stream",
     "text": [
      "Mean: 14.125\n",
      "Median: 14.0\n",
      "Mode: 14\n",
      "Range: 8\n",
      "Variance: 5.109375\n",
      "Standard Deviation: 2.2603926650031405\n",
      "Interquartile Range (IQR): 1.75\n"
     ]
    },
    {
     "name": "stderr",
     "output_type": "stream",
     "text": [
      "/tmp/ipykernel_105/3524185757.py:14: FutureWarning: Unlike other reduction functions (e.g. `skew`, `kurtosis`), the default behavior of `mode` typically preserves the axis it acts along. In SciPy 1.11.0, this behavior will change: the default value of `keepdims` will become False, the `axis` over which the statistic is taken will be eliminated, and the value None will no longer be accepted. Set `keepdims` to True or False to avoid this warning.\n",
      "  mode = stats.mode(data).mode[0]\n"
     ]
    }
   ],
   "source": [
    "import numpy as np\n",
    "from scipy import stats\n",
    "\n",
    "# Sample data\n",
    "data = [12, 15, 14, 10, 18, 14, 16, 14]\n",
    "\n",
    "# Mean\n",
    "mean = np.mean(data)\n",
    "\n",
    "# Median\n",
    "median = np.median(data)\n",
    "\n",
    "# Mode\n",
    "mode = stats.mode(data).mode[0]\n",
    "\n",
    "# Range\n",
    "data_range = np.max(data) - np.min(data)\n",
    "\n",
    "# Variance\n",
    "variance = np.var(data, ddof=0)  # ddof=0 for population variance, ddof=1 for sample variance\n",
    "\n",
    "# Standard Deviation\n",
    "std_dev = np.std(data, ddof=0)\n",
    "\n",
    "# Interquartile Range (IQR)\n",
    "iqr = np.percentile(data, 75) - np.percentile(data, 25)\n",
    "\n",
    "# Output results\n",
    "print(f\"Mean: {mean}\")\n",
    "print(f\"Median: {median}\")\n",
    "print(f\"Mode: {mode}\")\n",
    "print(f\"Range: {data_range}\")\n",
    "print(f\"Variance: {variance}\")\n",
    "print(f\"Standard Deviation: {std_dev}\")\n",
    "print(f\"Interquartile Range (IQR): {iqr}\")\n"
   ]
  },
  {
   "cell_type": "markdown",
   "id": "2559a355-343b-4c65-86a6-380ba83c60dc",
   "metadata": {},
   "source": [
    "In this script:\n",
    "\n",
    "    numpy is used for calculating mean, median, standard deviation, and range.\n",
    "    scipy.stats is used for finding the mode.\n",
    "    The interquartile range (IQR) is calculated using percentile functions from numpy.\n",
    "\n",
    "These calculations help summarize the dataset and understand its distribution and variability."
   ]
  },
  {
   "cell_type": "markdown",
   "id": "217c6dbb-fb2d-4b7b-a623-e36855f8511f",
   "metadata": {},
   "source": [
    "Question.21 What do you mean by skewness.Explain its tyoes. Use graph to show."
   ]
  },
  {
   "cell_type": "markdown",
   "id": "92d2fa60-de51-4174-a864-538f5eb3e7ad",
   "metadata": {},
   "source": [
    "Skewness is a measure of the asymmetry of the distribution of data points in a dataset. It indicates the direction and degree of distortion from a normal distribution. A normal distribution is symmetric, meaning its skewness is zero. Positive skewness (right-skewed) means the distribution tail is on the right side, while negative skewness (left-skewed) means the tail is on the left side.\n",
    "Types of Skewness\n",
    "\n",
    "    Positive Skewness (Right Skewness)\n",
    "        Definition: The distribution has a longer or fatter tail on the right side.\n",
    "        Characteristics: The mean is typically greater than the median. The bulk of the data is concentrated on the left, and the tail extends to the right.\n",
    "        Example: Income distribution where a few people earn significantly more than the majority.\n",
    "\n",
    "    Negative Skewness (Left Skewness)\n",
    "        Definition: The distribution has a longer or fatter tail on the left side.\n",
    "        Characteristics: The mean is typically less than the median. The bulk of the data is concentrated on the right, and the tail extends to the left.\n",
    "        Example: Age at retirement where most people retire around a certain age, but some retire earlier.\n",
    "\n",
    "    No Skewness (Symmetrical Distribution)\n",
    "        Definition: The distribution is symmetric with equal tails on both sides.\n",
    "        Characteristics: The mean and median are approximately equal. The distribution resembles the bell curve (normal distribution).\n",
    "\n",
    "Visualizing Skewness\n",
    "\n",
    "Below is an example of how to visualize positive skewness, negative skewness, and a symmetrical distribution using histograms with Python."
   ]
  },
  {
   "cell_type": "code",
   "execution_count": 41,
   "id": "c191bc8d-900b-40e6-abe8-7dd9a8f1f20f",
   "metadata": {},
   "outputs": [
    {
     "name": "stdout",
     "output_type": "stream",
     "text": [
      "matplotlib data path: /opt/conda/lib/python3.10/site-packages/matplotlib/mpl-data\n",
      "CONFIGDIR=/home/jovyan/.config/matplotlib\n",
      "interactive is False\n",
      "platform is linux\n",
      "CACHEDIR=/home/jovyan/.cache/matplotlib\n",
      "Using fontManager instance from /home/jovyan/.cache/matplotlib/fontlist-v330.json\n",
      "Note: NumExpr detected 64 cores but \"NUMEXPR_MAX_THREADS\" not set, so enforcing safe limit of 8.\n",
      "NumExpr defaulting to 8 threads.\n",
      "Loaded backend module://matplotlib_inline.backend_inline version unknown.\n",
      "Loaded backend module://matplotlib_inline.backend_inline version unknown.\n",
      "findfont: Matching sans\\-serif:style=normal:variant=normal:weight=normal:stretch=normal:size=10.0.\n",
      "findfont: score(FontEntry(fname='/opt/conda/lib/python3.10/site-packages/matplotlib/mpl-data/fonts/ttf/DejaVuSerifDisplay.ttf', name='DejaVu Serif Display', style='normal', variant='normal', weight=400, stretch='normal', size='scalable')) = 10.05\n",
      "findfont: score(FontEntry(fname='/opt/conda/lib/python3.10/site-packages/matplotlib/mpl-data/fonts/ttf/DejaVuSans-BoldOblique.ttf', name='DejaVu Sans', style='oblique', variant='normal', weight=700, stretch='normal', size='scalable')) = 1.335\n",
      "findfont: score(FontEntry(fname='/opt/conda/lib/python3.10/site-packages/matplotlib/mpl-data/fonts/ttf/STIXGeneralBol.ttf', name='STIXGeneral', style='normal', variant='normal', weight=700, stretch='normal', size='scalable')) = 10.335\n",
      "findfont: score(FontEntry(fname='/opt/conda/lib/python3.10/site-packages/matplotlib/mpl-data/fonts/ttf/cmex10.ttf', name='cmex10', style='normal', variant='normal', weight=400, stretch='normal', size='scalable')) = 10.05\n",
      "findfont: score(FontEntry(fname='/opt/conda/lib/python3.10/site-packages/matplotlib/mpl-data/fonts/ttf/DejaVuSansMono-BoldOblique.ttf', name='DejaVu Sans Mono', style='oblique', variant='normal', weight=700, stretch='normal', size='scalable')) = 11.335\n",
      "findfont: score(FontEntry(fname='/opt/conda/lib/python3.10/site-packages/matplotlib/mpl-data/fonts/ttf/STIXSizFiveSymReg.ttf', name='STIXSizeFiveSym', style='normal', variant='normal', weight=400, stretch='normal', size='scalable')) = 10.05\n",
      "findfont: score(FontEntry(fname='/opt/conda/lib/python3.10/site-packages/matplotlib/mpl-data/fonts/ttf/STIXNonUni.ttf', name='STIXNonUnicode', style='normal', variant='normal', weight=400, stretch='normal', size='scalable')) = 10.05\n",
      "findfont: score(FontEntry(fname='/opt/conda/lib/python3.10/site-packages/matplotlib/mpl-data/fonts/ttf/STIXSizThreeSymReg.ttf', name='STIXSizeThreeSym', style='normal', variant='normal', weight=400, stretch='normal', size='scalable')) = 10.05\n",
      "findfont: score(FontEntry(fname='/opt/conda/lib/python3.10/site-packages/matplotlib/mpl-data/fonts/ttf/DejaVuSansMono-Oblique.ttf', name='DejaVu Sans Mono', style='oblique', variant='normal', weight=400, stretch='normal', size='scalable')) = 11.05\n",
      "findfont: score(FontEntry(fname='/opt/conda/lib/python3.10/site-packages/matplotlib/mpl-data/fonts/ttf/STIXSizThreeSymBol.ttf', name='STIXSizeThreeSym', style='normal', variant='normal', weight=700, stretch='normal', size='scalable')) = 10.335\n",
      "findfont: score(FontEntry(fname='/opt/conda/lib/python3.10/site-packages/matplotlib/mpl-data/fonts/ttf/DejaVuSansDisplay.ttf', name='DejaVu Sans Display', style='normal', variant='normal', weight=400, stretch='normal', size='scalable')) = 10.05\n",
      "findfont: score(FontEntry(fname='/opt/conda/lib/python3.10/site-packages/matplotlib/mpl-data/fonts/ttf/DejaVuSansMono.ttf', name='DejaVu Sans Mono', style='normal', variant='normal', weight=400, stretch='normal', size='scalable')) = 10.05\n",
      "findfont: score(FontEntry(fname='/opt/conda/lib/python3.10/site-packages/matplotlib/mpl-data/fonts/ttf/DejaVuSans-Bold.ttf', name='DejaVu Sans', style='normal', variant='normal', weight=700, stretch='normal', size='scalable')) = 0.33499999999999996\n",
      "findfont: score(FontEntry(fname='/opt/conda/lib/python3.10/site-packages/matplotlib/mpl-data/fonts/ttf/cmb10.ttf', name='cmb10', style='normal', variant='normal', weight=400, stretch='normal', size='scalable')) = 10.05\n",
      "findfont: score(FontEntry(fname='/opt/conda/lib/python3.10/site-packages/matplotlib/mpl-data/fonts/ttf/STIXGeneral.ttf', name='STIXGeneral', style='normal', variant='normal', weight=400, stretch='normal', size='scalable')) = 10.05\n",
      "findfont: score(FontEntry(fname='/opt/conda/lib/python3.10/site-packages/matplotlib/mpl-data/fonts/ttf/STIXSizTwoSymReg.ttf', name='STIXSizeTwoSym', style='normal', variant='normal', weight=400, stretch='normal', size='scalable')) = 10.05\n",
      "findfont: score(FontEntry(fname='/opt/conda/lib/python3.10/site-packages/matplotlib/mpl-data/fonts/ttf/STIXGeneralBolIta.ttf', name='STIXGeneral', style='italic', variant='normal', weight=700, stretch='normal', size='scalable')) = 11.335\n",
      "findfont: score(FontEntry(fname='/opt/conda/lib/python3.10/site-packages/matplotlib/mpl-data/fonts/ttf/STIXSizFourSymBol.ttf', name='STIXSizeFourSym', style='normal', variant='normal', weight=700, stretch='normal', size='scalable')) = 10.335\n",
      "findfont: score(FontEntry(fname='/opt/conda/lib/python3.10/site-packages/matplotlib/mpl-data/fonts/ttf/STIXGeneralItalic.ttf', name='STIXGeneral', style='italic', variant='normal', weight=400, stretch='normal', size='scalable')) = 11.05\n",
      "findfont: score(FontEntry(fname='/opt/conda/lib/python3.10/site-packages/matplotlib/mpl-data/fonts/ttf/DejaVuSansMono-Bold.ttf', name='DejaVu Sans Mono', style='normal', variant='normal', weight=700, stretch='normal', size='scalable')) = 10.335\n",
      "findfont: score(FontEntry(fname='/opt/conda/lib/python3.10/site-packages/matplotlib/mpl-data/fonts/ttf/STIXSizOneSymBol.ttf', name='STIXSizeOneSym', style='normal', variant='normal', weight=700, stretch='normal', size='scalable')) = 10.335\n",
      "findfont: score(FontEntry(fname='/opt/conda/lib/python3.10/site-packages/matplotlib/mpl-data/fonts/ttf/DejaVuSerif-Bold.ttf', name='DejaVu Serif', style='normal', variant='normal', weight=700, stretch='normal', size='scalable')) = 10.335\n",
      "findfont: score(FontEntry(fname='/opt/conda/lib/python3.10/site-packages/matplotlib/mpl-data/fonts/ttf/DejaVuSerif.ttf', name='DejaVu Serif', style='normal', variant='normal', weight=400, stretch='normal', size='scalable')) = 10.05\n",
      "findfont: score(FontEntry(fname='/opt/conda/lib/python3.10/site-packages/matplotlib/mpl-data/fonts/ttf/STIXNonUniBol.ttf', name='STIXNonUnicode', style='normal', variant='normal', weight=700, stretch='normal', size='scalable')) = 10.335\n",
      "findfont: score(FontEntry(fname='/opt/conda/lib/python3.10/site-packages/matplotlib/mpl-data/fonts/ttf/DejaVuSerif-BoldItalic.ttf', name='DejaVu Serif', style='italic', variant='normal', weight=700, stretch='normal', size='scalable')) = 11.335\n",
      "findfont: score(FontEntry(fname='/opt/conda/lib/python3.10/site-packages/matplotlib/mpl-data/fonts/ttf/DejaVuSerif-Italic.ttf', name='DejaVu Serif', style='italic', variant='normal', weight=400, stretch='normal', size='scalable')) = 11.05\n",
      "findfont: score(FontEntry(fname='/opt/conda/lib/python3.10/site-packages/matplotlib/mpl-data/fonts/ttf/cmmi10.ttf', name='cmmi10', style='normal', variant='normal', weight=400, stretch='normal', size='scalable')) = 10.05\n",
      "findfont: score(FontEntry(fname='/opt/conda/lib/python3.10/site-packages/matplotlib/mpl-data/fonts/ttf/DejaVuSans.ttf', name='DejaVu Sans', style='normal', variant='normal', weight=400, stretch='normal', size='scalable')) = 0.05\n",
      "findfont: score(FontEntry(fname='/opt/conda/lib/python3.10/site-packages/matplotlib/mpl-data/fonts/ttf/STIXNonUniBolIta.ttf', name='STIXNonUnicode', style='italic', variant='normal', weight=700, stretch='normal', size='scalable')) = 11.335\n",
      "findfont: score(FontEntry(fname='/opt/conda/lib/python3.10/site-packages/matplotlib/mpl-data/fonts/ttf/STIXSizTwoSymBol.ttf', name='STIXSizeTwoSym', style='normal', variant='normal', weight=700, stretch='normal', size='scalable')) = 10.335\n",
      "findfont: score(FontEntry(fname='/opt/conda/lib/python3.10/site-packages/matplotlib/mpl-data/fonts/ttf/STIXSizFourSymReg.ttf', name='STIXSizeFourSym', style='normal', variant='normal', weight=400, stretch='normal', size='scalable')) = 10.05\n",
      "findfont: score(FontEntry(fname='/opt/conda/lib/python3.10/site-packages/matplotlib/mpl-data/fonts/ttf/cmss10.ttf', name='cmss10', style='normal', variant='normal', weight=400, stretch='normal', size='scalable')) = 10.05\n",
      "findfont: score(FontEntry(fname='/opt/conda/lib/python3.10/site-packages/matplotlib/mpl-data/fonts/ttf/DejaVuSans-Oblique.ttf', name='DejaVu Sans', style='oblique', variant='normal', weight=400, stretch='normal', size='scalable')) = 1.05\n",
      "findfont: score(FontEntry(fname='/opt/conda/lib/python3.10/site-packages/matplotlib/mpl-data/fonts/ttf/STIXSizOneSymReg.ttf', name='STIXSizeOneSym', style='normal', variant='normal', weight=400, stretch='normal', size='scalable')) = 10.05\n",
      "findfont: score(FontEntry(fname='/opt/conda/lib/python3.10/site-packages/matplotlib/mpl-data/fonts/ttf/cmr10.ttf', name='cmr10', style='normal', variant='normal', weight=400, stretch='normal', size='scalable')) = 10.05\n",
      "findfont: score(FontEntry(fname='/opt/conda/lib/python3.10/site-packages/matplotlib/mpl-data/fonts/ttf/STIXNonUniIta.ttf', name='STIXNonUnicode', style='italic', variant='normal', weight=400, stretch='normal', size='scalable')) = 11.05\n",
      "findfont: score(FontEntry(fname='/opt/conda/lib/python3.10/site-packages/matplotlib/mpl-data/fonts/ttf/cmtt10.ttf', name='cmtt10', style='normal', variant='normal', weight=400, stretch='normal', size='scalable')) = 10.05\n",
      "findfont: score(FontEntry(fname='/opt/conda/lib/python3.10/site-packages/matplotlib/mpl-data/fonts/ttf/cmsy10.ttf', name='cmsy10', style='normal', variant='normal', weight=400, stretch='normal', size='scalable')) = 10.05\n",
      "findfont: score(FontEntry(fname='/usr/share/fonts/opentype/urw-base35/NimbusSans-Italic.otf', name='Nimbus Sans', style='italic', variant='normal', weight=400, stretch='normal', size='scalable')) = 11.05\n",
      "findfont: score(FontEntry(fname='/usr/share/texmf/fonts/opentype/public/lm/lmmonocaps10-oblique.otf', name='Latin Modern Mono Caps', style='oblique', variant='normal', weight=400, stretch='normal', size='scalable')) = 11.05\n",
      "findfont: score(FontEntry(fname='/usr/share/texmf/fonts/opentype/public/lm/lmromanslant10-bold.otf', name='Latin Modern Roman Slanted', style='normal', variant='normal', weight=700, stretch='normal', size='scalable')) = 10.335\n",
      "findfont: score(FontEntry(fname='/usr/share/fonts/truetype/liberation/LiberationSans-Italic.ttf', name='Liberation Sans', style='italic', variant='normal', weight=400, stretch='normal', size='scalable')) = 11.05\n",
      "findfont: score(FontEntry(fname='/usr/share/fonts/opentype/urw-base35/NimbusMonoPS-Regular.otf', name='Nimbus Mono PS', style='normal', variant='normal', weight=400, stretch='normal', size='scalable')) = 10.05\n",
      "findfont: score(FontEntry(fname='/usr/share/fonts/truetype/liberation/LiberationSerif-Italic.ttf', name='Liberation Serif', style='italic', variant='normal', weight=400, stretch='normal', size='scalable')) = 11.05\n",
      "findfont: score(FontEntry(fname='/usr/share/fonts/opentype/urw-base35/C059-BdIta.otf', name='C059', style='italic', variant='normal', weight=700, stretch='normal', size='scalable')) = 11.335\n",
      "findfont: score(FontEntry(fname='/usr/share/texmf/fonts/opentype/public/lm/lmroman8-bold.otf', name='Latin Modern Roman', style='normal', variant='normal', weight=700, stretch='normal', size='scalable')) = 10.335\n",
      "findfont: score(FontEntry(fname='/usr/share/fonts/opentype/urw-base35/URWBookman-DemiItalic.otf', name='URW Bookman', style='italic', variant='normal', weight=600, stretch='normal', size='scalable')) = 11.24\n",
      "findfont: score(FontEntry(fname='/usr/share/fonts/truetype/liberation/LiberationSansNarrow-BoldItalic.ttf', name='Liberation Sans Narrow', style='italic', variant='normal', weight=700, stretch='condensed', size='scalable')) = 11.535\n",
      "findfont: score(FontEntry(fname='/usr/share/texmf/fonts/opentype/public/lm-math/latinmodern-math.otf', name='Latin Modern Math', style='normal', variant='normal', weight=400, stretch='normal', size='scalable')) = 10.05\n",
      "findfont: score(FontEntry(fname='/usr/share/fonts/truetype/liberation/LiberationSans-Regular.ttf', name='Liberation Sans', style='normal', variant='normal', weight=400, stretch='normal', size='scalable')) = 10.05\n",
      "findfont: score(FontEntry(fname='/usr/share/texmf/fonts/opentype/public/lm/lmmonoproplt10-regular.otf', name='Latin Modern Mono Prop Light', style='normal', variant='normal', weight=400, stretch='normal', size='scalable')) = 10.05\n",
      "findfont: score(FontEntry(fname='/usr/share/texmf/fonts/opentype/public/lm/lmroman7-regular.otf', name='Latin Modern Roman', style='normal', variant='normal', weight=400, stretch='normal', size='scalable')) = 10.05\n",
      "findfont: score(FontEntry(fname='/usr/share/fonts/truetype/liberation/LiberationMono-Regular.ttf', name='Liberation Mono', style='normal', variant='normal', weight=400, stretch='normal', size='scalable')) = 10.05\n",
      "findfont: score(FontEntry(fname='/usr/share/texmf/fonts/opentype/public/lm/lmmono10-regular.otf', name='Latin Modern Mono', style='normal', variant='normal', weight=400, stretch='normal', size='scalable')) = 10.05\n",
      "findfont: score(FontEntry(fname='/usr/share/texmf/fonts/opentype/public/lm/lmmonoprop10-regular.otf', name='Latin Modern Mono Prop', style='normal', variant='normal', weight=400, stretch='normal', size='scalable')) = 10.05\n",
      "findfont: score(FontEntry(fname='/usr/share/texmf/fonts/opentype/public/lm/lmmonoproplt10-oblique.otf', name='Latin Modern Mono Prop Light', style='oblique', variant='normal', weight=400, stretch='normal', size='scalable')) = 11.05\n",
      "findfont: score(FontEntry(fname='/usr/share/fonts/opentype/urw-base35/P052-Italic.otf', name='P052', style='italic', variant='normal', weight=400, stretch='normal', size='scalable')) = 11.05\n",
      "findfont: score(FontEntry(fname='/usr/share/fonts/opentype/urw-base35/NimbusMonoPS-Italic.otf', name='Nimbus Mono PS', style='italic', variant='normal', weight=400, stretch='normal', size='scalable')) = 11.05\n",
      "findfont: score(FontEntry(fname='/usr/share/texmf/fonts/opentype/public/lm/lmmonolt10-regular.otf', name='Latin Modern Mono Light', style='normal', variant='normal', weight=400, stretch='normal', size='scalable')) = 10.05\n",
      "findfont: score(FontEntry(fname='/usr/share/texmf/fonts/opentype/public/lm/lmroman7-italic.otf', name='Latin Modern Roman', style='italic', variant='normal', weight=400, stretch='normal', size='scalable')) = 11.05\n",
      "findfont: score(FontEntry(fname='/usr/share/texmf/fonts/opentype/public/lm/lmmonoltcond10-regular.otf', name='Latin Modern Mono Light Cond', style='normal', variant='normal', weight=400, stretch='condensed', size='scalable')) = 10.25\n",
      "findfont: score(FontEntry(fname='/usr/share/texmf/fonts/opentype/public/lm/lmromancaps10-oblique.otf', name='Latin Modern Roman Caps', style='oblique', variant='normal', weight=400, stretch='normal', size='scalable')) = 11.05\n",
      "findfont: score(FontEntry(fname='/usr/share/fonts/truetype/liberation/LiberationSans-Bold.ttf', name='Liberation Sans', style='normal', variant='normal', weight=700, stretch='normal', size='scalable')) = 10.335\n",
      "findfont: score(FontEntry(fname='/usr/share/texmf/fonts/opentype/public/lm/lmromanunsl10-regular.otf', name='Latin Modern Roman Unslanted', style='normal', variant='normal', weight=400, stretch='normal', size='scalable')) = 10.05\n",
      "findfont: score(FontEntry(fname='/usr/share/fonts/truetype/liberation/LiberationMono-Italic.ttf', name='Liberation Mono', style='italic', variant='normal', weight=400, stretch='normal', size='scalable')) = 11.05\n",
      "findfont: score(FontEntry(fname='/usr/share/fonts/opentype/urw-base35/NimbusRoman-BoldItalic.otf', name='Nimbus Roman', style='italic', variant='normal', weight=700, stretch='normal', size='scalable')) = 11.335\n",
      "findfont: score(FontEntry(fname='/usr/share/texmf/fonts/opentype/public/lm/lmromandunh10-oblique.otf', name='Latin Modern Roman Dunhill', style='oblique', variant='normal', weight=400, stretch='normal', size='scalable')) = 11.05\n",
      "findfont: score(FontEntry(fname='/usr/share/fonts/opentype/urw-base35/NimbusRoman-Regular.otf', name='Nimbus Roman', style='normal', variant='normal', weight=400, stretch='normal', size='scalable')) = 10.05\n",
      "findfont: score(FontEntry(fname='/usr/share/texmf/fonts/opentype/public/lm/lmmonolt10-oblique.otf', name='Latin Modern Mono Light', style='oblique', variant='normal', weight=400, stretch='normal', size='scalable')) = 11.05\n",
      "findfont: score(FontEntry(fname='/usr/share/texmf/fonts/opentype/public/lm/lmromanslant8-regular.otf', name='Latin Modern Roman Slanted', style='normal', variant='normal', weight=400, stretch='normal', size='scalable')) = 10.05\n",
      "findfont: score(FontEntry(fname='/usr/share/texmf/fonts/opentype/public/lm/lmroman10-regular.otf', name='Latin Modern Roman', style='normal', variant='normal', weight=400, stretch='normal', size='scalable')) = 10.05\n",
      "findfont: score(FontEntry(fname='/usr/share/fonts/truetype/liberation/LiberationSansNarrow-Bold.ttf', name='Liberation Sans Narrow', style='normal', variant='normal', weight=700, stretch='condensed', size='scalable')) = 10.535\n",
      "findfont: score(FontEntry(fname='/usr/share/texmf/fonts/opentype/public/lm/lmsansquot8-boldoblique.otf', name='Latin Modern Sans Quotation', style='oblique', variant='normal', weight=700, stretch='normal', size='scalable')) = 11.335\n",
      "findfont: score(FontEntry(fname='/usr/share/fonts/opentype/urw-base35/NimbusSans-Regular.otf', name='Nimbus Sans', style='normal', variant='normal', weight=400, stretch='normal', size='scalable')) = 10.05\n",
      "findfont: score(FontEntry(fname='/usr/share/fonts/opentype/urw-base35/P052-Roman.otf', name='P052', style='normal', variant='normal', weight=400, stretch='normal', size='scalable')) = 10.05\n",
      "findfont: score(FontEntry(fname='/usr/share/fonts/opentype/urw-base35/P052-BoldItalic.otf', name='P052', style='italic', variant='normal', weight=700, stretch='normal', size='scalable')) = 11.335\n",
      "findfont: score(FontEntry(fname='/usr/share/texmf/fonts/opentype/public/lm/lmroman9-regular.otf', name='Latin Modern Roman', style='normal', variant='normal', weight=400, stretch='normal', size='scalable')) = 10.05\n",
      "findfont: score(FontEntry(fname='/usr/share/fonts/opentype/urw-base35/NimbusMonoPS-Bold.otf', name='Nimbus Mono PS', style='normal', variant='normal', weight=700, stretch='normal', size='scalable')) = 10.335\n",
      "findfont: score(FontEntry(fname='/usr/share/texmf/fonts/opentype/public/lm/lmromanslant10-regular.otf', name='Latin Modern Roman Slanted', style='normal', variant='normal', weight=400, stretch='normal', size='scalable')) = 10.05\n",
      "findfont: score(FontEntry(fname='/usr/share/texmf/fonts/opentype/public/lm/lmmonoprop10-oblique.otf', name='Latin Modern Mono Prop', style='oblique', variant='normal', weight=400, stretch='normal', size='scalable')) = 11.05\n",
      "findfont: score(FontEntry(fname='/usr/share/fonts/opentype/urw-base35/NimbusRoman-Italic.otf', name='Nimbus Roman', style='italic', variant='normal', weight=400, stretch='normal', size='scalable')) = 11.05\n",
      "findfont: score(FontEntry(fname='/usr/share/texmf/fonts/opentype/public/lm/lmroman7-bold.otf', name='Latin Modern Roman', style='normal', variant='normal', weight=700, stretch='normal', size='scalable')) = 10.335\n",
      "findfont: score(FontEntry(fname='/usr/share/texmf/fonts/opentype/public/lm/lmsans10-bold.otf', name='Latin Modern Sans', style='normal', variant='normal', weight=700, stretch='normal', size='scalable')) = 10.335\n",
      "findfont: score(FontEntry(fname='/usr/share/texmf/fonts/opentype/public/lm/lmroman8-regular.otf', name='Latin Modern Roman', style='normal', variant='normal', weight=400, stretch='normal', size='scalable')) = 10.05\n",
      "findfont: score(FontEntry(fname='/usr/share/texmf/fonts/opentype/public/lm/lmsansdemicond10-regular.otf', name='Latin Modern Sans Demi Cond', style='normal', variant='normal', weight=600, stretch='condensed', size='scalable')) = 10.44\n",
      "findfont: score(FontEntry(fname='/usr/share/texmf/fonts/opentype/public/lm/lmsansquot8-oblique.otf', name='Latin Modern Sans Quotation', style='oblique', variant='normal', weight=400, stretch='normal', size='scalable')) = 11.05\n",
      "findfont: score(FontEntry(fname='/usr/share/texmf/fonts/opentype/public/lm/lmmonolt10-bold.otf', name='Latin Modern Mono Light', style='normal', variant='normal', weight=700, stretch='normal', size='scalable')) = 10.335\n",
      "findfont: score(FontEntry(fname='/usr/share/fonts/opentype/urw-base35/NimbusSans-BoldItalic.otf', name='Nimbus Sans', style='italic', variant='normal', weight=700, stretch='normal', size='scalable')) = 11.335\n",
      "findfont: score(FontEntry(fname='/usr/share/texmf/fonts/opentype/public/lm/lmmonoslant10-regular.otf', name='Latin Modern Mono Slanted', style='normal', variant='normal', weight=400, stretch='normal', size='scalable')) = 10.05\n",
      "findfont: score(FontEntry(fname='/usr/share/fonts/opentype/urw-base35/D050000L.otf', name='D050000L', style='normal', variant='normal', weight=400, stretch='normal', size='scalable')) = 10.05\n",
      "findfont: score(FontEntry(fname='/usr/share/texmf/fonts/opentype/public/lm/lmmonoproplt10-boldoblique.otf', name='Latin Modern Mono Prop Light', style='oblique', variant='normal', weight=700, stretch='normal', size='scalable')) = 11.335\n",
      "findfont: score(FontEntry(fname='/usr/share/fonts/opentype/urw-base35/NimbusSansNarrow-BoldOblique.otf', name='Nimbus Sans Narrow', style='oblique', variant='normal', weight=700, stretch='condensed', size='scalable')) = 11.535\n",
      "findfont: score(FontEntry(fname='/usr/share/fonts/truetype/liberation/LiberationSansNarrow-Italic.ttf', name='Liberation Sans Narrow', style='italic', variant='normal', weight=400, stretch='condensed', size='scalable')) = 11.25\n",
      "findfont: score(FontEntry(fname='/usr/share/texmf/fonts/opentype/public/lm/lmroman6-bold.otf', name='Latin Modern Roman', style='normal', variant='normal', weight=700, stretch='normal', size='scalable')) = 10.335\n",
      "findfont: score(FontEntry(fname='/usr/share/texmf/fonts/opentype/public/lm/lmmonocaps10-regular.otf', name='Latin Modern Mono Caps', style='normal', variant='normal', weight=400, stretch='normal', size='scalable')) = 10.05\n",
      "findfont: score(FontEntry(fname='/usr/share/fonts/truetype/liberation/LiberationMono-Bold.ttf', name='Liberation Mono', style='normal', variant='normal', weight=700, stretch='normal', size='scalable')) = 10.335\n",
      "findfont: score(FontEntry(fname='/usr/share/fonts/truetype/liberation/LiberationSans-BoldItalic.ttf', name='Liberation Sans', style='italic', variant='normal', weight=700, stretch='normal', size='scalable')) = 11.335\n",
      "findfont: score(FontEntry(fname='/usr/share/texmf/fonts/opentype/public/lm/lmroman12-bold.otf', name='Latin Modern Roman', style='normal', variant='normal', weight=700, stretch='normal', size='scalable')) = 10.335\n",
      "findfont: score(FontEntry(fname='/usr/share/fonts/opentype/urw-base35/NimbusSansNarrow-Oblique.otf', name='Nimbus Sans Narrow', style='oblique', variant='normal', weight=400, stretch='condensed', size='scalable')) = 11.25\n",
      "findfont: score(FontEntry(fname='/usr/share/texmf/fonts/opentype/public/lm/lmroman9-bold.otf', name='Latin Modern Roman', style='normal', variant='normal', weight=700, stretch='normal', size='scalable')) = 10.335\n",
      "findfont: score(FontEntry(fname='/usr/share/fonts/opentype/urw-base35/URWGothic-Demi.otf', name='URW Gothic', style='normal', variant='normal', weight=600, stretch='normal', size='scalable')) = 10.24\n",
      "findfont: score(FontEntry(fname='/usr/share/texmf/fonts/opentype/public/lm/lmmono9-regular.otf', name='Latin Modern Mono', style='normal', variant='normal', weight=400, stretch='normal', size='scalable')) = 10.05\n",
      "findfont: score(FontEntry(fname='/usr/share/texmf/fonts/opentype/public/lm/lmsans8-regular.otf', name='Latin Modern Sans', style='normal', variant='normal', weight=400, stretch='normal', size='scalable')) = 10.05\n",
      "findfont: score(FontEntry(fname='/usr/share/texmf/fonts/opentype/public/lm/lmroman12-italic.otf', name='Latin Modern Roman', style='italic', variant='normal', weight=400, stretch='normal', size='scalable')) = 11.05\n",
      "findfont: score(FontEntry(fname='/usr/share/texmf/fonts/opentype/public/lm/lmromanslant17-regular.otf', name='Latin Modern Roman Slanted', style='normal', variant='normal', weight=400, stretch='normal', size='scalable')) = 10.05\n",
      "findfont: score(FontEntry(fname='/usr/share/fonts/opentype/urw-base35/C059-Roman.otf', name='C059', style='normal', variant='normal', weight=400, stretch='normal', size='scalable')) = 10.05\n",
      "findfont: score(FontEntry(fname='/usr/share/fonts/truetype/liberation/LiberationMono-BoldItalic.ttf', name='Liberation Mono', style='italic', variant='normal', weight=700, stretch='normal', size='scalable')) = 11.335\n",
      "findfont: score(FontEntry(fname='/usr/share/fonts/opentype/urw-base35/Z003-MediumItalic.otf', name='Z003', style='italic', variant='normal', weight=500, stretch='normal', size='scalable')) = 11.145\n",
      "findfont: score(FontEntry(fname='/usr/share/texmf/fonts/opentype/public/lm/lmsans12-regular.otf', name='Latin Modern Sans', style='normal', variant='normal', weight=400, stretch='normal', size='scalable')) = 10.05\n",
      "findfont: score(FontEntry(fname='/usr/share/texmf/fonts/opentype/public/lm/lmmono8-regular.otf', name='Latin Modern Mono', style='normal', variant='normal', weight=400, stretch='normal', size='scalable')) = 10.05\n",
      "findfont: score(FontEntry(fname='/usr/share/fonts/opentype/urw-base35/URWBookman-Demi.otf', name='URW Bookman', style='normal', variant='normal', weight=600, stretch='normal', size='scalable')) = 10.24\n",
      "findfont: score(FontEntry(fname='/usr/share/texmf/fonts/opentype/public/lm/lmroman10-bold.otf', name='Latin Modern Roman', style='normal', variant='normal', weight=700, stretch='normal', size='scalable')) = 10.335\n",
      "findfont: score(FontEntry(fname='/usr/share/fonts/opentype/urw-base35/URWBookman-Light.otf', name='URW Bookman', style='normal', variant='normal', weight=300, stretch='normal', size='scalable')) = 10.145\n",
      "findfont: score(FontEntry(fname='/usr/share/texmf/fonts/opentype/public/lm/lmroman5-regular.otf', name='Latin Modern Roman', style='normal', variant='normal', weight=400, stretch='normal', size='scalable')) = 10.05\n",
      "findfont: score(FontEntry(fname='/usr/share/texmf/fonts/opentype/public/lm/lmsans10-oblique.otf', name='Latin Modern Sans', style='oblique', variant='normal', weight=400, stretch='normal', size='scalable')) = 11.05\n",
      "findfont: score(FontEntry(fname='/usr/share/fonts/opentype/urw-base35/P052-Bold.otf', name='P052', style='normal', variant='normal', weight=700, stretch='normal', size='scalable')) = 10.335\n",
      "findfont: score(FontEntry(fname='/usr/share/texmf/fonts/opentype/public/lm/lmsansquot8-bold.otf', name='Latin Modern Sans Quotation', style='normal', variant='normal', weight=700, stretch='normal', size='scalable')) = 10.335\n",
      "findfont: score(FontEntry(fname='/usr/share/texmf/fonts/opentype/public/lm/lmromanslant9-regular.otf', name='Latin Modern Roman Slanted', style='normal', variant='normal', weight=400, stretch='normal', size='scalable')) = 10.05\n",
      "findfont: score(FontEntry(fname='/usr/share/texmf/fonts/opentype/public/lm/lmmono10-italic.otf', name='Latin Modern Mono', style='italic', variant='normal', weight=400, stretch='normal', size='scalable')) = 11.05\n",
      "findfont: score(FontEntry(fname='/usr/share/texmf/fonts/opentype/public/lm/lmsans12-oblique.otf', name='Latin Modern Sans', style='oblique', variant='normal', weight=400, stretch='normal', size='scalable')) = 11.05\n",
      "findfont: score(FontEntry(fname='/usr/share/texmf/fonts/opentype/public/lm/lmromandunh10-regular.otf', name='Latin Modern Roman Dunhill', style='normal', variant='normal', weight=400, stretch='normal', size='scalable')) = 10.05\n",
      "findfont: score(FontEntry(fname='/usr/share/texmf/fonts/opentype/public/lm/lmromandemi10-oblique.otf', name='Latin Modern Roman Demi', style='oblique', variant='normal', weight=600, stretch='normal', size='scalable')) = 11.24\n",
      "findfont: score(FontEntry(fname='/usr/share/texmf/fonts/opentype/public/lm/lmsans8-oblique.otf', name='Latin Modern Sans', style='oblique', variant='normal', weight=400, stretch='normal', size='scalable')) = 11.05\n",
      "findfont: score(FontEntry(fname='/usr/share/fonts/opentype/urw-base35/NimbusSansNarrow-Bold.otf', name='Nimbus Sans Narrow', style='normal', variant='normal', weight=700, stretch='condensed', size='scalable')) = 10.535\n",
      "findfont: score(FontEntry(fname='/usr/share/fonts/opentype/urw-base35/NimbusSans-Bold.otf', name='Nimbus Sans', style='normal', variant='normal', weight=700, stretch='normal', size='scalable')) = 10.335\n",
      "findfont: score(FontEntry(fname='/usr/share/texmf/fonts/opentype/public/lm/lmroman10-bolditalic.otf', name='Latin Modern Roman', style='italic', variant='normal', weight=700, stretch='normal', size='scalable')) = 11.335\n",
      "findfont: score(FontEntry(fname='/usr/share/texmf/fonts/opentype/public/lm/lmroman12-regular.otf', name='Latin Modern Roman', style='normal', variant='normal', weight=400, stretch='normal', size='scalable')) = 10.05\n",
      "findfont: score(FontEntry(fname='/usr/share/fonts/opentype/urw-base35/NimbusSansNarrow-Regular.otf', name='Nimbus Sans Narrow', style='normal', variant='normal', weight=400, stretch='condensed', size='scalable')) = 10.25\n",
      "findfont: score(FontEntry(fname='/usr/share/texmf/fonts/opentype/public/lm/lmroman17-regular.otf', name='Latin Modern Roman', style='normal', variant='normal', weight=400, stretch='normal', size='scalable')) = 10.05\n",
      "findfont: score(FontEntry(fname='/usr/share/fonts/opentype/urw-base35/C059-Italic.otf', name='C059', style='italic', variant='normal', weight=400, stretch='normal', size='scalable')) = 11.05\n",
      "findfont: score(FontEntry(fname='/usr/share/fonts/truetype/liberation/LiberationSerif-Bold.ttf', name='Liberation Serif', style='normal', variant='normal', weight=700, stretch='normal', size='scalable')) = 10.335\n",
      "findfont: score(FontEntry(fname='/usr/share/fonts/opentype/urw-base35/NimbusMonoPS-BoldItalic.otf', name='Nimbus Mono PS', style='italic', variant='normal', weight=700, stretch='normal', size='scalable')) = 11.335\n",
      "findfont: score(FontEntry(fname='/usr/share/texmf/fonts/opentype/public/lm/lmroman8-italic.otf', name='Latin Modern Roman', style='italic', variant='normal', weight=400, stretch='normal', size='scalable')) = 11.05\n",
      "findfont: score(FontEntry(fname='/usr/share/texmf/fonts/opentype/public/lm/lmmonoltcond10-oblique.otf', name='Latin Modern Mono Light Cond', style='oblique', variant='normal', weight=400, stretch='condensed', size='scalable')) = 11.25\n",
      "findfont: score(FontEntry(fname='/usr/share/texmf/fonts/opentype/public/lm/lmmono12-regular.otf', name='Latin Modern Mono', style='normal', variant='normal', weight=400, stretch='normal', size='scalable')) = 10.05\n",
      "findfont: score(FontEntry(fname='/usr/share/fonts/opentype/urw-base35/C059-Bold.otf', name='C059', style='normal', variant='normal', weight=700, stretch='normal', size='scalable')) = 10.335\n",
      "findfont: score(FontEntry(fname='/usr/share/texmf/fonts/opentype/public/lm/lmsans10-boldoblique.otf', name='Latin Modern Sans', style='oblique', variant='normal', weight=700, stretch='normal', size='scalable')) = 11.335\n",
      "findfont: score(FontEntry(fname='/usr/share/texmf/fonts/opentype/public/lm/lmroman10-italic.otf', name='Latin Modern Roman', style='italic', variant='normal', weight=400, stretch='normal', size='scalable')) = 11.05\n",
      "findfont: score(FontEntry(fname='/usr/share/fonts/truetype/liberation/LiberationSerif-Regular.ttf', name='Liberation Serif', style='normal', variant='normal', weight=400, stretch='normal', size='scalable')) = 10.05\n",
      "findfont: score(FontEntry(fname='/usr/share/texmf/fonts/opentype/public/lm/lmromancaps10-regular.otf', name='Latin Modern Roman Caps', style='normal', variant='normal', weight=400, stretch='normal', size='scalable')) = 10.05\n",
      "findfont: score(FontEntry(fname='/usr/share/texmf/fonts/opentype/public/lm/lmroman5-bold.otf', name='Latin Modern Roman', style='normal', variant='normal', weight=700, stretch='normal', size='scalable')) = 10.335\n",
      "findfont: score(FontEntry(fname='/usr/share/fonts/truetype/liberation/LiberationSerif-BoldItalic.ttf', name='Liberation Serif', style='italic', variant='normal', weight=700, stretch='normal', size='scalable')) = 11.335\n",
      "findfont: score(FontEntry(fname='/usr/share/texmf/fonts/opentype/public/lm/lmroman6-regular.otf', name='Latin Modern Roman', style='normal', variant='normal', weight=400, stretch='normal', size='scalable')) = 10.05\n",
      "findfont: score(FontEntry(fname='/usr/share/texmf/fonts/opentype/public/lm/lmsans10-regular.otf', name='Latin Modern Sans', style='normal', variant='normal', weight=400, stretch='normal', size='scalable')) = 10.05\n",
      "findfont: score(FontEntry(fname='/usr/share/fonts/opentype/urw-base35/NimbusRoman-Bold.otf', name='Nimbus Roman', style='normal', variant='normal', weight=700, stretch='normal', size='scalable')) = 10.335\n",
      "findfont: score(FontEntry(fname='/usr/share/fonts/opentype/urw-base35/URWGothic-BookOblique.otf', name='URW Gothic', style='oblique', variant='normal', weight=400, stretch='normal', size='scalable')) = 11.05\n",
      "findfont: score(FontEntry(fname='/usr/share/texmf/fonts/opentype/public/lm/lmroman9-italic.otf', name='Latin Modern Roman', style='italic', variant='normal', weight=400, stretch='normal', size='scalable')) = 11.05\n",
      "findfont: score(FontEntry(fname='/usr/share/texmf/fonts/opentype/public/lm/lmsans17-oblique.otf', name='Latin Modern Sans', style='oblique', variant='normal', weight=400, stretch='normal', size='scalable')) = 11.05\n",
      "findfont: score(FontEntry(fname='/usr/share/texmf/fonts/opentype/public/lm/lmsansquot8-regular.otf', name='Latin Modern Sans Quotation', style='normal', variant='normal', weight=400, stretch='normal', size='scalable')) = 10.05\n",
      "findfont: score(FontEntry(fname='/usr/share/fonts/opentype/urw-base35/URWBookman-LightItalic.otf', name='URW Bookman', style='italic', variant='normal', weight=300, stretch='normal', size='scalable')) = 11.145\n",
      "findfont: score(FontEntry(fname='/usr/share/fonts/opentype/urw-base35/StandardSymbolsPS.otf', name='Standard Symbols PS', style='normal', variant='normal', weight=400, stretch='normal', size='scalable')) = 10.05\n",
      "findfont: score(FontEntry(fname='/usr/share/texmf/fonts/opentype/public/lm/lmsans9-regular.otf', name='Latin Modern Sans', style='normal', variant='normal', weight=400, stretch='normal', size='scalable')) = 10.05\n",
      "findfont: score(FontEntry(fname='/usr/share/fonts/truetype/liberation/LiberationSansNarrow-Regular.ttf', name='Liberation Sans Narrow', style='normal', variant='normal', weight=400, stretch='condensed', size='scalable')) = 10.25\n",
      "findfont: score(FontEntry(fname='/usr/share/texmf/fonts/opentype/public/lm/lmmonolt10-boldoblique.otf', name='Latin Modern Mono Light', style='oblique', variant='normal', weight=700, stretch='normal', size='scalable')) = 11.335\n",
      "findfont: score(FontEntry(fname='/usr/share/fonts/opentype/urw-base35/URWGothic-Book.otf', name='URW Gothic', style='normal', variant='normal', weight=400, stretch='normal', size='scalable')) = 10.05\n",
      "findfont: score(FontEntry(fname='/usr/share/texmf/fonts/opentype/public/lm/lmromandemi10-regular.otf', name='Latin Modern Roman Demi', style='normal', variant='normal', weight=600, stretch='normal', size='scalable')) = 10.24\n",
      "findfont: score(FontEntry(fname='/usr/share/fonts/opentype/urw-base35/URWGothic-DemiOblique.otf', name='URW Gothic', style='oblique', variant='normal', weight=600, stretch='normal', size='scalable')) = 11.24\n",
      "findfont: score(FontEntry(fname='/usr/share/texmf/fonts/opentype/public/lm/lmsans17-regular.otf', name='Latin Modern Sans', style='normal', variant='normal', weight=400, stretch='normal', size='scalable')) = 10.05\n",
      "findfont: score(FontEntry(fname='/usr/share/texmf/fonts/opentype/public/lm/lmsans9-oblique.otf', name='Latin Modern Sans', style='oblique', variant='normal', weight=400, stretch='normal', size='scalable')) = 11.05\n",
      "findfont: score(FontEntry(fname='/usr/share/texmf/fonts/opentype/public/lm/lmsansdemicond10-oblique.otf', name='Latin Modern Sans Demi Cond', style='oblique', variant='normal', weight=600, stretch='condensed', size='scalable')) = 11.44\n",
      "findfont: score(FontEntry(fname='/usr/share/texmf/fonts/opentype/public/lm/lmmonoproplt10-bold.otf', name='Latin Modern Mono Prop Light', style='normal', variant='normal', weight=700, stretch='normal', size='scalable')) = 10.335\n",
      "findfont: score(FontEntry(fname='/usr/share/texmf/fonts/opentype/public/lm/lmromanslant12-regular.otf', name='Latin Modern Roman Slanted', style='normal', variant='normal', weight=400, stretch='normal', size='scalable')) = 10.05\n",
      "findfont: Matching sans\\-serif:style=normal:variant=normal:weight=normal:stretch=normal:size=10.0 to DejaVu Sans ('/opt/conda/lib/python3.10/site-packages/matplotlib/mpl-data/fonts/ttf/DejaVuSans.ttf') with score of 0.050000.\n",
      "findfont: Matching sans\\-serif:style=normal:variant=normal:weight=normal:stretch=normal:size=12.0.\n",
      "findfont: score(FontEntry(fname='/opt/conda/lib/python3.10/site-packages/matplotlib/mpl-data/fonts/ttf/DejaVuSerifDisplay.ttf', name='DejaVu Serif Display', style='normal', variant='normal', weight=400, stretch='normal', size='scalable')) = 10.05\n",
      "findfont: score(FontEntry(fname='/opt/conda/lib/python3.10/site-packages/matplotlib/mpl-data/fonts/ttf/DejaVuSans-BoldOblique.ttf', name='DejaVu Sans', style='oblique', variant='normal', weight=700, stretch='normal', size='scalable')) = 1.335\n",
      "findfont: score(FontEntry(fname='/opt/conda/lib/python3.10/site-packages/matplotlib/mpl-data/fonts/ttf/STIXGeneralBol.ttf', name='STIXGeneral', style='normal', variant='normal', weight=700, stretch='normal', size='scalable')) = 10.335\n",
      "findfont: score(FontEntry(fname='/opt/conda/lib/python3.10/site-packages/matplotlib/mpl-data/fonts/ttf/cmex10.ttf', name='cmex10', style='normal', variant='normal', weight=400, stretch='normal', size='scalable')) = 10.05\n",
      "findfont: score(FontEntry(fname='/opt/conda/lib/python3.10/site-packages/matplotlib/mpl-data/fonts/ttf/DejaVuSansMono-BoldOblique.ttf', name='DejaVu Sans Mono', style='oblique', variant='normal', weight=700, stretch='normal', size='scalable')) = 11.335\n",
      "findfont: score(FontEntry(fname='/opt/conda/lib/python3.10/site-packages/matplotlib/mpl-data/fonts/ttf/STIXSizFiveSymReg.ttf', name='STIXSizeFiveSym', style='normal', variant='normal', weight=400, stretch='normal', size='scalable')) = 10.05\n",
      "findfont: score(FontEntry(fname='/opt/conda/lib/python3.10/site-packages/matplotlib/mpl-data/fonts/ttf/STIXNonUni.ttf', name='STIXNonUnicode', style='normal', variant='normal', weight=400, stretch='normal', size='scalable')) = 10.05\n",
      "findfont: score(FontEntry(fname='/opt/conda/lib/python3.10/site-packages/matplotlib/mpl-data/fonts/ttf/STIXSizThreeSymReg.ttf', name='STIXSizeThreeSym', style='normal', variant='normal', weight=400, stretch='normal', size='scalable')) = 10.05\n",
      "findfont: score(FontEntry(fname='/opt/conda/lib/python3.10/site-packages/matplotlib/mpl-data/fonts/ttf/DejaVuSansMono-Oblique.ttf', name='DejaVu Sans Mono', style='oblique', variant='normal', weight=400, stretch='normal', size='scalable')) = 11.05\n",
      "findfont: score(FontEntry(fname='/opt/conda/lib/python3.10/site-packages/matplotlib/mpl-data/fonts/ttf/STIXSizThreeSymBol.ttf', name='STIXSizeThreeSym', style='normal', variant='normal', weight=700, stretch='normal', size='scalable')) = 10.335\n",
      "findfont: score(FontEntry(fname='/opt/conda/lib/python3.10/site-packages/matplotlib/mpl-data/fonts/ttf/DejaVuSansDisplay.ttf', name='DejaVu Sans Display', style='normal', variant='normal', weight=400, stretch='normal', size='scalable')) = 10.05\n",
      "findfont: score(FontEntry(fname='/opt/conda/lib/python3.10/site-packages/matplotlib/mpl-data/fonts/ttf/DejaVuSansMono.ttf', name='DejaVu Sans Mono', style='normal', variant='normal', weight=400, stretch='normal', size='scalable')) = 10.05\n",
      "findfont: score(FontEntry(fname='/opt/conda/lib/python3.10/site-packages/matplotlib/mpl-data/fonts/ttf/DejaVuSans-Bold.ttf', name='DejaVu Sans', style='normal', variant='normal', weight=700, stretch='normal', size='scalable')) = 0.33499999999999996\n",
      "findfont: score(FontEntry(fname='/opt/conda/lib/python3.10/site-packages/matplotlib/mpl-data/fonts/ttf/cmb10.ttf', name='cmb10', style='normal', variant='normal', weight=400, stretch='normal', size='scalable')) = 10.05\n",
      "findfont: score(FontEntry(fname='/opt/conda/lib/python3.10/site-packages/matplotlib/mpl-data/fonts/ttf/STIXGeneral.ttf', name='STIXGeneral', style='normal', variant='normal', weight=400, stretch='normal', size='scalable')) = 10.05\n",
      "findfont: score(FontEntry(fname='/opt/conda/lib/python3.10/site-packages/matplotlib/mpl-data/fonts/ttf/STIXSizTwoSymReg.ttf', name='STIXSizeTwoSym', style='normal', variant='normal', weight=400, stretch='normal', size='scalable')) = 10.05\n",
      "findfont: score(FontEntry(fname='/opt/conda/lib/python3.10/site-packages/matplotlib/mpl-data/fonts/ttf/STIXGeneralBolIta.ttf', name='STIXGeneral', style='italic', variant='normal', weight=700, stretch='normal', size='scalable')) = 11.335\n",
      "findfont: score(FontEntry(fname='/opt/conda/lib/python3.10/site-packages/matplotlib/mpl-data/fonts/ttf/STIXSizFourSymBol.ttf', name='STIXSizeFourSym', style='normal', variant='normal', weight=700, stretch='normal', size='scalable')) = 10.335\n",
      "findfont: score(FontEntry(fname='/opt/conda/lib/python3.10/site-packages/matplotlib/mpl-data/fonts/ttf/STIXGeneralItalic.ttf', name='STIXGeneral', style='italic', variant='normal', weight=400, stretch='normal', size='scalable')) = 11.05\n",
      "findfont: score(FontEntry(fname='/opt/conda/lib/python3.10/site-packages/matplotlib/mpl-data/fonts/ttf/DejaVuSansMono-Bold.ttf', name='DejaVu Sans Mono', style='normal', variant='normal', weight=700, stretch='normal', size='scalable')) = 10.335\n",
      "findfont: score(FontEntry(fname='/opt/conda/lib/python3.10/site-packages/matplotlib/mpl-data/fonts/ttf/STIXSizOneSymBol.ttf', name='STIXSizeOneSym', style='normal', variant='normal', weight=700, stretch='normal', size='scalable')) = 10.335\n",
      "findfont: score(FontEntry(fname='/opt/conda/lib/python3.10/site-packages/matplotlib/mpl-data/fonts/ttf/DejaVuSerif-Bold.ttf', name='DejaVu Serif', style='normal', variant='normal', weight=700, stretch='normal', size='scalable')) = 10.335\n",
      "findfont: score(FontEntry(fname='/opt/conda/lib/python3.10/site-packages/matplotlib/mpl-data/fonts/ttf/DejaVuSerif.ttf', name='DejaVu Serif', style='normal', variant='normal', weight=400, stretch='normal', size='scalable')) = 10.05\n",
      "findfont: score(FontEntry(fname='/opt/conda/lib/python3.10/site-packages/matplotlib/mpl-data/fonts/ttf/STIXNonUniBol.ttf', name='STIXNonUnicode', style='normal', variant='normal', weight=700, stretch='normal', size='scalable')) = 10.335\n",
      "findfont: score(FontEntry(fname='/opt/conda/lib/python3.10/site-packages/matplotlib/mpl-data/fonts/ttf/DejaVuSerif-BoldItalic.ttf', name='DejaVu Serif', style='italic', variant='normal', weight=700, stretch='normal', size='scalable')) = 11.335\n",
      "findfont: score(FontEntry(fname='/opt/conda/lib/python3.10/site-packages/matplotlib/mpl-data/fonts/ttf/DejaVuSerif-Italic.ttf', name='DejaVu Serif', style='italic', variant='normal', weight=400, stretch='normal', size='scalable')) = 11.05\n",
      "findfont: score(FontEntry(fname='/opt/conda/lib/python3.10/site-packages/matplotlib/mpl-data/fonts/ttf/cmmi10.ttf', name='cmmi10', style='normal', variant='normal', weight=400, stretch='normal', size='scalable')) = 10.05\n",
      "findfont: score(FontEntry(fname='/opt/conda/lib/python3.10/site-packages/matplotlib/mpl-data/fonts/ttf/DejaVuSans.ttf', name='DejaVu Sans', style='normal', variant='normal', weight=400, stretch='normal', size='scalable')) = 0.05\n",
      "findfont: score(FontEntry(fname='/opt/conda/lib/python3.10/site-packages/matplotlib/mpl-data/fonts/ttf/STIXNonUniBolIta.ttf', name='STIXNonUnicode', style='italic', variant='normal', weight=700, stretch='normal', size='scalable')) = 11.335\n",
      "findfont: score(FontEntry(fname='/opt/conda/lib/python3.10/site-packages/matplotlib/mpl-data/fonts/ttf/STIXSizTwoSymBol.ttf', name='STIXSizeTwoSym', style='normal', variant='normal', weight=700, stretch='normal', size='scalable')) = 10.335\n",
      "findfont: score(FontEntry(fname='/opt/conda/lib/python3.10/site-packages/matplotlib/mpl-data/fonts/ttf/STIXSizFourSymReg.ttf', name='STIXSizeFourSym', style='normal', variant='normal', weight=400, stretch='normal', size='scalable')) = 10.05\n",
      "findfont: score(FontEntry(fname='/opt/conda/lib/python3.10/site-packages/matplotlib/mpl-data/fonts/ttf/cmss10.ttf', name='cmss10', style='normal', variant='normal', weight=400, stretch='normal', size='scalable')) = 10.05\n",
      "findfont: score(FontEntry(fname='/opt/conda/lib/python3.10/site-packages/matplotlib/mpl-data/fonts/ttf/DejaVuSans-Oblique.ttf', name='DejaVu Sans', style='oblique', variant='normal', weight=400, stretch='normal', size='scalable')) = 1.05\n",
      "findfont: score(FontEntry(fname='/opt/conda/lib/python3.10/site-packages/matplotlib/mpl-data/fonts/ttf/STIXSizOneSymReg.ttf', name='STIXSizeOneSym', style='normal', variant='normal', weight=400, stretch='normal', size='scalable')) = 10.05\n",
      "findfont: score(FontEntry(fname='/opt/conda/lib/python3.10/site-packages/matplotlib/mpl-data/fonts/ttf/cmr10.ttf', name='cmr10', style='normal', variant='normal', weight=400, stretch='normal', size='scalable')) = 10.05\n",
      "findfont: score(FontEntry(fname='/opt/conda/lib/python3.10/site-packages/matplotlib/mpl-data/fonts/ttf/STIXNonUniIta.ttf', name='STIXNonUnicode', style='italic', variant='normal', weight=400, stretch='normal', size='scalable')) = 11.05\n",
      "findfont: score(FontEntry(fname='/opt/conda/lib/python3.10/site-packages/matplotlib/mpl-data/fonts/ttf/cmtt10.ttf', name='cmtt10', style='normal', variant='normal', weight=400, stretch='normal', size='scalable')) = 10.05\n",
      "findfont: score(FontEntry(fname='/opt/conda/lib/python3.10/site-packages/matplotlib/mpl-data/fonts/ttf/cmsy10.ttf', name='cmsy10', style='normal', variant='normal', weight=400, stretch='normal', size='scalable')) = 10.05\n",
      "findfont: score(FontEntry(fname='/usr/share/fonts/opentype/urw-base35/NimbusSans-Italic.otf', name='Nimbus Sans', style='italic', variant='normal', weight=400, stretch='normal', size='scalable')) = 11.05\n",
      "findfont: score(FontEntry(fname='/usr/share/texmf/fonts/opentype/public/lm/lmmonocaps10-oblique.otf', name='Latin Modern Mono Caps', style='oblique', variant='normal', weight=400, stretch='normal', size='scalable')) = 11.05\n",
      "findfont: score(FontEntry(fname='/usr/share/texmf/fonts/opentype/public/lm/lmromanslant10-bold.otf', name='Latin Modern Roman Slanted', style='normal', variant='normal', weight=700, stretch='normal', size='scalable')) = 10.335\n",
      "findfont: score(FontEntry(fname='/usr/share/fonts/truetype/liberation/LiberationSans-Italic.ttf', name='Liberation Sans', style='italic', variant='normal', weight=400, stretch='normal', size='scalable')) = 11.05\n",
      "findfont: score(FontEntry(fname='/usr/share/fonts/opentype/urw-base35/NimbusMonoPS-Regular.otf', name='Nimbus Mono PS', style='normal', variant='normal', weight=400, stretch='normal', size='scalable')) = 10.05\n",
      "findfont: score(FontEntry(fname='/usr/share/fonts/truetype/liberation/LiberationSerif-Italic.ttf', name='Liberation Serif', style='italic', variant='normal', weight=400, stretch='normal', size='scalable')) = 11.05\n",
      "findfont: score(FontEntry(fname='/usr/share/fonts/opentype/urw-base35/C059-BdIta.otf', name='C059', style='italic', variant='normal', weight=700, stretch='normal', size='scalable')) = 11.335\n",
      "findfont: score(FontEntry(fname='/usr/share/texmf/fonts/opentype/public/lm/lmroman8-bold.otf', name='Latin Modern Roman', style='normal', variant='normal', weight=700, stretch='normal', size='scalable')) = 10.335\n",
      "findfont: score(FontEntry(fname='/usr/share/fonts/opentype/urw-base35/URWBookman-DemiItalic.otf', name='URW Bookman', style='italic', variant='normal', weight=600, stretch='normal', size='scalable')) = 11.24\n",
      "findfont: score(FontEntry(fname='/usr/share/fonts/truetype/liberation/LiberationSansNarrow-BoldItalic.ttf', name='Liberation Sans Narrow', style='italic', variant='normal', weight=700, stretch='condensed', size='scalable')) = 11.535\n",
      "findfont: score(FontEntry(fname='/usr/share/texmf/fonts/opentype/public/lm-math/latinmodern-math.otf', name='Latin Modern Math', style='normal', variant='normal', weight=400, stretch='normal', size='scalable')) = 10.05\n",
      "findfont: score(FontEntry(fname='/usr/share/fonts/truetype/liberation/LiberationSans-Regular.ttf', name='Liberation Sans', style='normal', variant='normal', weight=400, stretch='normal', size='scalable')) = 10.05\n",
      "findfont: score(FontEntry(fname='/usr/share/texmf/fonts/opentype/public/lm/lmmonoproplt10-regular.otf', name='Latin Modern Mono Prop Light', style='normal', variant='normal', weight=400, stretch='normal', size='scalable')) = 10.05\n",
      "findfont: score(FontEntry(fname='/usr/share/texmf/fonts/opentype/public/lm/lmroman7-regular.otf', name='Latin Modern Roman', style='normal', variant='normal', weight=400, stretch='normal', size='scalable')) = 10.05\n",
      "findfont: score(FontEntry(fname='/usr/share/fonts/truetype/liberation/LiberationMono-Regular.ttf', name='Liberation Mono', style='normal', variant='normal', weight=400, stretch='normal', size='scalable')) = 10.05\n",
      "findfont: score(FontEntry(fname='/usr/share/texmf/fonts/opentype/public/lm/lmmono10-regular.otf', name='Latin Modern Mono', style='normal', variant='normal', weight=400, stretch='normal', size='scalable')) = 10.05\n",
      "findfont: score(FontEntry(fname='/usr/share/texmf/fonts/opentype/public/lm/lmmonoprop10-regular.otf', name='Latin Modern Mono Prop', style='normal', variant='normal', weight=400, stretch='normal', size='scalable')) = 10.05\n",
      "findfont: score(FontEntry(fname='/usr/share/texmf/fonts/opentype/public/lm/lmmonoproplt10-oblique.otf', name='Latin Modern Mono Prop Light', style='oblique', variant='normal', weight=400, stretch='normal', size='scalable')) = 11.05\n",
      "findfont: score(FontEntry(fname='/usr/share/fonts/opentype/urw-base35/P052-Italic.otf', name='P052', style='italic', variant='normal', weight=400, stretch='normal', size='scalable')) = 11.05\n",
      "findfont: score(FontEntry(fname='/usr/share/fonts/opentype/urw-base35/NimbusMonoPS-Italic.otf', name='Nimbus Mono PS', style='italic', variant='normal', weight=400, stretch='normal', size='scalable')) = 11.05\n",
      "findfont: score(FontEntry(fname='/usr/share/texmf/fonts/opentype/public/lm/lmmonolt10-regular.otf', name='Latin Modern Mono Light', style='normal', variant='normal', weight=400, stretch='normal', size='scalable')) = 10.05\n",
      "findfont: score(FontEntry(fname='/usr/share/texmf/fonts/opentype/public/lm/lmroman7-italic.otf', name='Latin Modern Roman', style='italic', variant='normal', weight=400, stretch='normal', size='scalable')) = 11.05\n",
      "findfont: score(FontEntry(fname='/usr/share/texmf/fonts/opentype/public/lm/lmmonoltcond10-regular.otf', name='Latin Modern Mono Light Cond', style='normal', variant='normal', weight=400, stretch='condensed', size='scalable')) = 10.25\n",
      "findfont: score(FontEntry(fname='/usr/share/texmf/fonts/opentype/public/lm/lmromancaps10-oblique.otf', name='Latin Modern Roman Caps', style='oblique', variant='normal', weight=400, stretch='normal', size='scalable')) = 11.05\n",
      "findfont: score(FontEntry(fname='/usr/share/fonts/truetype/liberation/LiberationSans-Bold.ttf', name='Liberation Sans', style='normal', variant='normal', weight=700, stretch='normal', size='scalable')) = 10.335\n",
      "findfont: score(FontEntry(fname='/usr/share/texmf/fonts/opentype/public/lm/lmromanunsl10-regular.otf', name='Latin Modern Roman Unslanted', style='normal', variant='normal', weight=400, stretch='normal', size='scalable')) = 10.05\n",
      "findfont: score(FontEntry(fname='/usr/share/fonts/truetype/liberation/LiberationMono-Italic.ttf', name='Liberation Mono', style='italic', variant='normal', weight=400, stretch='normal', size='scalable')) = 11.05\n",
      "findfont: score(FontEntry(fname='/usr/share/fonts/opentype/urw-base35/NimbusRoman-BoldItalic.otf', name='Nimbus Roman', style='italic', variant='normal', weight=700, stretch='normal', size='scalable')) = 11.335\n",
      "findfont: score(FontEntry(fname='/usr/share/texmf/fonts/opentype/public/lm/lmromandunh10-oblique.otf', name='Latin Modern Roman Dunhill', style='oblique', variant='normal', weight=400, stretch='normal', size='scalable')) = 11.05\n",
      "findfont: score(FontEntry(fname='/usr/share/fonts/opentype/urw-base35/NimbusRoman-Regular.otf', name='Nimbus Roman', style='normal', variant='normal', weight=400, stretch='normal', size='scalable')) = 10.05\n",
      "findfont: score(FontEntry(fname='/usr/share/texmf/fonts/opentype/public/lm/lmmonolt10-oblique.otf', name='Latin Modern Mono Light', style='oblique', variant='normal', weight=400, stretch='normal', size='scalable')) = 11.05\n",
      "findfont: score(FontEntry(fname='/usr/share/texmf/fonts/opentype/public/lm/lmromanslant8-regular.otf', name='Latin Modern Roman Slanted', style='normal', variant='normal', weight=400, stretch='normal', size='scalable')) = 10.05\n",
      "findfont: score(FontEntry(fname='/usr/share/texmf/fonts/opentype/public/lm/lmroman10-regular.otf', name='Latin Modern Roman', style='normal', variant='normal', weight=400, stretch='normal', size='scalable')) = 10.05\n",
      "findfont: score(FontEntry(fname='/usr/share/fonts/truetype/liberation/LiberationSansNarrow-Bold.ttf', name='Liberation Sans Narrow', style='normal', variant='normal', weight=700, stretch='condensed', size='scalable')) = 10.535\n",
      "findfont: score(FontEntry(fname='/usr/share/texmf/fonts/opentype/public/lm/lmsansquot8-boldoblique.otf', name='Latin Modern Sans Quotation', style='oblique', variant='normal', weight=700, stretch='normal', size='scalable')) = 11.335\n",
      "findfont: score(FontEntry(fname='/usr/share/fonts/opentype/urw-base35/NimbusSans-Regular.otf', name='Nimbus Sans', style='normal', variant='normal', weight=400, stretch='normal', size='scalable')) = 10.05\n",
      "findfont: score(FontEntry(fname='/usr/share/fonts/opentype/urw-base35/P052-Roman.otf', name='P052', style='normal', variant='normal', weight=400, stretch='normal', size='scalable')) = 10.05\n",
      "findfont: score(FontEntry(fname='/usr/share/fonts/opentype/urw-base35/P052-BoldItalic.otf', name='P052', style='italic', variant='normal', weight=700, stretch='normal', size='scalable')) = 11.335\n",
      "findfont: score(FontEntry(fname='/usr/share/texmf/fonts/opentype/public/lm/lmroman9-regular.otf', name='Latin Modern Roman', style='normal', variant='normal', weight=400, stretch='normal', size='scalable')) = 10.05\n",
      "findfont: score(FontEntry(fname='/usr/share/fonts/opentype/urw-base35/NimbusMonoPS-Bold.otf', name='Nimbus Mono PS', style='normal', variant='normal', weight=700, stretch='normal', size='scalable')) = 10.335\n",
      "findfont: score(FontEntry(fname='/usr/share/texmf/fonts/opentype/public/lm/lmromanslant10-regular.otf', name='Latin Modern Roman Slanted', style='normal', variant='normal', weight=400, stretch='normal', size='scalable')) = 10.05\n",
      "findfont: score(FontEntry(fname='/usr/share/texmf/fonts/opentype/public/lm/lmmonoprop10-oblique.otf', name='Latin Modern Mono Prop', style='oblique', variant='normal', weight=400, stretch='normal', size='scalable')) = 11.05\n",
      "findfont: score(FontEntry(fname='/usr/share/fonts/opentype/urw-base35/NimbusRoman-Italic.otf', name='Nimbus Roman', style='italic', variant='normal', weight=400, stretch='normal', size='scalable')) = 11.05\n",
      "findfont: score(FontEntry(fname='/usr/share/texmf/fonts/opentype/public/lm/lmroman7-bold.otf', name='Latin Modern Roman', style='normal', variant='normal', weight=700, stretch='normal', size='scalable')) = 10.335\n",
      "findfont: score(FontEntry(fname='/usr/share/texmf/fonts/opentype/public/lm/lmsans10-bold.otf', name='Latin Modern Sans', style='normal', variant='normal', weight=700, stretch='normal', size='scalable')) = 10.335\n",
      "findfont: score(FontEntry(fname='/usr/share/texmf/fonts/opentype/public/lm/lmroman8-regular.otf', name='Latin Modern Roman', style='normal', variant='normal', weight=400, stretch='normal', size='scalable')) = 10.05\n",
      "findfont: score(FontEntry(fname='/usr/share/texmf/fonts/opentype/public/lm/lmsansdemicond10-regular.otf', name='Latin Modern Sans Demi Cond', style='normal', variant='normal', weight=600, stretch='condensed', size='scalable')) = 10.44\n",
      "findfont: score(FontEntry(fname='/usr/share/texmf/fonts/opentype/public/lm/lmsansquot8-oblique.otf', name='Latin Modern Sans Quotation', style='oblique', variant='normal', weight=400, stretch='normal', size='scalable')) = 11.05\n",
      "findfont: score(FontEntry(fname='/usr/share/texmf/fonts/opentype/public/lm/lmmonolt10-bold.otf', name='Latin Modern Mono Light', style='normal', variant='normal', weight=700, stretch='normal', size='scalable')) = 10.335\n",
      "findfont: score(FontEntry(fname='/usr/share/fonts/opentype/urw-base35/NimbusSans-BoldItalic.otf', name='Nimbus Sans', style='italic', variant='normal', weight=700, stretch='normal', size='scalable')) = 11.335\n",
      "findfont: score(FontEntry(fname='/usr/share/texmf/fonts/opentype/public/lm/lmmonoslant10-regular.otf', name='Latin Modern Mono Slanted', style='normal', variant='normal', weight=400, stretch='normal', size='scalable')) = 10.05\n",
      "findfont: score(FontEntry(fname='/usr/share/fonts/opentype/urw-base35/D050000L.otf', name='D050000L', style='normal', variant='normal', weight=400, stretch='normal', size='scalable')) = 10.05\n",
      "findfont: score(FontEntry(fname='/usr/share/texmf/fonts/opentype/public/lm/lmmonoproplt10-boldoblique.otf', name='Latin Modern Mono Prop Light', style='oblique', variant='normal', weight=700, stretch='normal', size='scalable')) = 11.335\n",
      "findfont: score(FontEntry(fname='/usr/share/fonts/opentype/urw-base35/NimbusSansNarrow-BoldOblique.otf', name='Nimbus Sans Narrow', style='oblique', variant='normal', weight=700, stretch='condensed', size='scalable')) = 11.535\n",
      "findfont: score(FontEntry(fname='/usr/share/fonts/truetype/liberation/LiberationSansNarrow-Italic.ttf', name='Liberation Sans Narrow', style='italic', variant='normal', weight=400, stretch='condensed', size='scalable')) = 11.25\n",
      "findfont: score(FontEntry(fname='/usr/share/texmf/fonts/opentype/public/lm/lmroman6-bold.otf', name='Latin Modern Roman', style='normal', variant='normal', weight=700, stretch='normal', size='scalable')) = 10.335\n",
      "findfont: score(FontEntry(fname='/usr/share/texmf/fonts/opentype/public/lm/lmmonocaps10-regular.otf', name='Latin Modern Mono Caps', style='normal', variant='normal', weight=400, stretch='normal', size='scalable')) = 10.05\n",
      "findfont: score(FontEntry(fname='/usr/share/fonts/truetype/liberation/LiberationMono-Bold.ttf', name='Liberation Mono', style='normal', variant='normal', weight=700, stretch='normal', size='scalable')) = 10.335\n",
      "findfont: score(FontEntry(fname='/usr/share/fonts/truetype/liberation/LiberationSans-BoldItalic.ttf', name='Liberation Sans', style='italic', variant='normal', weight=700, stretch='normal', size='scalable')) = 11.335\n",
      "findfont: score(FontEntry(fname='/usr/share/texmf/fonts/opentype/public/lm/lmroman12-bold.otf', name='Latin Modern Roman', style='normal', variant='normal', weight=700, stretch='normal', size='scalable')) = 10.335\n",
      "findfont: score(FontEntry(fname='/usr/share/fonts/opentype/urw-base35/NimbusSansNarrow-Oblique.otf', name='Nimbus Sans Narrow', style='oblique', variant='normal', weight=400, stretch='condensed', size='scalable')) = 11.25\n",
      "findfont: score(FontEntry(fname='/usr/share/texmf/fonts/opentype/public/lm/lmroman9-bold.otf', name='Latin Modern Roman', style='normal', variant='normal', weight=700, stretch='normal', size='scalable')) = 10.335\n",
      "findfont: score(FontEntry(fname='/usr/share/fonts/opentype/urw-base35/URWGothic-Demi.otf', name='URW Gothic', style='normal', variant='normal', weight=600, stretch='normal', size='scalable')) = 10.24\n",
      "findfont: score(FontEntry(fname='/usr/share/texmf/fonts/opentype/public/lm/lmmono9-regular.otf', name='Latin Modern Mono', style='normal', variant='normal', weight=400, stretch='normal', size='scalable')) = 10.05\n",
      "findfont: score(FontEntry(fname='/usr/share/texmf/fonts/opentype/public/lm/lmsans8-regular.otf', name='Latin Modern Sans', style='normal', variant='normal', weight=400, stretch='normal', size='scalable')) = 10.05\n",
      "findfont: score(FontEntry(fname='/usr/share/texmf/fonts/opentype/public/lm/lmroman12-italic.otf', name='Latin Modern Roman', style='italic', variant='normal', weight=400, stretch='normal', size='scalable')) = 11.05\n",
      "findfont: score(FontEntry(fname='/usr/share/texmf/fonts/opentype/public/lm/lmromanslant17-regular.otf', name='Latin Modern Roman Slanted', style='normal', variant='normal', weight=400, stretch='normal', size='scalable')) = 10.05\n",
      "findfont: score(FontEntry(fname='/usr/share/fonts/opentype/urw-base35/C059-Roman.otf', name='C059', style='normal', variant='normal', weight=400, stretch='normal', size='scalable')) = 10.05\n",
      "findfont: score(FontEntry(fname='/usr/share/fonts/truetype/liberation/LiberationMono-BoldItalic.ttf', name='Liberation Mono', style='italic', variant='normal', weight=700, stretch='normal', size='scalable')) = 11.335\n",
      "findfont: score(FontEntry(fname='/usr/share/fonts/opentype/urw-base35/Z003-MediumItalic.otf', name='Z003', style='italic', variant='normal', weight=500, stretch='normal', size='scalable')) = 11.145\n",
      "findfont: score(FontEntry(fname='/usr/share/texmf/fonts/opentype/public/lm/lmsans12-regular.otf', name='Latin Modern Sans', style='normal', variant='normal', weight=400, stretch='normal', size='scalable')) = 10.05\n",
      "findfont: score(FontEntry(fname='/usr/share/texmf/fonts/opentype/public/lm/lmmono8-regular.otf', name='Latin Modern Mono', style='normal', variant='normal', weight=400, stretch='normal', size='scalable')) = 10.05\n",
      "findfont: score(FontEntry(fname='/usr/share/fonts/opentype/urw-base35/URWBookman-Demi.otf', name='URW Bookman', style='normal', variant='normal', weight=600, stretch='normal', size='scalable')) = 10.24\n",
      "findfont: score(FontEntry(fname='/usr/share/texmf/fonts/opentype/public/lm/lmroman10-bold.otf', name='Latin Modern Roman', style='normal', variant='normal', weight=700, stretch='normal', size='scalable')) = 10.335\n",
      "findfont: score(FontEntry(fname='/usr/share/fonts/opentype/urw-base35/URWBookman-Light.otf', name='URW Bookman', style='normal', variant='normal', weight=300, stretch='normal', size='scalable')) = 10.145\n",
      "findfont: score(FontEntry(fname='/usr/share/texmf/fonts/opentype/public/lm/lmroman5-regular.otf', name='Latin Modern Roman', style='normal', variant='normal', weight=400, stretch='normal', size='scalable')) = 10.05\n",
      "findfont: score(FontEntry(fname='/usr/share/texmf/fonts/opentype/public/lm/lmsans10-oblique.otf', name='Latin Modern Sans', style='oblique', variant='normal', weight=400, stretch='normal', size='scalable')) = 11.05\n",
      "findfont: score(FontEntry(fname='/usr/share/fonts/opentype/urw-base35/P052-Bold.otf', name='P052', style='normal', variant='normal', weight=700, stretch='normal', size='scalable')) = 10.335\n",
      "findfont: score(FontEntry(fname='/usr/share/texmf/fonts/opentype/public/lm/lmsansquot8-bold.otf', name='Latin Modern Sans Quotation', style='normal', variant='normal', weight=700, stretch='normal', size='scalable')) = 10.335\n",
      "findfont: score(FontEntry(fname='/usr/share/texmf/fonts/opentype/public/lm/lmromanslant9-regular.otf', name='Latin Modern Roman Slanted', style='normal', variant='normal', weight=400, stretch='normal', size='scalable')) = 10.05\n",
      "findfont: score(FontEntry(fname='/usr/share/texmf/fonts/opentype/public/lm/lmmono10-italic.otf', name='Latin Modern Mono', style='italic', variant='normal', weight=400, stretch='normal', size='scalable')) = 11.05\n",
      "findfont: score(FontEntry(fname='/usr/share/texmf/fonts/opentype/public/lm/lmsans12-oblique.otf', name='Latin Modern Sans', style='oblique', variant='normal', weight=400, stretch='normal', size='scalable')) = 11.05\n",
      "findfont: score(FontEntry(fname='/usr/share/texmf/fonts/opentype/public/lm/lmromandunh10-regular.otf', name='Latin Modern Roman Dunhill', style='normal', variant='normal', weight=400, stretch='normal', size='scalable')) = 10.05\n",
      "findfont: score(FontEntry(fname='/usr/share/texmf/fonts/opentype/public/lm/lmromandemi10-oblique.otf', name='Latin Modern Roman Demi', style='oblique', variant='normal', weight=600, stretch='normal', size='scalable')) = 11.24\n",
      "findfont: score(FontEntry(fname='/usr/share/texmf/fonts/opentype/public/lm/lmsans8-oblique.otf', name='Latin Modern Sans', style='oblique', variant='normal', weight=400, stretch='normal', size='scalable')) = 11.05\n",
      "findfont: score(FontEntry(fname='/usr/share/fonts/opentype/urw-base35/NimbusSansNarrow-Bold.otf', name='Nimbus Sans Narrow', style='normal', variant='normal', weight=700, stretch='condensed', size='scalable')) = 10.535\n",
      "findfont: score(FontEntry(fname='/usr/share/fonts/opentype/urw-base35/NimbusSans-Bold.otf', name='Nimbus Sans', style='normal', variant='normal', weight=700, stretch='normal', size='scalable')) = 10.335\n",
      "findfont: score(FontEntry(fname='/usr/share/texmf/fonts/opentype/public/lm/lmroman10-bolditalic.otf', name='Latin Modern Roman', style='italic', variant='normal', weight=700, stretch='normal', size='scalable')) = 11.335\n",
      "findfont: score(FontEntry(fname='/usr/share/texmf/fonts/opentype/public/lm/lmroman12-regular.otf', name='Latin Modern Roman', style='normal', variant='normal', weight=400, stretch='normal', size='scalable')) = 10.05\n",
      "findfont: score(FontEntry(fname='/usr/share/fonts/opentype/urw-base35/NimbusSansNarrow-Regular.otf', name='Nimbus Sans Narrow', style='normal', variant='normal', weight=400, stretch='condensed', size='scalable')) = 10.25\n",
      "findfont: score(FontEntry(fname='/usr/share/texmf/fonts/opentype/public/lm/lmroman17-regular.otf', name='Latin Modern Roman', style='normal', variant='normal', weight=400, stretch='normal', size='scalable')) = 10.05\n",
      "findfont: score(FontEntry(fname='/usr/share/fonts/opentype/urw-base35/C059-Italic.otf', name='C059', style='italic', variant='normal', weight=400, stretch='normal', size='scalable')) = 11.05\n",
      "findfont: score(FontEntry(fname='/usr/share/fonts/truetype/liberation/LiberationSerif-Bold.ttf', name='Liberation Serif', style='normal', variant='normal', weight=700, stretch='normal', size='scalable')) = 10.335\n",
      "findfont: score(FontEntry(fname='/usr/share/fonts/opentype/urw-base35/NimbusMonoPS-BoldItalic.otf', name='Nimbus Mono PS', style='italic', variant='normal', weight=700, stretch='normal', size='scalable')) = 11.335\n",
      "findfont: score(FontEntry(fname='/usr/share/texmf/fonts/opentype/public/lm/lmroman8-italic.otf', name='Latin Modern Roman', style='italic', variant='normal', weight=400, stretch='normal', size='scalable')) = 11.05\n",
      "findfont: score(FontEntry(fname='/usr/share/texmf/fonts/opentype/public/lm/lmmonoltcond10-oblique.otf', name='Latin Modern Mono Light Cond', style='oblique', variant='normal', weight=400, stretch='condensed', size='scalable')) = 11.25\n",
      "findfont: score(FontEntry(fname='/usr/share/texmf/fonts/opentype/public/lm/lmmono12-regular.otf', name='Latin Modern Mono', style='normal', variant='normal', weight=400, stretch='normal', size='scalable')) = 10.05\n",
      "findfont: score(FontEntry(fname='/usr/share/fonts/opentype/urw-base35/C059-Bold.otf', name='C059', style='normal', variant='normal', weight=700, stretch='normal', size='scalable')) = 10.335\n",
      "findfont: score(FontEntry(fname='/usr/share/texmf/fonts/opentype/public/lm/lmsans10-boldoblique.otf', name='Latin Modern Sans', style='oblique', variant='normal', weight=700, stretch='normal', size='scalable')) = 11.335\n",
      "findfont: score(FontEntry(fname='/usr/share/texmf/fonts/opentype/public/lm/lmroman10-italic.otf', name='Latin Modern Roman', style='italic', variant='normal', weight=400, stretch='normal', size='scalable')) = 11.05\n",
      "findfont: score(FontEntry(fname='/usr/share/fonts/truetype/liberation/LiberationSerif-Regular.ttf', name='Liberation Serif', style='normal', variant='normal', weight=400, stretch='normal', size='scalable')) = 10.05\n",
      "findfont: score(FontEntry(fname='/usr/share/texmf/fonts/opentype/public/lm/lmromancaps10-regular.otf', name='Latin Modern Roman Caps', style='normal', variant='normal', weight=400, stretch='normal', size='scalable')) = 10.05\n",
      "findfont: score(FontEntry(fname='/usr/share/texmf/fonts/opentype/public/lm/lmroman5-bold.otf', name='Latin Modern Roman', style='normal', variant='normal', weight=700, stretch='normal', size='scalable')) = 10.335\n",
      "findfont: score(FontEntry(fname='/usr/share/fonts/truetype/liberation/LiberationSerif-BoldItalic.ttf', name='Liberation Serif', style='italic', variant='normal', weight=700, stretch='normal', size='scalable')) = 11.335\n",
      "findfont: score(FontEntry(fname='/usr/share/texmf/fonts/opentype/public/lm/lmroman6-regular.otf', name='Latin Modern Roman', style='normal', variant='normal', weight=400, stretch='normal', size='scalable')) = 10.05\n",
      "findfont: score(FontEntry(fname='/usr/share/texmf/fonts/opentype/public/lm/lmsans10-regular.otf', name='Latin Modern Sans', style='normal', variant='normal', weight=400, stretch='normal', size='scalable')) = 10.05\n",
      "findfont: score(FontEntry(fname='/usr/share/fonts/opentype/urw-base35/NimbusRoman-Bold.otf', name='Nimbus Roman', style='normal', variant='normal', weight=700, stretch='normal', size='scalable')) = 10.335\n",
      "findfont: score(FontEntry(fname='/usr/share/fonts/opentype/urw-base35/URWGothic-BookOblique.otf', name='URW Gothic', style='oblique', variant='normal', weight=400, stretch='normal', size='scalable')) = 11.05\n",
      "findfont: score(FontEntry(fname='/usr/share/texmf/fonts/opentype/public/lm/lmroman9-italic.otf', name='Latin Modern Roman', style='italic', variant='normal', weight=400, stretch='normal', size='scalable')) = 11.05\n",
      "findfont: score(FontEntry(fname='/usr/share/texmf/fonts/opentype/public/lm/lmsans17-oblique.otf', name='Latin Modern Sans', style='oblique', variant='normal', weight=400, stretch='normal', size='scalable')) = 11.05\n",
      "findfont: score(FontEntry(fname='/usr/share/texmf/fonts/opentype/public/lm/lmsansquot8-regular.otf', name='Latin Modern Sans Quotation', style='normal', variant='normal', weight=400, stretch='normal', size='scalable')) = 10.05\n",
      "findfont: score(FontEntry(fname='/usr/share/fonts/opentype/urw-base35/URWBookman-LightItalic.otf', name='URW Bookman', style='italic', variant='normal', weight=300, stretch='normal', size='scalable')) = 11.145\n",
      "findfont: score(FontEntry(fname='/usr/share/fonts/opentype/urw-base35/StandardSymbolsPS.otf', name='Standard Symbols PS', style='normal', variant='normal', weight=400, stretch='normal', size='scalable')) = 10.05\n",
      "findfont: score(FontEntry(fname='/usr/share/texmf/fonts/opentype/public/lm/lmsans9-regular.otf', name='Latin Modern Sans', style='normal', variant='normal', weight=400, stretch='normal', size='scalable')) = 10.05\n",
      "findfont: score(FontEntry(fname='/usr/share/fonts/truetype/liberation/LiberationSansNarrow-Regular.ttf', name='Liberation Sans Narrow', style='normal', variant='normal', weight=400, stretch='condensed', size='scalable')) = 10.25\n",
      "findfont: score(FontEntry(fname='/usr/share/texmf/fonts/opentype/public/lm/lmmonolt10-boldoblique.otf', name='Latin Modern Mono Light', style='oblique', variant='normal', weight=700, stretch='normal', size='scalable')) = 11.335\n",
      "findfont: score(FontEntry(fname='/usr/share/fonts/opentype/urw-base35/URWGothic-Book.otf', name='URW Gothic', style='normal', variant='normal', weight=400, stretch='normal', size='scalable')) = 10.05\n",
      "findfont: score(FontEntry(fname='/usr/share/texmf/fonts/opentype/public/lm/lmromandemi10-regular.otf', name='Latin Modern Roman Demi', style='normal', variant='normal', weight=600, stretch='normal', size='scalable')) = 10.24\n",
      "findfont: score(FontEntry(fname='/usr/share/fonts/opentype/urw-base35/URWGothic-DemiOblique.otf', name='URW Gothic', style='oblique', variant='normal', weight=600, stretch='normal', size='scalable')) = 11.24\n",
      "findfont: score(FontEntry(fname='/usr/share/texmf/fonts/opentype/public/lm/lmsans17-regular.otf', name='Latin Modern Sans', style='normal', variant='normal', weight=400, stretch='normal', size='scalable')) = 10.05\n",
      "findfont: score(FontEntry(fname='/usr/share/texmf/fonts/opentype/public/lm/lmsans9-oblique.otf', name='Latin Modern Sans', style='oblique', variant='normal', weight=400, stretch='normal', size='scalable')) = 11.05\n",
      "findfont: score(FontEntry(fname='/usr/share/texmf/fonts/opentype/public/lm/lmsansdemicond10-oblique.otf', name='Latin Modern Sans Demi Cond', style='oblique', variant='normal', weight=600, stretch='condensed', size='scalable')) = 11.44\n",
      "findfont: score(FontEntry(fname='/usr/share/texmf/fonts/opentype/public/lm/lmmonoproplt10-bold.otf', name='Latin Modern Mono Prop Light', style='normal', variant='normal', weight=700, stretch='normal', size='scalable')) = 10.335\n",
      "findfont: score(FontEntry(fname='/usr/share/texmf/fonts/opentype/public/lm/lmromanslant12-regular.otf', name='Latin Modern Roman Slanted', style='normal', variant='normal', weight=400, stretch='normal', size='scalable')) = 10.05\n",
      "findfont: Matching sans\\-serif:style=normal:variant=normal:weight=normal:stretch=normal:size=12.0 to DejaVu Sans ('/opt/conda/lib/python3.10/site-packages/matplotlib/mpl-data/fonts/ttf/DejaVuSans.ttf') with score of 0.050000.\n"
     ]
    },
    {
     "data": {
      "image/png": "[encoded data removed]",
      "text/plain": [
       "<Figure size 1800x500 with 3 Axes>"
      ]
     },
     "metadata": {},
     "output_type": "display_data"
    }
   ],
   "source": [
    "import numpy as np\n",
    "import matplotlib.pyplot as plt\n",
    "import seaborn as sns\n",
    "\n",
    "# Generate sample data\n",
    "np.random.seed(0)\n",
    "positive_skew_data = np.random.exponential(scale=2, size=1000)\n",
    "negative_skew_data = -np.random.exponential(scale=2, size=1000)\n",
    "symmetric_data = np.random.normal(loc=0, scale=1, size=1000)\n",
    "\n",
    "# Plotting\n",
    "fig, axs = plt.subplots(1, 3, figsize=(18, 5))\n",
    "\n",
    "# Positive Skew\n",
    "sns.histplot(positive_skew_data, kde=True, ax=axs[0])\n",
    "axs[0].set_title('Positive Skewness')\n",
    "\n",
    "# Negative Skew\n",
    "sns.histplot(negative_skew_data, kde=True, ax=axs[1])\n",
    "axs[1].set_title('Negative Skewness')\n",
    "\n",
    "# Symmetrical Distribution\n",
    "sns.histplot(symmetric_data, kde=True, ax=axs[2])\n",
    "axs[2].set_title('Symmetrical Distribution')\n",
    "\n",
    "plt.tight_layout()\n",
    "plt.show()\n"
   ]
  },
  {
   "cell_type": "markdown",
   "id": "2b75eae3-c8a1-4171-8630-f7d1b0fdf1e7",
   "metadata": {},
   "source": [
    "Explanation\n",
    "\n",
    "    Positive Skewness (Right Skewness)\n",
    "        Generated using an exponential distribution, which is right-skewed.\n",
    "        Histogram shows a long tail on the right.\n",
    "\n",
    "    Negative Skewness (Left Skewness)\n",
    "        Generated by negating an exponential distribution, creating a left-skewed distribution.\n",
    "        Histogram shows a long tail on the left.\n",
    "\n",
    "    Symmetrical Distribution\n",
    "        Generated using a normal distribution, which is symmetric.\n",
    "        Histogram shows a bell-shaped curve with no skew.\n",
    "\n",
    "Interpretation\n",
    "\n",
    "    Positive Skewness: The majority of the data is clustered on the lower end, with a tail extending to the higher values.\n",
    "    Negative Skewness: The majority of the data is clustered on the higher end, with a tail extending to the lower values.\n",
    "    Symmetrical Distribution: The data is evenly distributed around the center.\n",
    "\n",
    "Skewness is an important aspect of data analysis as it helps understand the distribution shape and influences various statistical analyses and modeling decisions.\n"
   ]
  },
  {
   "cell_type": "raw",
   "id": "37ad2d6c-0e08-46c9-af01-c2bdc72b0965",
   "metadata": {},
   "source": [
    "Question 22. Explain POBABILITY MASS FUNCTION (PMF) and PROBABILITY DENSITY FUNCTION (PDF). and what is the diffrence between them?"
   ]
  },
  {
   "cell_type": "markdown",
   "id": "1fe2be5b-14f7-4770-8793-ad76e66b86c0",
   "metadata": {},
   "source": [
    "Certainly! Both the Probability Mass Function (PMF) and the Probability Density Function (PDF) are fundamental concepts in probability theory and statistics, but they apply to different types of random variables.\n",
    "Probability Mass Function (PMF)\n",
    "\n",
    "    Definition:\n",
    "        The Probability Mass Function (PMF) is used for discrete random variables. It gives the probability that a discrete random variable is exactly equal to some value.\n",
    "\n",
    "    Properties:\n",
    "        Non-negative: P(X=x)≥0P(X=x)≥0 for all xx.\n",
    "        Normalization: The sum of the probabilities for all possible values must equal 1:\n",
    "        ∑xP(X=x)=1\n",
    "        x∑​P(X=x)=1\n",
    "\n",
    "    Example:\n",
    "        Consider a fair six-sided die. The PMF of the die roll XX can be defined as:\n",
    "        P(X=x)=16 for x∈{1,2,3,4,5,6}\n",
    "        P(X=x)=61​ for x∈{1,2,3,4,5,6}\n",
    "        Here, P(X=x)P(X=x) gives the probability of rolling each of the numbers 1 through 6.\n",
    "\n",
    "Probability Density Function (PDF)\n",
    "\n",
    "    Definition:\n",
    "        The Probability Density Function (PDF) is used for continuous random variables. It describes the relative likelihood of a continuous random variable taking on a particular value. The PDF itself is not a probability but rather a density, and probabilities are obtained by integrating the PDF over a range of values.\n",
    "\n",
    "    Properties:\n",
    "        Non-negative: f(x)≥0f(x)≥0 for all xx.\n",
    "        Normalization: The integral of the PDF over the entire space must equal 1:\n",
    "        ∫−∞∞f(x) dx=1\n",
    "        ∫−∞∞​f(x)dx=1\n",
    "        The probability that the random variable falls within a certain interval [a,b][a,b] is given by the integral of the PDF over that interval:\n",
    "        P(a≤X≤b)=∫abf(x) dx\n",
    "        P(a≤X≤b)=∫ab​f(x)dx\n",
    "\n",
    "    Example:\n",
    "        Consider a continuous random variable XX that follows a normal distribution with mean 0 and standard deviation 1 (standard normal distribution). The PDF of XX is:\n",
    "        f(x)=12πe−x22\n",
    "        f(x)=2π\n",
    "\n",
    "        ​1​e−2x2​\n",
    "        Here, f(x)f(x) describes the density of the random variable at point xx, but to find the probability that XX falls within a certain range, you integrate f(x)f(x) over that range.\n",
    "\n",
    "Differences Between PMF and PDF\n",
    "\n",
    "    Type of Random Variable:\n",
    "        PMF: Used for discrete random variables. It provides probabilities for individual outcomes.\n",
    "        PDF: Used for continuous random variables. It provides a density function from which probabilities are obtained via integration.\n",
    "\n",
    "    Probability vs. Density:\n",
    "        PMF: Directly provides the probability P(X=x)P(X=x) for discrete values.\n",
    "        PDF: Provides a density f(x)f(x) and the probability of XX falling within an interval is given by the integral of f(x)f(x) over that interval.\n",
    "\n",
    "    Summation vs. Integration:\n",
    "        PMF: Probabilities are summed over all possible values.\n",
    "        PDF: Probabilities are found by integrating the density function over the desired range.\n",
    "\n",
    "Visual Example\n",
    "\n",
    "Let's illustrate the PMF and PDF with Python code. Below, we'll plot the PMF of a discrete uniform distribution and the PDF of a normal distribution."
   ]
  },
  {
   "cell_type": "code",
   "execution_count": 45,
   "id": "d6241348-f9eb-4831-a911-922941913204",
   "metadata": {},
   "outputs": [
    {
     "name": "stderr",
     "output_type": "stream",
     "text": [
      "/tmp/ipykernel_105/1269048384.py:17: MatplotlibDeprecationWarning: The 'use_line_collection' parameter of stem() was deprecated in Matplotlib 3.6 and will be removed two minor releases later. If any parameter follows 'use_line_collection', they should be passed as keyword, not positionally.\n",
      "  axs[0].stem(x_discrete, pmf_values, use_line_collection=True)\n"
     ]
    },
    {
     "data": {
      "image/png": "[encoded data removed]",
      "text/plain": [
       "<Figure size 1400x500 with 2 Axes>"
      ]
     },
     "metadata": {},
     "output_type": "display_data"
    }
   ],
   "source": [
    "import numpy as np\n",
    "import matplotlib.pyplot as plt\n",
    "from scipy.stats import norm\n",
    "\n",
    "# Discrete uniform distribution PMF\n",
    "x_discrete = np.arange(1, 7)\n",
    "pmf_values = [1/6] * len(x_discrete)\n",
    "\n",
    "# Continuous normal distribution PDF\n",
    "x_continuous = np.linspace(-4, 4, 1000)\n",
    "pdf_values = norm.pdf(x_continuous, loc=0, scale=1)\n",
    "\n",
    "# Plotting\n",
    "fig, axs = plt.subplots(1, 2, figsize=(14, 5))\n",
    "\n",
    "# PMF Plot\n",
    "axs[0].stem(x_discrete, pmf_values, use_line_collection=True)\n",
    "axs[0].set_title('PMF of Discrete Uniform Distribution')\n",
    "axs[0].set_xlabel('Value')\n",
    "axs[0].set_ylabel('Probability')\n",
    "\n",
    "# PDF Plot\n",
    "axs[1].plot(x_continuous, pdf_values, 'r-', lw=2)\n",
    "axs[1].set_title('PDF of Normal Distribution')\n",
    "axs[1].set_xlabel('Value')\n",
    "axs[1].set_ylabel('Density')\n",
    "\n",
    "plt.tight_layout()\n",
    "plt.show()\n"
   ]
  },
  {
   "cell_type": "markdown",
   "id": "3d57e100-e99f-4f33-a690-9bab91b27401",
   "metadata": {},
   "source": [
    "In the plots:\n",
    "\n",
    "    The left plot shows the PMF of a discrete uniform distribution (six-sided die), with probabilities for each discrete outcome.\n",
    "    The right plot shows the PDF of a normal distribution, with the probability density across continuous values.\n",
    "\n"
   ]
  },
  {
   "cell_type": "raw",
   "id": "944307ce-6df9-4bb7-99ad-81e02a415e46",
   "metadata": {},
   "source": [
    "Question.23. What is correlation.Explain its type in details. what are the methods of dertermining corelation."
   ]
  },
  {
   "cell_type": "markdown",
   "id": "e9e72856-37b9-4d1a-9268-1805ec771af7",
   "metadata": {},
   "source": [
    "Correlation is a statistical measure that describes the strength and direction of the relationship between two or more variables. It indicates how changes in one variable are associated with changes in another variable. Correlation is fundamental in data analysis and helps in understanding how variables are related.\n",
    "Types of Correlation\n",
    "\n",
    "    Positive Correlation\n",
    "        Definition: When two variables move in the same direction. As one variable increases, the other variable also increases, and vice versa.\n",
    "        Example: The height and weight of individuals. Generally, taller people tend to weigh more.\n",
    "\n",
    "    Negative Correlation\n",
    "        Definition: When two variables move in opposite directions. As one variable increases, the other variable decreases, and vice versa.\n",
    "        Example: The amount of time spent studying and the number of errors made on a test. More study time is often associated with fewer errors.\n",
    "\n",
    "    No Correlation\n",
    "        Definition: There is no predictable relationship between the two variables. Changes in one variable do not affect the other variable.\n",
    "        Example: The number of hours spent watching TV and the number of books read. There's no systematic relationship between these two variables.\n",
    "\n",
    "    Perfect Correlation\n",
    "        Positive Perfect Correlation: A correlation of +1 indicates a perfect positive linear relationship between variables.\n",
    "        Negative Perfect Correlation: A correlation of -1 indicates a perfect negative linear relationship between variables.\n",
    "\n",
    "Methods of Determining Correlation\n",
    "\n",
    "    Pearson Correlation Coefficient\n",
    "        Definition: Measures the linear relationship between two continuous variables. It ranges from -1 to +1, where +1 indicates a perfect positive linear relationship, -1 indicates a perfect negative linear relationship, and 0 indicates no linear relationship.\n",
    "        Calculation:\n",
    "        r=∑(xi−xˉ)(yi−yˉ)∑(xi−xˉ)2∑(yi−yˉ)2\n",
    "        r=∑(xi​−xˉ)2∑(yi​−yˉ​)2\n",
    "\n",
    "    ​∑(xi​−xˉ)(yi​−yˉ​)​\n",
    "    where xˉxˉ and yˉyˉ​ are the means of xx and yy, respectively.\n",
    "\n",
    "Spearman's Rank Correlation Coefficient\n",
    "\n",
    "    Definition: Measures the strength and direction of the association between two ranked variables. It is a non-parametric measure and is useful when the data do not meet the assumptions of the Pearson correlation coefficient.\n",
    "    Calculation:\n",
    "    ρ=1−6∑di2n(n2−1)\n",
    "    ρ=1−n(n2−1)6∑di2​​\n",
    "    where didi​ is the difference between the ranks of corresponding variables, and nn is the number of observations.\n",
    "\n",
    "Kendall's Tau\n",
    "\n",
    "    Definition: A measure of association for ordinal variables. It is used to assess the strength of the relationship between two variables by evaluating the concordance and discordance between pairs of observations.\n",
    "    Calculation:\n",
    "    τ=(C−D)(C+D+Tx)(C+D+Ty)\n",
    "    τ=(C+D+Tx​)(C+D+Ty​)\n",
    "\n",
    "    ​(C−D)​\n",
    "    where CC is the number of concordant pairs, DD is the number of discordant pairs, and TxTx​ and TyTy​ are the number of ties in xx and yy, respectively.\n",
    "\n",
    "Point-Biserial Correlation\n",
    "\n",
    "    Definition: A special case of Pearson correlation used when one variable is continuous and the other is binary (dichotomous).\n",
    "    Calculation:\n",
    "    rpb=M1−M0s⋅n1⋅n0n(n−1)\n",
    "    rpb​=sM1​−M0​​⋅n(n−1)n1​⋅n0​​\n",
    "\n",
    "        ​\n",
    "        where M1M1​ and M0M0​ are the means of the continuous variable for the two groups, n1n1​ and n0n0​ are the sizes of the two groups, and ss is the standard deviation of the continuous variable.\n",
    "\n",
    "Example Calculations in Python\n",
    "\n",
    "Here's how you can compute these correlation coefficients using Python:"
   ]
  },
  {
   "cell_type": "code",
   "execution_count": 46,
   "id": "c48e8b0e-7a2e-4f79-8079-ad71ad319b2b",
   "metadata": {},
   "outputs": [
    {
     "name": "stdout",
     "output_type": "stream",
     "text": [
      "Pearson Correlation: 1.0\n",
      "Spearman's Rank Correlation: 0.9999999999999999\n",
      "Kendall's Tau: 0.9999999999999999\n",
      "Point-Biserial Correlation: 0.0\n"
     ]
    }
   ],
   "source": [
    "import numpy as np\n",
    "import pandas as pd\n",
    "from scipy.stats import pearsonr, spearmanr, kendalltau\n",
    "\n",
    "# Sample data\n",
    "x = np.array([1, 2, 3, 4, 5])\n",
    "y = np.array([2, 4, 6, 8, 10])\n",
    "\n",
    "# Pearson Correlation\n",
    "pearson_corr, _ = pearsonr(x, y)\n",
    "print(f\"Pearson Correlation: {pearson_corr}\")\n",
    "\n",
    "# Spearman's Rank Correlation\n",
    "spearman_corr, _ = spearmanr(x, y)\n",
    "print(f\"Spearman's Rank Correlation: {spearman_corr}\")\n",
    "\n",
    "# Kendall's Tau\n",
    "kendall_corr, _ = kendalltau(x, y)\n",
    "print(f\"Kendall's Tau: {kendall_corr}\")\n",
    "\n",
    "# For Point-Biserial Correlation\n",
    "# Binary variable example\n",
    "binary = np.array([0, 1, 0, 1, 0])\n",
    "point_biserial_corr, _ = pearsonr(binary, y)\n",
    "print(f\"Point-Biserial Correlation: {point_biserial_corr}\")\n"
   ]
  },
  {
   "cell_type": "markdown",
   "id": "03482e41-0751-4c1c-91a7-82eca08b7fbc",
   "metadata": {},
   "source": [
    "Explanation\n",
    "\n",
    "    Pearson Correlation: Measures the linear relationship between continuous variables.\n",
    "    Spearman's Rank Correlation: Assesses the monotonic relationship between ranked variables.\n",
    "    Kendall's Tau: Evaluates ordinal associations by comparing concordant and discordant pairs.\n",
    "    Point-Biserial Correlation: Examines the relationship between a continuous and a binary variable.\n",
    "\n",
    "Summary\n",
    "\n",
    "    Correlation quantifies the strength and direction of relationships between variables.\n",
    "    Types: Positive, negative, no correlation, and perfect correlation.\n",
    "    Methods: Pearson for linear relationships, Spearman and Kendall for ranked or ordinal relationships, and Point-Biserial for relationships involving binary and continuous variables."
   ]
  },
  {
   "cell_type": "raw",
   "id": "d1194523-e814-49b8-89f5-519f0680593e",
   "metadata": {},
   "source": [
    "Question.25. Discuss teh 4 diffrence between correrelation and regression."
   ]
  },
  {
   "cell_type": "markdown",
   "id": "bada6ae5-798e-40ef-b71f-9b87e1ea3cc3",
   "metadata": {},
   "source": [
    "Correlation and regression are both statistical techniques used to analyze the relationship between variables, but they serve different purposes and have distinct characteristics. Here are four key differences between correlation and regression:\n",
    "1. Purpose\n",
    "\n",
    "    Correlation:\n",
    "        Purpose: Measures the strength and direction of a linear relationship between two variables.\n",
    "        Focus: Quantifies the degree to which two variables move together. It does not imply causation or predict one variable based on another.\n",
    "\n",
    "    Regression:\n",
    "        Purpose: Models the relationship between a dependent variable and one or more independent variables.\n",
    "        Focus: Provides a way to predict the value of the dependent variable based on the independent variables. It implies a causal relationship where the dependent variable is influenced by the independent variables.\n",
    "\n",
    "2. Output\n",
    "\n",
    "    Correlation:\n",
    "        Output: The correlation coefficient (e.g., Pearson’s rr, Spearman’s ρρ, Kendall’s ττ) quantifies the strength and direction of the relationship.\n",
    "        Range: Correlation coefficients typically range from -1 to +1.\n",
    "        Interpretation: A coefficient of +1 indicates a perfect positive linear relationship, -1 indicates a perfect negative linear relationship, and 0 indicates no linear relationship.\n",
    "\n",
    "    Regression:\n",
    "        Output: Provides an equation (e.g., y=β0+β1xy=β0​+β1​x for simple linear regression) that describes the relationship between variables.\n",
    "        Components: Includes coefficients (slopes) and intercepts that define the line or plane of best fit. Also provides additional statistics such as R-squared, p-values, and confidence intervals.\n",
    "        Interpretation: The coefficients indicate the change in the dependent variable for a one-unit change in an independent variable, holding other variables constant.\n",
    "\n",
    "3. Assumptions\n",
    "\n",
    "    Correlation:\n",
    "        Assumptions: Assumes linearity in the relationship between variables, but does not require assumptions about causality or the distribution of the variables.\n",
    "        Use: Suitable for exploring associations without specifying which variable is independent or dependent.\n",
    "\n",
    "    Regression:\n",
    "        Assumptions: Requires several assumptions such as linearity, independence, homoscedasticity (constant variance of errors), and normality of residuals (errors).\n",
    "        Use: Specifies which variable is the dependent (response) variable and which are the independent (predictor) variables. Assumes a causal relationship where changes in the independent variables are used to predict changes in the dependent variable.\n",
    "\n",
    "4. Directionality\n",
    "\n",
    "    Correlation:\n",
    "        Directionality: Does not imply directionality or causation. Correlation only indicates how two variables move together.\n",
    "        Symmetry: The correlation coefficient is symmetric; the correlation between XX and YY is the same as between YY and XX.\n",
    "\n",
    "    Regression:\n",
    "        Directionality: Implies directionality where the dependent variable is influenced by the independent variable(s). The relationship is directional, as regression predicts the value of the dependent variable based on the independent variable(s).\n",
    "        Asymmetry: The regression equation y=β0+β1xy=β0​+β1​x is not symmetric; the role of xx and yy is different, with xx being the predictor and yy being the response.\n",
    "\n",
    "Summary\n",
    "\n",
    "    Correlation measures the strength and direction of a relationship between two variables but does not imply causation or predict values.\n",
    "    Regression models the relationship to predict the value of a dependent variable based on one or more independent variables and assumes a causal direction.\n",
    "    Correlation provides a single coefficient to describe the relationship, while regression provides an equation and additional statistics to model the relationship.\n",
    "    Correlation does not imply directionality, whereas regression specifies which variable is dependent and which is independent.\n",
    "\n",
    "Understanding these differences is crucial for selecting the appropriate statistical method based on the objectives of the analysis.\n"
   ]
  },
  {
   "cell_type": "raw",
   "id": "6cbebb88-79a1-4dbe-ba72-4dce3fa097cc",
   "metadata": {},
   "source": [
    "Question.26. Find the most likely price at Dekhi corresponding to the price of Rs.70 at Agra from the following data:\n",
    "coeficient of correlation between the prices of the two places +0.8."
   ]
  },
  {
   "cell_type": "markdown",
   "id": "29fc77a9-d9e3-4ebe-9256-d341dfa99894",
   "metadata": {},
   "source": [
    "To determine the most likely price at Delhi corresponding to a price of Rs. 70 at Agra, we need additional information such as the means and standard deviations of prices at both locations. Given only the coefficient of correlation r=0.8r=0.8, we can't calculate the most likely price directly without these additional statistics.\n",
    "\n",
    "Let's assume the following hypothetical statistics for the prices at Agra and Delhi:\n",
    "\n",
    "    Mean price at Agra (μAμA​)\n",
    "    Standard deviation of prices at Agra (σAσA​)\n",
    "    Mean price at Delhi (μDμD​)\n",
    "    Standard deviation of prices at Delhi (σDσD​)\n",
    "\n",
    "Given these statistics, the regression line to predict the price at Delhi (YDYD​) based on the price at Agra (XAXA​) can be written as:\n",
    "YD=μD+r(σDσA)(XA−μA)YD​=μD​+r(σA​σD​​)(XA​−μA​)\n",
    "\n",
    "To proceed with the calculation, let's assume some typical values for these statistics. For example:\n",
    "\n",
    "    μA=60μA​=60\n",
    "    σA=10σA​=10\n",
    "    μD=65μD​=65\n",
    "    σD=15σD​=15\n",
    "\n",
    "Now, using the regression line formula, we can calculate the most likely price at Delhi corresponding to Rs. 70 at Agra:"
   ]
  },
  {
   "cell_type": "code",
   "execution_count": 5,
   "id": "542a33fa-489d-48d2-85d2-a411f07dabe6",
   "metadata": {},
   "outputs": [
    {
     "data": {
      "text/plain": [
       "77.0"
      ]
     },
     "execution_count": 5,
     "metadata": {},
     "output_type": "execute_result"
    }
   ],
   "source": [
    "# Given values\n",
    "r = 0.8  # coefficient of correlation\n",
    "mu_A = 60  # mean price at Agra\n",
    "sigma_A = 10  # standard deviation of prices at Agra\n",
    "mu_D = 65  # mean price at Delhi\n",
    "sigma_D = 15  # standard deviation of prices at Delhi\n",
    "X_A = 70  # price at Agra\n",
    "\n",
    "# Calculate the most likely price at Delhi\n",
    "Y_D = mu_D + r * (sigma_D / sigma_A) * (X_A - mu_A)\n",
    "Y_D\n"
   ]
  },
  {
   "cell_type": "markdown",
   "id": "aa41cdc3-95f3-49d5-8a86-c3fe21594409",
   "metadata": {},
   "source": [
    "Let's compute this in Python:"
   ]
  },
  {
   "cell_type": "code",
   "execution_count": 4,
   "id": "4db248be-908d-44f5-8bdc-e592ab8b0fac",
   "metadata": {},
   "outputs": [
    {
     "data": {
      "text/plain": [
       "77.0"
      ]
     },
     "execution_count": 4,
     "metadata": {},
     "output_type": "execute_result"
    }
   ],
   "source": [
    "# Given values\n",
    "r = 0.8  # coefficient of correlation\n",
    "mu_A = 60  # mean price at Agra\n",
    "sigma_A = 10  # standard deviation of prices at Agra\n",
    "mu_D = 65  # mean price at Delhi\n",
    "sigma_D = 15  # standard deviation of prices at Delhi\n",
    "X_A = 70  # price at Agra\n",
    "\n",
    "# Calculate the most likely price at Delhi\n",
    "Y_D = mu_D + r * (sigma_D / sigma_A) * (X_A - mu_A)\n",
    "Y_D\n"
   ]
  },
  {
   "cell_type": "markdown",
   "id": "82cc77b3-726b-4369-9e4d-3d1168c3b64c",
   "metadata": {},
   "source": [
    "Let's compute the result:"
   ]
  },
  {
   "cell_type": "code",
   "execution_count": 6,
   "id": "85d19a93-fbd9-43cd-adfd-79a125740a5b",
   "metadata": {},
   "outputs": [
    {
     "data": {
      "text/plain": [
       "77.0"
      ]
     },
     "execution_count": 6,
     "metadata": {},
     "output_type": "execute_result"
    }
   ],
   "source": [
    "# Calculate the most likely price at Delhi\n",
    "Y_D = mu_D + r * (sigma_D / sigma_A) * (X_A - mu_A)\n",
    "Y_D\n"
   ]
  },
  {
   "cell_type": "markdown",
   "id": "de8864a7-848a-472a-b91c-95b9ad6738d2",
   "metadata": {},
   "source": [
    "The value of YDYD​ will be:\n",
    "\n",
    "YD=65+0.8(1510)(70−60)YD​=65+0.8(1015​)(70−60)\n",
    "YD=65+0.8×1.5×10YD​=65+0.8×1.5×10\n",
    "YD=65+12YD​=65+12\n",
    "YD=77YD​=77\n",
    "\n",
    "So, the most likely price at Delhi corresponding to a price of Rs. 70 at Agra is Rs. 77, given the hypothetical statistics provided. For accurate results, you should use the actual means and standard deviations of the prices at Agra and Delhi."
   ]
  },
  {
   "cell_type": "raw",
   "id": "d40bb42d-7130-4a9d-b795-39c7c3e737dd",
   "metadata": {},
   "source": [
    "Question.27. In a partially destroyed laboratory record of an analysos of correlation data, the following results only are legible: Variances pf x = 9, Regression equation are: (i) 8x - 10y = -66; (ii) 40x - 18y = 214. What are (a) teh mean valuess of x andy, (b) the coefficient o fcorrelation between x and y, (c) the x qand y."
   ]
  },
  {
   "cell_type": "markdown",
   "id": "b81993f2-4f75-445c-8a20-abcd0b4f5076",
   "metadata": {},
   "source": [
    "Given the provided information, we can extract various pieces of data to find the required values.\n",
    "Step-by-Step Approach:\n",
    "\n",
    "    Extract the Regression Equations:\n",
    "        Equation 1: 8x−10y=−668x−10y=−66\n",
    "        Equation 2: 40x−18y=21440x−18y=214\n",
    "\n",
    "    Find the Means of x and y:\n",
    "    To find the mean values of xx and yy, we need to solve these two equations simultaneously.\n",
    "\n",
    "    Calculate the Coefficient of Correlation:\n",
    "    Use the given variances and the slopes of the regression lines.\n",
    "\n",
    "Step 1: Find the Mean Values of x and y\n",
    "\n",
    "First, let's solve the simultaneous equations to find the means of xx and yy.\n",
    "\n",
    "From the equations:\n",
    "8x - 10y = -66 \\tag{1}\n",
    "40x - 18y = 214 \\tag{2}\n",
    "\n",
    "Let's simplify equation (2) by dividing it by 2:\n",
    "20x - 9y = 107 \\tag{3}\n",
    "\n",
    "Now we have:\n",
    "8x - 10y = -66 \\tag{1}\n",
    "20x - 9y = 107 \\tag{3}\n",
    "\n",
    "Multiply equation (1) by 2.5 to make the coefficients of xx the same:\n",
    "20x - 25y = -165 \\tag{4}\n",
    "\n",
    "Now, subtract equation (3) from equation (4):\n",
    "(20x−25y)−(20x−9y)=−165−107(20x−25y)−(20x−9y)=−165−107\n",
    "−25y+9y=−272−25y+9y=−272\n",
    "−16y=−272−16y=−272\n",
    "y=27216y=16272​\n",
    "y=17y=17\n",
    "\n",
    "Substitute y=17y=17 back into equation (1):\n",
    "8x−10(17)=−668x−10(17)=−66\n",
    "8x−170=−668x−170=−66\n",
    "8x=1048x=104\n",
    "x=1048x=8104​\n",
    "x=13x=13\n",
    "\n",
    "So, the mean values are:\n",
    "\n",
    "    Mean of xx (μxμx​) = 13\n",
    "    Mean of yy (μyμy​) = 17\n",
    "\n",
    "Step 2: Calculate the Coefficient of Correlation\n",
    "\n",
    "We know the variances and the regression equations. The variance of xx is given as 9.\n",
    "\n",
    "The slopes of the regression equations are:\n",
    "\n",
    "    For 8x−10y=−668x−10y=−66:\n",
    "    dydx=810=0.8dxdy​=108​=0.8\n",
    "\n",
    "    For 40x−18y=21440x−18y=214:\n",
    "    dydx=4018≈2.222dxdy​=1840​≈2.222\n",
    "\n",
    "The coefficient of correlation rr is the geometric mean of the slopes of the regression lines:\n",
    "byx=0.8byx​=0.8\n",
    "bxy=12.222≈0.45bxy​=2.2221​≈0.45\n",
    "\n",
    "Now, the coefficient of correlation rr:\n",
    "r=byx⋅bxyr=byx​⋅bxy​\n",
    "​\n",
    "r=0.8⋅0.45r=0.8⋅0.45\n",
    "​\n",
    "r=0.36r=0.36\n",
    "\n",
    "​\n",
    "r=0.6r=0.6\n",
    "Step 3: Calculate the Standard Deviations of x and y\n",
    "\n",
    "Given:\n",
    "\n",
    "    Variance of xx = 9\n",
    "    Standard deviation of xx (σxσx​) = 9=39\n",
    "\n",
    "    ​=3\n",
    "\n",
    "Using the regression coefficient:\n",
    "byx=r⋅(σyσx)byx​=r⋅(σx​σy​​)\n",
    "0.8=0.6⋅(σy3)0.8=0.6⋅(3σy​​)\n",
    "σy3=0.80.63σy​​=0.60.8​\n",
    "σy=3⋅0.80.6σy​=3⋅0.60.8​\n",
    "σy=3⋅43σy​=3⋅34​\n",
    "σy=4σy​=4\n",
    "\n",
    "Thus, the variance of yy (σy2σy2​) is:\n",
    "σy2=16σy2​=16\n",
    "Summary of Results:\n",
    "\n",
    "(a) The mean values:\n",
    "\n",
    "    Mean of xx (μxμx​) = 13\n",
    "    Mean of yy (μyμy​) = 17\n",
    "\n",
    "(b) The coefficient of correlation between xx and yy:\n",
    "r=0.6r=0.6\n",
    "\n",
    "(c) The standard deviations:\n",
    "\n",
    "    Standard deviation of xx (σxσx​) = 3\n",
    "    Standard deviation of yy (σyσy​) = 4\n",
    "\n"
   ]
  },
  {
   "cell_type": "raw",
   "id": "91d08640-1587-4c17-95df-05d1897e5b84",
   "metadata": {},
   "source": [
    "Question.28. What is Normal Distribution? What are the four Assumption of Normol Distributuion? Explain in detail."
   ]
  },
  {
   "cell_type": "markdown",
   "id": "cf80771a-c4f5-4821-a8a0-5d54b8fbdfd5",
   "metadata": {},
   "source": [
    "Normal Distribution\n",
    "\n",
    "The normal distribution, also known as the Gaussian distribution, is a continuous probability distribution characterized by its bell-shaped curve. This distribution is defined by two parameters: the mean (μμ) and the standard deviation (σσ). The mean determines the center of the distribution, while the standard deviation controls the spread of the distribution.\n",
    "Key Characteristics of Normal Distribution:\n",
    "\n",
    "    Symmetry: The distribution is symmetric about its mean, μμ. This means that the left and right halves of the distribution are mirror images of each other.\n",
    "    Bell-shaped Curve: The highest point of the curve corresponds to the mean. As you move away from the mean, the probability decreases.\n",
    "    Mean, Median, and Mode: For a perfectly normal distribution, the mean, median, and mode are all equal and located at the center of the distribution.\n",
    "    Asymptotic: The tails of the distribution approach, but never actually touch, the horizontal axis.\n",
    "    Empirical Rule: Approximately 68% of the data falls within one standard deviation (μ±σμ±σ), 95% within two standard deviations (μ±2σμ±2σ), and 99.7% within three standard deviations (μ±3σμ±3σ).\n",
    "\n",
    "The probability density function (PDF) of the normal distribution is given by:\n",
    "\n",
    "f(x)=1σ2πe−(x−μ)22σ2f(x)=σ2π\n",
    "\n",
    "​1​e−2σ2(x−μ)2​\n",
    "Four Assumptions of Normal Distribution\n",
    "\n",
    "For a dataset to be considered normally distributed, the following assumptions must generally be satisfied:\n",
    "\n",
    "    Linearity: The relationship between the variables should be linear. This means that a straight line can best describe the relationship between the independent and dependent variables.\n",
    "\n",
    "    Independence: Observations should be independent of each other. This means that the value of one observation should not be influenced by the value of another observation.\n",
    "\n",
    "    Homoscedasticity: Also known as homogeneity of variance, this assumption means that the variance of errors (residuals) is constant across all levels of the independent variable(s). Essentially, the spread of the residuals should be the same across the predicted values.\n",
    "\n",
    "    Normality: The residuals (differences between observed and predicted values) should be normally distributed. This can be assessed using graphical methods such as Q-Q plots or statistical tests such as the Shapiro-Wilk test.\n",
    "\n",
    "Detailed Explanation of the Assumptions:\n",
    "1. Linearity\n",
    "\n",
    "    Description: This assumption states that the relationship between the independent and dependent variables should be linear. Non-linear relationships can lead to misleading results in regression analysis.\n",
    "    Verification: Plotting the data and looking for a linear pattern or using correlation coefficients to measure the strength and direction of the linear relationship.\n",
    "\n",
    "2. Independence\n",
    "\n",
    "    Description: The observations in the dataset should be independent of each other. This is crucial in time series data and repeated measures.\n",
    "    Verification: This can be checked using the Durbin-Watson statistic for autocorrelation in the residuals, particularly in time series data.\n",
    "\n",
    "3. Homoscedasticity\n",
    "\n",
    "    Description: This assumption implies that the variability of the residuals should be roughly constant across all levels of the independent variable. If the spread of residuals increases or decreases with the independent variable, the assumption is violated.\n",
    "    Verification: Visual inspection of residual plots (plots of residuals versus predicted values) can help check this assumption. A random scatter of points suggests homoscedasticity, while patterns (such as funnel shapes) suggest heteroscedasticity.\n",
    "\n",
    "4. Normality\n",
    "\n",
    "    Description: The residuals of the model should be normally distributed. This is important for hypothesis testing and confidence interval estimation.\n",
    "    Verification: This can be assessed using graphical methods like Q-Q plots, histograms of residuals, or statistical tests such as the Shapiro-Wilk test, Kolmogorov-Smirnov test, or Anderson-Darling test.\n",
    "\n",
    "Why These Assumptions Matter:\n",
    "\n",
    "    Linearity: Ensures that the model correctly captures the relationship between the variables.\n",
    "    Independence: Avoids issues of autocorrelation which can lead to underestimated standard errors and overconfident predictions.\n",
    "    Homoscedasticity: Ensures that the model's predictions are equally reliable across all values of the independent variable.\n",
    "    Normality: Allows for the application of parametric statistical tests and ensures accurate estimation of confidence intervals and significance tests.\n",
    "\n",
    "When these assumptions are violated, the results of the statistical analyses may be unreliable, and alternative methods or transformations may be necessary to properly analyze the data."
   ]
  },
  {
   "cell_type": "raw",
   "id": "ae12b2ae-8556-4c01-9fa0-fdb713394949",
   "metadata": {},
   "source": [
    "Question.29. Write all the characteristics or Properties of the Normal Distibuttion Curve."
   ]
  },
  {
   "cell_type": "markdown",
   "id": "6270d77f-cdc9-45a1-9928-21f9059850ab",
   "metadata": {},
   "source": [
    "The normal distribution, also known as the Gaussian distribution, has several important characteristics or properties that define its behavior and shape. Here are the key properties of the normal distribution curve:\n",
    "1. Symmetry\n",
    "\n",
    "    Description: The normal distribution curve is symmetric about its mean. This means that the left and right halves of the curve are mirror images of each other.\n",
    "    Implication: The mean, median, and mode of a normal distribution are all equal and located at the center of the distribution.\n",
    "\n",
    "2. Bell-Shaped Curve\n",
    "\n",
    "    Description: The normal distribution has a bell-shaped curve that is highest at the mean and tapers off as you move away from the center.\n",
    "    Implication: Most of the data points lie close to the mean, and fewer points are found as you move further from the mean.\n",
    "\n",
    "3. Mean, Median, and Mode\n",
    "\n",
    "    Description: For a perfectly normal distribution, the mean, median, and mode are identical and located at the peak of the curve.\n",
    "    Implication: This central point is where the data is most densely packed.\n",
    "\n",
    "4. Asymptotic\n",
    "\n",
    "    Description: The tails of the normal distribution curve approach, but never touch, the horizontal axis.\n",
    "    Implication: The probability of observing extreme values never actually reaches zero, though it becomes increasingly small as you move further from the mean.\n",
    "\n",
    "5. Empirical Rule (68-95-99.7 Rule)\n",
    "\n",
    "    Description: The normal distribution follows the empirical rule, which states:\n",
    "        Approximately 68% of the data falls within one standard deviation (μ±σμ±σ) of the mean.\n",
    "        Approximately 95% of the data falls within two standard deviations (μ±2σμ±2σ) of the mean.\n",
    "        Approximately 99.7% of the data falls within three standard deviations (μ±3σμ±3σ) of the mean.\n",
    "    Implication: This rule helps in understanding the spread and concentration of data around the mean.\n",
    "\n",
    "6. Defined by Mean and Standard Deviation\n",
    "\n",
    "    Description: The shape and position of the normal distribution curve are determined entirely by the mean (μμ) and standard deviation (σσ).\n",
    "        The mean determines the location of the center of the distribution.\n",
    "        The standard deviation determines the spread or width of the distribution.\n",
    "    Implication: Knowing the mean and standard deviation is sufficient to describe the entire distribution.\n",
    "\n",
    "7. Total Area Under the Curve\n",
    "\n",
    "    Description: The total area under the normal distribution curve is equal to 1.\n",
    "    Implication: This represents the total probability of all possible outcomes, ensuring that the distribution is a valid probability distribution.\n",
    "\n",
    "8. Unimodal\n",
    "\n",
    "    Description: The normal distribution has a single peak (mode) at the mean.\n",
    "    Implication: There is one value around which the data is most concentrated.\n",
    "\n",
    "9. No Skewness\n",
    "\n",
    "    Description: The skewness of a normal distribution is zero, indicating perfect symmetry.\n",
    "    Implication: The tails on either side of the mean are identical in shape and size.\n",
    "\n",
    "10. Mesokurtic\n",
    "\n",
    "    Description: The normal distribution has a kurtosis of 3, which is the benchmark for the \"peakedness\" of a distribution.\n",
    "    Implication: Compared to other distributions, the normal distribution is neither too peaked nor too flat, but has a moderate peak and moderate tails.\n",
    "\n",
    "11. Inflection Points\n",
    "\n",
    "    Description: The points at which the curvature of the normal distribution curve changes direction are called inflection points. These occur at one standard deviation away from the mean (μ±σμ±σ).\n",
    "    Implication: The rate of change of the slope of the curve is maximum at these points.\n",
    "\n",
    "12. Standard Normal Distribution\n",
    "\n",
    "    Description: A special case of the normal distribution is the standard normal distribution, which has a mean of 0 and a standard deviation of 1.\n",
    "    Implication: Any normal distribution can be transformed into the standard normal distribution using the z-score formula: z=(X−μ)σz=σ(X−μ)​.\n",
    "\n",
    "Understanding these properties helps in recognizing the normal distribution in data and applying appropriate statistical methods and tests."
   ]
  },
  {
   "cell_type": "raw",
   "id": "f91a48b7-2295-444d-ba6e-c3b838331856",
   "metadata": {},
   "source": [
    "Question.31. The mean of a distribution is 60 with a standard deviation of 10. Assuming that the distribution is normal, what percentage of item be (i) between 60 and 72, (ii) between 50 and 60, (iii) beyond 72 and (iv) between 70 and 80?"
   ]
  },
  {
   "cell_type": "markdown",
   "id": "32135862-6f2e-4fa3-bda1-36ee005f6b45",
   "metadata": {},
   "source": [
    "To solve these problems, we'll use the properties of the normal distribution and the standard normal distribution (z-scores). The z-score formula is:\n",
    "\n",
    "z=(X−μ)σz=σ(X−μ)​\n",
    "\n",
    "where XX is the value, μμ is the mean, and σσ is the standard deviation.\n",
    "\n",
    "Given:\n",
    "\n",
    "    Mean (μμ) = 60\n",
    "    Standard deviation (σσ) = 10\n",
    "\n",
    "(i) Percentage of items between 60 and 72\n",
    "\n",
    "    Calculate the z-scores:\n",
    "    z60=60−6010=0\n",
    "    z60​=1060−60​=0\n",
    "    z72=72−6010=1.2\n",
    "    z72​=1072−60​=1.2\n",
    "\n",
    "    Use the standard normal distribution table or a calculator to find the probabilities:\n",
    "    P(z=0)=0.5\n",
    "    P(z=0)=0.5\n",
    "    P(z=1.2)≈0.8849\n",
    "    P(z=1.2)≈0.8849\n",
    "\n",
    "    Find the percentage between 60 and 72:\n",
    "    P(60<X<72)=P(z=1.2)−P(z=0)=0.8849−0.5=0.3849\n",
    "    P(60<X<72)=P(z=1.2)−P(z=0)=0.8849−0.5=0.3849\n",
    "    Percentage=0.3849×100=38.49%\n",
    "    Percentage=0.3849×100=38.49%\n",
    "\n",
    "(ii) Percentage of items between 50 and 60\n",
    "\n",
    "    Calculate the z-scores:\n",
    "    z50=50−6010=−1\n",
    "    z50​=1050−60​=−1\n",
    "    z60=60−6010=0\n",
    "    z60​=1060−60​=0\n",
    "\n",
    "    Use the standard normal distribution table or a calculator to find the probabilities:\n",
    "    P(z=−1)≈0.1587\n",
    "    P(z=−1)≈0.1587\n",
    "    P(z=0)=0.5\n",
    "    P(z=0)=0.5\n",
    "\n",
    "    Find the percentage between 50 and 60:\n",
    "    P(50<X<60)=P(z=0)−P(z=−1)=0.5−0.1587=0.3413\n",
    "    P(50<X<60)=P(z=0)−P(z=−1)=0.5−0.1587=0.3413\n",
    "    Percentage=0.3413×100=34.13%\n",
    "    Percentage=0.3413×100=34.13%\n",
    "\n",
    "(iii) Percentage of items beyond 72\n",
    "\n",
    "    Calculate the z-score:\n",
    "    z72=72−6010=1.2\n",
    "    z72​=1072−60​=1.2\n",
    "\n",
    "    Use the standard normal distribution table or a calculator to find the probability:\n",
    "    P(z>1.2)=1−P(z=1.2)=1−0.8849=0.1151\n",
    "    P(z>1.2)=1−P(z=1.2)=1−0.8849=0.1151\n",
    "\n",
    "    Find the percentage beyond 72:\n",
    "    Percentage=0.1151×100=11.51%\n",
    "    Percentage=0.1151×100=11.51%\n",
    "\n",
    "(iv) Percentage of items between 70 and 80\n",
    "\n",
    "    Calculate the z-scores:\n",
    "    z70=70−6010=1\n",
    "    z70​=1070−60​=1\n",
    "    z80=80−6010=2\n",
    "    z80​=1080−60​=2\n",
    "\n",
    "    Use the standard normal distribution table or a calculator to find the probabilities:\n",
    "    P(z=1)≈0.8413\n",
    "    P(z=1)≈0.8413\n",
    "    P(z=2)≈0.9772\n",
    "    P(z=2)≈0.9772\n",
    "\n",
    "    Find the percentage between 70 and 80:\n",
    "    P(70<X<80)=P(z=2)−P(z=1)=0.9772−0.8413=0.1359\n",
    "    P(70<X<80)=P(z=2)−P(z=1)=0.9772−0.8413=0.1359\n",
    "    Percentage=0.1359×100=13.59%\n",
    "    Percentage=0.1359×100=13.59%\n",
    "\n",
    "Summary of Percentages:\n",
    "\n",
    "    Between 60 and 72: 38.49%\n",
    "    Between 50 and 60: 34.13%\n",
    "    Beyond 72: 11.51%\n",
    "    Between 70 and 80: 13.59%\n",
    "\n"
   ]
  },
  {
   "cell_type": "raw",
   "id": "ae5169b1-2e88-4a63-bc23-9362311b5180",
   "metadata": {},
   "source": [
    "Question.32. 15000 students sat for an examination. The mean marks waas 49 and the distribution of marks had a standard deviation of 6. Assuming that the marks were normally distributed what proportion of students scored (a) more than 55 marks, (b) more than 70 marks"
   ]
  },
  {
   "cell_type": "markdown",
   "id": "f04c65c6-04d5-4269-8c45-168f12f832ae",
   "metadata": {},
   "source": [
    "Given that the marks are normally distributed with a mean (μμ) of 49 and a standard deviation (σσ) of 6, we can find the proportions of students who scored more than 55 marks and more than 70 marks by calculating the corresponding z-scores and using the standard normal distribution.\n",
    "\n",
    "    Proportion of students scoring more than 55 marks:\n",
    "\n",
    "        Calculate the z-score for 55 marks:\n",
    "        z=X−μσ=55−496=66=1\n",
    "        z=σX−μ​=655−49​=66​=1\n",
    "\n",
    "        Look up the z-score of 1 in the standard normal distribution table (or use a calculator). The cumulative probability for z=1z=1 is approximately 0.8413.\n",
    "\n",
    "        The proportion of students scoring more than 55 marks is:\n",
    "        P(X>55)=1−P(Z≤1)=1−0.8413=0.1587\n",
    "        P(X>55)=1−P(Z≤1)=1−0.8413=0.1587\n",
    "\n",
    "    Proportion of students scoring more than 70 marks:\n",
    "\n",
    "        Calculate the z-score for 70 marks:\n",
    "        z=X−μσ=70−496=216=3.5\n",
    "        z=σX−μ​=670−49​=621​=3.5\n",
    "\n",
    "        Look up the z-score of 3.5 in the standard normal distribution table (or use a calculator). The cumulative probability for z=3.5z=3.5 is approximately 0.9997.\n",
    "\n",
    "        The proportion of students scoring more than 70 marks is:\n",
    "        P(X>70)=1−P(Z≤3.5)=1−0.9997=0.0003\n",
    "        P(X>70)=1−P(Z≤3.5)=1−0.9997=0.0003\n",
    "\n",
    "Therefore:\n",
    "\n",
    "(a) The proportion of students who scored more than 55 marks is approximately 0.1587 (or 15.87%).\n",
    "\n",
    "(b) The proportion of students who scored more than 70 marks is approximately 0.0003 (or 0.03%)."
   ]
  },
  {
   "cell_type": "raw",
   "id": "3699eccf-0ac5-42d5-ab1f-4785d65c946a",
   "metadata": {},
   "source": [
    "Question.33. If the height of 500 students are normally distributed with mean 65 inch and standard deviation 5 inch. How many students have height: a) greater than 70 inch. b) between 60 and 70 inch."
   ]
  },
  {
   "cell_type": "markdown",
   "id": "a0c3df69-e871-4545-8bb2-dca60a8a0d70",
   "metadata": {},
   "source": [
    "Given that the heights of 500 students are normally distributed with a mean (μμ) of 65 inches and a standard deviation (σσ) of 5 inches, we can determine the number of students with heights greater than 70 inches and between 60 and 70 inches.\n",
    "\n",
    "    Number of students with height greater than 70 inches:\n",
    "\n",
    "        Calculate the z-score for 70 inches:\n",
    "        z=X−μσ=70−655=55=1\n",
    "        z=σX−μ​=570−65​=55​=1\n",
    "\n",
    "        Look up the cumulative probability for z=1z=1 in the standard normal distribution table (or use a calculator). The cumulative probability for z=1z=1 is approximately 0.8413.\n",
    "\n",
    "        The proportion of students with height greater than 70 inches is:\n",
    "        P(X>70)=1−P(Z≤1)=1−0.8413=0.1587\n",
    "        P(X>70)=1−P(Z≤1)=1−0.8413=0.1587\n",
    "\n",
    "        The number of students with height greater than 70 inches is:\n",
    "        0.1587×500=79.35≈79 students\n",
    "        0.1587×500=79.35≈79 students\n",
    "\n",
    "    Number of students with height between 60 and 70 inches:\n",
    "\n",
    "        Calculate the z-score for 60 inches:\n",
    "        z=X−μσ=60−655=−55=−1\n",
    "        z=σX−μ​=560−65​=5−5​=−1\n",
    "\n",
    "        Calculate the z-score for 70 inches (already calculated above as z=1z=1).\n",
    "\n",
    "        Look up the cumulative probability for z=−1z=−1 in the standard normal distribution table. The cumulative probability for z=−1z=−1 is approximately 0.1587.\n",
    "\n",
    "        The cumulative probability for z=1z=1 is approximately 0.8413.\n",
    "\n",
    "        The proportion of students with height between 60 and 70 inches is:\n",
    "        P(60<X<70)=P(Z≤1)−P(Z≤−1)=0.8413−0.1587=0.6826\n",
    "        P(60<X<70)=P(Z≤1)−P(Z≤−1)=0.8413−0.1587=0.6826\n",
    "\n",
    "        The number of students with height between 60 and 70 inches is:\n",
    "        0.6826×500=341.3≈341 students\n",
    "        0.6826×500=341.3≈341 students\n",
    "\n",
    "Therefore:\n",
    "\n",
    "(a) The number of students with height greater than 70 inches is approximately 79.\n",
    "\n",
    "(b) The number of students with height between 60 and 70 inches is approximately 341."
   ]
  },
  {
   "cell_type": "raw",
   "id": "de7e1e66-a9dd-4f9a-b194-df6ab349c0eb",
   "metadata": {},
   "source": [
    "Question.34.What is the statistical hypothesis? Explain the errors in hypothesis testing. b) Explain the Sample. What are Large Samples & Small Samples?"
   ]
  },
  {
   "cell_type": "markdown",
   "id": "c3ca83f7-486b-4066-922b-76893b5d37d6",
   "metadata": {},
   "source": [
    "Statistical Hypothesis\n",
    "\n",
    "A statistical hypothesis is a conjecture about a population parameter, which can be tested using statistical methods. There are two types of hypotheses in hypothesis testing:\n",
    "\n",
    "    Null Hypothesis (H0H0​): This is a statement that there is no effect or no difference, and it serves as the default or starting assumption. It usually represents the status quo or a statement to be tested for possible rejection.\n",
    "\n",
    "    Alternative Hypothesis (H1H1​ or HaHa​): This is a statement that contradicts the null hypothesis. It represents the outcome that the researcher is interested in proving.\n",
    "\n",
    "Errors in Hypothesis Testing\n",
    "\n",
    "In hypothesis testing, two types of errors can occur:\n",
    "\n",
    "    Type I Error (False Positive): This occurs when the null hypothesis is rejected when it is actually true. The probability of making a Type I error is denoted by αα, which is also known as the significance level of the test. For example, if α=0.05α=0.05, there is a 5% chance of rejecting the null hypothesis when it is true.\n",
    "\n",
    "    Type II Error (False Negative): This occurs when the null hypothesis is not rejected when it is actually false. The probability of making a Type II error is denoted by ββ. The power of a test, which is 1−β1−β, is the probability of correctly rejecting the null hypothesis when it is false.\n",
    "\n",
    "Sample\n",
    "\n",
    "A sample is a subset of individuals or observations selected from a larger population. The sample should be representative of the population to make valid inferences about the population parameters.\n",
    "Large Samples vs. Small Samples\n",
    "\n",
    "    Large Samples:\n",
    "        Typically, a sample size of 30 or more is considered large.\n",
    "        Large samples tend to approximate the normal distribution due to the Central Limit Theorem, which states that the distribution of the sample mean will be approximately normal if the sample size is sufficiently large, regardless of the population distribution.\n",
    "        Statistical tests for large samples are usually more powerful and reliable.\n",
    "\n",
    "    Small Samples:\n",
    "        A sample size of less than 30 is considered small.\n",
    "        For small samples, the t-distribution is often used instead of the normal distribution when performing hypothesis tests or constructing confidence intervals, especially when the population standard deviation is unknown.\n",
    "        Small sample tests require more stringent assumptions and are generally less robust than large sample tests. Special care must be taken to ensure the sample is representative and the data meets the assumptions of the statistical tests used.\n",
    "\n",
    "In summary, a statistical hypothesis is a statement about a population parameter that is tested using sample data. Errors in hypothesis testing include Type I and Type II errors, with the former being a false positive and the latter a false negative. Samples are subsets of populations, with large samples generally providing more reliable results than small samples due to the central limit theorem and reduced variability."
   ]
  },
  {
   "cell_type": "raw",
   "id": "f1fc88dc-f4e1-48d0-a2d1-0597a47aef65",
   "metadata": {},
   "source": [
    "Question.35. A random sample of size 25 from a population gives the sample standard derivation to be 9.0. Test the hypothesis that the population standard derivation is 10.5."
   ]
  },
  {
   "cell_type": "markdown",
   "id": "3800d727-72a4-4cb0-bcd6-0343cdac3e52",
   "metadata": {},
   "source": [
    "To test the hypothesis that the population standard deviation is 10.5 using a random sample of size 25 with a sample standard deviation of 9.0, we use the chi-square (χ2χ2) test for the population variance. Here's the step-by-step process:\n",
    "Hypotheses\n",
    "\n",
    "    Null Hypothesis (H0H0​): The population standard deviation σ=10.5σ=10.5.\n",
    "    Alternative Hypothesis (H1H1​): The population standard deviation σ≠10.5σ=10.5.\n",
    "\n",
    "Test Statistic\n",
    "\n",
    "The test statistic for the chi-square test of a single variance is given by:\n",
    "χ2=(n−1)s2σ02\n",
    "χ2=σ02​(n−1)s2​\n",
    "\n",
    "where:\n",
    "\n",
    "    nn is the sample size,\n",
    "    ss is the sample standard deviation,\n",
    "    σ0σ0​ is the hypothesized population standard deviation.\n",
    "\n",
    "Calculations\n",
    "\n",
    "Given:\n",
    "\n",
    "    Sample size n=25n=25,\n",
    "    Sample standard deviation s=9.0s=9.0,\n",
    "    Hypothesized population standard deviation σ0=10.5σ0​=10.5.\n",
    "\n",
    "First, compute the sample variance s2s2:\n",
    "s2=9.02=81\n",
    "s2=9.02=81\n",
    "\n",
    "Next, compute the test statistic χ2χ2:\n",
    "χ2=(25−1)×8110.52=24×81110.25=1944110.25≈17.63\n",
    "χ2=10.52(25−1)×81​=110.2524×81​=110.251944​≈17.63\n",
    "Degrees of Freedom\n",
    "\n",
    "The degrees of freedom for this test are df=n−1=25−1=24df=n−1=25−1=24.\n",
    "Critical Values and Decision Rule\n",
    "\n",
    "To determine the critical values, we need the chi-square distribution table or a chi-square calculator for df=24df=24 and a chosen significance level (αα). Common choices for αα are 0.05 or 0.01.\n",
    "\n",
    "For α=0.05α=0.05:\n",
    "\n",
    "    The critical value for the upper tail (χ0.9752χ0.9752​) with df=24df=24 is approximately 39.364.\n",
    "    The critical value for the lower tail (χ0.0252χ0.0252​) with df=24df=24 is approximately 12.401.\n",
    "\n",
    "Decision Rule\n",
    "\n",
    "    If χ2<χ0.0252χ2<χ0.0252​ or χ2>χ0.9752χ2>χ0.9752​, we reject the null hypothesis H0H0​.\n",
    "    Otherwise, we fail to reject H0H0​.\n",
    "\n",
    "Conclusion\n",
    "\n",
    "Comparing the computed test statistic χ2=17.63χ2=17.63 to the critical values:\n",
    "\n",
    "    12.401<17.63<39.36412.401<17.63<39.364\n",
    "\n",
    "Since the test statistic lies between the critical values, we fail to reject the null hypothesis.\n",
    "Interpretation\n",
    "\n",
    "At the 0.05 significance level, there is not enough evidence to reject the hypothesis that the population standard deviation is 10.5. Therefore, we conclude that the sample does not provide sufficient evidence to suggest that the population standard deviation is different from 10.5.\n"
   ]
  },
  {
   "cell_type": "raw",
   "id": "65719f1d-fc7b-46a7-8c9c-6fcdfd510565",
   "metadata": {},
   "source": [
    "Question.39. How would you create a basic Flask rout that displays \"Hello, World!\"on the homepage?\n"
   ]
  },
  {
   "cell_type": "markdown",
   "id": "bd3f7d08-2548-4f35-8681-a034c4ff34fb",
   "metadata": {},
   "source": [
    "To create a basic Flask route that displays \"Hello, World!\" on the homepage, follow these steps:\n",
    "1. Install Flask\n",
    "\n",
    "If you haven't installed Flask yet, you can do so using pip:"
   ]
  },
  {
   "cell_type": "code",
   "execution_count": 8,
   "id": "51215a49-9f6f-4b05-b40c-1a60a63c0e9f",
   "metadata": {},
   "outputs": [
    {
     "name": "stdout",
     "output_type": "stream",
     "text": [
      "Collecting Flask\n",
      "  Downloading flask-3.0.3-py3-none-any.whl (101 kB)\n",
      "\u001b[2K     \u001b[90m━━━━━━━━━━━━━━━━━━━━━━━━━━━━━━━━━━━━━━━\u001b[0m \u001b[32m101.7/101.7 kB\u001b[0m \u001b[31m3.9 MB/s\u001b[0m eta \u001b[36m0:00:00\u001b[0m\n",
      "\u001b[?25hRequirement already satisfied: click>=8.1.3 in /opt/conda/lib/python3.10/site-packages (from Flask) (8.1.3)\n",
      "Requirement already satisfied: Jinja2>=3.1.2 in /opt/conda/lib/python3.10/site-packages (from Flask) (3.1.2)\n",
      "Collecting Werkzeug>=3.0.0\n",
      "  Downloading werkzeug-3.0.3-py3-none-any.whl (227 kB)\n",
      "\u001b[2K     \u001b[90m━━━━━━━━━━━━━━━━━━━━━━━━━━━━━━━━━━━━━━\u001b[0m \u001b[32m227.3/227.3 kB\u001b[0m \u001b[31m20.3 MB/s\u001b[0m eta \u001b[36m0:00:00\u001b[0m\n",
      "\u001b[?25hCollecting blinker>=1.6.2\n",
      "  Downloading blinker-1.8.2-py3-none-any.whl (9.5 kB)\n",
      "Collecting itsdangerous>=2.1.2\n",
      "  Downloading itsdangerous-2.2.0-py3-none-any.whl (16 kB)\n",
      "Requirement already satisfied: MarkupSafe>=2.0 in /opt/conda/lib/python3.10/site-packages (from Jinja2>=3.1.2->Flask) (2.1.1)\n",
      "Installing collected packages: Werkzeug, itsdangerous, blinker, Flask\n",
      "  Attempting uninstall: blinker\n",
      "    Found existing installation: blinker 1.5\n",
      "    Uninstalling blinker-1.5:\n",
      "      Successfully uninstalled blinker-1.5\n",
      "Successfully installed Flask-3.0.3 Werkzeug-3.0.3 blinker-1.8.2 itsdangerous-2.2.0\n",
      "Note: you may need to restart the kernel to use updated packages.\n"
     ]
    }
   ],
   "source": [
    "pip install Flask\n"
   ]
  },
  {
   "cell_type": "markdown",
   "id": "b534ad34-19f1-4106-b5c2-dde6da56e722",
   "metadata": {},
   "source": [
    "2. Create a Flask Application\n",
    "\n",
    "Create a Python file for your Flask application, for example, app.py. Inside this file, write the following code:"
   ]
  },
  {
   "cell_type": "code",
   "execution_count": 9,
   "id": "77afe8d5-2542-499f-9ad3-3a9b4f501cdb",
   "metadata": {},
   "outputs": [
    {
     "name": "stdout",
     "output_type": "stream",
     "text": [
      " * Serving Flask app '__main__'\n",
      " * Debug mode: on\n"
     ]
    },
    {
     "name": "stderr",
     "output_type": "stream",
     "text": [
      "WARNING: This is a development server. Do not use it in a production deployment. Use a production WSGI server instead.\n",
      " * Running on http://127.0.0.1:5000\n",
      "Press CTRL+C to quit\n",
      " * Restarting with stat\n",
      "Traceback (most recent call last):\n",
      "  File \"/opt/conda/lib/python3.10/runpy.py\", line 196, in _run_module_as_main\n",
      "    return _run_code(code, main_globals, None,\n",
      "  File \"/opt/conda/lib/python3.10/runpy.py\", line 86, in _run_code\n",
      "    exec(code, run_globals)\n",
      "  File \"/opt/conda/lib/python3.10/site-packages/ipykernel_launcher.py\", line 17, in <module>\n",
      "    app.launch_new_instance()\n",
      "  File \"/opt/conda/lib/python3.10/site-packages/traitlets/config/application.py\", line 991, in launch_instance\n",
      "    app.initialize(argv)\n",
      "  File \"/opt/conda/lib/python3.10/site-packages/traitlets/config/application.py\", line 113, in inner\n",
      "    return method(app, *args, **kwargs)\n",
      "  File \"/opt/conda/lib/python3.10/site-packages/ipykernel/kernelapp.py\", line 665, in initialize\n",
      "    self.init_sockets()\n",
      "  File \"/opt/conda/lib/python3.10/site-packages/ipykernel/kernelapp.py\", line 309, in init_sockets\n",
      "    self.shell_port = self._bind_socket(self.shell_socket, self.shell_port)\n",
      "  File \"/opt/conda/lib/python3.10/site-packages/ipykernel/kernelapp.py\", line 246, in _bind_socket\n",
      "    return self._try_bind_socket(s, port)\n",
      "  File \"/opt/conda/lib/python3.10/site-packages/ipykernel/kernelapp.py\", line 222, in _try_bind_socket\n",
      "    s.bind(\"tcp://%s:%i\" % (self.ip, port))\n",
      "  File \"/opt/conda/lib/python3.10/site-packages/zmq/sugar/socket.py\", line 232, in bind\n",
      "    super().bind(addr)\n",
      "  File \"zmq/backend/cython/socket.pyx\", line 568, in zmq.backend.cython.socket.Socket.bind\n",
      "  File \"zmq/backend/cython/checkrc.pxd\", line 28, in zmq.backend.cython.checkrc._check_rc\n",
      "zmq.error.ZMQError: Address already in use\n"
     ]
    },
    {
     "ename": "SystemExit",
     "evalue": "1",
     "output_type": "error",
     "traceback": [
      "An exception has occurred, use %tb to see the full traceback.\n",
      "\u001b[0;31mSystemExit\u001b[0m\u001b[0;31m:\u001b[0m 1\n"
     ]
    },
    {
     "name": "stderr",
     "output_type": "stream",
     "text": [
      "/opt/conda/lib/python3.10/site-packages/IPython/core/interactiveshell.py:3441: UserWarning: To exit: use 'exit', 'quit', or Ctrl-D.\n",
      "  warn(\"To exit: use 'exit', 'quit', or Ctrl-D.\", stacklevel=1)\n"
     ]
    }
   ],
   "source": [
    "from flask import Flask\n",
    "\n",
    "# Create a Flask application instance\n",
    "app = Flask(__name__)\n",
    "\n",
    "# Define a route for the homepage\n",
    "@app.route('/')\n",
    "def hello_world():\n",
    "    return 'Hello, World!'\n",
    "\n",
    "# Run the application\n",
    "if __name__ == '__main__':\n",
    "    app.run(debug=True)\n"
   ]
  },
  {
   "cell_type": "markdown",
   "id": "22e461c2-604b-4670-9b31-469f1cf5de6e",
   "metadata": {},
   "source": [
    "Explanation\n",
    "\n",
    "    Import Flask: Import the Flask class from the flask module.\n",
    "    Create an App Instance: Instantiate the Flask class to create a Flask application object.\n",
    "    Define a Route: Use the @app.route('/') decorator to define a route for the homepage ('/'). The hello_world function returns the string 'Hello, World!', which will be displayed in the browser.\n",
    "    Run the App: The app.run(debug=True) line starts the Flask development server with debugging enabled. It will listen for requests on localhost at port 5000 by default.\n",
    "\n",
    "3. Run the Flask Application\n",
    "\n",
    "To run the Flask application, execute the Python file from the command line:"
   ]
  },
  {
   "cell_type": "code",
   "execution_count": 10,
   "id": "aa8a8242-817c-4e33-a332-5329872e8081",
   "metadata": {},
   "outputs": [
    {
     "ename": "SyntaxError",
     "evalue": "invalid syntax (2255720966.py, line 1)",
     "output_type": "error",
     "traceback": [
      "\u001b[0;36m  Cell \u001b[0;32mIn[10], line 1\u001b[0;36m\u001b[0m\n\u001b[0;31m    python app.py\u001b[0m\n\u001b[0m           ^\u001b[0m\n\u001b[0;31mSyntaxError\u001b[0m\u001b[0;31m:\u001b[0m invalid syntax\n"
     ]
    }
   ],
   "source": [
    "python app.py\n"
   ]
  },
  {
   "cell_type": "markdown",
   "id": "b2d4866a-7ff9-4623-885a-5ebefb5ff2b2",
   "metadata": {},
   "source": [
    "4. Access the Application\n",
    "\n",
    "Open a web browser and navigate to http://127.0.0.1:5000/ (or http://localhost:5000/). You should see \"Hello, World!\" displayed on the page.\n",
    "\n",
    "That's it! You've created a basic Flask route that displays \"Hello, World!\" on the homepage."
   ]
  },
  {
   "cell_type": "raw",
   "id": "ee83d966-23e2-4f2f-82d4-21fb21234172",
   "metadata": {},
   "source": [
    "Question.40. Explain how to set up a Flask application to handle from submission using POST request."
   ]
  },
  {
   "cell_type": "markdown",
   "id": "ae401d40-eaed-4162-861f-53f7860d118f",
   "metadata": {},
   "source": [
    "To set up a Flask application to handle form submissions using a POST request, follow these steps:\n",
    "1. Install Flask\n",
    "\n",
    "If you haven’t installed Flask yet, you can do so using pip:"
   ]
  },
  {
   "cell_type": "code",
   "execution_count": 11,
   "id": "5d59d023-d927-4435-aa65-73bd43590a27",
   "metadata": {},
   "outputs": [
    {
     "name": "stdout",
     "output_type": "stream",
     "text": [
      "Requirement already satisfied: Flask in /opt/conda/lib/python3.10/site-packages (3.0.3)\n",
      "Requirement already satisfied: blinker>=1.6.2 in /opt/conda/lib/python3.10/site-packages (from Flask) (1.8.2)\n",
      "Requirement already satisfied: Jinja2>=3.1.2 in /opt/conda/lib/python3.10/site-packages (from Flask) (3.1.2)\n",
      "Requirement already satisfied: Werkzeug>=3.0.0 in /opt/conda/lib/python3.10/site-packages (from Flask) (3.0.3)\n",
      "Requirement already satisfied: itsdangerous>=2.1.2 in /opt/conda/lib/python3.10/site-packages (from Flask) (2.2.0)\n",
      "Requirement already satisfied: click>=8.1.3 in /opt/conda/lib/python3.10/site-packages (from Flask) (8.1.3)\n",
      "Requirement already satisfied: MarkupSafe>=2.0 in /opt/conda/lib/python3.10/site-packages (from Jinja2>=3.1.2->Flask) (2.1.1)\n",
      "Note: you may need to restart the kernel to use updated packages.\n"
     ]
    }
   ],
   "source": [
    "pip install Flask\n"
   ]
  },
  {
   "cell_type": "markdown",
   "id": "8cbd8d24-a605-4912-8316-7c97501a8dff",
   "metadata": {},
   "source": [
    "2. Create a Flask Application\n",
    "\n",
    "Create a Python file for your Flask application, for example, app.py. Inside this file, set up the application to handle form submissions.\n",
    "3. Write the Flask Application Code\n",
    "\n",
    "Here's a complete example that demonstrates how to create a simple form and handle form submissions using POST requests:"
   ]
  },
  {
   "cell_type": "code",
   "execution_count": 12,
   "id": "3c3f94fd-caf7-435d-9fe0-ead41b655723",
   "metadata": {},
   "outputs": [
    {
     "name": "stdout",
     "output_type": "stream",
     "text": [
      " * Serving Flask app '__main__'\n",
      " * Debug mode: on\n"
     ]
    },
    {
     "name": "stderr",
     "output_type": "stream",
     "text": [
      "WARNING: This is a development server. Do not use it in a production deployment. Use a production WSGI server instead.\n",
      " * Running on http://127.0.0.1:5000\n",
      "Press CTRL+C to quit\n",
      " * Restarting with stat\n",
      "Traceback (most recent call last):\n",
      "  File \"/opt/conda/lib/python3.10/runpy.py\", line 196, in _run_module_as_main\n",
      "    return _run_code(code, main_globals, None,\n",
      "  File \"/opt/conda/lib/python3.10/runpy.py\", line 86, in _run_code\n",
      "    exec(code, run_globals)\n",
      "  File \"/opt/conda/lib/python3.10/site-packages/ipykernel_launcher.py\", line 17, in <module>\n",
      "    app.launch_new_instance()\n",
      "  File \"/opt/conda/lib/python3.10/site-packages/traitlets/config/application.py\", line 991, in launch_instance\n",
      "    app.initialize(argv)\n",
      "  File \"/opt/conda/lib/python3.10/site-packages/traitlets/config/application.py\", line 113, in inner\n",
      "    return method(app, *args, **kwargs)\n",
      "  File \"/opt/conda/lib/python3.10/site-packages/ipykernel/kernelapp.py\", line 665, in initialize\n",
      "    self.init_sockets()\n",
      "  File \"/opt/conda/lib/python3.10/site-packages/ipykernel/kernelapp.py\", line 309, in init_sockets\n",
      "    self.shell_port = self._bind_socket(self.shell_socket, self.shell_port)\n",
      "  File \"/opt/conda/lib/python3.10/site-packages/ipykernel/kernelapp.py\", line 246, in _bind_socket\n",
      "    return self._try_bind_socket(s, port)\n",
      "  File \"/opt/conda/lib/python3.10/site-packages/ipykernel/kernelapp.py\", line 222, in _try_bind_socket\n",
      "    s.bind(\"tcp://%s:%i\" % (self.ip, port))\n",
      "  File \"/opt/conda/lib/python3.10/site-packages/zmq/sugar/socket.py\", line 232, in bind\n",
      "    super().bind(addr)\n",
      "  File \"zmq/backend/cython/socket.pyx\", line 568, in zmq.backend.cython.socket.Socket.bind\n",
      "  File \"zmq/backend/cython/checkrc.pxd\", line 28, in zmq.backend.cython.checkrc._check_rc\n",
      "zmq.error.ZMQError: Address already in use\n"
     ]
    },
    {
     "ename": "SystemExit",
     "evalue": "1",
     "output_type": "error",
     "traceback": [
      "An exception has occurred, use %tb to see the full traceback.\n",
      "\u001b[0;31mSystemExit\u001b[0m\u001b[0;31m:\u001b[0m 1\n"
     ]
    }
   ],
   "source": [
    "from flask import Flask, request, render_template_string\n",
    "\n",
    "app = Flask(__name__)\n",
    "\n",
    "# HTML template for the form\n",
    "form_template = '''\n",
    "<!doctype html>\n",
    "<html lang=\"en\">\n",
    "  <head>\n",
    "    <meta charset=\"utf-8\">\n",
    "    <title>Flask Form</title>\n",
    "  </head>\n",
    "  <body>\n",
    "    <h1>Submit Your Name</h1>\n",
    "    <form method=\"POST\" action=\"/submit\">\n",
    "      <label for=\"name\">Name:</label>\n",
    "      <input type=\"text\" id=\"name\" name=\"name\">\n",
    "      <input type=\"submit\" value=\"Submit\">\n",
    "    </form>\n",
    "    {% if name %}\n",
    "      <h2>Hello, {{ name }}!</h2>\n",
    "    {% endif %}\n",
    "  </body>\n",
    "</html>\n",
    "'''\n",
    "\n",
    "@app.route('/', methods=['GET', 'POST'])\n",
    "def index():\n",
    "    if request.method == 'POST':\n",
    "        # Handle form submission\n",
    "        name = request.form.get('name')\n",
    "        return render_template_string(form_template, name=name)\n",
    "    return render_template_string(form_template, name=None)\n",
    "\n",
    "if __name__ == '__main__':\n",
    "    app.run(debug=True)\n"
   ]
  },
  {
   "cell_type": "markdown",
   "id": "6dae1248-38dd-401c-bee2-d5a3f5957ea6",
   "metadata": {},
   "source": [
    "Explanation\n",
    "\n",
    "    Import Necessary Modules:\n",
    "        Flask: The main Flask class.\n",
    "        request: To access form data.\n",
    "        render_template_string: To render HTML templates from strings.\n",
    "\n",
    "    Create an App Instance: Instantiate the Flask class to create a Flask application object.\n",
    "\n",
    "    Define an HTML Template:\n",
    "        form_template is a string containing HTML. It includes a form with a text input field and a submit button. If the form has been submitted, it displays a greeting message with the submitted name.\n",
    "\n",
    "    Define a Route:\n",
    "        The index route handles both GET and POST requests. When the form is submitted (POST request), it retrieves the value of the 'name' field from request.form and renders the HTML template with the name. For GET requests, it simply renders the form without a name.\n",
    "\n",
    "    Run the App: The app.run(debug=True) line starts the Flask development server with debugging enabled.\n",
    "\n",
    "4. Run the Flask Application\n",
    "\n",
    "Execute the Python file from the command line:"
   ]
  },
  {
   "cell_type": "code",
   "execution_count": 13,
   "id": "05643c79-fb7f-4624-b29f-94be158fc205",
   "metadata": {},
   "outputs": [
    {
     "ename": "SyntaxError",
     "evalue": "invalid syntax (2255720966.py, line 1)",
     "output_type": "error",
     "traceback": [
      "\u001b[0;36m  Cell \u001b[0;32mIn[13], line 1\u001b[0;36m\u001b[0m\n\u001b[0;31m    python app.py\u001b[0m\n\u001b[0m           ^\u001b[0m\n\u001b[0;31mSyntaxError\u001b[0m\u001b[0;31m:\u001b[0m invalid syntax\n"
     ]
    }
   ],
   "source": [
    "python app.py\n"
   ]
  },
  {
   "cell_type": "markdown",
   "id": "7a1145d3-71de-4969-8222-bfd5ebafd076",
   "metadata": {},
   "source": [
    "5. Access the Application\n",
    "\n",
    "Open a web browser and navigate to http://127.0.0.1:5000/ (or http://localhost:5000/). You should see the form. Enter a name and submit the form to see the greeting message.\n",
    "Summary\n",
    "\n",
    "This example demonstrates how to set up a Flask application to handle form submissions with POST requests. The form is created using HTML and submitted data is processed by Flask. The application responds by rendering the form again with a personalized message based on the submitted data."
   ]
  },
  {
   "cell_type": "raw",
   "id": "6dd1b701-a4ca-4e20-8045-eeac222cfe5f",
   "metadata": {},
   "source": [
    "Question.41. Write a Flask route that accepts a parameter in the URL and displays it on the page."
   ]
  },
  {
   "cell_type": "markdown",
   "id": "99def05e-cbfb-407a-90ab-4081114fdf3e",
   "metadata": {},
   "source": [
    "To create a Flask route that accepts a parameter in the URL and displays it on the page, you can use URL parameters in your route definition. Here’s a step-by-step guide:\n",
    "1. Set Up Your Flask Application\n",
    "\n",
    "Create a Python file for your Flask application, for example, app.py. In this file, define a route that accepts a parameter and displays it.\n",
    "2. Write the Flask Application Code\n",
    "\n",
    "Here’s a basic example demonstrating how to create a route that accepts a URL parameter and displays it:\n",
    "app.py"
   ]
  },
  {
   "cell_type": "code",
   "execution_count": 14,
   "id": "9f6d3db6-d5b5-4b87-861f-0b11b60efe47",
   "metadata": {},
   "outputs": [
    {
     "name": "stdout",
     "output_type": "stream",
     "text": [
      " * Serving Flask app '__main__'\n",
      " * Debug mode: on\n"
     ]
    },
    {
     "name": "stderr",
     "output_type": "stream",
     "text": [
      "WARNING: This is a development server. Do not use it in a production deployment. Use a production WSGI server instead.\n",
      " * Running on http://127.0.0.1:5000\n",
      "Press CTRL+C to quit\n",
      " * Restarting with stat\n",
      "Traceback (most recent call last):\n",
      "  File \"/opt/conda/lib/python3.10/runpy.py\", line 196, in _run_module_as_main\n",
      "    return _run_code(code, main_globals, None,\n",
      "  File \"/opt/conda/lib/python3.10/runpy.py\", line 86, in _run_code\n",
      "    exec(code, run_globals)\n",
      "  File \"/opt/conda/lib/python3.10/site-packages/ipykernel_launcher.py\", line 17, in <module>\n",
      "    app.launch_new_instance()\n",
      "  File \"/opt/conda/lib/python3.10/site-packages/traitlets/config/application.py\", line 991, in launch_instance\n",
      "    app.initialize(argv)\n",
      "  File \"/opt/conda/lib/python3.10/site-packages/traitlets/config/application.py\", line 113, in inner\n",
      "    return method(app, *args, **kwargs)\n",
      "  File \"/opt/conda/lib/python3.10/site-packages/ipykernel/kernelapp.py\", line 665, in initialize\n",
      "    self.init_sockets()\n",
      "  File \"/opt/conda/lib/python3.10/site-packages/ipykernel/kernelapp.py\", line 309, in init_sockets\n",
      "    self.shell_port = self._bind_socket(self.shell_socket, self.shell_port)\n",
      "  File \"/opt/conda/lib/python3.10/site-packages/ipykernel/kernelapp.py\", line 246, in _bind_socket\n",
      "    return self._try_bind_socket(s, port)\n",
      "  File \"/opt/conda/lib/python3.10/site-packages/ipykernel/kernelapp.py\", line 222, in _try_bind_socket\n",
      "    s.bind(\"tcp://%s:%i\" % (self.ip, port))\n",
      "  File \"/opt/conda/lib/python3.10/site-packages/zmq/sugar/socket.py\", line 232, in bind\n",
      "    super().bind(addr)\n",
      "  File \"zmq/backend/cython/socket.pyx\", line 568, in zmq.backend.cython.socket.Socket.bind\n",
      "  File \"zmq/backend/cython/checkrc.pxd\", line 28, in zmq.backend.cython.checkrc._check_rc\n",
      "zmq.error.ZMQError: Address already in use\n"
     ]
    },
    {
     "ename": "SystemExit",
     "evalue": "1",
     "output_type": "error",
     "traceback": [
      "An exception has occurred, use %tb to see the full traceback.\n",
      "\u001b[0;31mSystemExit\u001b[0m\u001b[0;31m:\u001b[0m 1\n"
     ]
    }
   ],
   "source": [
    "from flask import Flask\n",
    "\n",
    "app = Flask(__name__)\n",
    "\n",
    "@app.route('/greet/<name>')\n",
    "def greet(name):\n",
    "    return f'Hello, {name}!'\n",
    "\n",
    "if __name__ == '__main__':\n",
    "    app.run(debug=True)\n"
   ]
  },
  {
   "cell_type": "markdown",
   "id": "6048c054-9ad1-4672-97f4-c5f8033dc6b9",
   "metadata": {},
   "source": [
    "Explanation\n",
    "\n",
    "    Import Flask: Import the Flask class from the flask module.\n",
    "\n",
    "    Create an App Instance: Instantiate the Flask class to create a Flask application object.\n",
    "\n",
    "    Define a Route with a Parameter:\n",
    "        The route /greet/<name> includes a placeholder <name> in the URL. This placeholder will capture a part of the URL as a variable named name.\n",
    "        The greet function takes name as an argument, which corresponds to the URL parameter.\n",
    "        The function returns a string Hello, {name}!, where {name} is replaced with the actual value from the URL.\n",
    "\n",
    "    Run the App: The app.run(debug=True) line starts the Flask development server with debugging enabled.\n",
    "\n",
    "3. Run the Flask Application\n",
    "\n",
    "Execute the Python file from the command line:"
   ]
  },
  {
   "cell_type": "code",
   "execution_count": 15,
   "id": "0a50f8d3-8071-40a8-94f7-f6e6892217e2",
   "metadata": {},
   "outputs": [
    {
     "ename": "SyntaxError",
     "evalue": "invalid syntax (2255720966.py, line 1)",
     "output_type": "error",
     "traceback": [
      "\u001b[0;36m  Cell \u001b[0;32mIn[15], line 1\u001b[0;36m\u001b[0m\n\u001b[0;31m    python app.py\u001b[0m\n\u001b[0m           ^\u001b[0m\n\u001b[0;31mSyntaxError\u001b[0m\u001b[0;31m:\u001b[0m invalid syntax\n"
     ]
    }
   ],
   "source": [
    "python app.py\n"
   ]
  },
  {
   "cell_type": "markdown",
   "id": "f24c18eb-123f-4ce7-87d4-aa6c89164dd6",
   "metadata": {},
   "source": [
    "4. Access the Route\n",
    "\n",
    "Open a web browser and navigate to http://127.0.0.1:5000/greet/John (or http://localhost:5000/greet/John). You should see the page displaying \"Hello, John!\".\n",
    "Summary\n",
    "\n",
    "In this example, the Flask route /greet/<name> accepts a URL parameter name and displays a greeting message with that parameter. The placeholder <name> in the route URL is used to capture the value and pass it to the view function.\n"
   ]
  },
  {
   "cell_type": "raw",
   "id": "8316aa5b-45a9-4665-9aae-f93ef84ee7a1",
   "metadata": {},
   "source": [
    "Question.42. How can you implement user authentication in a Flask application?"
   ]
  },
  {
   "cell_type": "markdown",
   "id": "2c806f0e-cdea-4531-b75e-c6075e9070a8",
   "metadata": {},
   "source": [
    "Implementing user authentication in a Flask application involves several steps, including setting up user registration and login, managing user sessions, and securing routes. Here’s a step-by-step guide on how to implement basic user authentication using Flask, Flask-Login, and a database for storing user credentials.\n",
    "1. Install Required Packages\n",
    "\n",
    "First, install the necessary packages:"
   ]
  },
  {
   "cell_type": "code",
   "execution_count": 16,
   "id": "6f77aa0a-e506-4f0e-a054-4a7d38b5efd7",
   "metadata": {},
   "outputs": [
    {
     "name": "stdout",
     "output_type": "stream",
     "text": [
      "Requirement already satisfied: Flask in /opt/conda/lib/python3.10/site-packages (3.0.3)\n",
      "Collecting Flask-Login\n",
      "  Downloading Flask_Login-0.6.3-py3-none-any.whl (17 kB)\n",
      "Collecting Flask-SQLAlchemy\n",
      "  Downloading flask_sqlalchemy-3.1.1-py3-none-any.whl (25 kB)\n",
      "Requirement already satisfied: click>=8.1.3 in /opt/conda/lib/python3.10/site-packages (from Flask) (8.1.3)\n",
      "Requirement already satisfied: blinker>=1.6.2 in /opt/conda/lib/python3.10/site-packages (from Flask) (1.8.2)\n",
      "Requirement already satisfied: Jinja2>=3.1.2 in /opt/conda/lib/python3.10/site-packages (from Flask) (3.1.2)\n",
      "Requirement already satisfied: Werkzeug>=3.0.0 in /opt/conda/lib/python3.10/site-packages (from Flask) (3.0.3)\n",
      "Requirement already satisfied: itsdangerous>=2.1.2 in /opt/conda/lib/python3.10/site-packages (from Flask) (2.2.0)\n",
      "Collecting sqlalchemy>=2.0.16\n",
      "  Downloading SQLAlchemy-2.0.31-cp310-cp310-manylinux_2_17_x86_64.manylinux2014_x86_64.whl (3.1 MB)\n",
      "\u001b[2K     \u001b[90m━━━━━━━━━━━━━━━━━━━━━━━━━━━━━━━━━━━━━━━━\u001b[0m \u001b[32m3.1/3.1 MB\u001b[0m \u001b[31m59.5 MB/s\u001b[0m eta \u001b[36m0:00:00\u001b[0m:00:01\u001b[0m\n",
      "\u001b[?25hRequirement already satisfied: MarkupSafe>=2.0 in /opt/conda/lib/python3.10/site-packages (from Jinja2>=3.1.2->Flask) (2.1.1)\n",
      "Requirement already satisfied: greenlet!=0.4.17 in /opt/conda/lib/python3.10/site-packages (from sqlalchemy>=2.0.16->Flask-SQLAlchemy) (2.0.1)\n",
      "Collecting typing-extensions>=4.6.0\n",
      "  Downloading typing_extensions-4.12.2-py3-none-any.whl (37 kB)\n",
      "Installing collected packages: typing-extensions, sqlalchemy, Flask-SQLAlchemy, Flask-Login\n",
      "  Attempting uninstall: typing-extensions\n",
      "    Found existing installation: typing_extensions 4.4.0\n",
      "    Uninstalling typing_extensions-4.4.0:\n",
      "      Successfully uninstalled typing_extensions-4.4.0\n",
      "  Attempting uninstall: sqlalchemy\n",
      "    Found existing installation: SQLAlchemy 1.4.45\n",
      "    Uninstalling SQLAlchemy-1.4.45:\n",
      "      Successfully uninstalled SQLAlchemy-1.4.45\n",
      "Successfully installed Flask-Login-0.6.3 Flask-SQLAlchemy-3.1.1 sqlalchemy-2.0.31 typing-extensions-4.12.2\n",
      "Note: you may need to restart the kernel to use updated packages.\n"
     ]
    }
   ],
   "source": [
    "pip install Flask Flask-Login Flask-SQLAlchemy\n"
   ]
  },
  {
   "cell_type": "markdown",
   "id": "90ed3be2-0b0b-4148-a113-5692b1be8a51",
   "metadata": {},
   "source": [
    "2. Set Up Flask Application\n",
    "\n",
    "Create a Python file, for example, app.py, and set up your Flask application with authentication features.\n",
    "app.py"
   ]
  },
  {
   "cell_type": "code",
   "execution_count": 17,
   "id": "16c88084-b4da-4d41-8a0c-4f5e53dd97f5",
   "metadata": {},
   "outputs": [
    {
     "ename": "RuntimeError",
     "evalue": "Working outside of application context.\n\nThis typically means that you attempted to use functionality that needed\nthe current application. To solve this, set up an application context\nwith app.app_context(). See the documentation for more information.",
     "output_type": "error",
     "traceback": [
      "\u001b[0;31m---------------------------------------------------------------------------\u001b[0m",
      "\u001b[0;31mRuntimeError\u001b[0m                              Traceback (most recent call last)",
      "Cell \u001b[0;32mIn[17], line 55\u001b[0m\n\u001b[1;32m     53\u001b[0m \u001b[38;5;66;03m# Create the database and run the application\u001b[39;00m\n\u001b[1;32m     54\u001b[0m \u001b[38;5;28;01mif\u001b[39;00m \u001b[38;5;18m__name__\u001b[39m \u001b[38;5;241m==\u001b[39m \u001b[38;5;124m'\u001b[39m\u001b[38;5;124m__main__\u001b[39m\u001b[38;5;124m'\u001b[39m:\n\u001b[0;32m---> 55\u001b[0m     \u001b[43mdb\u001b[49m\u001b[38;5;241;43m.\u001b[39;49m\u001b[43mcreate_all\u001b[49m\u001b[43m(\u001b[49m\u001b[43m)\u001b[49m  \u001b[38;5;66;03m# Create database tables\u001b[39;00m\n\u001b[1;32m     56\u001b[0m     app\u001b[38;5;241m.\u001b[39mrun(debug\u001b[38;5;241m=\u001b[39m\u001b[38;5;28;01mTrue\u001b[39;00m)\n",
      "File \u001b[0;32m/opt/conda/lib/python3.10/site-packages/flask_sqlalchemy/extension.py:900\u001b[0m, in \u001b[0;36mSQLAlchemy.create_all\u001b[0;34m(self, bind_key)\u001b[0m\n\u001b[1;32m    883\u001b[0m \u001b[38;5;28;01mdef\u001b[39;00m \u001b[38;5;21mcreate_all\u001b[39m(\u001b[38;5;28mself\u001b[39m, bind_key: \u001b[38;5;28mstr\u001b[39m \u001b[38;5;241m|\u001b[39m \u001b[38;5;28;01mNone\u001b[39;00m \u001b[38;5;241m|\u001b[39m \u001b[38;5;28mlist\u001b[39m[\u001b[38;5;28mstr\u001b[39m \u001b[38;5;241m|\u001b[39m \u001b[38;5;28;01mNone\u001b[39;00m] \u001b[38;5;241m=\u001b[39m \u001b[38;5;124m\"\u001b[39m\u001b[38;5;124m__all__\u001b[39m\u001b[38;5;124m\"\u001b[39m) \u001b[38;5;241m-\u001b[39m\u001b[38;5;241m>\u001b[39m \u001b[38;5;28;01mNone\u001b[39;00m:\n\u001b[1;32m    884\u001b[0m     \u001b[38;5;124;03m\"\"\"Create tables that do not exist in the database by calling\u001b[39;00m\n\u001b[1;32m    885\u001b[0m \u001b[38;5;124;03m    ``metadata.create_all()`` for all or some bind keys. This does not\u001b[39;00m\n\u001b[1;32m    886\u001b[0m \u001b[38;5;124;03m    update existing tables, use a migration library for that.\u001b[39;00m\n\u001b[0;32m   (...)\u001b[0m\n\u001b[1;32m    898\u001b[0m \u001b[38;5;124;03m        Added the ``bind`` and ``app`` parameters.\u001b[39;00m\n\u001b[1;32m    899\u001b[0m \u001b[38;5;124;03m    \"\"\"\u001b[39;00m\n\u001b[0;32m--> 900\u001b[0m     \u001b[38;5;28;43mself\u001b[39;49m\u001b[38;5;241;43m.\u001b[39;49m\u001b[43m_call_for_binds\u001b[49m\u001b[43m(\u001b[49m\u001b[43mbind_key\u001b[49m\u001b[43m,\u001b[49m\u001b[43m \u001b[49m\u001b[38;5;124;43m\"\u001b[39;49m\u001b[38;5;124;43mcreate_all\u001b[39;49m\u001b[38;5;124;43m\"\u001b[39;49m\u001b[43m)\u001b[49m\n",
      "File \u001b[0;32m/opt/conda/lib/python3.10/site-packages/flask_sqlalchemy/extension.py:871\u001b[0m, in \u001b[0;36mSQLAlchemy._call_for_binds\u001b[0;34m(self, bind_key, op_name)\u001b[0m\n\u001b[1;32m    869\u001b[0m \u001b[38;5;28;01mfor\u001b[39;00m key \u001b[38;5;129;01min\u001b[39;00m keys:\n\u001b[1;32m    870\u001b[0m     \u001b[38;5;28;01mtry\u001b[39;00m:\n\u001b[0;32m--> 871\u001b[0m         engine \u001b[38;5;241m=\u001b[39m \u001b[38;5;28;43mself\u001b[39;49m\u001b[38;5;241;43m.\u001b[39;49m\u001b[43mengines\u001b[49m[key]\n\u001b[1;32m    872\u001b[0m     \u001b[38;5;28;01mexcept\u001b[39;00m \u001b[38;5;167;01mKeyError\u001b[39;00m:\n\u001b[1;32m    873\u001b[0m         message \u001b[38;5;241m=\u001b[39m \u001b[38;5;124mf\u001b[39m\u001b[38;5;124m\"\u001b[39m\u001b[38;5;124mBind key \u001b[39m\u001b[38;5;124m'\u001b[39m\u001b[38;5;132;01m{\u001b[39;00mkey\u001b[38;5;132;01m}\u001b[39;00m\u001b[38;5;124m'\u001b[39m\u001b[38;5;124m is not in \u001b[39m\u001b[38;5;124m'\u001b[39m\u001b[38;5;124mSQLALCHEMY_BINDS\u001b[39m\u001b[38;5;124m'\u001b[39m\u001b[38;5;124m config.\u001b[39m\u001b[38;5;124m\"\u001b[39m\n",
      "File \u001b[0;32m/opt/conda/lib/python3.10/site-packages/flask_sqlalchemy/extension.py:687\u001b[0m, in \u001b[0;36mSQLAlchemy.engines\u001b[0;34m(self)\u001b[0m\n\u001b[1;32m    674\u001b[0m \u001b[38;5;129m@property\u001b[39m\n\u001b[1;32m    675\u001b[0m \u001b[38;5;28;01mdef\u001b[39;00m \u001b[38;5;21mengines\u001b[39m(\u001b[38;5;28mself\u001b[39m) \u001b[38;5;241m-\u001b[39m\u001b[38;5;241m>\u001b[39m t\u001b[38;5;241m.\u001b[39mMapping[\u001b[38;5;28mstr\u001b[39m \u001b[38;5;241m|\u001b[39m \u001b[38;5;28;01mNone\u001b[39;00m, sa\u001b[38;5;241m.\u001b[39mengine\u001b[38;5;241m.\u001b[39mEngine]:\n\u001b[1;32m    676\u001b[0m     \u001b[38;5;124;03m\"\"\"Map of bind keys to :class:`sqlalchemy.engine.Engine` instances for current\u001b[39;00m\n\u001b[1;32m    677\u001b[0m \u001b[38;5;124;03m    application. The ``None`` key refers to the default engine, and is available as\u001b[39;00m\n\u001b[1;32m    678\u001b[0m \u001b[38;5;124;03m    :attr:`engine`.\u001b[39;00m\n\u001b[0;32m   (...)\u001b[0m\n\u001b[1;32m    685\u001b[0m \u001b[38;5;124;03m    .. versionadded:: 3.0\u001b[39;00m\n\u001b[1;32m    686\u001b[0m \u001b[38;5;124;03m    \"\"\"\u001b[39;00m\n\u001b[0;32m--> 687\u001b[0m     app \u001b[38;5;241m=\u001b[39m \u001b[43mcurrent_app\u001b[49m\u001b[38;5;241;43m.\u001b[39;49m\u001b[43m_get_current_object\u001b[49m\u001b[43m(\u001b[49m\u001b[43m)\u001b[49m  \u001b[38;5;66;03m# type: ignore[attr-defined]\u001b[39;00m\n\u001b[1;32m    689\u001b[0m     \u001b[38;5;28;01mif\u001b[39;00m app \u001b[38;5;129;01mnot\u001b[39;00m \u001b[38;5;129;01min\u001b[39;00m \u001b[38;5;28mself\u001b[39m\u001b[38;5;241m.\u001b[39m_app_engines:\n\u001b[1;32m    690\u001b[0m         \u001b[38;5;28;01mraise\u001b[39;00m \u001b[38;5;167;01mRuntimeError\u001b[39;00m(\n\u001b[1;32m    691\u001b[0m             \u001b[38;5;124m\"\u001b[39m\u001b[38;5;124mThe current Flask app is not registered with this \u001b[39m\u001b[38;5;124m'\u001b[39m\u001b[38;5;124mSQLAlchemy\u001b[39m\u001b[38;5;124m'\u001b[39m\u001b[38;5;124m\"\u001b[39m\n\u001b[1;32m    692\u001b[0m             \u001b[38;5;124m\"\u001b[39m\u001b[38;5;124m instance. Did you forget to call \u001b[39m\u001b[38;5;124m'\u001b[39m\u001b[38;5;124minit_app\u001b[39m\u001b[38;5;124m'\u001b[39m\u001b[38;5;124m, or did you create\u001b[39m\u001b[38;5;124m\"\u001b[39m\n\u001b[1;32m    693\u001b[0m             \u001b[38;5;124m\"\u001b[39m\u001b[38;5;124m multiple \u001b[39m\u001b[38;5;124m'\u001b[39m\u001b[38;5;124mSQLAlchemy\u001b[39m\u001b[38;5;124m'\u001b[39m\u001b[38;5;124m instances?\u001b[39m\u001b[38;5;124m\"\u001b[39m\n\u001b[1;32m    694\u001b[0m         )\n",
      "File \u001b[0;32m/opt/conda/lib/python3.10/site-packages/werkzeug/local.py:519\u001b[0m, in \u001b[0;36mLocalProxy.__init__.<locals>._get_current_object\u001b[0;34m()\u001b[0m\n\u001b[1;32m    517\u001b[0m     obj \u001b[38;5;241m=\u001b[39m local\u001b[38;5;241m.\u001b[39mget()\n\u001b[1;32m    518\u001b[0m \u001b[38;5;28;01mexcept\u001b[39;00m \u001b[38;5;167;01mLookupError\u001b[39;00m:\n\u001b[0;32m--> 519\u001b[0m     \u001b[38;5;28;01mraise\u001b[39;00m \u001b[38;5;167;01mRuntimeError\u001b[39;00m(unbound_message) \u001b[38;5;28;01mfrom\u001b[39;00m \u001b[38;5;28mNone\u001b[39m\n\u001b[1;32m    521\u001b[0m \u001b[38;5;28;01mreturn\u001b[39;00m get_name(obj)\n",
      "\u001b[0;31mRuntimeError\u001b[0m: Working outside of application context.\n\nThis typically means that you attempted to use functionality that needed\nthe current application. To solve this, set up an application context\nwith app.app_context(). See the documentation for more information."
     ]
    }
   ],
   "source": [
    "from flask import Flask, render_template, redirect, url_for, request, session\n",
    "from flask_sqlalchemy import SQLAlchemy\n",
    "from flask_login import LoginManager, UserMixin, login_user, login_required, logout_user, current_user\n",
    "\n",
    "# Initialize the Flask application\n",
    "app = Flask(__name__)\n",
    "app.secret_key = 'your_secret_key'  # Change this to a random secret key\n",
    "app.config['SQLALCHEMY_DATABASE_URI'] = 'sqlite:///users.db'\n",
    "db = SQLAlchemy(app)\n",
    "login_manager = LoginManager(app)\n",
    "login_manager.login_view = 'login'\n",
    "\n",
    "# User model\n",
    "class User(UserMixin, db.Model):\n",
    "    id = db.Column(db.Integer, primary_key=True)\n",
    "    username = db.Column(db.String(150), unique=True, nullable=False)\n",
    "    password = db.Column(db.String(150), nullable=False)\n",
    "\n",
    "# Load user\n",
    "@login_manager.user_loader\n",
    "def load_user(user_id):\n",
    "    return User.query.get(int(user_id))\n",
    "\n",
    "# Routes\n",
    "@app.route('/')\n",
    "def home():\n",
    "    return 'Welcome to the homepage!'\n",
    "\n",
    "@app.route('/login', methods=['GET', 'POST'])\n",
    "def login():\n",
    "    if request.method == 'POST':\n",
    "        username = request.form['username']\n",
    "        password = request.form['password']\n",
    "        user = User.query.filter_by(username=username, password=password).first()\n",
    "        if user:\n",
    "            login_user(user)\n",
    "            return redirect(url_for('dashboard'))\n",
    "        else:\n",
    "            return 'Invalid credentials'\n",
    "    return render_template('login.html')\n",
    "\n",
    "@app.route('/logout')\n",
    "@login_required\n",
    "def logout():\n",
    "    logout_user()\n",
    "    return redirect(url_for('home'))\n",
    "\n",
    "@app.route('/dashboard')\n",
    "@login_required\n",
    "def dashboard():\n",
    "    return f'Hello, {current_user.username}! This is the dashboard.'\n",
    "\n",
    "# Create the database and run the application\n",
    "if __name__ == '__main__':\n",
    "    db.create_all()  # Create database tables\n",
    "    app.run(debug=True)\n"
   ]
  },
  {
   "cell_type": "markdown",
   "id": "dd8b686f-a4dd-48ba-9748-f57f01744207",
   "metadata": {},
   "source": [
    "3. Create Templates\n",
    "\n",
    "Create a templates directory in the same folder as app.py, and add an HTML template for the login page.\n",
    "templates/login.html"
   ]
  },
  {
   "cell_type": "markdown",
   "id": "ab181e77-fb25-439d-b6f0-730301367d50",
   "metadata": {},
   "source": [
    "<!doctype html>\n",
    "<html lang=\"en\">\n",
    "  <head>\n",
    "    <meta charset=\"utf-8\">\n",
    "    <title>Login</title>\n",
    "  </head>\n",
    "  <body>\n",
    "    <h1>Login</h1>\n",
    "    <form method=\"POST\" action=\"/login\">\n",
    "      <label for=\"username\">Username:</label>\n",
    "      <input type=\"text\" id=\"username\" name=\"username\" required>\n",
    "      <br>\n",
    "      <label for=\"password\">Password:</label>\n",
    "      <input type=\"password\" id=\"password\" name=\"password\" required>\n",
    "      <br>\n",
    "      <input type=\"submit\" value=\"Login\">\n",
    "    </form>\n",
    "  </body>\n",
    "</html>\n"
   ]
  },
  {
   "cell_type": "markdown",
   "id": "bb9f6b3c-a5fa-4fea-b413-db6d69cf8f91",
   "metadata": {},
   "source": [
    "4. Run the Application\n",
    "\n",
    "To run the Flask application, execute the Python file:"
   ]
  },
  {
   "cell_type": "code",
   "execution_count": 19,
   "id": "e9239552-f79c-464c-b0c1-26937b2f4af8",
   "metadata": {},
   "outputs": [
    {
     "ename": "SyntaxError",
     "evalue": "invalid syntax (2255720966.py, line 1)",
     "output_type": "error",
     "traceback": [
      "\u001b[0;36m  Cell \u001b[0;32mIn[19], line 1\u001b[0;36m\u001b[0m\n\u001b[0;31m    python app.py\u001b[0m\n\u001b[0m           ^\u001b[0m\n\u001b[0;31mSyntaxError\u001b[0m\u001b[0;31m:\u001b[0m invalid syntax\n"
     ]
    }
   ],
   "source": [
    "python app.py\n"
   ]
  },
  {
   "cell_type": "markdown",
   "id": "9bb63967-f119-464e-b13a-4707cd7fb51b",
   "metadata": {},
   "source": [
    "5. Testing\n",
    "\n",
    "    Visit the Login Page: Go to http://127.0.0.1:5000/login to access the login page.\n",
    "    Login: Use the login form to enter credentials. If the credentials match an entry in the database, you will be redirected to the dashboard.\n",
    "    Access Dashboard: Visit http://127.0.0.1:5000/dashboard to see the dashboard, which requires authentication.\n",
    "    Logout: Go to http://127.0.0.1:5000/logout to log out and return to the homepage.\n",
    "\n",
    "Summary\n",
    "\n",
    "In this example, we set up a Flask application with user authentication using Flask-Login and Flask-SQLAlchemy:\n",
    "\n",
    "    Flask-Login manages user sessions and handles login/logout functionality.\n",
    "    Flask-SQLAlchemy is used to interact with the SQLite database, where user credentials are stored.\n",
    "    User Model represents user data in the database.\n",
    "    Login Manager handles user loading and login redirection.\n",
    "    Routes handle user login, logout, and access to protected resources.\n",
    "\n",
    "For a production application, ensure to use hashed passwords and secure session management to protect user data and credentials."
   ]
  },
  {
   "cell_type": "raw",
   "id": "dab56ed8-5de6-4911-aa3e-f64eac7167b9",
   "metadata": {},
   "source": [
    "Question.43. Describe the prcess of connecting a Flask app to a SQLite database using SQLAIchemy."
   ]
  },
  {
   "cell_type": "markdown",
   "id": "5d29940c-ce7d-4407-b7f5-abed9cd17b3a",
   "metadata": {},
   "source": [
    "Connecting a Flask application to a SQLite database using SQLAlchemy involves several steps. Here’s a comprehensive guide to set up and use SQLite with SQLAlchemy in a Flask application.\n",
    "1. Install Required Packages\n",
    "\n",
    "You need Flask and Flask-SQLAlchemy. Install them using pip:"
   ]
  },
  {
   "cell_type": "raw",
   "id": "7350fb54-dfe0-429e-a063-233aecf73a2c",
   "metadata": {},
   "source": [
    "pip install Flask Flask-SQLAlchemy\n"
   ]
  },
  {
   "cell_type": "markdown",
   "id": "0e069ebb-b757-4cc3-aaa7-b5a3fa16e445",
   "metadata": {},
   "source": [
    "2. Set Up Your Flask Application\n",
    "\n",
    "Create a Python file for your Flask application, for example, app.py, and set up SQLAlchemy to connect to an SQLite database.\n",
    "app.py"
   ]
  },
  {
   "cell_type": "code",
   "execution_count": 21,
   "id": "086738f8-01b6-492d-aa88-0c34e8ef40f5",
   "metadata": {},
   "outputs": [
    {
     "name": "stdout",
     "output_type": "stream",
     "text": [
      " * Serving Flask app '__main__'\n",
      " * Debug mode: on\n"
     ]
    },
    {
     "name": "stderr",
     "output_type": "stream",
     "text": [
      "WARNING: This is a development server. Do not use it in a production deployment. Use a production WSGI server instead.\n",
      " * Running on http://127.0.0.1:5000\n",
      "Press CTRL+C to quit\n",
      " * Restarting with stat\n",
      "Traceback (most recent call last):\n",
      "  File \"/opt/conda/lib/python3.10/runpy.py\", line 196, in _run_module_as_main\n",
      "    return _run_code(code, main_globals, None,\n",
      "  File \"/opt/conda/lib/python3.10/runpy.py\", line 86, in _run_code\n",
      "    exec(code, run_globals)\n",
      "  File \"/opt/conda/lib/python3.10/site-packages/ipykernel_launcher.py\", line 17, in <module>\n",
      "    app.launch_new_instance()\n",
      "  File \"/opt/conda/lib/python3.10/site-packages/traitlets/config/application.py\", line 991, in launch_instance\n",
      "    app.initialize(argv)\n",
      "  File \"/opt/conda/lib/python3.10/site-packages/traitlets/config/application.py\", line 113, in inner\n",
      "    return method(app, *args, **kwargs)\n",
      "  File \"/opt/conda/lib/python3.10/site-packages/ipykernel/kernelapp.py\", line 665, in initialize\n",
      "    self.init_sockets()\n",
      "  File \"/opt/conda/lib/python3.10/site-packages/ipykernel/kernelapp.py\", line 309, in init_sockets\n",
      "    self.shell_port = self._bind_socket(self.shell_socket, self.shell_port)\n",
      "  File \"/opt/conda/lib/python3.10/site-packages/ipykernel/kernelapp.py\", line 246, in _bind_socket\n",
      "    return self._try_bind_socket(s, port)\n",
      "  File \"/opt/conda/lib/python3.10/site-packages/ipykernel/kernelapp.py\", line 222, in _try_bind_socket\n",
      "    s.bind(\"tcp://%s:%i\" % (self.ip, port))\n",
      "  File \"/opt/conda/lib/python3.10/site-packages/zmq/sugar/socket.py\", line 232, in bind\n",
      "    super().bind(addr)\n",
      "  File \"zmq/backend/cython/socket.pyx\", line 568, in zmq.backend.cython.socket.Socket.bind\n",
      "  File \"zmq/backend/cython/checkrc.pxd\", line 28, in zmq.backend.cython.checkrc._check_rc\n",
      "zmq.error.ZMQError: Address already in use\n"
     ]
    },
    {
     "ename": "SystemExit",
     "evalue": "1",
     "output_type": "error",
     "traceback": [
      "An exception has occurred, use %tb to see the full traceback.\n",
      "\u001b[0;31mSystemExit\u001b[0m\u001b[0;31m:\u001b[0m 1\n"
     ]
    }
   ],
   "source": [
    "from flask import Flask, render_template\n",
    "from flask_sqlalchemy import SQLAlchemy\n",
    "\n",
    "# Initialize Flask application\n",
    "app = Flask(__name__)\n",
    "\n",
    "# Configure SQLite database\n",
    "app.config['SQLALCHEMY_DATABASE_URI'] = 'sqlite:///your_database.db'\n",
    "app.config['SQLALCHEMY_TRACK_MODIFICATIONS'] = False\n",
    "\n",
    "# Initialize SQLAlchemy\n",
    "db = SQLAlchemy(app)\n",
    "\n",
    "# Define a model\n",
    "class User(db.Model):\n",
    "    id = db.Column(db.Integer, primary_key=True)\n",
    "    username = db.Column(db.String(150), unique=True, nullable=False)\n",
    "    email = db.Column(db.String(150), unique=True, nullable=False)\n",
    "\n",
    "    def __repr__(self):\n",
    "        return f'<User {self.username}>'\n",
    "\n",
    "# Routes\n",
    "@app.route('/')\n",
    "def home():\n",
    "    return 'Welcome to the Flask SQLite Example!'\n",
    "\n",
    "@app.route('/create')\n",
    "def create_db():\n",
    "    db.create_all()\n",
    "    return 'Database and tables created!'\n",
    "\n",
    "if __name__ == '__main__':\n",
    "    app.run(debug=True)\n"
   ]
  },
  {
   "cell_type": "markdown",
   "id": "96d86d1d-c760-43cf-82a0-793ccff4a036",
   "metadata": {},
   "source": [
    "Explanation\n",
    "\n",
    "    Import Flask and SQLAlchemy: Import the necessary classes from Flask and Flask-SQLAlchemy.\n",
    "\n",
    "    Initialize Flask Application: Create an instance of the Flask class.\n",
    "\n",
    "    Configure SQLAlchemy:\n",
    "        SQLALCHEMY_DATABASE_URI: Specifies the URI for your SQLite database. sqlite:///your_database.db tells SQLAlchemy to use SQLite and create a file named your_database.db in the current directory.\n",
    "        SQLALCHEMY_TRACK_MODIFICATIONS: Disable tracking modifications to reduce overhead.\n",
    "\n",
    "    Initialize SQLAlchemy: Pass the Flask app instance to SQLAlchemy to link it with the app.\n",
    "\n",
    "    Define a Model:\n",
    "        User class represents a table in the database.\n",
    "        id, username, and email are columns in the User table.\n",
    "        The __repr__ method provides a readable string representation of the User object.\n",
    "\n",
    "    Routes:\n",
    "        / is a simple route for testing.\n",
    "        /create is a route to create the database and tables using db.create_all().\n",
    "\n",
    "3. Create the Database and Tables\n",
    "\n",
    "Run the Flask application and visit http://127.0.0.1:5000/create in your browser. This will create the SQLite database and the User table.\n",
    "4. Interact with the Database\n",
    "\n",
    "You can interact with the database using the Flask shell or by adding more routes to your Flask application. Here’s how to use the Flask shell:\n",
    "\n",
    "    1. Open the Flask Shell:"
   ]
  },
  {
   "cell_type": "raw",
   "id": "0bde8e3e-67ef-4de0-becc-97d848fd3029",
   "metadata": {},
   "source": [
    "flask shell\n"
   ]
  },
  {
   "cell_type": "markdown",
   "id": "fbd6719f-6823-49f7-87ba-75f3389a6dde",
   "metadata": {},
   "source": [
    "2. Use SQLAlchemy to Interact with the Database:"
   ]
  },
  {
   "cell_type": "code",
   "execution_count": 22,
   "id": "a6aa1f48-ef71-4353-91b3-83498f219f67",
   "metadata": {},
   "outputs": [
    {
     "ename": "ModuleNotFoundError",
     "evalue": "No module named 'app'",
     "output_type": "error",
     "traceback": [
      "\u001b[0;31m---------------------------------------------------------------------------\u001b[0m",
      "\u001b[0;31mModuleNotFoundError\u001b[0m                       Traceback (most recent call last)",
      "Cell \u001b[0;32mIn[22], line 1\u001b[0m\n\u001b[0;32m----> 1\u001b[0m \u001b[38;5;28;01mfrom\u001b[39;00m \u001b[38;5;21;01mapp\u001b[39;00m \u001b[38;5;28;01mimport\u001b[39;00m db, User\n\u001b[1;32m      3\u001b[0m \u001b[38;5;66;03m# Create a new user\u001b[39;00m\n\u001b[1;32m      4\u001b[0m new_user \u001b[38;5;241m=\u001b[39m User(username\u001b[38;5;241m=\u001b[39m\u001b[38;5;124m'\u001b[39m\u001b[38;5;124mjohn_doe\u001b[39m\u001b[38;5;124m'\u001b[39m, email\u001b[38;5;241m=\u001b[39m\u001b[38;5;124m'\u001b[39m\u001b[38;5;124mjohn@example.com\u001b[39m\u001b[38;5;124m'\u001b[39m)\n",
      "\u001b[0;31mModuleNotFoundError\u001b[0m: No module named 'app'"
     ]
    }
   ],
   "source": [
    "from app import db, User\n",
    "\n",
    "# Create a new user\n",
    "new_user = User(username='john_doe', email='john@example.com')\n",
    "db.session.add(new_user)\n",
    "db.session.commit()\n",
    "\n",
    "# Query the database\n",
    "users = User.query.all()\n",
    "print(users)\n"
   ]
  },
  {
   "cell_type": "markdown",
   "id": "d4c8c397-f5ce-48ed-ac12-fa7e315a33f0",
   "metadata": {},
   "source": [
    "5. Additional Features\n",
    "\n",
    "    Migration: For handling changes to the database schema over time, consider using Flask-Migrate, which integrates with Alembic for database migrations.\n",
    "    Configuration: For production, configure your app to use environment variables for sensitive information and to properly handle different database URIs.\n",
    "\n",
    "Summary\n",
    "\n",
    "To connect a Flask app to a SQLite database using SQLAlchemy:\n",
    "\n",
    "    Install Flask and Flask-SQLAlchemy.\n",
    "    Set up your Flask app and configure SQLAlchemy to connect to an SQLite database.\n",
    "    Define models representing database tables.\n",
    "    Create the database and tables using SQLAlchemy's create_all() method.\n",
    "    Interact with the database using SQLAlchemy's ORM capabilities.\n",
    "\n",
    "This setup allows you to manage your database easily and integrate it with your Flask application."
   ]
  },
  {
   "cell_type": "raw",
   "id": "81912603-a220-49f5-83f5-bc216f6168ca",
   "metadata": {},
   "source": [
    "Question.44. How would you create a RESTful API endpoint in Flask that returns JSON data?"
   ]
  },
  {
   "cell_type": "markdown",
   "id": "856e3c3f-2804-4d50-87e8-ff0c4982cdbe",
   "metadata": {},
   "source": [
    "To create a RESTful API endpoint in Flask that returns JSON data, follow these steps:\n",
    "1. Set Up Your Flask Application\n",
    "\n",
    "Create a Python file for your Flask application, for example, app.py.\n",
    "2. Install Required Packages\n",
    "\n",
    "Ensure Flask is installed. You can install it using pip if you haven’t already:"
   ]
  },
  {
   "cell_type": "markdown",
   "id": "83d8b9df-15c4-4f6b-80cc-aadd6e8e78af",
   "metadata": {},
   "source": [
    "3. Write the Flask Application Code\n",
    "\n",
    "Here’s an example of creating a simple RESTful API that returns JSON data.\n",
    "app.py"
   ]
  },
  {
   "cell_type": "code",
   "execution_count": 1,
   "id": "dcd53789-6cdf-4198-8df9-a9725a4458f2",
   "metadata": {},
   "outputs": [
    {
     "ename": "ModuleNotFoundError",
     "evalue": "No module named 'flask'",
     "output_type": "error",
     "traceback": [
      "\u001b[0;31m---------------------------------------------------------------------------\u001b[0m",
      "\u001b[0;31mModuleNotFoundError\u001b[0m                       Traceback (most recent call last)",
      "Cell \u001b[0;32mIn[1], line 1\u001b[0m\n\u001b[0;32m----> 1\u001b[0m \u001b[38;5;28;01mfrom\u001b[39;00m \u001b[38;5;21;01mflask\u001b[39;00m \u001b[38;5;28;01mimport\u001b[39;00m Flask, jsonify, request\n\u001b[1;32m      3\u001b[0m app \u001b[38;5;241m=\u001b[39m Flask(\u001b[38;5;18m__name__\u001b[39m)\n\u001b[1;32m      5\u001b[0m \u001b[38;5;66;03m# Sample data\u001b[39;00m\n",
      "\u001b[0;31mModuleNotFoundError\u001b[0m: No module named 'flask'"
     ]
    }
   ],
   "source": [
    "from flask import Flask, jsonify, request\n",
    "\n",
    "app = Flask(__name__)\n",
    "\n",
    "# Sample data\n",
    "items = [\n",
    "    {'id': 1, 'name': 'Item 1', 'description': 'This is item 1'},\n",
    "    {'id': 2, 'name': 'Item 2', 'description': 'This is item 2'},\n",
    "]\n",
    "\n",
    "# Define the API endpoints\n",
    "\n",
    "@app.route('/api/items', methods=['GET'])\n",
    "def get_items():\n",
    "    \"\"\"Get a list of items\"\"\"\n",
    "    return jsonify({'items': items})\n",
    "\n",
    "@app.route('/api/items/<int:item_id>', methods=['GET'])\n",
    "def get_item(item_id):\n",
    "    \"\"\"Get a specific item by ID\"\"\"\n",
    "    item = next((item for item in items if item['id'] == item_id), None)\n",
    "    if item is None:\n",
    "        return jsonify({'message': 'Item not found'}), 404\n",
    "    return jsonify({'item': item})\n",
    "\n",
    "@app.route('/api/items', methods=['POST'])\n",
    "def create_item():\n",
    "    \"\"\"Create a new item\"\"\"\n",
    "    if not request.json or not 'name' in request.json:\n",
    "        return jsonify({'message': 'Invalid request'}), 400\n",
    "    new_item = {\n",
    "        'id': items[-1]['id'] + 1 if items else 1,\n",
    "        'name': request.json['name'],\n",
    "        'description': request.json.get('description', '')\n",
    "    }\n",
    "    items.append(new_item)\n",
    "    return jsonify({'item': new_item}), 201\n",
    "\n",
    "@app.route('/api/items/<int:item_id>', methods=['PUT'])\n",
    "def update_item(item_id):\n",
    "    \"\"\"Update an existing item\"\"\"\n",
    "    item = next((item for item in items if item['id'] == item_id), None)\n",
    "    if item is None:\n",
    "        return jsonify({'message': 'Item not found'}), 404\n",
    "    if not request.json:\n",
    "        return jsonify({'message': 'Invalid request'}), 400\n",
    "    item['name'] = request.json.get('name', item['name'])\n",
    "    item['description'] = request.json.get('description', item['description'])\n",
    "    return jsonify({'item': item})\n",
    "\n",
    "@app.route('/api/items/<int:item_id>', methods=['DELETE'])\n",
    "def delete_item(item_id):\n",
    "    \"\"\"Delete an item by ID\"\"\"\n",
    "    global items\n",
    "    items = [item for item in items if item['id'] != item_id]\n",
    "    return jsonify({'message': 'Item deleted'}), 200\n",
    "\n",
    "if __name__ == '__main__':\n",
    "    app.run(debug=True)\n"
   ]
  },
  {
   "cell_type": "markdown",
   "id": "df273d9d-358f-4b62-b2fa-278d6c88cdbc",
   "metadata": {},
   "source": [
    "Explanation\n",
    "\n",
    "    Import Flask Modules: Import Flask, jsonify, and request from the Flask module.\n",
    "\n",
    "    Initialize Flask Application: Create an instance of the Flask class.\n",
    "\n",
    "    Sample Data: Define a list of dictionaries as a sample in-memory data store.\n",
    "\n",
    "    Define API Endpoints:\n",
    "        GET /api/items: Returns a list of all items as JSON data.\n",
    "        GET /api/items/<int:item_id>: Returns a specific item by its ID. Returns a 404 error as JSON if the item is not found.\n",
    "        POST /api/items: Creates a new item using JSON data from the request body. Returns a 400 error as JSON if the request is invalid.\n",
    "        PUT /api/items/<int:item_id>: Updates an existing item. Returns a 404 error as JSON if the item is not found. Returns a 400 error as JSON if the request is invalid.\n",
    "        DELETE /api/items/<int:item_id>: Deletes an item by its ID. Returns a success message as JSON.\n",
    "\n",
    "    Run the Application: The app.run(debug=True) line starts the Flask development server with debugging enabled.\n",
    "\n",
    "4. Run the Flask Application\n",
    "\n",
    "Execute the Python file from the command line:"
   ]
  },
  {
   "cell_type": "markdown",
   "id": "1ba21319-93de-483f-ba56-1ac4a6719e41",
   "metadata": {},
   "source": [
    "5. Testing the API\n",
    "\n",
    "You can test the API using tools like curl, Postman, or directly from the browser (for GET requests).\n",
    "\n",
    "    GET all items: http://127.0.0.1:5000/api/items\n",
    "    GET a specific item: http://127.0.0.1:5000/api/items/1\n",
    "    POST a new item:\n",
    "        Use Postman or curl with JSON data to http://127.0.0.1:5000/api/items.\n",
    "        Example curl command:"
   ]
  },
  {
   "cell_type": "code",
   "execution_count": 2,
   "id": "7c75f483-9283-414d-8ae2-9131bd1d4cd8",
   "metadata": {},
   "outputs": [
    {
     "ename": "SyntaxError",
     "evalue": "invalid syntax (3247931997.py, line 1)",
     "output_type": "error",
     "traceback": [
      "\u001b[0;36m  Cell \u001b[0;32mIn[2], line 1\u001b[0;36m\u001b[0m\n\u001b[0;31m    curl -X POST -H \"Content-Type: application/json\" -d '{\"name\":\"Item 3\", \"description\":\"This is item 3\"}' http://127.0.0.1:5000/api/items\u001b[0m\n\u001b[0m            ^\u001b[0m\n\u001b[0;31mSyntaxError\u001b[0m\u001b[0;31m:\u001b[0m invalid syntax\n"
     ]
    }
   ],
   "source": [
    "curl -X POST -H \"Content-Type: application/json\" -d '{\"name\":\"Item 3\", \"description\":\"This is item 3\"}' http://127.0.0.1:5000/api/items\n"
   ]
  },
  {
   "cell_type": "markdown",
   "id": "5c134959-f42a-4598-8332-fea7ec8af0dd",
   "metadata": {},
   "source": [
    "PUT (update) an item:\n",
    "\n",
    "    Use Postman or curl with JSON data to http://127.0.0.1:5000/api/items/1.\n",
    "    Example curl command:"
   ]
  },
  {
   "cell_type": "code",
   "execution_count": 3,
   "id": "59947693-de73-4ced-8e6c-92b2a8e1d2cd",
   "metadata": {},
   "outputs": [
    {
     "ename": "SyntaxError",
     "evalue": "invalid syntax (697691992.py, line 1)",
     "output_type": "error",
     "traceback": [
      "\u001b[0;36m  Cell \u001b[0;32mIn[3], line 1\u001b[0;36m\u001b[0m\n\u001b[0;31m    curl -X PUT -H \"Content-Type: application/json\" -d '{\"name\":\"Updated Item 1\", \"description\":\"This is the updated item 1\"}' http://127.0.0.1:5000/api/items/1\u001b[0m\n\u001b[0m            ^\u001b[0m\n\u001b[0;31mSyntaxError\u001b[0m\u001b[0;31m:\u001b[0m invalid syntax\n"
     ]
    }
   ],
   "source": [
    "curl -X PUT -H \"Content-Type: application/json\" -d '{\"name\":\"Updated Item 1\", \"description\":\"This is the updated item 1\"}' http://127.0.0.1:5000/api/items/1\n"
   ]
  },
  {
   "cell_type": "markdown",
   "id": "d5f8af3e-dd26-4be1-840e-9a715f8ff2bc",
   "metadata": {},
   "source": [
    "DELETE an item:\n",
    "\n",
    "    Use Postman or curl to http://127.0.0.1:5000/api/items/1.\n",
    "    Example curl command:"
   ]
  },
  {
   "cell_type": "code",
   "execution_count": 4,
   "id": "d4fc6364-9350-4efe-9d32-9f7cb45ef30d",
   "metadata": {},
   "outputs": [
    {
     "ename": "SyntaxError",
     "evalue": "invalid syntax (3191979894.py, line 1)",
     "output_type": "error",
     "traceback": [
      "\u001b[0;36m  Cell \u001b[0;32mIn[4], line 1\u001b[0;36m\u001b[0m\n\u001b[0;31m    curl -X DELETE http://127.0.0.1:5000/api/items/1\u001b[0m\n\u001b[0m            ^\u001b[0m\n\u001b[0;31mSyntaxError\u001b[0m\u001b[0;31m:\u001b[0m invalid syntax\n"
     ]
    }
   ],
   "source": [
    "curl -X DELETE http://127.0.0.1:5000/api/items/1\n"
   ]
  },
  {
   "cell_type": "markdown",
   "id": "9bbef4d8-3e33-4b50-8b76-9709e68f6cca",
   "metadata": {},
   "source": [
    "Summary\n",
    "\n",
    "In this example, a simple RESTful API is created using Flask with endpoints for CRUD operations (Create, Read, Update, Delete) that return JSON data. The API uses JSON for communication and handles different HTTP methods to manage resources. This setup allows you to build a robust API for interacting with clients and other services."
   ]
  },
  {
   "cell_type": "raw",
   "id": "8b9f11d1-3fff-4325-9885-3840b7f141d8",
   "metadata": {},
   "source": [
    "Question.45. Explain hoe to use Flask-WTF to create and validate forms in a Flask application."
   ]
  },
  {
   "cell_type": "markdown",
   "id": "8ff06d71-923e-421c-b548-e0f4f674fd00",
   "metadata": {},
   "source": [
    "Flask-WTF is an extension for Flask that integrates the powerful WTForms library, which simplifies form creation and validation. Here’s a step-by-step guide to using Flask-WTF to create and validate forms in a Flask application.\n",
    "1. Install Flask-WTF\n",
    "\n",
    "First, install Flask-WTF using pip:"
   ]
  },
  {
   "cell_type": "markdown",
   "id": "03be5d80-1f42-4abc-8742-4ce262a7ba35",
   "metadata": {},
   "source": [
    "2. Set Up Your Flask Application\n",
    "\n",
    "Create a Python file for your Flask application, for example, app.py.\n",
    "3. Configure Flask-WTF\n",
    "\n",
    "In app.py, configure Flask-WTF by setting a secret key for CSRF protection.\n",
    "app.py"
   ]
  },
  {
   "cell_type": "code",
   "execution_count": 5,
   "id": "b4f8ea8c-3a85-45a3-83c3-9752d4b7654f",
   "metadata": {},
   "outputs": [
    {
     "ename": "ModuleNotFoundError",
     "evalue": "No module named 'flask'",
     "output_type": "error",
     "traceback": [
      "\u001b[0;31m---------------------------------------------------------------------------\u001b[0m",
      "\u001b[0;31mModuleNotFoundError\u001b[0m                       Traceback (most recent call last)",
      "Cell \u001b[0;32mIn[5], line 1\u001b[0m\n\u001b[0;32m----> 1\u001b[0m \u001b[38;5;28;01mfrom\u001b[39;00m \u001b[38;5;21;01mflask\u001b[39;00m \u001b[38;5;28;01mimport\u001b[39;00m Flask, render_template, redirect, url_for, flash\n\u001b[1;32m      2\u001b[0m \u001b[38;5;28;01mfrom\u001b[39;00m \u001b[38;5;21;01mflask_wtf\u001b[39;00m \u001b[38;5;28;01mimport\u001b[39;00m FlaskForm\n\u001b[1;32m      3\u001b[0m \u001b[38;5;28;01mfrom\u001b[39;00m \u001b[38;5;21;01mwtforms\u001b[39;00m \u001b[38;5;28;01mimport\u001b[39;00m StringField, PasswordField, SubmitField\n",
      "\u001b[0;31mModuleNotFoundError\u001b[0m: No module named 'flask'"
     ]
    }
   ],
   "source": [
    "from flask import Flask, render_template, redirect, url_for, flash\n",
    "from flask_wtf import FlaskForm\n",
    "from wtforms import StringField, PasswordField, SubmitField\n",
    "from wtforms.validators import DataRequired, Length, Email, EqualTo\n",
    "\n",
    "app = Flask(__name__)\n",
    "app.secret_key = 'your_secret_key'  # Change this to a random secret key\n",
    "\n",
    "# Define the form class\n",
    "class RegistrationForm(FlaskForm):\n",
    "    username = StringField('Username', validators=[DataRequired(), Length(min=2, max=20)])\n",
    "    email = StringField('Email', validators=[DataRequired(), Email()])\n",
    "    password = PasswordField('Password', validators=[DataRequired()])\n",
    "    confirm_password = PasswordField('Confirm Password', validators=[DataRequired(), EqualTo('password')])\n",
    "    submit = SubmitField('Sign Up')\n",
    "\n",
    "# Define the route to display and handle the form\n",
    "@app.route('/register', methods=['GET', 'POST'])\n",
    "def register():\n",
    "    form = RegistrationForm()\n",
    "    if form.validate_on_submit():\n",
    "        flash(f'Account created for {form.username.data}!', 'success')\n",
    "        return redirect(url_for('home'))\n",
    "    return render_template('register.html', title='Register', form=form)\n",
    "\n",
    "@app.route('/')\n",
    "def home():\n",
    "    return 'Welcome to the homepage!'\n",
    "\n",
    "if __name__ == '__main__':\n",
    "    app.run(debug=True)\n"
   ]
  },
  {
   "cell_type": "markdown",
   "id": "78992b64-8eca-46c6-850b-ece17122fab3",
   "metadata": {},
   "source": [
    "Explanation\n",
    "\n",
    "    Import Flask-WTF and WTForms: Import FlaskForm from flask_wtf and the necessary form fields and validators from wtforms.\n",
    "\n",
    "    Initialize Flask Application: Create an instance of the Flask class.\n",
    "\n",
    "    Configure Secret Key: Set app.secret_key to a random value for CSRF protection.\n",
    "\n",
    "    Define the Form Class:\n",
    "        RegistrationForm class inherits from FlaskForm.\n",
    "        Define form fields (username, email, password, confirm_password, and submit) with appropriate validators.\n",
    "        Validators ensure that the input meets certain criteria (e.g., required fields, email format, length constraints, and matching passwords).\n",
    "\n",
    "    Create a Route to Display and Handle the Form:\n",
    "        The /register route handles both GET and POST requests.\n",
    "        Create an instance of RegistrationForm.\n",
    "        Use form.validate_on_submit() to check if the form is submitted and valid.\n",
    "        If valid, display a success message using flash and redirect to the home page.\n",
    "        Render the form template for GET requests or when the form is invalid.\n",
    "\n",
    "    Home Route: Simple route for the home page.\n",
    "\n",
    "4. Create the Form Template\n",
    "\n",
    "Create a templates directory in the same folder as app.py, and add an HTML template for the registration form.\n",
    "templates/register.html"
   ]
  },
  {
   "cell_type": "code",
   "execution_count": 6,
   "id": "df4d2b8c-9832-4c3d-ad2f-044e099fb82b",
   "metadata": {},
   "outputs": [
    {
     "ename": "SyntaxError",
     "evalue": "invalid syntax (836170857.py, line 1)",
     "output_type": "error",
     "traceback": [
      "\u001b[0;36m  Cell \u001b[0;32mIn[6], line 1\u001b[0;36m\u001b[0m\n\u001b[0;31m    <!doctype html>\u001b[0m\n\u001b[0m    ^\u001b[0m\n\u001b[0;31mSyntaxError\u001b[0m\u001b[0;31m:\u001b[0m invalid syntax\n"
     ]
    }
   ],
   "source": [
    "<!doctype html>\n",
    "<html lang=\"en\">\n",
    "  <head>\n",
    "    <meta charset=\"utf-8\">\n",
    "    <title>{{ title }}</title>\n",
    "  </head>\n",
    "  <body>\n",
    "    <h1>Register</h1>\n",
    "    <form method=\"POST\" action=\"\">\n",
    "      {{ form.hidden_tag() }}\n",
    "      <div>\n",
    "        {{ form.username.label }}<br>\n",
    "        {{ form.username(size=32) }}<br>\n",
    "        {% for error in form.username.errors %}\n",
    "          <span style=\"color: red;\">[{{ error }}]</span>\n",
    "        {% endfor %}\n",
    "      </div>\n",
    "      <div>\n",
    "        {{ form.email.label }}<br>\n",
    "        {{ form.email(size=32) }}<br>\n",
    "        {% for error in form.email.errors %}\n",
    "          <span style=\"color: red;\">[{{ error }}]</span>\n",
    "        {% endfor %}\n",
    "      </div>\n",
    "      <div>\n",
    "        {{ form.password.label }}<br>\n",
    "        {{ form.password(size=32) }}<br>\n",
    "        {% for error in form.password.errors %}\n",
    "          <span style=\"color: red;\">[{{ error }}]</span>\n",
    "        {% endfor %}\n",
    "      </div>\n",
    "      <div>\n",
    "        {{ form.confirm_password.label }}<br>\n",
    "        {{ form.confirm_password(size=32) }}<br>\n",
    "        {% for error in form.confirm_password.errors %}\n",
    "          <span style=\"color: red;\">[{{ error }}]</span>\n",
    "        {% endfor %}\n",
    "      </div>\n",
    "      <div>\n",
    "        {{ form.submit() }}\n",
    "      </div>\n",
    "    </form>\n",
    "    {% with messages = get_flashed_messages(with_categories=true) %}\n",
    "      {% if messages %}\n",
    "        {% for category, message in messages %}\n",
    "          <div style=\"color: green;\">{{ message }}</div>\n",
    "        {% endfor %}\n",
    "      {% endif %}\n",
    "    {% endwith %}\n",
    "  </body>\n",
    "</html>\n"
   ]
  },
  {
   "cell_type": "markdown",
   "id": "a7b67f63-f90a-440e-8369-de8d822a3430",
   "metadata": {},
   "source": [
    "Explanation\n",
    "\n",
    "    Form Rendering:\n",
    "        Use form.hidden_tag() to include hidden fields required for CSRF protection.\n",
    "        Render each form field with labels and handle displaying errors if any validation fails.\n",
    "        Render the submit button.\n",
    "\n",
    "    Flash Messages:\n",
    "        Display flash messages if there are any (e.g., success message after a successful form submission).\n",
    "\n",
    "5. Run the Application\n",
    "\n",
    "To run the Flask application, execute the Python file:"
   ]
  },
  {
   "cell_type": "markdown",
   "id": "d4132261-8e02-4029-aa05-6492bb9b9856",
   "metadata": {},
   "source": [
    "6. Access the Form\n",
    "\n",
    "Open a web browser and navigate to http://127.0.0.1:5000/register to see the registration form. Fill out the form and submit it to see the validation and success message in action.\n",
    "Summary\n",
    "\n",
    "In this example, we used Flask-WTF to create and validate forms in a Flask application:\n",
    "\n",
    "    Install Flask-WTF and configure it with a secret key.\n",
    "    Define a form class using WTForms with fields and validators.\n",
    "    Create routes to handle form display and submission.\n",
    "    Render the form template with validation error messages and flash messages.\n",
    "\n",
    "This setup provides a robust way to handle form creation and validation in your Flask applications."
   ]
  },
  {
   "cell_type": "raw",
   "id": "44171439-b8a7-4e24-b746-b924e10c9498",
   "metadata": {},
   "source": [
    "Question.46. How can you implement file uploads in a Flask application?"
   ]
  },
  {
   "cell_type": "markdown",
   "id": "b0625f65-42b8-4fe9-892c-68e059553c52",
   "metadata": {},
   "source": [
    "Implementing file uploads in a Flask application involves several steps, including creating a form for file uploads, handling the file upload in the Flask route, and saving the uploaded file to a specified directory on the server. Here’s a step-by-step guide:\n",
    "1. Install Flask\n",
    "\n",
    "Ensure Flask is installed. You can install it using pip if you haven’t already:"
   ]
  },
  {
   "cell_type": "markdown",
   "id": "949aaf8d-9fc9-4356-a3b7-d35a8a29c70f",
   "metadata": {},
   "source": [
    "2. Set Up Your Flask Application\n",
    "\n",
    "Create a Python file for your Flask application, for example, app.py.\n",
    "3. Configure File Upload Settings\n",
    "\n",
    "In app.py, configure the settings for file uploads, including the directory to save the uplo\n",
    "\n",
    "aded files and the allowed file extensions.\n",
    "app.py\n",
    "\n",
    "\n"
   ]
  },
  {
   "cell_type": "code",
   "execution_count": 7,
   "id": "a66a7cd6-de7f-426b-bac0-149d96fc78f8",
   "metadata": {},
   "outputs": [
    {
     "ename": "ModuleNotFoundError",
     "evalue": "No module named 'flask'",
     "output_type": "error",
     "traceback": [
      "\u001b[0;31m---------------------------------------------------------------------------\u001b[0m",
      "\u001b[0;31mModuleNotFoundError\u001b[0m                       Traceback (most recent call last)",
      "Cell \u001b[0;32mIn[7], line 1\u001b[0m\n\u001b[0;32m----> 1\u001b[0m \u001b[38;5;28;01mfrom\u001b[39;00m \u001b[38;5;21;01mflask\u001b[39;00m \u001b[38;5;28;01mimport\u001b[39;00m Flask, render_template, request, redirect, url_for, flash\n\u001b[1;32m      2\u001b[0m \u001b[38;5;28;01mimport\u001b[39;00m \u001b[38;5;21;01mos\u001b[39;00m\n\u001b[1;32m      4\u001b[0m app \u001b[38;5;241m=\u001b[39m Flask(\u001b[38;5;18m__name__\u001b[39m)\n",
      "\u001b[0;31mModuleNotFoundError\u001b[0m: No module named 'flask'"
     ]
    }
   ],
   "source": [
    "from flask import Flask, render_template, request, redirect, url_for, flash\n",
    "import os\n",
    "\n",
    "app = Flask(__name__)\n",
    "app.secret_key = 'your_secret_key'  # Change this to a random secret key\n",
    "\n",
    "# Configure the upload folder and allowed extensions\n",
    "UPLOAD_FOLDER = 'uploads'\n",
    "ALLOWED_EXTENSIONS = {'png', 'jpg', 'jpeg', 'gif'}\n",
    "\n",
    "app.config['UPLOAD_FOLDER'] = UPLOAD_FOLDER\n",
    "\n",
    "# Ensure the upload folder exists\n",
    "if not os.path.exists(UPLOAD_FOLDER):\n",
    "    os.makedirs(UPLOAD_FOLDER)\n",
    "\n",
    "def allowed_file(filename):\n",
    "    return '.' in filename and filename.rsplit('.', 1)[1].lower() in ALLOWED_EXTENSIONS\n",
    "\n",
    "# Define the form template route\n",
    "@app.route('/')\n",
    "def upload_form():\n",
    "    return render_template('upload.html')\n",
    "\n",
    "# Define the file upload route\n",
    "@app.route('/upload', methods=['POST'])\n",
    "def upload_file():\n",
    "    if 'file' not in request.files:\n",
    "        flash('No file part')\n",
    "        return redirect(request.url)\n",
    "    file = request.files['file']\n",
    "    if file.filename == '':\n",
    "        flash('No selected file')\n",
    "        return redirect(request.url)\n",
    "    if file and allowed_file(file.filename):\n",
    "        filename = file.filename\n",
    "        file.save(os.path.join(app.config['UPLOAD_FOLDER'], filename))\n",
    "        flash('File successfully uploaded')\n",
    "        return redirect(url_for('upload_form'))\n",
    "    else:\n",
    "        flash('Allowed file types are png, jpg, jpeg, gif')\n",
    "        return redirect(request.url)\n",
    "\n",
    "if __name__ == '__main__':\n",
    "    app.run(debug=True)\n"
   ]
  },
  {
   "cell_type": "markdown",
   "id": "f4fc0d02-a261-4495-bff0-b5e3c7861967",
   "metadata": {},
   "source": [
    "Explanation\n",
    "\n",
    "    Import Modules: Import necessary modules including Flask and OS.\n",
    "\n",
    "    Initialize Flask Application: Create an instance of the Flask class.\n",
    "\n",
    "    Configure Upload Folder and Allowed Extensions:\n",
    "        UPLOAD_FOLDER is the directory where uploaded files will be saved.\n",
    "        ALLOWED_EXTENSIONS is a set of allowed file extensions.\n",
    "\n",
    "    Ensure Upload Folder Exists: Create the upload folder if it doesn’t already exist.\n",
    "\n",
    "    Define allowed_file Function: This function checks if the uploaded file has an allowed extension.\n",
    "\n",
    "    Create Routes:\n",
    "        upload_form(): Renders the HTML form for file uploads.\n",
    "        upload_file(): Handles the file upload. It checks for the file in the request, validates it, and saves it to the upload folder.\n",
    "\n",
    "4. Create the Upload Form Template\n",
    "\n",
    "Create a templates directory in the same folder as app.py, and add an HTML template for the file upload form.\n",
    "templates/upload.html"
   ]
  },
  {
   "cell_type": "code",
   "execution_count": 8,
   "id": "800b73e6-b41d-42a3-ad5d-cd048f483f54",
   "metadata": {},
   "outputs": [
    {
     "ename": "SyntaxError",
     "evalue": "invalid syntax (359388830.py, line 1)",
     "output_type": "error",
     "traceback": [
      "\u001b[0;36m  Cell \u001b[0;32mIn[8], line 1\u001b[0;36m\u001b[0m\n\u001b[0;31m    <!doctype html>\u001b[0m\n\u001b[0m    ^\u001b[0m\n\u001b[0;31mSyntaxError\u001b[0m\u001b[0;31m:\u001b[0m invalid syntax\n"
     ]
    }
   ],
   "source": [
    "<!doctype html>\n",
    "<html lang=\"en\">\n",
    "  <head>\n",
    "    <meta charset=\"utf-8\">\n",
    "    <title>File Upload</title>\n",
    "  </head>\n",
    "  <body>\n",
    "    <h1>Upload a File</h1>\n",
    "    <form method=\"POST\" action=\"/upload\" enctype=\"multipart/form-data\">\n",
    "      <input type=\"file\" name=\"file\">\n",
    "      <input type=\"submit\" value=\"Upload\">\n",
    "    </form>\n",
    "    {% with messages = get_flashed_messages(with_categories=true) %}\n",
    "      {% if messages %}\n",
    "        {% for category, message in messages %}\n",
    "          <div style=\"color: green;\">{{ message }}</div>\n",
    "        {% endfor %}\n",
    "      {% endif %}\n",
    "    {% endwith %}\n",
    "  </body>\n",
    "</html>\n"
   ]
  },
  {
   "cell_type": "markdown",
   "id": "722126b2-806a-4400-8313-cd7aff2dcb4f",
   "metadata": {},
   "source": [
    "Explanation\n",
    "\n",
    "    Form Tag: The form tag includes enctype=\"multipart/form-data\" to enable file uploads.\n",
    "    File Input: The input type is set to file to allow users to select a file.\n",
    "    Flash Messages: Display flash messages to provide feedback to the user.\n",
    "\n",
    "5. Run the Flask Application\n",
    "\n",
    "To run the Flask application, execute the Python file:"
   ]
  },
  {
   "cell_type": "markdown",
   "id": "d180cefd-05ae-4a30-8892-815188259771",
   "metadata": {},
   "source": [
    "6. Access the Upload Form\n",
    "\n",
    "Open a web browser and navigate to http://127.0.0.1:5000/ to see the file upload form. Select a file and click the \"Upload\" button to upload the file.\n",
    "Summary\n",
    "\n",
    "In this example, we implemented file uploads in a Flask application:\n",
    "\n",
    "    Configured the Flask application for file uploads.\n",
    "    Defined a function to check allowed file extensions.\n",
    "    Created routes to display the file upload form and handle file uploads.\n",
    "    Created an HTML template for the file upload form.\n",
    "\n",
    "This setup allows you to handle file uploads securely and efficiently in your Flask application."
   ]
  },
  {
   "cell_type": "raw",
   "id": "3d30d2e5-4aec-4eec-b9d7-e13b01d753ef",
   "metadata": {},
   "source": [
    "Question.47.Describe the steps to create a Flask blueprint and why you might use one."
   ]
  },
  {
   "cell_type": "markdown",
   "id": "82822718-f033-4599-8be1-f531a6491e8b",
   "metadata": {},
   "source": [
    "Flask blueprints help organize a Flask application into distinct components, making it easier to manage and scale. Blueprints allow you to split your application into smaller, reusable modules, which can be registered on the main application. Here’s a step-by-step guide on how to create and use Flask blueprints.\n",
    "Why Use Blueprints?\n",
    "\n",
    "    Modularity: Separate different parts of the application into distinct modules.\n",
    "    Reusability: Reuse blueprints across different projects.\n",
    "    Maintainability: Easier to maintain and update large applications by breaking them into smaller parts.\n",
    "    Organization: Keep related routes, templates, and static files together.\n",
    "\n",
    "Steps to Create a Flask Blueprint\n",
    "1. Set Up Your Flask Application\n",
    "\n",
    "Create the main Flask application, app.py.\n",
    "2. Create a Blueprint\n",
    "\n",
    "Create a directory structure for your blueprint. For example, create a auth directory for authentication-related routes."
   ]
  },
  {
   "cell_type": "code",
   "execution_count": 9,
   "id": "02956950-4c94-4996-9978-fe93a4a8aeda",
   "metadata": {},
   "outputs": [
    {
     "ename": "SyntaxError",
     "evalue": "invalid character '│' (U+2502) (3784698785.py, line 2)",
     "output_type": "error",
     "traceback": [
      "\u001b[0;36m  Cell \u001b[0;32mIn[9], line 2\u001b[0;36m\u001b[0m\n\u001b[0;31m    │\u001b[0m\n\u001b[0m    ^\u001b[0m\n\u001b[0;31mSyntaxError\u001b[0m\u001b[0;31m:\u001b[0m invalid character '│' (U+2502)\n"
     ]
    }
   ],
   "source": [
    "my_flask_app/\n",
    "│\n",
    "├── app.py\n",
    "└── auth/\n",
    "    ├── __init__.py\n",
    "    ├── routes.py\n",
    "    └── templates/\n",
    "        └── login.html\n"
   ]
  },
  {
   "cell_type": "markdown",
   "id": "cb30d5b5-3313-41b2-8429-5bf618e78ee7",
   "metadata": {},
   "source": [
    "3. Define the Blueprint\n",
    "\n",
    "In the auth directory, create the __init__.py and routes.py files.\n",
    "auth/__init__.py"
   ]
  },
  {
   "cell_type": "code",
   "execution_count": 10,
   "id": "401884e5-05ec-42fb-8625-5528894916bc",
   "metadata": {},
   "outputs": [
    {
     "ename": "ModuleNotFoundError",
     "evalue": "No module named 'flask'",
     "output_type": "error",
     "traceback": [
      "\u001b[0;31m---------------------------------------------------------------------------\u001b[0m",
      "\u001b[0;31mModuleNotFoundError\u001b[0m                       Traceback (most recent call last)",
      "Cell \u001b[0;32mIn[10], line 1\u001b[0m\n\u001b[0;32m----> 1\u001b[0m \u001b[38;5;28;01mfrom\u001b[39;00m \u001b[38;5;21;01mflask\u001b[39;00m \u001b[38;5;28;01mimport\u001b[39;00m Blueprint\n\u001b[1;32m      3\u001b[0m \u001b[38;5;66;03m# Define the blueprint\u001b[39;00m\n\u001b[1;32m      4\u001b[0m auth \u001b[38;5;241m=\u001b[39m Blueprint(\u001b[38;5;124m'\u001b[39m\u001b[38;5;124mauth\u001b[39m\u001b[38;5;124m'\u001b[39m, \u001b[38;5;18m__name__\u001b[39m)\n",
      "\u001b[0;31mModuleNotFoundError\u001b[0m: No module named 'flask'"
     ]
    }
   ],
   "source": [
    "from flask import Blueprint\n",
    "\n",
    "# Define the blueprint\n",
    "auth = Blueprint('auth', __name__)\n",
    "\n",
    "from . import routes\n"
   ]
  },
  {
   "cell_type": "markdown",
   "id": "47e9cfe1-c4b6-4e07-868b-4e76ec8e3b83",
   "metadata": {},
   "source": [
    "uth/routes.py"
   ]
  },
  {
   "cell_type": "code",
   "execution_count": 12,
   "id": "72940af6-3f90-4415-95ac-201dc07887d4",
   "metadata": {},
   "outputs": [
    {
     "ename": "SyntaxError",
     "evalue": "invalid syntax (1667354570.py, line 1)",
     "output_type": "error",
     "traceback": [
      "\u001b[0;36m  Cell \u001b[0;32mIn[12], line 1\u001b[0;36m\u001b[0m\n\u001b[0;31m    uth/routes.pyfrom flask import render_template, redirect, url_for, flash, request\u001b[0m\n\u001b[0m                      ^\u001b[0m\n\u001b[0;31mSyntaxError\u001b[0m\u001b[0;31m:\u001b[0m invalid syntax\n"
     ]
    }
   ],
   "source": [
    "uth/routes.pyfrom flask import render_template, redirect, url_for, flash, request\n",
    "from . import auth\n",
    "\n",
    "# Define routes for the blueprint\n",
    "@auth.route('/login', methods=['GET', 'POST'])\n",
    "def login():\n",
    "    if request.method == 'POST':\n",
    "        # Handle login logic here\n",
    "        flash('Login requested for user {}, remember_me={}'.format(request.form['username'], 'remember_me' in request.form))\n",
    "        return redirect(url_for('main.index'))\n",
    "    return render_template('login.html')\n",
    "\n",
    "@auth.route('/logout')\n",
    "def logout():\n",
    "    # Handle logout logic here\n",
    "    flash('You have been logged out.')\n",
    "    return redirect(url_for('main.index'))\n"
   ]
  },
  {
   "cell_type": "markdown",
   "id": "639c8a36-f84b-4b88-80b2-0f6ba3cd8016",
   "metadata": {},
   "source": [
    "4. Register the Blueprint\n",
    "\n",
    "In app.py, register the blueprint with the Flask application.\n",
    "app.py"
   ]
  },
  {
   "cell_type": "code",
   "execution_count": 13,
   "id": "3a43778e-8ab0-442e-a33d-e3b537d91e7e",
   "metadata": {},
   "outputs": [
    {
     "ename": "ModuleNotFoundError",
     "evalue": "No module named 'flask'",
     "output_type": "error",
     "traceback": [
      "\u001b[0;31m---------------------------------------------------------------------------\u001b[0m",
      "\u001b[0;31mModuleNotFoundError\u001b[0m                       Traceback (most recent call last)",
      "Cell \u001b[0;32mIn[13], line 1\u001b[0m\n\u001b[0;32m----> 1\u001b[0m \u001b[38;5;28;01mfrom\u001b[39;00m \u001b[38;5;21;01mflask\u001b[39;00m \u001b[38;5;28;01mimport\u001b[39;00m Flask\n\u001b[1;32m      2\u001b[0m \u001b[38;5;28;01mfrom\u001b[39;00m \u001b[38;5;21;01mauth\u001b[39;00m \u001b[38;5;28;01mimport\u001b[39;00m auth \u001b[38;5;28;01mas\u001b[39;00m auth_blueprint\n\u001b[1;32m      4\u001b[0m app \u001b[38;5;241m=\u001b[39m Flask(\u001b[38;5;18m__name__\u001b[39m)\n",
      "\u001b[0;31mModuleNotFoundError\u001b[0m: No module named 'flask'"
     ]
    }
   ],
   "source": [
    "from flask import Flask\n",
    "from auth import auth as auth_blueprint\n",
    "\n",
    "app = Flask(__name__)\n",
    "app.secret_key = 'your_secret_key'  # Change this to a random secret key\n",
    "\n",
    "# Register the blueprint\n",
    "app.register_blueprint(auth_blueprint, url_prefix='/auth')\n",
    "\n",
    "@app.route('/')\n",
    "def index():\n",
    "    return 'Welcome to the main page!'\n",
    "\n",
    "if __name__ == '__main__':\n",
    "    app.run(debug=True)\n"
   ]
  },
  {
   "cell_type": "markdown",
   "id": "dad4836f-8318-472a-9d76-4c17995b5bc5",
   "metadata": {},
   "source": [
    "Explanation\n",
    "\n",
    "    Create Blueprint: In auth/__init__.py, create a blueprint using Blueprint('auth', __name__).\n",
    "\n",
    "    Define Routes: In auth/routes.py, define routes for the blueprint. Import and use the blueprint from auth/__init__.py.\n",
    "\n",
    "    Register Blueprint: In app.py, register the blueprint using app.register_blueprint(auth_blueprint, url_prefix='/auth'). The url_prefix ensures that all routes in the blueprint are prefixed with /auth.\n",
    "\n",
    "5. Create Templates\n",
    "\n",
    "Create the necessary templates in the auth/templates directory.\n",
    "auth/templates/login.html"
   ]
  },
  {
   "cell_type": "code",
   "execution_count": 14,
   "id": "977d7edf-e95e-4c20-939c-97acd8163d5f",
   "metadata": {},
   "outputs": [
    {
     "ename": "SyntaxError",
     "evalue": "invalid syntax (3075898500.py, line 1)",
     "output_type": "error",
     "traceback": [
      "\u001b[0;36m  Cell \u001b[0;32mIn[14], line 1\u001b[0;36m\u001b[0m\n\u001b[0;31m    <!doctype html>\u001b[0m\n\u001b[0m    ^\u001b[0m\n\u001b[0;31mSyntaxError\u001b[0m\u001b[0;31m:\u001b[0m invalid syntax\n"
     ]
    }
   ],
   "source": [
    "<!doctype html>\n",
    "<html lang=\"en\">\n",
    "  <head>\n",
    "    <meta charset=\"utf-8\">\n",
    "    <title>Login</title>\n",
    "  </head>\n",
    "  <body>\n",
    "    <h1>Login</h1>\n",
    "    <form method=\"POST\" action=\"{{ url_for('auth.login') }}\">\n",
    "      <label for=\"username\">Username:</label>\n",
    "      <input type=\"text\" id=\"username\" name=\"username\"><br>\n",
    "      <label for=\"password\">Password:</label>\n",
    "      <input type=\"password\" id=\"password\" name=\"password\"><br>\n",
    "      <label for=\"remember_me\">Remember Me:</label>\n",
    "      <input type=\"checkbox\" id=\"remember_me\" name=\"remember_me\"><br>\n",
    "      <input type=\"submit\" value=\"Login\">\n",
    "    </form>\n",
    "    {% with messages = get_flashed_messages(with_categories=true) %}\n",
    "      {% if messages %}\n",
    "        {% for category, message in messages %}\n",
    "          <div style=\"color: green;\">{{ message }}</div>\n",
    "        {% endfor %}\n",
    "      {% endif %}\n",
    "    {% endwith %}\n",
    "  </body>\n",
    "</html>\n"
   ]
  },
  {
   "cell_type": "markdown",
   "id": "5be34c38-7145-4d45-b247-164a1a8ece3a",
   "metadata": {},
   "source": [
    "6. Run the Flask Application\n",
    "\n",
    "To run the Flask application, execute the Python file:"
   ]
  },
  {
   "cell_type": "markdown",
   "id": "e2a92842-cb68-40ad-a501-34734de26893",
   "metadata": {},
   "source": [
    "7. Access the Application\n",
    "\n",
    "    Main Page: Open a web browser and navigate to http://127.0.0.1:5000/ to see the main page.\n",
    "    Login Page: Navigate to http://127.0.0.1:5000/auth/login to see the login page.\n",
    "\n",
    "Summary\n",
    "\n",
    "In this example, we created a Flask blueprint for handling authentication:\n",
    "\n",
    "    Set up the main Flask application (app.py).\n",
    "    Created a blueprint in the auth directory with __init__.py and routes.py.\n",
    "    Defined routes within the blueprint.\n",
    "    Registered the blueprint in the main application with a URL prefix.\n",
    "    Created templates for the blueprint routes.\n",
    "\n",
    "Using blueprints helps to organize and modularize your Flask application, making it easier to manage and scale."
   ]
  },
  {
   "cell_type": "raw",
   "id": "1a6a925c-7aad-44d6-a143-97e4dba68632",
   "metadata": {},
   "source": [
    "Question.48. How would you deploy a Flask application to a production server using Gunicorn and Nginx?"
   ]
  },
  {
   "cell_type": "markdown",
   "id": "60fdff83-623f-4a78-b86b-8d3952036beb",
   "metadata": {},
   "source": [
    "Deploying a Flask application to a production server using Gunicorn and Nginx involves several steps. Here’s a comprehensive guide to help you through the process:\n",
    "Prerequisites\n",
    "\n",
    "    A Flask application.\n",
    "    A server with a Unix-like operating system (e.g., Ubuntu).\n",
    "    Root or sudo access to the server.\n",
    "\n",
    "Steps to Deploy a Flask Application\n",
    "1. Set Up the Server\n",
    "\n",
    "Ensure your server is up-to-date and install necessary packages."
   ]
  },
  {
   "cell_type": "code",
   "execution_count": 15,
   "id": "58ceb038-b46a-4603-987f-0f116850aa4e",
   "metadata": {},
   "outputs": [
    {
     "ename": "SyntaxError",
     "evalue": "invalid syntax (2239405490.py, line 1)",
     "output_type": "error",
     "traceback": [
      "\u001b[0;36m  Cell \u001b[0;32mIn[15], line 1\u001b[0;36m\u001b[0m\n\u001b[0;31m    sudo apt update\u001b[0m\n\u001b[0m         ^\u001b[0m\n\u001b[0;31mSyntaxError\u001b[0m\u001b[0;31m:\u001b[0m invalid syntax\n"
     ]
    }
   ],
   "source": [
    "sudo apt update\n",
    "sudo apt upgrade\n",
    "sudo apt install python3-pip python3-dev nginx\n"
   ]
  },
  {
   "cell_type": "markdown",
   "id": "be4ecf07-3208-4c9a-959d-4ea5eecceeea",
   "metadata": {},
   "source": [
    "2. Install and Configure Virtual Environment\n",
    "\n",
    "Create a virtual environment for your Flask application."
   ]
  },
  {
   "cell_type": "code",
   "execution_count": 16,
   "id": "ae3e64ca-5cd1-400f-9c09-a868b5b581d7",
   "metadata": {},
   "outputs": [
    {
     "ename": "SyntaxError",
     "evalue": "invalid syntax (990056917.py, line 1)",
     "output_type": "error",
     "traceback": [
      "\u001b[0;36m  Cell \u001b[0;32mIn[16], line 1\u001b[0;36m\u001b[0m\n\u001b[0;31m    sudo apt install python3-venv\u001b[0m\n\u001b[0m         ^\u001b[0m\n\u001b[0;31mSyntaxError\u001b[0m\u001b[0;31m:\u001b[0m invalid syntax\n"
     ]
    }
   ],
   "source": [
    "sudo apt install python3-venv\n",
    "cd /path/to/your/flask/app\n",
    "python3 -m venv venv\n",
    "source venv/bin/activate\n"
   ]
  },
  {
   "cell_type": "markdown",
   "id": "a4b5caaf-d1f5-4eb4-ba05-90cabcd00c14",
   "metadata": {},
   "source": [
    "3. Install Flask and Gunicorn\n",
    "\n",
    "Install Flask and Gunicorn within your virtual environment."
   ]
  },
  {
   "cell_type": "markdown",
   "id": "b8a109f1-42c4-4947-b5a1-7fc47798a1aa",
   "metadata": {},
   "source": [
    "4. Create a Gunicorn Configuration\n",
    "\n",
    "Create a Gunicorn configuration file to define how your application will be run. Create a file named wsgi.py in your Flask application directory."
   ]
  },
  {
   "cell_type": "code",
   "execution_count": 17,
   "id": "6bbadca0-4cc8-4e76-af71-e2c8139cd460",
   "metadata": {},
   "outputs": [
    {
     "ename": "ModuleNotFoundError",
     "evalue": "No module named 'your_flask_app'",
     "output_type": "error",
     "traceback": [
      "\u001b[0;31m---------------------------------------------------------------------------\u001b[0m",
      "\u001b[0;31mModuleNotFoundError\u001b[0m                       Traceback (most recent call last)",
      "Cell \u001b[0;32mIn[17], line 1\u001b[0m\n\u001b[0;32m----> 1\u001b[0m \u001b[38;5;28;01mfrom\u001b[39;00m \u001b[38;5;21;01myour_flask_app\u001b[39;00m \u001b[38;5;28;01mimport\u001b[39;00m app\n\u001b[1;32m      3\u001b[0m \u001b[38;5;28;01mif\u001b[39;00m \u001b[38;5;18m__name__\u001b[39m \u001b[38;5;241m==\u001b[39m \u001b[38;5;124m\"\u001b[39m\u001b[38;5;124m__main__\u001b[39m\u001b[38;5;124m\"\u001b[39m:\n\u001b[1;32m      4\u001b[0m     app\u001b[38;5;241m.\u001b[39mrun()\n",
      "\u001b[0;31mModuleNotFoundError\u001b[0m: No module named 'your_flask_app'"
     ]
    }
   ],
   "source": [
    "from your_flask_app import app\n",
    "\n",
    "if __name__ == \"__main__\":\n",
    "    app.run()\n"
   ]
  },
  {
   "cell_type": "markdown",
   "id": "9b01de58-54a5-45bc-bcb0-a84176d59678",
   "metadata": {},
   "source": [
    "5. Test Gunicorn\n",
    "\n",
    "Test running your application with Gunicorn."
   ]
  },
  {
   "cell_type": "code",
   "execution_count": 18,
   "id": "75129abb-25f1-403a-81b3-2771887d3319",
   "metadata": {},
   "outputs": [
    {
     "ename": "SyntaxError",
     "evalue": "invalid syntax (516086572.py, line 1)",
     "output_type": "error",
     "traceback": [
      "\u001b[0;36m  Cell \u001b[0;32mIn[18], line 1\u001b[0;36m\u001b[0m\n\u001b[0;31m    gunicorn --bind 0.0.0.0:8000 wsgi:app\u001b[0m\n\u001b[0m                    ^\u001b[0m\n\u001b[0;31mSyntaxError\u001b[0m\u001b[0;31m:\u001b[0m invalid syntax\n"
     ]
    }
   ],
   "source": [
    "gunicorn --bind 0.0.0.0:8000 wsgi:app\n"
   ]
  },
  {
   "cell_type": "markdown",
   "id": "dba3a9eb-2e4e-49b1-b7d4-0c5d080297c0",
   "metadata": {},
   "source": [
    "Ensure your Flask app is running correctly at http://your_server_ip:8000.\n",
    "6. Set Up Systemd Service\n",
    "\n",
    "Create a systemd service file to manage your Gunicorn application. Create a file named your_flask_app.service in /etc/systemd/system/."
   ]
  },
  {
   "cell_type": "code",
   "execution_count": 19,
   "id": "9270b68d-493a-4ccb-8da6-0b44bba71ea5",
   "metadata": {},
   "outputs": [
    {
     "ename": "SyntaxError",
     "evalue": "leading zeros in decimal integer literals are not permitted; use an 0o prefix for octal integers (638167044.py, line 10)",
     "output_type": "error",
     "traceback": [
      "\u001b[0;36m  Cell \u001b[0;32mIn[19], line 10\u001b[0;36m\u001b[0m\n\u001b[0;31m    ExecStart=/path/to/your/flask/app/venv/bin/gunicorn --workers 3 --bind unix:your_flask_app.sock -m 007 wsgi:app\u001b[0m\n\u001b[0m                                                                                                       ^\u001b[0m\n\u001b[0;31mSyntaxError\u001b[0m\u001b[0;31m:\u001b[0m leading zeros in decimal integer literals are not permitted; use an 0o prefix for octal integers\n"
     ]
    }
   ],
   "source": [
    "[Unit]\n",
    "Description=Gunicorn instance to serve your_flask_app\n",
    "After=network.target\n",
    "\n",
    "[Service]\n",
    "User=your_user\n",
    "Group=www-data\n",
    "WorkingDirectory=/path/to/your/flask/app\n",
    "Environment=\"PATH=/path/to/your/flask/app/venv/bin\"\n",
    "ExecStart=/path/to/your/flask/app/venv/bin/gunicorn --workers 3 --bind unix:your_flask_app.sock -m 007 wsgi:app\n",
    "\n",
    "[Install]\n",
    "WantedBy=multi-user.target\n"
   ]
  },
  {
   "cell_type": "markdown",
   "id": "e6528f48-420b-4177-9007-4ef26f5546a6",
   "metadata": {},
   "source": [
    "Enable and start the Gunicorn service."
   ]
  },
  {
   "cell_type": "code",
   "execution_count": 20,
   "id": "31f50553-6b4d-442d-b178-fc32f2616920",
   "metadata": {},
   "outputs": [
    {
     "ename": "SyntaxError",
     "evalue": "invalid syntax (2897361614.py, line 1)",
     "output_type": "error",
     "traceback": [
      "\u001b[0;36m  Cell \u001b[0;32mIn[20], line 1\u001b[0;36m\u001b[0m\n\u001b[0;31m    sudo systemctl start your_flask_app\u001b[0m\n\u001b[0m         ^\u001b[0m\n\u001b[0;31mSyntaxError\u001b[0m\u001b[0;31m:\u001b[0m invalid syntax\n"
     ]
    }
   ],
   "source": [
    "sudo systemctl start your_flask_app\n",
    "sudo systemctl enable your_flask_app\n"
   ]
  },
  {
   "cell_type": "markdown",
   "id": "b8cbe7ff-6839-431a-b3ca-00c6eddb5b5a",
   "metadata": {},
   "source": [
    "7. Configure Nginx\n",
    "\n",
    "Create an Nginx configuration file for your Flask application. Create a file named your_flask_app in /etc/nginx/sites-available/."
   ]
  },
  {
   "cell_type": "code",
   "execution_count": 21,
   "id": "150f4e44-f717-4fed-bcd4-b2a50b51fd73",
   "metadata": {},
   "outputs": [
    {
     "ename": "SyntaxError",
     "evalue": "invalid syntax. Perhaps you forgot a comma? (1005343669.py, line 2)",
     "output_type": "error",
     "traceback": [
      "\u001b[0;36m  Cell \u001b[0;32mIn[21], line 2\u001b[0;36m\u001b[0m\n\u001b[0;31m    listen 80;\u001b[0m\n\u001b[0m    ^\u001b[0m\n\u001b[0;31mSyntaxError\u001b[0m\u001b[0;31m:\u001b[0m invalid syntax. Perhaps you forgot a comma?\n"
     ]
    }
   ],
   "source": [
    "server {\n",
    "    listen 80;\n",
    "    server_name your_server_domain_or_IP;\n",
    "\n",
    "    location / {\n",
    "        include proxy_params;\n",
    "        proxy_pass http://unix:/path/to/your/flask/app/your_flask_app.sock;\n",
    "    }\n",
    "\n",
    "    location /static {\n",
    "        alias /path/to/your/flask/app/static;\n",
    "    }\n",
    "}\n"
   ]
  },
  {
   "cell_type": "markdown",
   "id": "8669ebde-9515-41fd-8260-02cf19c6d17f",
   "metadata": {},
   "source": [
    "Enable the Nginx configuration by creating a symlink."
   ]
  },
  {
   "cell_type": "code",
   "execution_count": 22,
   "id": "1b3c8e60-6d9a-483f-ac19-24565d0ef9c9",
   "metadata": {},
   "outputs": [
    {
     "ename": "SyntaxError",
     "evalue": "invalid syntax (2328359132.py, line 1)",
     "output_type": "error",
     "traceback": [
      "\u001b[0;36m  Cell \u001b[0;32mIn[22], line 1\u001b[0;36m\u001b[0m\n\u001b[0;31m    sudo ln -s /etc/nginx/sites-available/your_flask_app /etc/nginx/sites-enabled\u001b[0m\n\u001b[0m         ^\u001b[0m\n\u001b[0;31mSyntaxError\u001b[0m\u001b[0;31m:\u001b[0m invalid syntax\n"
     ]
    }
   ],
   "source": [
    "sudo ln -s /etc/nginx/sites-available/your_flask_app /etc/nginx/sites-enabled\n"
   ]
  },
  {
   "cell_type": "code",
   "execution_count": 23,
   "id": "fcade8fc-2287-49a9-b383-bdb8ce52e672",
   "metadata": {},
   "outputs": [
    {
     "ename": "SyntaxError",
     "evalue": "invalid syntax (1168123628.py, line 1)",
     "output_type": "error",
     "traceback": [
      "\u001b[0;36m  Cell \u001b[0;32mIn[23], line 1\u001b[0;36m\u001b[0m\n\u001b[0;31m    Test the Nginx configuration and restart Nginx\u001b[0m\n\u001b[0m         ^\u001b[0m\n\u001b[0;31mSyntaxError\u001b[0m\u001b[0;31m:\u001b[0m invalid syntax\n"
     ]
    }
   ],
   "source": [
    "Test the Nginx configuration and restart Nginx"
   ]
  },
  {
   "cell_type": "code",
   "execution_count": 24,
   "id": "f873c5c5-93ec-4ef1-a6da-b8bc48d125fc",
   "metadata": {},
   "outputs": [
    {
     "ename": "SyntaxError",
     "evalue": "invalid syntax (2571807310.py, line 1)",
     "output_type": "error",
     "traceback": [
      "\u001b[0;36m  Cell \u001b[0;32mIn[24], line 1\u001b[0;36m\u001b[0m\n\u001b[0;31m    sudo nginx -t\u001b[0m\n\u001b[0m         ^\u001b[0m\n\u001b[0;31mSyntaxError\u001b[0m\u001b[0;31m:\u001b[0m invalid syntax\n"
     ]
    }
   ],
   "source": [
    "sudo nginx -t\n",
    "sudo systemctl restart nginx\n"
   ]
  },
  {
   "cell_type": "markdown",
   "id": "ea44411e-c03e-4b67-9334-21d95bbcf91a",
   "metadata": {},
   "source": [
    "8. Adjust Firewall Rules\n",
    "\n",
    "Ensure that your firewall allows HTTP and HTTPS traffic."
   ]
  },
  {
   "cell_type": "code",
   "execution_count": 25,
   "id": "110d6991-612d-461f-a927-af75e89a7af3",
   "metadata": {},
   "outputs": [
    {
     "ename": "SyntaxError",
     "evalue": "invalid syntax (3996913672.py, line 1)",
     "output_type": "error",
     "traceback": [
      "\u001b[0;36m  Cell \u001b[0;32mIn[25], line 1\u001b[0;36m\u001b[0m\n\u001b[0;31m    sudo ufw allow 'Nginx Full'\u001b[0m\n\u001b[0m         ^\u001b[0m\n\u001b[0;31mSyntaxError\u001b[0m\u001b[0;31m:\u001b[0m invalid syntax\n"
     ]
    }
   ],
   "source": [
    "sudo ufw allow 'Nginx Full'\n",
    "sudo ufw delete allow 'Nginx HTTP'\n"
   ]
  },
  {
   "cell_type": "markdown",
   "id": "9ee5367d-675e-4e59-a62e-1058a7f89684",
   "metadata": {},
   "source": [
    "9. Verify Deployment\n",
    "\n",
    "Your Flask application should now be running on your server’s IP or domain name. Navigate to http://your_server_domain_or_IP to verify that your application is up and running.\n",
    "Summary\n",
    "\n",
    "In this guide, we covered how to deploy a Flask application to a production server using Gunicorn and Nginx:\n",
    "\n",
    "    Set up the server: Ensure the server is up-to-date and install necessary packages.\n",
    "    Install and configure a virtual environment: Set up a virtual environment for your Flask application.\n",
    "    Install Flask and Gunicorn: Install necessary packages within the virtual environment.\n",
    "    Create a Gunicorn configuration: Define how your application will be run.\n",
    "    Test Gunicorn: Ensure your Flask app runs correctly with Gunicorn.\n",
    "    Set up a systemd service: Manage your Gunicorn application with systemd.\n",
    "    Configure Nginx: Set up Nginx to reverse proxy to your Gunicorn application.\n",
    "    Adjust firewall rules: Ensure that your firewall allows HTTP and HTTPS traffic.\n",
    "    Verify deployment: Check that your application is running on your server’s IP or domain name.\n",
    "\n",
    "By following these steps, you can successfully deploy a Flask application to a production server using Gunicorn and Nginx."
   ]
  },
  {
   "cell_type": "raw",
   "id": "aa13bad7-796b-41f2-98c1-af99f2e779c2",
   "metadata": {},
   "source": [
    "Question.49.Make a fully functional web application using flask,Mongodb. Signup,Signin page. And after successfully login. Say hello Geeks message at webpage."
   ]
  },
  {
   "cell_type": "markdown",
   "id": "42e4c000-1974-452e-9a00-a90c978eeaec",
   "metadata": {},
   "source": [
    "Creating a fully functional web application using Flask and MongoDB involves several steps, including setting up the project, configuring the database, and implementing user authentication. Here’s a comprehensive guide to help you through the process.\n",
    "Prerequisites\n",
    "\n",
    "    Python installed on your machine.\n",
    "    MongoDB installed and running on your machine or a MongoDB Atlas cluster.\n",
    "\n",
    "Steps to Create the Web Application\n",
    "1. Set Up the Project\n",
    "\n",
    "Create a project directory and set up a virtual environment."
   ]
  },
  {
   "cell_type": "code",
   "execution_count": 26,
   "id": "244ba9d0-2bec-47c1-afaf-2c3b2493441a",
   "metadata": {},
   "outputs": [
    {
     "ename": "SyntaxError",
     "evalue": "invalid syntax (1946734746.py, line 1)",
     "output_type": "error",
     "traceback": [
      "\u001b[0;36m  Cell \u001b[0;32mIn[26], line 1\u001b[0;36m\u001b[0m\n\u001b[0;31m    mkdir flask_mongodb_app\u001b[0m\n\u001b[0m          ^\u001b[0m\n\u001b[0;31mSyntaxError\u001b[0m\u001b[0;31m:\u001b[0m invalid syntax\n"
     ]
    }
   ],
   "source": [
    "mkdir flask_mongodb_app\n",
    "cd flask_mongodb_app\n",
    "python3 -m venv venv\n",
    "source venv/bin/activate\n"
   ]
  },
  {
   "cell_type": "markdown",
   "id": "abc2727b-716a-4cb4-8d42-d12854c1c827",
   "metadata": {},
   "source": [
    "Install the necessary packages."
   ]
  },
  {
   "cell_type": "code",
   "execution_count": 27,
   "id": "b6c52896-0517-45ee-9a64-25e3ddc2f18f",
   "metadata": {},
   "outputs": [
    {
     "name": "stdout",
     "output_type": "stream",
     "text": [
      "Collecting Flask\n",
      "  Downloading flask-3.0.3-py3-none-any.whl (101 kB)\n",
      "\u001b[2K     \u001b[90m━━━━━━━━━━━━━━━━━━━━━━━━━━━━━━━━━━━━━━━\u001b[0m \u001b[32m101.7/101.7 kB\u001b[0m \u001b[31m3.7 MB/s\u001b[0m eta \u001b[36m0:00:00\u001b[0m\n",
      "\u001b[?25hCollecting Flask-PyMongo\n",
      "  Downloading Flask_PyMongo-2.3.0-py2.py3-none-any.whl (12 kB)\n",
      "Collecting Flask-WTF\n",
      "  Downloading flask_wtf-1.2.1-py3-none-any.whl (12 kB)\n",
      "Collecting Flask-Bcrypt\n",
      "  Downloading Flask_Bcrypt-1.0.1-py3-none-any.whl (6.0 kB)\n",
      "Collecting Flask-Login\n",
      "  Downloading Flask_Login-0.6.3-py3-none-any.whl (17 kB)\n",
      "Collecting Werkzeug>=3.0.0\n",
      "  Downloading werkzeug-3.0.3-py3-none-any.whl (227 kB)\n",
      "\u001b[2K     \u001b[90m━━━━━━━━━━━━━━━━━━━━━━━━━━━━━━━━━━━━━━\u001b[0m \u001b[32m227.3/227.3 kB\u001b[0m \u001b[31m27.5 MB/s\u001b[0m eta \u001b[36m0:00:00\u001b[0m\n",
      "\u001b[?25hRequirement already satisfied: click>=8.1.3 in /opt/conda/lib/python3.10/site-packages (from Flask) (8.1.3)\n",
      "Collecting blinker>=1.6.2\n",
      "  Downloading blinker-1.8.2-py3-none-any.whl (9.5 kB)\n",
      "Requirement already satisfied: Jinja2>=3.1.2 in /opt/conda/lib/python3.10/site-packages (from Flask) (3.1.2)\n",
      "Collecting itsdangerous>=2.1.2\n",
      "  Downloading itsdangerous-2.2.0-py3-none-any.whl (16 kB)\n",
      "Collecting PyMongo>=3.3\n",
      "  Downloading pymongo-4.8.0-cp310-cp310-manylinux_2_17_x86_64.manylinux2014_x86_64.whl (1.2 MB)\n",
      "\u001b[2K     \u001b[90m━━━━━━━━━━━━━━━━━━━━━━━━━━━━━━━━━━━━━━━━\u001b[0m \u001b[32m1.2/1.2 MB\u001b[0m \u001b[31m60.2 MB/s\u001b[0m eta \u001b[36m0:00:00\u001b[0m\n",
      "\u001b[?25hCollecting wtforms\n",
      "  Downloading wtforms-3.1.2-py3-none-any.whl (145 kB)\n",
      "\u001b[2K     \u001b[90m━━━━━━━━━━━━━━━━━━━━━━━━━━━━━━━━━━━━━━\u001b[0m \u001b[32m146.0/146.0 kB\u001b[0m \u001b[31m22.1 MB/s\u001b[0m eta \u001b[36m0:00:00\u001b[0m\n",
      "\u001b[?25hCollecting bcrypt>=3.1.1\n",
      "  Downloading bcrypt-4.2.0-cp39-abi3-manylinux_2_28_x86_64.whl (273 kB)\n",
      "\u001b[2K     \u001b[90m━━━━━━━━━━━━━━━━━━━━━━━━━━━━━━━━━━━━━━\u001b[0m \u001b[32m273.8/273.8 kB\u001b[0m \u001b[31m31.9 MB/s\u001b[0m eta \u001b[36m0:00:00\u001b[0m\n",
      "\u001b[?25hRequirement already satisfied: MarkupSafe>=2.0 in /opt/conda/lib/python3.10/site-packages (from Jinja2>=3.1.2->Flask) (2.1.1)\n",
      "Collecting dnspython<3.0.0,>=1.16.0\n",
      "  Downloading dnspython-2.6.1-py3-none-any.whl (307 kB)\n",
      "\u001b[2K     \u001b[90m━━━━━━━━━━━━━━━━━━━━━━━━━━━━━━━━━━━━━━\u001b[0m \u001b[32m307.7/307.7 kB\u001b[0m \u001b[31m36.7 MB/s\u001b[0m eta \u001b[36m0:00:00\u001b[0m\n",
      "\u001b[?25hInstalling collected packages: wtforms, Werkzeug, itsdangerous, dnspython, blinker, bcrypt, PyMongo, Flask, Flask-WTF, Flask-PyMongo, Flask-Login, Flask-Bcrypt\n",
      "  Attempting uninstall: blinker\n",
      "    Found existing installation: blinker 1.5\n",
      "    Uninstalling blinker-1.5:\n",
      "      Successfully uninstalled blinker-1.5\n",
      "Successfully installed Flask-3.0.3 Flask-Bcrypt-1.0.1 Flask-Login-0.6.3 Flask-PyMongo-2.3.0 Flask-WTF-1.2.1 PyMongo-4.8.0 Werkzeug-3.0.3 bcrypt-4.2.0 blinker-1.8.2 dnspython-2.6.1 itsdangerous-2.2.0 wtforms-3.1.2\n",
      "Note: you may need to restart the kernel to use updated packages.\n"
     ]
    }
   ],
   "source": [
    "pip install Flask Flask-PyMongo Flask-WTF Flask-Bcrypt Flask-Login\n"
   ]
  },
  {
   "cell_type": "markdown",
   "id": "fb887607-0cbd-4534-88f8-63d40080fac8",
   "metadata": {},
   "source": [
    "2. Create the Flask Application Structure\n",
    "\n",
    "Create the following directory structure:"
   ]
  },
  {
   "cell_type": "code",
   "execution_count": 29,
   "id": "4eaeb344-afbd-42bc-b3ef-0ca07fb25814",
   "metadata": {},
   "outputs": [
    {
     "ename": "SyntaxError",
     "evalue": "invalid character '│' (U+2502) (204326871.py, line 2)",
     "output_type": "error",
     "traceback": [
      "\u001b[0;36m  Cell \u001b[0;32mIn[29], line 2\u001b[0;36m\u001b[0m\n\u001b[0;31m    │\u001b[0m\n\u001b[0m    ^\u001b[0m\n\u001b[0;31mSyntaxError\u001b[0m\u001b[0;31m:\u001b[0m invalid character '│' (U+2502)\n"
     ]
    }
   ],
   "source": [
    "flask_mongodb_app/\n",
    "│\n",
    "├── app.py\n",
    "├── config.py\n",
    "├── models.py\n",
    "├── forms.py\n",
    "├── templates/\n",
    "│   ├── base.html\n",
    "│   ├── signup.html\n",
    "│   ├── signin.html\n",
    "│   ├── welcome.html\n",
    "└── static/\n"
   ]
  },
  {
   "cell_type": "markdown",
   "id": "82bdcbdd-eba6-43be-9cf6-c26a611fd6ad",
   "metadata": {},
   "source": [
    "3. Configure the Flask Application\n",
    "\n",
    "Create a config.py file to store configuration variables."
   ]
  },
  {
   "cell_type": "code",
   "execution_count": 30,
   "id": "16004cad-d9fc-4628-be5b-213575cc7fe1",
   "metadata": {},
   "outputs": [],
   "source": [
    "# config.py\n",
    "\n",
    "import os\n",
    "\n",
    "class Config:\n",
    "    SECRET_KEY = os.environ.get('SECRET_KEY') or 'a_secret_key'\n",
    "    MONGO_URI = os.environ.get('MONGO_URI') or 'mongodb://localhost:27017/flask_mongodb_app'\n"
   ]
  },
  {
   "cell_type": "markdown",
   "id": "5e46d91f-52b0-4001-8d45-ca89a2ae1884",
   "metadata": {},
   "source": [
    "4. Create Models\n",
    "\n",
    "Create a models.py file to define user models."
   ]
  },
  {
   "cell_type": "code",
   "execution_count": 31,
   "id": "864263e8-ea55-4b8e-8244-7b99d79cbdee",
   "metadata": {},
   "outputs": [],
   "source": [
    "# models.py\n",
    "\n",
    "from flask_pymongo import PyMongo\n",
    "from flask_bcrypt import Bcrypt\n",
    "from flask_login import UserMixin\n",
    "\n",
    "mongo = PyMongo()\n",
    "bcrypt = Bcrypt()\n",
    "\n",
    "class User(UserMixin):\n",
    "    def __init__(self, username, email, password_hash):\n",
    "        self.username = username\n",
    "        self.email = email\n",
    "        self.password_hash = password_hash\n",
    "\n",
    "    def get_id(self):\n",
    "        return self.username\n"
   ]
  },
  {
   "cell_type": "markdown",
   "id": "c1d4751a-212a-44d1-b472-7f99008f21ee",
   "metadata": {},
   "source": [
    "5. Create Forms\n",
    "\n",
    "Create a forms.py file to define the forms for sign-up and sign-in."
   ]
  },
  {
   "cell_type": "code",
   "execution_count": 32,
   "id": "248d7cf7-41c5-48a2-b6b1-453f7eb7bbe4",
   "metadata": {},
   "outputs": [
    {
     "ename": "ModuleNotFoundError",
     "evalue": "No module named 'models'",
     "output_type": "error",
     "traceback": [
      "\u001b[0;31m---------------------------------------------------------------------------\u001b[0m",
      "\u001b[0;31mModuleNotFoundError\u001b[0m                       Traceback (most recent call last)",
      "Cell \u001b[0;32mIn[32], line 6\u001b[0m\n\u001b[1;32m      4\u001b[0m \u001b[38;5;28;01mfrom\u001b[39;00m \u001b[38;5;21;01mwtforms\u001b[39;00m \u001b[38;5;28;01mimport\u001b[39;00m StringField, PasswordField, SubmitField\n\u001b[1;32m      5\u001b[0m \u001b[38;5;28;01mfrom\u001b[39;00m \u001b[38;5;21;01mwtforms\u001b[39;00m\u001b[38;5;21;01m.\u001b[39;00m\u001b[38;5;21;01mvalidators\u001b[39;00m \u001b[38;5;28;01mimport\u001b[39;00m DataRequired, Email, EqualTo, ValidationError\n\u001b[0;32m----> 6\u001b[0m \u001b[38;5;28;01mfrom\u001b[39;00m \u001b[38;5;21;01mmodels\u001b[39;00m \u001b[38;5;28;01mimport\u001b[39;00m mongo\n\u001b[1;32m      8\u001b[0m \u001b[38;5;28;01mclass\u001b[39;00m \u001b[38;5;21;01mSignupForm\u001b[39;00m(FlaskForm):\n\u001b[1;32m      9\u001b[0m     username \u001b[38;5;241m=\u001b[39m StringField(\u001b[38;5;124m'\u001b[39m\u001b[38;5;124mUsername\u001b[39m\u001b[38;5;124m'\u001b[39m, validators\u001b[38;5;241m=\u001b[39m[DataRequired()])\n",
      "\u001b[0;31mModuleNotFoundError\u001b[0m: No module named 'models'"
     ]
    }
   ],
   "source": [
    "# forms.py\n",
    "\n",
    "from flask_wtf import FlaskForm\n",
    "from wtforms import StringField, PasswordField, SubmitField\n",
    "from wtforms.validators import DataRequired, Email, EqualTo, ValidationError\n",
    "from models import mongo\n",
    "\n",
    "class SignupForm(FlaskForm):\n",
    "    username = StringField('Username', validators=[DataRequired()])\n",
    "    email = StringField('Email', validators=[DataRequired(), Email()])\n",
    "    password = PasswordField('Password', validators=[DataRequired()])\n",
    "    confirm_password = PasswordField('Confirm Password', validators=[DataRequired(), EqualTo('password')])\n",
    "    submit = SubmitField('Sign Up')\n",
    "\n",
    "    def validate_username(self, username):\n",
    "        user = mongo.db.users.find_one({'username': username.data})\n",
    "        if user:\n",
    "            raise ValidationError('Username is already taken.')\n",
    "\n",
    "    def validate_email(self, email):\n",
    "        user = mongo.db.users.find_one({'email': email.data})\n",
    "        if user:\n",
    "            raise ValidationError('Email is already taken.')\n",
    "\n",
    "class SigninForm(FlaskForm):\n",
    "    email = StringField('Email', validators=[DataRequired(), Email()])\n",
    "    password = PasswordField('Password', validators=[DataRequired()])\n",
    "    submit = SubmitField('Sign In')\n"
   ]
  },
  {
   "cell_type": "markdown",
   "id": "7cf2ac3f-ad58-4b1b-aff0-054a1118abd1",
   "metadata": {},
   "source": [
    "6. Create Templates\n",
    "\n",
    "Create HTML templates in the templates directory.\n",
    "base.html"
   ]
  },
  {
   "cell_type": "code",
   "execution_count": 33,
   "id": "ed89be9a-abae-492a-9bbe-fc9d65682f75",
   "metadata": {},
   "outputs": [
    {
     "ename": "SyntaxError",
     "evalue": "invalid syntax (2894645370.py, line 1)",
     "output_type": "error",
     "traceback": [
      "\u001b[0;36m  Cell \u001b[0;32mIn[33], line 1\u001b[0;36m\u001b[0m\n\u001b[0;31m    <!doctype html>\u001b[0m\n\u001b[0m    ^\u001b[0m\n\u001b[0;31mSyntaxError\u001b[0m\u001b[0;31m:\u001b[0m invalid syntax\n"
     ]
    }
   ],
   "source": [
    "<!doctype html>\n",
    "<html lang=\"en\">\n",
    "  <head>\n",
    "    <meta charset=\"utf-8\">\n",
    "    <title>{{ title }}</title>\n",
    "  </head>\n",
    "  <body>\n",
    "    <div>\n",
    "      {% block content %}\n",
    "      {% endblock %}\n",
    "    </div>\n",
    "  </body>\n",
    "</html>\n"
   ]
  },
  {
   "cell_type": "markdown",
   "id": "030f4a15-f4b5-4063-8d06-786ae40faa71",
   "metadata": {},
   "source": [
    "signup.html"
   ]
  },
  {
   "cell_type": "code",
   "execution_count": 34,
   "id": "c68af85c-b94f-4383-9200-68c173731947",
   "metadata": {},
   "outputs": [
    {
     "ename": "SyntaxError",
     "evalue": "invalid syntax (3560769229.py, line 1)",
     "output_type": "error",
     "traceback": [
      "\u001b[0;36m  Cell \u001b[0;32mIn[34], line 1\u001b[0;36m\u001b[0m\n\u001b[0;31m    {% extends \"base.html\" %}\u001b[0m\n\u001b[0m     ^\u001b[0m\n\u001b[0;31mSyntaxError\u001b[0m\u001b[0;31m:\u001b[0m invalid syntax\n"
     ]
    }
   ],
   "source": [
    "{% extends \"base.html\" %}\n",
    "\n",
    "{% block content %}\n",
    "  <h2>Sign Up</h2>\n",
    "  <form method=\"POST\" action=\"\">\n",
    "    {{ form.hidden_tag() }}\n",
    "    <div>\n",
    "      {{ form.username.label }}<br>\n",
    "      {{ form.username(size=32) }}<br>\n",
    "      {% for error in form.username.errors %}\n",
    "        <span style=\"color: red;\">[{{ error }}]</span>\n",
    "      {% endfor %}\n",
    "    </div>\n",
    "    <div>\n",
    "      {{ form.email.label }}<br>\n",
    "      {{ form.email(size=32) }}<br>\n",
    "      {% for error in form.email.errors %}\n",
    "        <span style=\"color: red;\">[{{ error }}]</span>\n",
    "      {% endfor %}\n",
    "    </div>\n",
    "    <div>\n",
    "      {{ form.password.label }}<br>\n",
    "      {{ form.password(size=32) }}<br>\n",
    "      {% for error in form.password.errors %}\n",
    "        <span style=\"color: red;\">[{{ error }}]</span>\n",
    "      {% endfor %}\n",
    "    </div>\n",
    "    <div>\n",
    "      {{ form.confirm_password.label }}<br>\n",
    "      {{ form.confirm_password(size=32) }}<br>\n",
    "      {% for error in form.confirm_password.errors %}\n",
    "        <span style=\"color: red;\">[{{ error }}]</span>\n",
    "      {% endfor %}\n",
    "    </div>\n",
    "    <div>\n",
    "      {{ form.submit() }}\n",
    "    </div>\n",
    "  </form>\n",
    "{% endblock %}\n"
   ]
  },
  {
   "cell_type": "markdown",
   "id": "6aeed68b-d968-495d-a0b2-7bfff8d10015",
   "metadata": {},
   "source": [
    "signin.html"
   ]
  },
  {
   "cell_type": "code",
   "execution_count": 35,
   "id": "81176831-b079-4a07-943c-bb5eb7e537ab",
   "metadata": {},
   "outputs": [
    {
     "ename": "SyntaxError",
     "evalue": "invalid syntax (2836650753.py, line 1)",
     "output_type": "error",
     "traceback": [
      "\u001b[0;36m  Cell \u001b[0;32mIn[35], line 1\u001b[0;36m\u001b[0m\n\u001b[0;31m    {% extends \"base.html\" %}\u001b[0m\n\u001b[0m     ^\u001b[0m\n\u001b[0;31mSyntaxError\u001b[0m\u001b[0;31m:\u001b[0m invalid syntax\n"
     ]
    }
   ],
   "source": [
    "{% extends \"base.html\" %}\n",
    "\n",
    "{% block content %}\n",
    "  <h2>Sign In</h2>\n",
    "  <form method=\"POST\" action=\"\">\n",
    "    {{ form.hidden_tag() }}\n",
    "    <div>\n",
    "      {{ form.email.label }}<br>\n",
    "      {{ form.email(size=32) }}<br>\n",
    "      {% for error in form.email.errors %}\n",
    "        <span style=\"color: red;\">[{{ error }}]</span>\n",
    "      {% endfor %}\n",
    "    </div>\n",
    "    <div>\n",
    "      {{ form.password.label }}<br>\n",
    "      {{ form.password(size=32) }}<br>\n",
    "      {% for error in form.password.errors %}\n",
    "        <span style=\"color: red;\">[{{ error }}]</span>\n",
    "      {% endfor %}\n",
    "    </div>\n",
    "    <div>\n",
    "      {{ form.submit() }}\n",
    "    </div>\n",
    "  </form>\n",
    "{% endblock %}\n"
   ]
  },
  {
   "cell_type": "markdown",
   "id": "3464956c-4da3-483b-95cc-327fb4ecf31c",
   "metadata": {},
   "source": [
    "welcome.html"
   ]
  },
  {
   "cell_type": "code",
   "execution_count": 36,
   "id": "3798e2c6-edbf-4fb0-9557-d398e515a11e",
   "metadata": {},
   "outputs": [
    {
     "ename": "SyntaxError",
     "evalue": "invalid syntax (1685389106.py, line 1)",
     "output_type": "error",
     "traceback": [
      "\u001b[0;36m  Cell \u001b[0;32mIn[36], line 1\u001b[0;36m\u001b[0m\n\u001b[0;31m    {% extends \"base.html\" %}\u001b[0m\n\u001b[0m     ^\u001b[0m\n\u001b[0;31mSyntaxError\u001b[0m\u001b[0;31m:\u001b[0m invalid syntax\n"
     ]
    }
   ],
   "source": [
    "{% extends \"base.html\" %}\n",
    "\n",
    "{% block content %}\n",
    "  <h1>Hello, Geeks!</h1>\n",
    "{% endblock %}\n"
   ]
  },
  {
   "cell_type": "markdown",
   "id": "7370acac-fa95-49e1-adf9-c2b6b4eb3c7b",
   "metadata": {},
   "source": [
    "7. Create the Flask Application\n",
    "\n",
    "Create app.py to initialize the Flask application, configure MongoDB, and define routes."
   ]
  },
  {
   "cell_type": "code",
   "execution_count": 37,
   "id": "460dcb38-2c11-4cf2-84e7-d543a3b8b1ca",
   "metadata": {},
   "outputs": [
    {
     "ename": "ModuleNotFoundError",
     "evalue": "No module named 'config'",
     "output_type": "error",
     "traceback": [
      "\u001b[0;31m---------------------------------------------------------------------------\u001b[0m",
      "\u001b[0;31mModuleNotFoundError\u001b[0m                       Traceback (most recent call last)",
      "Cell \u001b[0;32mIn[37], line 5\u001b[0m\n\u001b[1;32m      3\u001b[0m \u001b[38;5;28;01mfrom\u001b[39;00m \u001b[38;5;21;01mflask\u001b[39;00m \u001b[38;5;28;01mimport\u001b[39;00m Flask, render_template, redirect, url_for, flash, request\n\u001b[1;32m      4\u001b[0m \u001b[38;5;28;01mfrom\u001b[39;00m \u001b[38;5;21;01mflask_login\u001b[39;00m \u001b[38;5;28;01mimport\u001b[39;00m LoginManager, login_user, logout_user, login_required, current_user\n\u001b[0;32m----> 5\u001b[0m \u001b[38;5;28;01mfrom\u001b[39;00m \u001b[38;5;21;01mconfig\u001b[39;00m \u001b[38;5;28;01mimport\u001b[39;00m Config\n\u001b[1;32m      6\u001b[0m \u001b[38;5;28;01mfrom\u001b[39;00m \u001b[38;5;21;01mmodels\u001b[39;00m \u001b[38;5;28;01mimport\u001b[39;00m mongo, bcrypt, User\n\u001b[1;32m      7\u001b[0m \u001b[38;5;28;01mfrom\u001b[39;00m \u001b[38;5;21;01mforms\u001b[39;00m \u001b[38;5;28;01mimport\u001b[39;00m SignupForm, SigninForm\n",
      "\u001b[0;31mModuleNotFoundError\u001b[0m: No module named 'config'"
     ]
    }
   ],
   "source": [
    "# app.py\n",
    "\n",
    "from flask import Flask, render_template, redirect, url_for, flash, request\n",
    "from flask_login import LoginManager, login_user, logout_user, login_required, current_user\n",
    "from config import Config\n",
    "from models import mongo, bcrypt, User\n",
    "from forms import SignupForm, SigninForm\n",
    "\n",
    "app = Flask(__name__)\n",
    "app.config.from_object(Config)\n",
    "\n",
    "mongo.init_app(app)\n",
    "login_manager = LoginManager(app)\n",
    "login_manager.login_view = 'signin'\n",
    "\n",
    "@login_manager.user_loader\n",
    "def load_user(user_id):\n",
    "    user = mongo.db.users.find_one({'username': user_id})\n",
    "    if not user:\n",
    "        return None\n",
    "    return User(user['username'], user['email'], user['password_hash'])\n",
    "\n",
    "@app.route('/signup', methods=['GET', 'POST'])\n",
    "def signup():\n",
    "    form = SignupForm()\n",
    "    if form.validate_on_submit():\n",
    "        hashed_password = bcrypt.generate_password_hash(form.password.data).decode('utf-8')\n",
    "        mongo.db.users.insert_one({\n",
    "            'username': form.username.data,\n",
    "            'email': form.email.data,\n",
    "            'password_hash': hashed_password\n",
    "        })\n",
    "        flash('Account created successfully!', 'success')\n",
    "        return redirect(url_for('signin'))\n",
    "    return render_template('signup.html', form=form, title='Sign Up')\n",
    "\n",
    "@app.route('/signin', methods=['GET', 'POST'])\n",
    "def signin():\n",
    "    form = SigninForm()\n",
    "    if form.validate_on_submit():\n",
    "        user = mongo.db.users.find_one({'email': form.email.data})\n",
    "        if user and bcrypt.check_password_hash(user['password_hash'], form.password.data):\n",
    "            user_obj = User(user['username'], user['email'], user['password_hash'])\n",
    "            login_user(user_obj)\n",
    "            flash('Logged in successfully!', 'success')\n",
    "            return redirect(url_for('welcome'))\n",
    "        else:\n",
    "            flash('Login Unsuccessful. Please check email and password', 'danger')\n",
    "    return render_template('signin.html', form=form, title='Sign In')\n",
    "\n",
    "@app.route('/logout')\n",
    "@login_required\n",
    "def logout():\n",
    "    logout_user()\n",
    "    flash('You have been logged out.', 'info')\n",
    "    return redirect(url_for('signin'))\n",
    "\n",
    "@app.route('/welcome')\n",
    "@login_required\n",
    "def welcome():\n",
    "    return render_template('welcome.html', title='Welcome')\n",
    "\n",
    "@app.route('/')\n",
    "def home():\n",
    "    return redirect(url_for('signin'))\n",
    "\n",
    "if __name__ == '__main__':\n",
    "    app.run(debug=True)\n"
   ]
  },
  {
   "cell_type": "code",
   "execution_count": 38,
   "id": "d8e6fa74-c973-4900-82d7-d31eabff482a",
   "metadata": {},
   "outputs": [
    {
     "ename": "ModuleNotFoundError",
     "evalue": "No module named 'config'",
     "output_type": "error",
     "traceback": [
      "\u001b[0;31m---------------------------------------------------------------------------\u001b[0m",
      "\u001b[0;31mModuleNotFoundError\u001b[0m                       Traceback (most recent call last)",
      "Cell \u001b[0;32mIn[38], line 5\u001b[0m\n\u001b[1;32m      3\u001b[0m \u001b[38;5;28;01mfrom\u001b[39;00m \u001b[38;5;21;01mflask\u001b[39;00m \u001b[38;5;28;01mimport\u001b[39;00m Flask, render_template, redirect, url_for, flash, request\n\u001b[1;32m      4\u001b[0m \u001b[38;5;28;01mfrom\u001b[39;00m \u001b[38;5;21;01mflask_login\u001b[39;00m \u001b[38;5;28;01mimport\u001b[39;00m LoginManager, login_user, logout_user, login_required, current_user\n\u001b[0;32m----> 5\u001b[0m \u001b[38;5;28;01mfrom\u001b[39;00m \u001b[38;5;21;01mconfig\u001b[39;00m \u001b[38;5;28;01mimport\u001b[39;00m Config\n\u001b[1;32m      6\u001b[0m \u001b[38;5;28;01mfrom\u001b[39;00m \u001b[38;5;21;01mmodels\u001b[39;00m \u001b[38;5;28;01mimport\u001b[39;00m mongo, bcrypt, User\n\u001b[1;32m      7\u001b[0m \u001b[38;5;28;01mfrom\u001b[39;00m \u001b[38;5;21;01mforms\u001b[39;00m \u001b[38;5;28;01mimport\u001b[39;00m SignupForm, SigninForm\n",
      "\u001b[0;31mModuleNotFoundError\u001b[0m: No module named 'config'"
     ]
    }
   ],
   "source": [
    "# app.py\n",
    "\n",
    "from flask import Flask, render_template, redirect, url_for, flash, request\n",
    "from flask_login import LoginManager, login_user, logout_user, login_required, current_user\n",
    "from config import Config\n",
    "from models import mongo, bcrypt, User\n",
    "from forms import SignupForm, SigninForm\n",
    "\n",
    "app = Flask(__name__)\n",
    "app.config.from_object(Config)\n",
    "\n",
    "mongo.init_app(app)\n",
    "login_manager = LoginManager(app)\n",
    "login_manager.login_view = 'signin'\n",
    "\n",
    "@login_manager.user_loader\n",
    "def load_user(user_id):\n",
    "    user = mongo.db.users.find_one({'username': user_id})\n",
    "    if not user:\n",
    "        return None\n",
    "    return User(user['username'], user['email'], user['password_hash'])\n",
    "\n",
    "@app.route('/signup', methods=['GET', 'POST'])\n",
    "def signup():\n",
    "    form = SignupForm()\n",
    "    if form.validate_on_submit():\n",
    "        hashed_password = bcrypt.generate_password_hash(form.password.data).decode('utf-8')\n",
    "        mongo.db.users.insert_one({\n",
    "            'username': form.username.data,\n",
    "            'email': form.email.data,\n",
    "            'password_hash': hashed_password\n",
    "        })\n",
    "        flash('Account created successfully!', 'success')\n",
    "        return redirect(url_for('signin'))\n",
    "    return render_template('signup.html', form=form, title='Sign Up')\n",
    "\n",
    "@app.route('/signin', methods=['GET', 'POST'])\n",
    "def signin():\n",
    "    form = SigninForm()\n",
    "    if form.validate_on_submit():\n",
    "        user = mongo.db.users.find_one({'email': form.email.data})\n",
    "        if user and bcrypt.check_password_hash(user['password_hash'], form.password.data):\n",
    "            user_obj = User(user['username'], user['email'], user['password_hash'])\n",
    "            login_user(user_obj)\n",
    "            flash('Logged in successfully!', 'success')\n",
    "            return redirect(url_for('welcome'))\n",
    "        else:\n",
    "            flash('Login Unsuccessful. Please check email and password', 'danger')\n",
    "    return render_template('signin.html', form=form, title='Sign In')\n",
    "\n",
    "@app.route('/logout')\n",
    "@login_required\n",
    "def logout():\n",
    "    logout_user()\n",
    "    flash('You have been logged out.', 'info')\n",
    "    return redirect(url_for('signin'))\n",
    "\n",
    "@app.route('/welcome')\n",
    "@login_required\n",
    "def welcome():\n",
    "    return render_template('welcome.html', title='Welcome')\n",
    "\n",
    "@app.route('/')\n",
    "def home():\n",
    "    return redirect(url_for('signin'))\n",
    "\n",
    "if __name__ == '__main__':\n",
    "    app.run(debug=True)\n"
   ]
  },
  {
   "cell_type": "markdown",
   "id": "3aa1c03e-72b9-403d-9bce-51373a74bcf4",
   "metadata": {},
   "source": [
    "Explanation\n",
    "\n",
    "    Configuration: The application is configured using the config.py file, which includes the secret key and MongoDB URI.\n",
    "\n",
    "    Models: The User class represents the user model. bcrypt is used for password hashing.\n",
    "\n",
    "    Forms: The SignupForm and SigninForm handle user input and validation.\n",
    "\n",
    "    Templates: The HTML templates handle the front-end for user signup, signin, and displaying the welcome message.\n",
    "\n",
    "    Routes: The routes handle user signup, signin, logout, and display the welcome page for logged-in users.\n",
    "\n",
    "8. Run the Flask Application\n",
    "\n",
    "To run the Flask application, execute the following command"
   ]
  },
  {
   "cell_type": "markdown",
   "id": "07189c7c-3171-4d79-aea6-9c300434733b",
   "metadata": {},
   "source": [
    "9. Access the Application\n",
    "\n",
    "Open a web browser and navigate to http://127.0.0.1:5000/ to access the sign-in page. From there, we can navigate to the sign-up page and create a new account.\n",
    "\n",
    "By following these steps, you will have a fully functional web application using Flask and MongoDB, complete with user signup, signin, and a welcome page for authenticated users."
   ]
  },
  {
   "cell_type": "markdown",
   "id": "8036b363-9226-4707-9e17-06ca9b4b81a9",
   "metadata": {},
   "source": [
    "# Machine Learning"
   ]
  },
  {
   "cell_type": "raw",
   "id": "dd95fc6f-1a8b-412a-a843-3f85f47bb6a3",
   "metadata": {},
   "source": [
    "Question.50. What is the difference between Series & Dataframes."
   ]
  },
  {
   "cell_type": "markdown",
   "id": "696749e6-e547-4301-a1a5-a4f49a102e5a",
   "metadata": {},
   "source": [
    "Series: A one-dimensional labeled array capable of holding any data type. It can be thought of as a single column of data.\n",
    "DataFrame: A two-dimensional labeled data structure with columns of potentially different types. It is similar to a spreadsheet or SQL table."
   ]
  },
  {
   "cell_type": "raw",
   "id": "6dedf1d6-60cf-4c7a-a2a9-106519a05ea7",
   "metadata": {},
   "source": [
    "Question.51. Create a database name Travel_Planner in mysql, and create a table name bookings in that which having attributes (user_id INT, flight_id INT, hotel_id INT, activity_id INT, booking_date DATE), fill with some dummy value. Now you have to read the content of this table using pandas as dataframe. Show the output. "
   ]
  },
  {
   "cell_type": "markdown",
   "id": "74521d4c-006e-4040-9940-2eb802df97da",
   "metadata": {},
   "source": [
    "Step 1: Create the Database and Table in MySQL\n",
    "\n",
    "First, you need to create a database and table in MySQL. Here’s the SQL code to do that:"
   ]
  },
  {
   "cell_type": "code",
   "execution_count": 39,
   "id": "d0e57ae2-5c6e-4edf-9f23-dd109e57e744",
   "metadata": {},
   "outputs": [
    {
     "ename": "SyntaxError",
     "evalue": "invalid syntax (2845409231.py, line 1)",
     "output_type": "error",
     "traceback": [
      "\u001b[0;36m  Cell \u001b[0;32mIn[39], line 1\u001b[0;36m\u001b[0m\n\u001b[0;31m    CREATE DATABASE Travel_Planner;\u001b[0m\n\u001b[0m           ^\u001b[0m\n\u001b[0;31mSyntaxError\u001b[0m\u001b[0;31m:\u001b[0m invalid syntax\n"
     ]
    }
   ],
   "source": [
    "CREATE DATABASE Travel_Planner;\n",
    "\n",
    "USE Travel_Planner;\n",
    "\n",
    "CREATE TABLE bookings (\n",
    "    user_id INT,\n",
    "    flight_id INT,\n",
    "    hotel_id INT,\n",
    "    activity_id INT,\n",
    "    booking_date DATE\n",
    ");\n",
    "\n",
    "INSERT INTO bookings (user_id, flight_id, hotel_id, activity_id, booking_date) VALUES\n",
    "(1, 101, 201, 301, '2024-07-01'),\n",
    "(2, 102, 202, 302, '2024-07-02'),\n",
    "(3, 103, 203, 303, '2024-07-03');\n"
   ]
  },
  {
   "cell_type": "markdown",
   "id": "b7422781-6f58-4469-bacf-ef1d56efda91",
   "metadata": {},
   "source": [
    "Step 2: Reading the Content Using Pandas\n",
    "\n",
    "You can use the pandas library in Python to read the content of this table."
   ]
  },
  {
   "cell_type": "code",
   "execution_count": 40,
   "id": "9a90943f-e390-4d06-b94b-06611f1c6408",
   "metadata": {},
   "outputs": [
    {
     "ename": "ModuleNotFoundError",
     "evalue": "No module named 'mysql'",
     "output_type": "error",
     "traceback": [
      "\u001b[0;31m---------------------------------------------------------------------------\u001b[0m",
      "\u001b[0;31mModuleNotFoundError\u001b[0m                       Traceback (most recent call last)",
      "Cell \u001b[0;32mIn[40], line 2\u001b[0m\n\u001b[1;32m      1\u001b[0m \u001b[38;5;28;01mimport\u001b[39;00m \u001b[38;5;21;01mpandas\u001b[39;00m \u001b[38;5;28;01mas\u001b[39;00m \u001b[38;5;21;01mpd\u001b[39;00m\n\u001b[0;32m----> 2\u001b[0m \u001b[38;5;28;01mimport\u001b[39;00m \u001b[38;5;21;01mmysql\u001b[39;00m\u001b[38;5;21;01m.\u001b[39;00m\u001b[38;5;21;01mconnector\u001b[39;00m\n\u001b[1;32m      4\u001b[0m \u001b[38;5;66;03m# Establish a database connection\u001b[39;00m\n\u001b[1;32m      5\u001b[0m conn \u001b[38;5;241m=\u001b[39m mysql\u001b[38;5;241m.\u001b[39mconnector\u001b[38;5;241m.\u001b[39mconnect(\n\u001b[1;32m      6\u001b[0m     host\u001b[38;5;241m=\u001b[39m\u001b[38;5;124m\"\u001b[39m\u001b[38;5;124myour_host\u001b[39m\u001b[38;5;124m\"\u001b[39m,\n\u001b[1;32m      7\u001b[0m     user\u001b[38;5;241m=\u001b[39m\u001b[38;5;124m\"\u001b[39m\u001b[38;5;124myour_username\u001b[39m\u001b[38;5;124m\"\u001b[39m,\n\u001b[1;32m      8\u001b[0m     password\u001b[38;5;241m=\u001b[39m\u001b[38;5;124m\"\u001b[39m\u001b[38;5;124myour_password\u001b[39m\u001b[38;5;124m\"\u001b[39m,\n\u001b[1;32m      9\u001b[0m     database\u001b[38;5;241m=\u001b[39m\u001b[38;5;124m\"\u001b[39m\u001b[38;5;124mTravel_Planner\u001b[39m\u001b[38;5;124m\"\u001b[39m\n\u001b[1;32m     10\u001b[0m )\n",
      "\u001b[0;31mModuleNotFoundError\u001b[0m: No module named 'mysql'"
     ]
    }
   ],
   "source": [
    "import pandas as pd\n",
    "import mysql.connector\n",
    "\n",
    "# Establish a database connection\n",
    "conn = mysql.connector.connect(\n",
    "    host=\"your_host\",\n",
    "    user=\"your_username\",\n",
    "    password=\"your_password\",\n",
    "    database=\"Travel_Planner\"\n",
    ")\n",
    "\n",
    "# Query the database and load data into a DataFrame\n",
    "query = \"SELECT * FROM bookings\"\n",
    "df = pd.read_sql(query, conn)\n",
    "\n",
    "# Show the DataFrame\n",
    "print(df)\n"
   ]
  },
  {
   "cell_type": "raw",
   "id": "9e3b0743-6296-434b-ba8a-5b390267ee0f",
   "metadata": {},
   "source": [
    "Question.53. Difference between loc and iloc."
   ]
  },
  {
   "cell_type": "markdown",
   "id": "adc3ad00-6b0b-4165-ac26-087b2a820ebb",
   "metadata": {},
   "source": [
    "oc: Access a group of rows and columns by labels or a boolean array."
   ]
  },
  {
   "cell_type": "code",
   "execution_count": 41,
   "id": "06de102b-2f72-4d28-a4eb-b99d3f36118c",
   "metadata": {},
   "outputs": [
    {
     "ename": "NameError",
     "evalue": "name 'df' is not defined",
     "output_type": "error",
     "traceback": [
      "\u001b[0;31m---------------------------------------------------------------------------\u001b[0m",
      "\u001b[0;31mNameError\u001b[0m                                 Traceback (most recent call last)",
      "Cell \u001b[0;32mIn[41], line 1\u001b[0m\n\u001b[0;32m----> 1\u001b[0m \u001b[43mdf\u001b[49m\u001b[38;5;241m.\u001b[39mloc[\u001b[38;5;241m0\u001b[39m:\u001b[38;5;241m2\u001b[39m, [\u001b[38;5;124m'\u001b[39m\u001b[38;5;124muser_id\u001b[39m\u001b[38;5;124m'\u001b[39m, \u001b[38;5;124m'\u001b[39m\u001b[38;5;124mbooking_date\u001b[39m\u001b[38;5;124m'\u001b[39m]]\n",
      "\u001b[0;31mNameError\u001b[0m: name 'df' is not defined"
     ]
    }
   ],
   "source": [
    "df.loc[0:2, ['user_id', 'booking_date']]\n"
   ]
  },
  {
   "cell_type": "markdown",
   "id": "1485705d-2179-4241-9bfc-4ae5630451d8",
   "metadata": {},
   "source": [
    "iloc: Access a group of rows and columns by integer positions (i.e., positions from the 0th index)"
   ]
  },
  {
   "cell_type": "code",
   "execution_count": 42,
   "id": "1f1b04d4-2bb9-4864-aee3-74204e4c39d5",
   "metadata": {},
   "outputs": [
    {
     "ename": "NameError",
     "evalue": "name 'df' is not defined",
     "output_type": "error",
     "traceback": [
      "\u001b[0;31m---------------------------------------------------------------------------\u001b[0m",
      "\u001b[0;31mNameError\u001b[0m                                 Traceback (most recent call last)",
      "Cell \u001b[0;32mIn[42], line 1\u001b[0m\n\u001b[0;32m----> 1\u001b[0m \u001b[43mdf\u001b[49m\u001b[38;5;241m.\u001b[39miloc[\u001b[38;5;241m0\u001b[39m:\u001b[38;5;241m2\u001b[39m, [\u001b[38;5;241m0\u001b[39m, \u001b[38;5;241m4\u001b[39m]]\n",
      "\u001b[0;31mNameError\u001b[0m: name 'df' is not defined"
     ]
    }
   ],
   "source": [
    "df.iloc[0:2, [0, 4]]\n"
   ]
  },
  {
   "cell_type": "raw",
   "id": "f97e347f-1178-4f9c-ac61-613e944e6d2c",
   "metadata": {},
   "source": [
    "Question.54. What is the difference between supervised and unsupervised learning?"
   ]
  },
  {
   "cell_type": "markdown",
   "id": "d7a278de-d85f-4a75-8a4b-f460e7334ae9",
   "metadata": {},
   "source": [
    "Supervised Learning: Involves training a model on labeled data. Examples include classification and regression.\n",
    "Unsupervised Learning: Involves training a model on unlabeled data. Examples include clustering and association."
   ]
  },
  {
   "cell_type": "raw",
   "id": "786d145a-83f6-40b9-8806-80bc5fd8f21f",
   "metadata": {},
   "source": [
    "Question.55. Explain the bias-variance tradeoff."
   ]
  },
  {
   "cell_type": "markdown",
   "id": "a304b962-c90d-43fa-8da3-24f51057b670",
   "metadata": {},
   "source": [
    "Bias: Error due to overly simplistic models that don't capture the complexity of the data (underfitting).\n",
    "Variance: Error due to models that are too complex and fit the training data too closely (overfitting).\n",
    "Tradeoff: Striking a balance between bias and variance to minimize the total error."
   ]
  },
  {
   "cell_type": "raw",
   "id": "a1fa8991-ba6b-4a97-a092-13c045c7ecf3",
   "metadata": {},
   "source": [
    "Question.56. What are precision and recall? How are they different from accuracy?"
   ]
  },
  {
   "cell_type": "raw",
   "id": "e8a26e89-b97f-4c64-829f-0f793d0d20ea",
   "metadata": {},
   "source": [
    "​Precision: The ratio of correctly predicted positive observations to the total predicted positives.\n",
    "Precision=True PositivesTrue Positives+False Positives\n",
    "Precision=True Positives+False PositivesTrue Positives​\n",
    "Recall: The ratio of correctly predicted positive observations to the all observations in actual class.\n",
    "Recall=True PositivesTrue Positives+False Negatives\n",
    "Recall=True Positives+False NegativesTrue Positives​\n",
    "Accuracy: The ratio of correctly predicted observations to the total observations.\n",
    "Accuracy=True Positives+True NegativesTotal Observations\n",
    "Accuracy=Total ObservationsTrue Positives+True Negatives​"
   ]
  },
  {
   "cell_type": "raw",
   "id": "b48ffb70-ff2e-4a57-9d64-3ae558ba4536",
   "metadata": {},
   "source": [
    "Question.57. What is overfitting and how can it be prevented?"
   ]
  },
  {
   "cell_type": "markdown",
   "id": "d70b888c-ca8e-47db-9753-c06077089391",
   "metadata": {},
   "source": [
    "    Overfitting: When a model learns the noise in the training data and performs poorly on new data.\n",
    "    Prevention:\n",
    "        Use cross-validation techniques.\n",
    "        Employ regularization techniques.\n",
    "        Prune the model (e.g., decision trees).\n",
    "        Use more training data.\n",
    "        Simplify the model.\n",
    "\n",
    "This covers all the topics mentioned in the image. If you have any specific questions or need further details on any of these topics, feel free to ask!"
   ]
  },
  {
   "cell_type": "raw",
   "id": "62565a2f-9531-4afb-a9fc-736e259a0e15",
   "metadata": {},
   "source": [
    "Question.58. Explain thje concept of cross-validation."
   ]
  },
  {
   "cell_type": "markdown",
   "id": "efbe3287-7e8b-41ac-905c-9320d9e5b66f",
   "metadata": {},
   "source": [
    "Cross-validation is a technique used to assess the performance and generalizability of a machine learning model. It involves dividing the dataset into multiple subsets or \"folds\". The model is trained on some folds and validated on the remaining fold. This process is repeated multiple times with different folds as the validation set. The results are averaged to produce a more reliable estimate of model performance."
   ]
  },
  {
   "cell_type": "raw",
   "id": "4ac330ef-e533-4291-8899-92e815b980fe",
   "metadata": {},
   "source": [
    "Question.59. What is the difference between a classification and a regression problem?"
   ]
  },
  {
   "cell_type": "markdown",
   "id": "65b66c01-cc97-41c3-b721-dd12ea664ffb",
   "metadata": {},
   "source": [
    "Difference Between a Classification and a Regression Problem\n",
    "\n",
    "    Classification: Predicts a categorical label (e.g., spam or not spam).\n",
    "    Regression: Predicts a continuous value (e.g., predicting house prices)."
   ]
  },
  {
   "cell_type": "raw",
   "id": "433ce9ab-c670-4d5b-9c9d-44175025037c",
   "metadata": {},
   "source": [
    "Question.60. Explain the concept of ensemble learning."
   ]
  },
  {
   "cell_type": "markdown",
   "id": "db41e5f7-cc6a-40d1-91bc-0c2b98f53185",
   "metadata": {},
   "source": [
    "Ensemble learning combines multiple models to improve overall performance. The key idea is that a group of weak learners can come together to form a strong learner. Common techniques include bagging, boosting, and stacking."
   ]
  },
  {
   "cell_type": "raw",
   "id": "111f5b48-0a38-4fc9-8b1c-1506b4a8c01d",
   "metadata": {},
   "source": [
    "Question.61. What is gradient descent and how does it work?"
   ]
  },
  {
   "cell_type": "markdown",
   "id": "9c31cedd-2c6a-4904-8dc2-d94b0d07c072",
   "metadata": {},
   "source": [
    "Gradient descent is an optimization algorithm used to minimize the cost function in machine learning models. It iteratively adjusts the model parameters by moving in the direction of the steepest decrease in the cost function (negative gradient) until it reaches the minimum."
   ]
  },
  {
   "cell_type": "raw",
   "id": "6a8d2bec-f120-49a4-bdf3-2fdd16c1120c",
   "metadata": {},
   "source": [
    "Question.62. Describe the difference between batch gradient descent and stochastic gradient descent."
   ]
  },
  {
   "cell_type": "markdown",
   "id": "a6124acd-54d5-4b56-adb9-6843e26307c5",
   "metadata": {},
   "source": [
    "Batch Gradient Descent: Uses the entire dataset to compute gradients and update parameters.\n",
    "Stochastic Gradient Descent (SGD): Uses one sample at a time to compute gradients and update parameters. This makes SGD faster but introduces more noise in updates."
   ]
  },
  {
   "cell_type": "raw",
   "id": "720d8bfc-e58c-4410-a73c-e2bc97bffdff",
   "metadata": {},
   "source": [
    "Question.63. What is the curse of dimensionality in machine learning?"
   ]
  },
  {
   "cell_type": "markdown",
   "id": "343a761e-1a58-48f9-85c2-315eb0065521",
   "metadata": {},
   "source": [
    "The curse of dimensionality refers to various phenomena that arise when analyzing and organizing data in high-dimensional spaces. With an increasing number of dimensions, the volume of the space increases exponentially, making data sparse. This sparsity makes it difficult to find patterns and requires more data to achieve the same performance."
   ]
  },
  {
   "cell_type": "raw",
   "id": "e2132d72-4bb5-4c2d-91ad-f084bf75262e",
   "metadata": {},
   "source": [
    "Question.64. Explain the difference between L1 and L2 regularization."
   ]
  },
  {
   "cell_type": "markdown",
   "id": "b91cf6f3-58d5-4730-b04e-18668f54042e",
   "metadata": {},
   "source": [
    "1 Regularization (Lasso): Adds the absolute value of the coefficients as a penalty term to the cost function, promoting sparsity.\n",
    "L2 Regularization (Ridge): Adds the squared value of the coefficients as a penalty term to the cost function, promoting smaller coefficients."
   ]
  },
  {
   "cell_type": "raw",
   "id": "3f1c9284-e113-44b7-8042-1cb7cc8799ce",
   "metadata": {},
   "source": [
    "Question.65. What is a confusion matrix and how is it used?"
   ]
  },
  {
   "cell_type": "markdown",
   "id": "a5033e3b-f7a4-4cf7-b053-8ce84aef1ec0",
   "metadata": {},
   "source": [
    "A confusion matrix is a table used to evaluate the performance of a classification model. It summarizes the number of correct and incorrect predictions with count values broken down by each class. Metrics like accuracy, precision, recall, and F1 score can be derived from it."
   ]
  },
  {
   "cell_type": "raw",
   "id": "1dd6dbd3-ebba-4d7d-a4d7-761173e874f2",
   "metadata": {},
   "source": [
    "Question.66. Define AUC-ROC curve."
   ]
  },
  {
   "cell_type": "markdown",
   "id": "085b3f8e-96ef-4cb0-9d3e-b5b5a497427f",
   "metadata": {},
   "source": [
    "The AUC-ROC curve is a performance measurement for classification problems. The ROC curve plots the true positive rate (TPR) against the false positive rate (FPR) at various threshold settings. AUC (Area Under the Curve) represents the degree of separability, with 1 indicating a perfect model and 0.5 indicating a random model."
   ]
  },
  {
   "cell_type": "raw",
   "id": "ed8e9933-beb8-4f7c-a82a-2c528e0c1c05",
   "metadata": {},
   "source": [
    "Question.67. Explain the k-nerest neighbors algorithm."
   ]
  },
  {
   "cell_type": "markdown",
   "id": "d5d165e1-e64c-489b-acc9-380352ecabb6",
   "metadata": {},
   "source": [
    "The k-nearest neighbors (k-NN) algorithm classifies data points based on the labels of their k nearest neighbors in the feature space. The majority class among the neighbors determines the class of the data point."
   ]
  },
  {
   "cell_type": "raw",
   "id": "bd2e21ed-26db-479a-97b4-435d359d4fe5",
   "metadata": {},
   "source": [
    "Question.68. Explain the basic concept of asupprt Vectore Machine(SVM)?"
   ]
  },
  {
   "cell_type": "markdown",
   "id": "1225999b-ae82-4fa0-ae98-b5a943707e9e",
   "metadata": {},
   "source": [
    "SVM is a supervised learning algorithm that finds the optimal hyperplane which maximizes the margin between different classes. The support vectors are the data points closest to the hyperplane and influence its position and orientation."
   ]
  },
  {
   "cell_type": "markdown",
   "id": "3aed5e55-98de-4e44-b590-9b1eeda10aa6",
   "metadata": {},
   "source": [
    "Question.69. How does the kernel trick work in SVM? "
   ]
  },
  {
   "cell_type": "markdown",
   "id": "2f85ac8d-46f0-411e-9645-f50cc549ee63",
   "metadata": {},
   "source": [
    "The kernel trick allows SVMs to perform in high-dimensional spaces without explicitly computing the coordinates of the data in that space. It does this by applying a kernel function, which computes the dot product of the data points in the feature space."
   ]
  },
  {
   "cell_type": "raw",
   "id": "e2edee8b-4291-475b-801c-bc61f0dc5933",
   "metadata": {},
   "source": [
    "Question.70. What are the different types of kernels used in SVM and when would you use each?"
   ]
  },
  {
   "cell_type": "markdown",
   "id": "38ec655e-a250-483b-a1a4-9b8ccbc2d5db",
   "metadata": {},
   "source": [
    "Linear Kernel: Suitable for linearly separable data.\n",
    "Polynomial Kernel: Useful for data with polynomial relationships.\n",
    "Radial Basis Function (RBF) Kernel: Suitable for non-linear data."
   ]
  },
  {
   "cell_type": "raw",
   "id": "9fb7f25b-81fd-4767-97f7-71789dcdfe58",
   "metadata": {},
   "source": [
    "Question.71. What is the hyperplane in SVM and how is it determined?"
   ]
  },
  {
   "cell_type": "markdown",
   "id": "fdb105e1-d79c-4aca-92ab-587b107a0b68",
   "metadata": {},
   "source": [
    "Linear Kernel: Suitable for linearly separable data.\n",
    "Polynomial Kernel: Useful for data with polynomial relationships.\n",
    "Radial Basis Function (RBF) Kernel: Suitable for non-linear data."
   ]
  },
  {
   "cell_type": "raw",
   "id": "4bb6c641-f761-49cd-baee-56ddbf8eafc8",
   "metadata": {},
   "source": [
    "Question.72. What are the pros and cons of using a Support Vector Machine(SVM)?"
   ]
  },
  {
   "cell_type": "markdown",
   "id": "7999311c-5440-48cf-8dea-7b9e389b3ab1",
   "metadata": {},
   "source": [
    "Pros: Effective in high-dimensional spaces, robust to overfitting (especially in high-dimensional space), and versatile with different kernel functions.\n",
    "Cons: Requires careful tuning of parameters, can be memory-intensive, and computationally expensive for large datasets."
   ]
  },
  {
   "cell_type": "raw",
   "id": "04ad2550-60e7-4fb1-9c1b-e9255d63f8c6",
   "metadata": {},
   "source": [
    "Question.73. Explain the differeneces between a hard margin and a soft margin SVM."
   ]
  },
  {
   "cell_type": "markdown",
   "id": "b6222554-cb6e-4e83-ab5c-43b2e7986465",
   "metadata": {},
   "source": [
    "Hard Margin SVM: Assumes that the data is linearly separable and finds the maximum margin hyperplane.\n",
    "Soft Margin SVM: Allows some misclassifications to handle non-linearly separable data by introducing a slack variable."
   ]
  },
  {
   "cell_type": "raw",
   "id": "4c37a51c-35cd-475d-9880-b2c0d0fddb00",
   "metadata": {},
   "source": [
    "Question.74. Describe the process of constructing a decision tree."
   ]
  },
  {
   "cell_type": "markdown",
   "id": "b72dc655-7d18-497f-b305-f82bfb1971de",
   "metadata": {},
   "source": [
    "Constructing a decision tree involves splitting the dataset into subsets based on feature values. This process is recursive and continues until all the data points in a subset belong to the same class or a stopping criterion is met."
   ]
  },
  {
   "cell_type": "raw",
   "id": "8ca919a1-4106-4071-8d37-cd69d3d75d4e",
   "metadata": {},
   "source": [
    "Question.75. Describe the working principle of a decision tree."
   ]
  },
  {
   "cell_type": "markdown",
   "id": "594028c0-8dc7-4955-b5f3-de4e405de005",
   "metadata": {},
   "source": [
    "Gini impurity measures the probability of incorrectly classifying a randomly chosen element if it was labeled according to the distribution of labels in the dataset. It is used to decide splits in the dataset."
   ]
  },
  {
   "cell_type": "markdown",
   "id": "9b5c0bc6-1fd6-4167-9b67-0241c9f0a16c",
   "metadata": {},
   "source": [
    "Information gain measures the reduction in entropy or impurity after a dataset is split based on an attribute. The attribute with the highest information gain is chosen for the split."
   ]
  },
  {
   "cell_type": "markdown",
   "id": "5e9d6d75-1a53-4ef4-8870-9d32f4362c79",
   "metadata": {},
   "source": [
    "A decision tree works by recursively splitting the data into subsets based on the most significant attribute at each node. This is done using metrics like Gini impurity, information gain, or entropy."
   ]
  },
  {
   "cell_type": "raw",
   "id": "db1856ad-961b-4ae7-b517-cbc3a4193e90",
   "metadata": {},
   "source": [
    "Question.76. What is information gain and how is it used in decision trees?"
   ]
  },
  {
   "cell_type": "raw",
   "id": "9eaf8fce-b823-42f3-81d5-806c7a01d3a8",
   "metadata": {},
   "source": [
    "Question.77. Explain Gini impurity and its role in decision trees?"
   ]
  },
  {
   "cell_type": "raw",
   "id": "21694cc0-1882-40d3-8bae-8e35809cb8db",
   "metadata": {},
   "source": [
    "Question.78. What are the advantages and disadvantages of decision trees?"
   ]
  },
  {
   "cell_type": "markdown",
   "id": "d4cc7b87-d640-4a91-8f98-f95424617455",
   "metadata": {},
   "source": [
    "Advantages: Easy to interpret, handle both numerical and categorical data, non-parametric.\n",
    "Disadvantages: Prone to overfitting, can be unstable with small variations in data."
   ]
  },
  {
   "cell_type": "raw",
   "id": "208eccf2-6a66-4666-8c2d-1c75563db952",
   "metadata": {},
   "source": [
    "Question.79. How do random forest improve upon decision trees?"
   ]
  },
  {
   "cell_type": "markdown",
   "id": "458d73ac-04b4-4246-88f9-2c982b15ec8a",
   "metadata": {},
   "source": [
    "Random forests improve upon decision trees by combining multiple trees to form an ensemble. Each tree is trained on a random subset of the data and features, which reduces overfitting and improves generalization."
   ]
  },
  {
   "cell_type": "raw",
   "id": "1f295676-d32c-4180-b83f-b81f4e741e11",
   "metadata": {},
   "source": [
    "Question.80. How does a random forest algorithm work?"
   ]
  },
  {
   "cell_type": "markdown",
   "id": "ae762a4c-4b0e-4acb-9221-3c7a434ef974",
   "metadata": {},
   "source": [
    "A random forest builds multiple decision trees using bootstrapped subsets of the data and averages their predictions to improve accuracy and control overfitting."
   ]
  },
  {
   "cell_type": "raw",
   "id": "1a32a006-7d80-4eb1-9386-9264f9d844cc",
   "metadata": {},
   "source": [
    "Question.81. What is bootstrapping in the context of random forests?"
   ]
  },
  {
   "cell_type": "markdown",
   "id": "7f0d999c-ed22-4e19-add4-b5b6e398a082",
   "metadata": {},
   "source": [
    "Bootstrapping is a sampling method where subsets of data are created by randomly selecting samples with replacement. In random forests, bootstrapping ensures diversity among the trees."
   ]
  },
  {
   "cell_type": "raw",
   "id": "9b145b62-920e-4baf-956a-7e805b463768",
   "metadata": {},
   "source": [
    "Question.82. Explain the concept of feature importance in random forests."
   ]
  },
  {
   "cell_type": "markdown",
   "id": "2e836c14-82e2-41d6-ab7d-cc1653434823",
   "metadata": {},
   "source": [
    "Feature importance in random forests is determined by measuring the decrease in impurity or increase in accuracy when a feature is used for splitting. Features that contribute more to reducing impurity are considered more important."
   ]
  },
  {
   "cell_type": "raw",
   "id": "2f9c1ec5-9e7a-41c3-9ba3-9db9e879020a",
   "metadata": {},
   "source": [
    "Question.83. What are the key hyperparameteres of a random forest and how do they affect the model?"
   ]
  },
  {
   "cell_type": "markdown",
   "id": "9c7b479d-fc77-4b44-8e76-bfcf9d5268ef",
   "metadata": {},
   "source": [
    "Number of trees (n_estimators): More trees generally improve performance but increase computational cost.\n",
    "Max depth: Limits the depth of each tree to prevent overfitting.\n",
    "Min samples split: Minimum number of samples required to split an internal node."
   ]
  },
  {
   "cell_type": "raw",
   "id": "f9be5444-b041-4203-8b41-53d35ab14d2b",
   "metadata": {},
   "source": [
    "Question.84. Describe the logistic regression model and its assumpsion."
   ]
  },
  {
   "cell_type": "markdown",
   "id": "0d7bd9db-d889-41e9-8f4a-0dd305dc1815",
   "metadata": {},
   "source": [
    "Logistic regression models the probability of a binary outcome based on one or more predictor variables. Assumptions include:\n",
    "\n",
    "    Linearity in the logit.\n",
    "    Independence of errors.\n",
    "    Absence of multicollinearity."
   ]
  },
  {
   "cell_type": "raw",
   "id": "d64ee2da-175a-44cf-98d9-6c84e14b1281",
   "metadata": {},
   "source": [
    "Question.85. How does logistic regression handle binary classification problems?"
   ]
  },
  {
   "cell_type": "markdown",
   "id": "02aed838-02a8-4133-8262-324f94d8a021",
   "metadata": {},
   "source": [
    "Logistic regression uses the sigmoid function to map predicted values to probabilities. It predicts the class label based on a threshold, typically 0.5."
   ]
  },
  {
   "cell_type": "raw",
   "id": "fdfa9dc6-74ca-4eb5-826f-32ff540a4687",
   "metadata": {},
   "source": [
    "Question.86. What is the sigmoid function ans how is it used in logistic regression?"
   ]
  },
  {
   "cell_type": "code",
   "execution_count": null,
   "id": "6efa9217-0c87-4a10-9b21-f9e57372b415",
   "metadata": {},
   "outputs": [],
   "source": [
    "The cost function in logistic regression is the log loss (binary cross-entropy), which penalizes incorrect predictions more heavily and is convex, allowing for efficient optimization."
   ]
  },
  {
   "cell_type": "markdown",
   "id": "4595e574-a515-48d8-bc70-c3774a3ff1ac",
   "metadata": {},
   "source": [
    "The sigmoid function maps any real-valued number into a value between 0 and 1, representing the probability of the binary outcome."
   ]
  },
  {
   "cell_type": "raw",
   "id": "259e3797-ac6a-45a6-8c9d-7e60d09ee12c",
   "metadata": {},
   "source": [
    "Question.87. Explain the concept of the cost function in logistic regression?"
   ]
  },
  {
   "cell_type": "markdown",
   "id": "60dbfb68-929d-4142-b225-04f420835e04",
   "metadata": {},
   "source": [
    "Logistic regression can be extended to handle multiclass classification using methods like One-vs-Rest (OvR) or softmax regression (multinomial logistic regression)."
   ]
  },
  {
   "cell_type": "raw",
   "id": "e47af610-4514-47c7-8725-786a2c75f190",
   "metadata": {},
   "source": [
    "Question.88. How can logistic regression be extnded to handle multiclass classification?"
   ]
  },
  {
   "cell_type": "markdown",
   "id": "d48fd1e8-4755-4e95-9f9b-cd5ddf807c2b",
   "metadata": {},
   "source": [
    "L1 Regularization: Adds absolute values of coefficients to the cost function, promoting sparsity.\n",
    "L2 Regularization: Adds squared values of coefficients to the cost function, promoting smaller coefficients."
   ]
  },
  {
   "cell_type": "raw",
   "id": "f2cfbf33-353e-49e1-993f-fd8c59719237",
   "metadata": {},
   "source": [
    "Question.89. What is the difference between L1 and L2 regularization in logistic regression?"
   ]
  },
  {
   "cell_type": "markdown",
   "id": "521b171c-2c8e-4249-8754-b862f399a8f8",
   "metadata": {},
   "source": [
    "XGBoost is an optimized gradient boosting algorithm that provides high performance and computational efficiency. It differs from other boosting algorithms by implementing regularization techniques, handling missing values, and parallel processing."
   ]
  },
  {
   "cell_type": "raw",
   "id": "e41b4c09-52d9-4c42-b540-1fb0ee5c9b36",
   "metadata": {},
   "source": [
    "Question.90. What is XGBoost and how does it differ from other boosting algorithms?"
   ]
  },
  {
   "cell_type": "markdown",
   "id": "37bc71ec-92f8-471c-8802-fe9d76ffaf1e",
   "metadata": {},
   "source": [
    "Boosting is an ensemble technique that combines weak learners sequentially. Each learner corrects the errors of its predecessor, improving the overall performance."
   ]
  },
  {
   "cell_type": "raw",
   "id": "550eb880-472e-445c-a7cc-92593c46a421",
   "metadata": {},
   "source": [
    "Question.100. Explain the concept of boosting in the context of ensemble learning."
   ]
  },
  {
   "cell_type": "markdown",
   "id": "0f1a6038-e172-4b44-b780-507387b27e1f",
   "metadata": {},
   "source": [
    "XGBoost handles missing values by learning the optimal direction to follow when it encounters a missing value in the data during training."
   ]
  },
  {
   "cell_type": "raw",
   "id": "f1ed9241-50e4-4a67-b7d5-0036c77ce522",
   "metadata": {},
   "source": [
    "Question.101. How does XGBoost handle missing values?"
   ]
  },
  {
   "cell_type": "markdown",
   "id": "797ac5c7-82f1-46c9-a4a5-d3d2dd71c28f",
   "metadata": {},
   "source": [
    "Learning rate (eta): Controls the step size during the boosting process.\n",
    "Max depth: Maximum depth of the trees.\n",
    "Number of estimators: Number of boosting rounds."
   ]
  },
  {
   "cell_type": "raw",
   "id": "61239425-cfdd-48bc-a012-ffec64fe4be9",
   "metadata": {},
   "source": [
    "Question.102. What are the key hyperparameters in XGBoost and how do they affect model performance?"
   ]
  },
  {
   "cell_type": "markdown",
   "id": "0ed3aaff-d9a4-4788-8cd5-a31bb62925cf",
   "metadata": {},
   "source": [
    "Gradient boosting in XGBoost involves fitting new models to the residuals of prior models. It iteratively minimizes the loss function by adding weak learners."
   ]
  },
  {
   "cell_type": "raw",
   "id": "47660310-ad5e-40fc-b774-aa7ac66daa3b",
   "metadata": {},
   "source": [
    "Question.103. Describe the process of gradient boosting in XGBoost."
   ]
  },
  {
   "cell_type": "raw",
   "id": "3e6c36c5-6206-46bd-87b6-bc74bc1ed75c",
   "metadata": {},
   "source": [
    "Question.104. What are the advantages and disadvantages of using XGBoost?"
   ]
  },
  {
   "cell_type": "markdown",
   "id": "1773e58f-4da7-4325-a421-3065f6c0d746",
   "metadata": {},
   "source": [
    "Advantages: High performance, efficient memory usage, handles missing data, supports parallel processing.\n",
    "Disadvantages: Can be computationally expensive, requires careful parameter tuning, can overfit if not properly regularized."
   ]
  },
  {
   "cell_type": "code",
   "execution_count": null,
   "id": "10f37d76-32ad-4a1a-8152-007014927f61",
   "metadata": {},
   "outputs": [],
   "source": []
  }
 ],
 "metadata": {
  "kernelspec": {
   "display_name": "Python 3 (ipykernel)",
   "language": "python",
   "name": "python3"
  },
  "language_info": {
   "codemirror_mode": {
    "name": "ipython",
    "version": 3
   },
   "file_extension": ".py",
   "mimetype": "text/x-python",
   "name": "python",
   "nbconvert_exporter": "python",
   "pygments_lexer": "ipython3",
   "version": "3.10.8"
  }
 },
 "nbformat": 4,
 "nbformat_minor": 5
}
